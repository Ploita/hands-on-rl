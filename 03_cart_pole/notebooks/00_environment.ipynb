{
 "cells": [
  {
   "cell_type": "markdown",
   "id": "4c2ff31f",
   "metadata": {},
   "source": [
    "# 00 Environment"
   ]
  },
  {
   "cell_type": "markdown",
   "id": "04a5c882",
   "metadata": {},
   "source": [
    "#### 👉Before you solve a Reinforcement Learning problem you need to define what are\n",
    "- the actions\n",
    "- the states of the world\n",
    "- the rewards\n",
    "\n",
    "#### 👉We are using the `CartPole-v0` environment from [OpenAI's gym](https://github.com/openai/gym/blob/master/gym/envs/classic_control/cartpole.py)\n",
    "\n",
    "#### 👉`CartPole-v0` is not an extremely difficult environment. However, it is complex enough to force us level up our game. The tools we will use to solve it are really powerful.\n",
    "\n",
    "#### 👉Let's explore it!"
   ]
  },
  {
   "cell_type": "code",
   "execution_count": 1,
   "id": "e3629346",
   "metadata": {},
   "outputs": [
    {
     "name": "stdout",
     "output_type": "stream",
     "text": [
      "%pylab is deprecated, use %matplotlib inline and import the required libraries.\n",
      "Populating the interactive namespace from numpy and matplotlib\n"
     ]
    }
   ],
   "source": [
    "%load_ext autoreload\n",
    "%autoreload 2\n",
    "%pylab inline\n",
    "%config InlineBackend.figure_format = 'svg'\n",
    "\n",
    "from matplotlib import pyplot as plt\n",
    "%matplotlib inline"
   ]
  },
  {
   "cell_type": "markdown",
   "id": "76e9a06d",
   "metadata": {},
   "source": [
    "## Load the environment 🌎"
   ]
  },
  {
   "cell_type": "code",
   "execution_count": 4,
   "id": "ebfba291",
   "metadata": {},
   "outputs": [],
   "source": [
    "import gym\n",
    "env = gym.make('CartPole-v1', render_mode = 'rgb_array')"
   ]
  },
  {
   "cell_type": "markdown",
   "id": "c6e2bc37",
   "metadata": {},
   "source": [
    "## The goal\n",
    "### is to keep the pole in an upright position as long as you can by moving the cart a the bottom, left and right."
   ]
  },
  {
   "cell_type": "markdown",
   "id": "7babf939",
   "metadata": {},
   "source": [
    "![title](../images/cart_pole.jpg)"
   ]
  },
  {
   "cell_type": "markdown",
   "id": "9cb921cf",
   "metadata": {},
   "source": [
    "## Let's see how a good agent solves this problem"
   ]
  },
  {
   "cell_type": "code",
   "execution_count": 5,
   "id": "2ded2ba5",
   "metadata": {},
   "outputs": [
    {
     "data": {
      "text/plain": [
       "<matplotlib.image.AxesImage at 0x28a10048e20>"
      ]
     },
     "execution_count": 5,
     "metadata": {},
     "output_type": "execute_result"
    },
    {
     "data": {
      "image/svg+xml": [
       "<?xml version=\"1.0\" encoding=\"utf-8\" standalone=\"no\"?>\n",
       "<!DOCTYPE svg PUBLIC \"-//W3C//DTD SVG 1.1//EN\"\n",
       "  \"http://www.w3.org/Graphics/SVG/1.1/DTD/svg11.dtd\">\n",
       "<svg xmlns:xlink=\"http://www.w3.org/1999/xlink\" width=\"413.568016pt\" height=\"363.718125pt\" viewBox=\"0 0 413.568016 363.718125\" xmlns=\"http://www.w3.org/2000/svg\" version=\"1.1\">\n",
       " <metadata>\n",
       "  <rdf:RDF xmlns:dc=\"http://purl.org/dc/elements/1.1/\" xmlns:cc=\"http://creativecommons.org/ns#\" xmlns:rdf=\"http://www.w3.org/1999/02/22-rdf-syntax-ns#\">\n",
       "   <cc:Work>\n",
       "    <dc:type rdf:resource=\"http://purl.org/dc/dcmitype/StillImage\"/>\n",
       "    <dc:date>2024-01-03T08:39:44.466517</dc:date>\n",
       "    <dc:format>image/svg+xml</dc:format>\n",
       "    <dc:creator>\n",
       "     <cc:Agent>\n",
       "      <dc:title>Matplotlib v3.8.2, https://matplotlib.org/</dc:title>\n",
       "     </cc:Agent>\n",
       "    </dc:creator>\n",
       "   </cc:Work>\n",
       "  </rdf:RDF>\n",
       " </metadata>\n",
       " <defs>\n",
       "  <style type=\"text/css\">*{stroke-linejoin: round; stroke-linecap: butt}</style>\n",
       " </defs>\n",
       " <g id=\"figure_1\">\n",
       "  <g id=\"patch_1\">\n",
       "   <path d=\"M 0 363.718125 \n",
       "L 413.568016 363.718125 \n",
       "L 413.568016 0 \n",
       "L 0 0 \n",
       "z\n",
       "\" style=\"fill: #ffffff\"/>\n",
       "  </g>\n",
       "  <g id=\"axes_1\">\n",
       "   <g id=\"patch_2\">\n",
       "    <path d=\"M 7.2 339.84 \n",
       "L 406.368016 339.84 \n",
       "L 406.368016 7.2 \n",
       "L 7.2 7.2 \n",
       "z\n",
       "\" style=\"fill: #ffffff\"/>\n",
       "   </g>\n",
       "   <g clip-path=\"url(#p92fdec93d7)\">\n",
       "    <image xlink:href=\"data:image/png;base64,\n",
       "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\" id=\"image3128320c1c\" transform=\"scale(1 -1) translate(0 -333.36)\" x=\"7.2\" y=\"-6.48\" width=\"399.6\" height=\"333.36\"/>\n",
       "   </g>\n",
       "   <g id=\"matplotlib.axis_1\">\n",
       "    <g id=\"xtick_1\">\n",
       "     <g id=\"line2d_1\">\n",
       "      <defs>\n",
       "       <path id=\"mbf35f72a48\" d=\"M 0 0 \n",
       "L 0 3.5 \n",
       "\" style=\"stroke: #000000; stroke-width: 0.8\"/>\n",
       "      </defs>\n",
       "      <g>\n",
       "       <use xlink:href=\"#mbf35f72a48\" x=\"40.464008\" y=\"339.84\" style=\"stroke: #000000; stroke-width: 0.8\"/>\n",
       "      </g>\n",
       "     </g>\n",
       "     <g id=\"text_1\">\n",
       "      <!-- −4 -->\n",
       "      <g transform=\"translate(33.092914 354.438437) scale(0.1 -0.1)\">\n",
       "       <defs>\n",
       "        <path id=\"DejaVuSans-2212\" d=\"M 678 2272 \n",
       "L 4684 2272 \n",
       "L 4684 1741 \n",
       "L 678 1741 \n",
       "L 678 2272 \n",
       "z\n",
       "\" transform=\"scale(0.015625)\"/>\n",
       "        <path id=\"DejaVuSans-34\" d=\"M 2419 4116 \n",
       "L 825 1625 \n",
       "L 2419 1625 \n",
       "L 2419 4116 \n",
       "z\n",
       "M 2253 4666 \n",
       "L 3047 4666 \n",
       "L 3047 1625 \n",
       "L 3713 1625 \n",
       "L 3713 1100 \n",
       "L 3047 1100 \n",
       "L 3047 0 \n",
       "L 2419 0 \n",
       "L 2419 1100 \n",
       "L 313 1100 \n",
       "L 313 1709 \n",
       "L 2253 4666 \n",
       "z\n",
       "\" transform=\"scale(0.015625)\"/>\n",
       "       </defs>\n",
       "       <use xlink:href=\"#DejaVuSans-2212\"/>\n",
       "       <use xlink:href=\"#DejaVuSans-34\" x=\"83.789062\"/>\n",
       "      </g>\n",
       "     </g>\n",
       "    </g>\n",
       "    <g id=\"xtick_2\">\n",
       "     <g id=\"line2d_2\">\n",
       "      <g>\n",
       "       <use xlink:href=\"#mbf35f72a48\" x=\"123.624008\" y=\"339.84\" style=\"stroke: #000000; stroke-width: 0.8\"/>\n",
       "      </g>\n",
       "     </g>\n",
       "     <g id=\"text_2\">\n",
       "      <!-- −2 -->\n",
       "      <g transform=\"translate(116.252914 354.438437) scale(0.1 -0.1)\">\n",
       "       <defs>\n",
       "        <path id=\"DejaVuSans-32\" d=\"M 1228 531 \n",
       "L 3431 531 \n",
       "L 3431 0 \n",
       "L 469 0 \n",
       "L 469 531 \n",
       "Q 828 903 1448 1529 \n",
       "Q 2069 2156 2228 2338 \n",
       "Q 2531 2678 2651 2914 \n",
       "Q 2772 3150 2772 3378 \n",
       "Q 2772 3750 2511 3984 \n",
       "Q 2250 4219 1831 4219 \n",
       "Q 1534 4219 1204 4116 \n",
       "Q 875 4013 500 3803 \n",
       "L 500 4441 \n",
       "Q 881 4594 1212 4672 \n",
       "Q 1544 4750 1819 4750 \n",
       "Q 2544 4750 2975 4387 \n",
       "Q 3406 4025 3406 3419 \n",
       "Q 3406 3131 3298 2873 \n",
       "Q 3191 2616 2906 2266 \n",
       "Q 2828 2175 2409 1742 \n",
       "Q 1991 1309 1228 531 \n",
       "z\n",
       "\" transform=\"scale(0.015625)\"/>\n",
       "       </defs>\n",
       "       <use xlink:href=\"#DejaVuSans-2212\"/>\n",
       "       <use xlink:href=\"#DejaVuSans-32\" x=\"83.789062\"/>\n",
       "      </g>\n",
       "     </g>\n",
       "    </g>\n",
       "    <g id=\"xtick_3\">\n",
       "     <g id=\"line2d_3\">\n",
       "      <g>\n",
       "       <use xlink:href=\"#mbf35f72a48\" x=\"206.784008\" y=\"339.84\" style=\"stroke: #000000; stroke-width: 0.8\"/>\n",
       "      </g>\n",
       "     </g>\n",
       "     <g id=\"text_3\">\n",
       "      <!-- 0 -->\n",
       "      <g transform=\"translate(203.602758 354.438437) scale(0.1 -0.1)\">\n",
       "       <defs>\n",
       "        <path id=\"DejaVuSans-30\" d=\"M 2034 4250 \n",
       "Q 1547 4250 1301 3770 \n",
       "Q 1056 3291 1056 2328 \n",
       "Q 1056 1369 1301 889 \n",
       "Q 1547 409 2034 409 \n",
       "Q 2525 409 2770 889 \n",
       "Q 3016 1369 3016 2328 \n",
       "Q 3016 3291 2770 3770 \n",
       "Q 2525 4250 2034 4250 \n",
       "z\n",
       "M 2034 4750 \n",
       "Q 2819 4750 3233 4129 \n",
       "Q 3647 3509 3647 2328 \n",
       "Q 3647 1150 3233 529 \n",
       "Q 2819 -91 2034 -91 \n",
       "Q 1250 -91 836 529 \n",
       "Q 422 1150 422 2328 \n",
       "Q 422 3509 836 4129 \n",
       "Q 1250 4750 2034 4750 \n",
       "z\n",
       "\" transform=\"scale(0.015625)\"/>\n",
       "       </defs>\n",
       "       <use xlink:href=\"#DejaVuSans-30\"/>\n",
       "      </g>\n",
       "     </g>\n",
       "    </g>\n",
       "    <g id=\"xtick_4\">\n",
       "     <g id=\"line2d_4\">\n",
       "      <g>\n",
       "       <use xlink:href=\"#mbf35f72a48\" x=\"289.944008\" y=\"339.84\" style=\"stroke: #000000; stroke-width: 0.8\"/>\n",
       "      </g>\n",
       "     </g>\n",
       "     <g id=\"text_4\">\n",
       "      <!-- 2 -->\n",
       "      <g transform=\"translate(286.762758 354.438437) scale(0.1 -0.1)\">\n",
       "       <use xlink:href=\"#DejaVuSans-32\"/>\n",
       "      </g>\n",
       "     </g>\n",
       "    </g>\n",
       "    <g id=\"xtick_5\">\n",
       "     <g id=\"line2d_5\">\n",
       "      <g>\n",
       "       <use xlink:href=\"#mbf35f72a48\" x=\"373.104008\" y=\"339.84\" style=\"stroke: #000000; stroke-width: 0.8\"/>\n",
       "      </g>\n",
       "     </g>\n",
       "     <g id=\"text_5\">\n",
       "      <!-- 4 -->\n",
       "      <g transform=\"translate(369.922758 354.438437) scale(0.1 -0.1)\">\n",
       "       <use xlink:href=\"#DejaVuSans-34\"/>\n",
       "      </g>\n",
       "     </g>\n",
       "    </g>\n",
       "   </g>\n",
       "   <g id=\"patch_3\">\n",
       "    <path d=\"M 7.2 339.84 \n",
       "L 7.2 7.2 \n",
       "\" style=\"fill: none; stroke: #000000; stroke-width: 0.8; stroke-linejoin: miter; stroke-linecap: square\"/>\n",
       "   </g>\n",
       "   <g id=\"patch_4\">\n",
       "    <path d=\"M 406.368016 339.84 \n",
       "L 406.368016 7.2 \n",
       "\" style=\"fill: none; stroke: #000000; stroke-width: 0.8; stroke-linejoin: miter; stroke-linecap: square\"/>\n",
       "   </g>\n",
       "   <g id=\"patch_5\">\n",
       "    <path d=\"M 7.2 339.84 \n",
       "L 406.368016 339.84 \n",
       "\" style=\"fill: none; stroke: #000000; stroke-width: 0.8; stroke-linejoin: miter; stroke-linecap: square\"/>\n",
       "   </g>\n",
       "   <g id=\"patch_6\">\n",
       "    <path d=\"M 7.2 7.2 \n",
       "L 406.368016 7.2 \n",
       "\" style=\"fill: none; stroke: #000000; stroke-width: 0.8; stroke-linejoin: miter; stroke-linecap: square\"/>\n",
       "   </g>\n",
       "  </g>\n",
       " </g>\n",
       " <defs>\n",
       "  <clipPath id=\"p92fdec93d7\">\n",
       "   <rect x=\"7.2\" y=\"7.2\" width=\"399.168016\" height=\"332.64\"/>\n",
       "  </clipPath>\n",
       " </defs>\n",
       "</svg>\n"
      ],
      "text/plain": [
       "<Figure size 800x600 with 1 Axes>"
      ]
     },
     "metadata": {},
     "output_type": "display_data"
    }
   ],
   "source": [
    "env.reset()\n",
    "frame = env.render()\n",
    "\n",
    "fig, ax = plt.subplots(figsize=(8, 6))\n",
    "ax.axes.yaxis.set_visible(False)\n",
    "min_x = env.observation_space.low[0]\n",
    "max_x = env.observation_space.high[0]\n",
    "ax.imshow(frame, extent=[min_x, max_x, 0, 8])\n",
    "\n"
   ]
  },
  {
   "cell_type": "markdown",
   "id": "4f53a38e",
   "metadata": {},
   "source": [
    "## State space"
   ]
  },
  {
   "cell_type": "code",
   "execution_count": 6,
   "id": "e809514b",
   "metadata": {},
   "outputs": [
    {
     "name": "stdout",
     "output_type": "stream",
     "text": [
      "Cart position from -4.80 to 4.80\n",
      "Cart velocity from -3.40E+38 to 3.40E+38\n",
      "Angle from -0.42 to 0.42\n",
      "Angular velocity from -3.40E+38 to 3.40E+38\n"
     ]
    }
   ],
   "source": [
    "# The state consists of 4 numbers:\n",
    "x_min, v_min, angle_min, angular_v_min = env.observation_space.low\n",
    "x_max, v_max, angle_max, angular_v_max = env.observation_space.high\n",
    "\n",
    "print(f'Cart position from {x_min:.2f} to {x_max:.2f}')\n",
    "print(f'Cart velocity from {v_min:.2E} to {v_max:.2E}')\n",
    "print(f'Angle from {angle_min:.2f} to {angle_max:.2f}')\n",
    "print(f'Angular velocity from {angular_v_min:.2E} to {angular_v_max:.2E}')"
   ]
  },
  {
   "cell_type": "markdown",
   "id": "f413604e",
   "metadata": {},
   "source": [
    "[IMAGE]"
   ]
  },
  {
   "cell_type": "markdown",
   "id": "5e0c527b",
   "metadata": {},
   "source": [
    "### The ranges for the cart velocity and pole angular velocity are a bit too large, aren't they?\n",
    "\n",
    "👉 As a general principle, the high/low state values you can read from `env.observation_space`\n",
    "are set very conservatively, to guarantee that the state value alwayas lies between the max and the min.\n",
    "\n",
    "👉In practice, you need to simulate a few interactions with the environment to really see the actual intervals where the state components lie.\n",
    "\n",
    "👉 Knowing the max and min values for each state component is going to be useful later when we normalize the inputs to our Parametric models."
   ]
  },
  {
   "cell_type": "markdown",
   "id": "1fcfc13a",
   "metadata": {},
   "source": [
    "## Action space\n",
    "\n",
    "- `0` Push cart to the left\n",
    "- `1` Push cart to the right"
   ]
  },
  {
   "cell_type": "code",
   "execution_count": 7,
   "id": "98cfdb84",
   "metadata": {},
   "outputs": [
    {
     "name": "stdout",
     "output_type": "stream",
     "text": [
      "Action Space Discrete(2)\n"
     ]
    }
   ],
   "source": [
    "print(\"Action Space {}\".format(env.action_space))"
   ]
  },
  {
   "cell_type": "markdown",
   "id": "c8f6a690",
   "metadata": {},
   "source": [
    "## Rewards\n",
    "\n",
    "- A reward of -1 is awarded if the position of the car is less than 0.5.\n",
    "- The episode ends once the car's position is above 0.5, or the max number of steps has been reached: `n_steps >= env._max_episode_steps`\n",
    "\n",
    "A default negative reward of -1 encourages the car to escape the valley as fast as possible."
   ]
  },
  {
   "cell_type": "code",
   "execution_count": null,
   "id": "578d1ba3",
   "metadata": {},
   "outputs": [],
   "source": []
  }
 ],
 "metadata": {
  "kernelspec": {
   "display_name": "Python 3 (ipykernel)",
   "language": "python",
   "name": "python3"
  },
  "language_info": {
   "codemirror_mode": {
    "name": "ipython",
    "version": 3
   },
   "file_extension": ".py",
   "mimetype": "text/x-python",
   "name": "python",
   "nbconvert_exporter": "python",
   "pygments_lexer": "ipython3",
   "version": "3.10.13"
  }
 },
 "nbformat": 4,
 "nbformat_minor": 5
}
