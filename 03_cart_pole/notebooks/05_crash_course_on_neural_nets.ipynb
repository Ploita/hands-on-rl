{
 "cells": [
  {
   "cell_type": "markdown",
   "id": "f7893323",
   "metadata": {},
   "source": [
    "# 05 Crash course on Neural Nets\n",
    "\n",
    "## Skip this lecture if you think you are a Deep Learning master\n",
    "\n",
    "#### 👉 Let's train a few neural network models in a supervised setting.\n",
    "\n",
    "#### 👉 In Supervised Machine Learning you have input features and target values. And the goal is to find the *right* mapping between input features and target values.\n",
    "\n",
    "#### 👉Neural networks are usually highly-parametric models that are able to fit complex patterns between the input features and the target.\n",
    "\n",
    "#### 👉 The type of neural network we will use is a Multi Layer Perceptron (MLP). MLPs are stacks of linear models, interleaved with *activation functions.*"
   ]
  },
  {
   "cell_type": "code",
   "execution_count": 1,
   "id": "fd7b5c91",
   "metadata": {},
   "outputs": [
    {
     "name": "stdout",
     "output_type": "stream",
     "text": [
      "%pylab is deprecated, use %matplotlib inline and import the required libraries.\n",
      "Populating the interactive namespace from numpy and matplotlib\n"
     ]
    }
   ],
   "source": [
    "%load_ext autoreload\n",
    "%autoreload 2\n",
    "%pylab inline\n",
    "%config InlineBackend.figure_format = 'svg'"
   ]
  },
  {
   "cell_type": "markdown",
   "id": "6d71e5be",
   "metadata": {},
   "source": [
    "## Environment 🌎"
   ]
  },
  {
   "cell_type": "code",
   "execution_count": 2,
   "id": "bfb033c6",
   "metadata": {},
   "outputs": [],
   "source": [
    "import gym\n",
    "from tqdm import tqdm\n",
    "env = gym.make('CartPole-v1', render_mode = 'rgb_array')"
   ]
  },
  {
   "cell_type": "markdown",
   "id": "ddad327f",
   "metadata": {},
   "source": [
    "# 1. Data\n",
    "\n",
    "Steps to generate the train data and test data we will need to build the neural network, and to evaluate it."
   ]
  },
  {
   "cell_type": "markdown",
   "id": "708c3134",
   "metadata": {},
   "source": [
    "## 1.1 Download the agent parameters from Google Drive 📩"
   ]
  },
  {
   "cell_type": "code",
   "execution_count": 3,
   "id": "795a2250",
   "metadata": {},
   "outputs": [
    {
     "name": "stderr",
     "output_type": "stream",
     "text": [
      "Downloading...\n",
      "From: https://docs.google.com/uc?export=download&id=1ZdyAuzY-0VYfyNrg0a7gHd5TOX-GadJJ\n",
      "To: C:\\Users\\Ploita\\Documents\\GitHub\\hands-on-rl\\03_cart_pole\\saved_agents\\CartPole-v1\\gdrive_agent.zip\n",
      "100%|██████████| 255k/255k [00:00<00:00, 1.05MB/s]"
     ]
    },
    {
     "name": "stdout",
     "output_type": "stream",
     "text": [
      "path_to_agent_data=C:\\Users\\Ploita\\Documents\\GitHub\\hands-on-rl\\03_cart_pole\\saved_agents\\CartPole-v1\\298\n"
     ]
    },
    {
     "name": "stderr",
     "output_type": "stream",
     "text": [
      "\n"
     ]
    }
   ],
   "source": [
    "from supervised_ml import download_agent_parameters\n",
    "\n",
    "path_to_agent_data = download_agent_parameters()\n",
    "print(f'path_to_agent_data={path_to_agent_data}')"
   ]
  },
  {
   "cell_type": "markdown",
   "id": "e4bc3d23",
   "metadata": {},
   "source": [
    "## 1.2 Create `QAgent` object from the parameters (and hyper-parameters) we just downloaded"
   ]
  },
  {
   "cell_type": "code",
   "execution_count": 4,
   "id": "d1513b96",
   "metadata": {},
   "outputs": [
    {
     "name": "stdout",
     "output_type": "stream",
     "text": [
      "67,586 parameters\n"
     ]
    }
   ],
   "source": [
    "from q_agent import QAgent\n",
    "\n",
    "agent = QAgent.load_from_disk(env, path=path_to_agent_data)"
   ]
  },
  {
   "cell_type": "markdown",
   "id": "65c3dbbc",
   "metadata": {},
   "source": [
    "## 1.3 Let's check it works like a charm"
   ]
  },
  {
   "cell_type": "code",
   "execution_count": 5,
   "id": "9fd9aeb1",
   "metadata": {},
   "outputs": [
    {
     "name": "stderr",
     "output_type": "stream",
     "text": [
      "100%|██████████| 1000/1000 [01:54<00:00,  8.75it/s]\n"
     ]
    }
   ],
   "source": [
    "from utils import set_seed\n",
    "set_seed(env, 1234)\n",
    "\n",
    "from loops import evaluate\n",
    "rewards, steps = evaluate(\n",
    "    agent, env,\n",
    "    n_episodes=1000,\n",
    "    epsilon=0.0 # 100% greedy strategy\n",
    ")"
   ]
  },
  {
   "cell_type": "code",
   "execution_count": 6,
   "id": "2067b8c5",
   "metadata": {},
   "outputs": [
    {
     "data": {
      "image/svg+xml": [
       "<?xml version=\"1.0\" encoding=\"utf-8\" standalone=\"no\"?>\n",
       "<!DOCTYPE svg PUBLIC \"-//W3C//DTD SVG 1.1//EN\"\n",
       "  \"http://www.w3.org/Graphics/SVG/1.1/DTD/svg11.dtd\">\n",
       "<svg xmlns:xlink=\"http://www.w3.org/1999/xlink\" width=\"618.528125pt\" height=\"267.95625pt\" viewBox=\"0 0 618.528125 267.95625\" xmlns=\"http://www.w3.org/2000/svg\" version=\"1.1\">\n",
       " <metadata>\n",
       "  <rdf:RDF xmlns:dc=\"http://purl.org/dc/elements/1.1/\" xmlns:cc=\"http://creativecommons.org/ns#\" xmlns:rdf=\"http://www.w3.org/1999/02/22-rdf-syntax-ns#\">\n",
       "   <cc:Work>\n",
       "    <dc:type rdf:resource=\"http://purl.org/dc/dcmitype/StillImage\"/>\n",
       "    <dc:date>2024-01-04T08:04:55.145370</dc:date>\n",
       "    <dc:format>image/svg+xml</dc:format>\n",
       "    <dc:creator>\n",
       "     <cc:Agent>\n",
       "      <dc:title>Matplotlib v3.8.2, https://matplotlib.org/</dc:title>\n",
       "     </cc:Agent>\n",
       "    </dc:creator>\n",
       "   </cc:Work>\n",
       "  </rdf:RDF>\n",
       " </metadata>\n",
       " <defs>\n",
       "  <style type=\"text/css\">*{stroke-linejoin: round; stroke-linecap: butt}</style>\n",
       " </defs>\n",
       " <g id=\"figure_1\">\n",
       "  <g id=\"patch_1\">\n",
       "   <path d=\"M 0 267.95625 \n",
       "L 618.528125 267.95625 \n",
       "L 618.528125 0 \n",
       "L 0 0 \n",
       "z\n",
       "\" style=\"fill: #ffffff\"/>\n",
       "  </g>\n",
       "  <g id=\"axes_1\">\n",
       "   <g id=\"patch_2\">\n",
       "    <path d=\"M 53.328125 244.078125 \n",
       "L 611.328125 244.078125 \n",
       "L 611.328125 22.318125 \n",
       "L 53.328125 22.318125 \n",
       "z\n",
       "\" style=\"fill: #ffffff\"/>\n",
       "   </g>\n",
       "   <g id=\"patch_3\">\n",
       "    <path d=\"M 78.691761 244.078125 \n",
       "L 83.764489 244.078125 \n",
       "L 83.764489 244.078125 \n",
       "L 78.691761 244.078125 \n",
       "z\n",
       "\" clip-path=\"url(#p3f1f960481)\" style=\"fill: #1f77b4\"/>\n",
       "   </g>\n",
       "   <g id=\"patch_4\">\n",
       "    <path d=\"M 83.764489 244.078125 \n",
       "L 88.837216 244.078125 \n",
       "L 88.837216 244.078125 \n",
       "L 83.764489 244.078125 \n",
       "z\n",
       "\" clip-path=\"url(#p3f1f960481)\" style=\"fill: #1f77b4\"/>\n",
       "   </g>\n",
       "   <g id=\"patch_5\">\n",
       "    <path d=\"M 88.837216 244.078125 \n",
       "L 93.909943 244.078125 \n",
       "L 93.909943 244.078125 \n",
       "L 88.837216 244.078125 \n",
       "z\n",
       "\" clip-path=\"url(#p3f1f960481)\" style=\"fill: #1f77b4\"/>\n",
       "   </g>\n",
       "   <g id=\"patch_6\">\n",
       "    <path d=\"M 93.909943 244.078125 \n",
       "L 98.98267 244.078125 \n",
       "L 98.98267 244.078125 \n",
       "L 93.909943 244.078125 \n",
       "z\n",
       "\" clip-path=\"url(#p3f1f960481)\" style=\"fill: #1f77b4\"/>\n",
       "   </g>\n",
       "   <g id=\"patch_7\">\n",
       "    <path d=\"M 98.98267 244.078125 \n",
       "L 104.055398 244.078125 \n",
       "L 104.055398 244.078125 \n",
       "L 98.98267 244.078125 \n",
       "z\n",
       "\" clip-path=\"url(#p3f1f960481)\" style=\"fill: #1f77b4\"/>\n",
       "   </g>\n",
       "   <g id=\"patch_8\">\n",
       "    <path d=\"M 104.055398 244.078125 \n",
       "L 109.128125 244.078125 \n",
       "L 109.128125 244.078125 \n",
       "L 104.055398 244.078125 \n",
       "z\n",
       "\" clip-path=\"url(#p3f1f960481)\" style=\"fill: #1f77b4\"/>\n",
       "   </g>\n",
       "   <g id=\"patch_9\">\n",
       "    <path d=\"M 109.128125 244.078125 \n",
       "L 114.200852 244.078125 \n",
       "L 114.200852 244.078125 \n",
       "L 109.128125 244.078125 \n",
       "z\n",
       "\" clip-path=\"url(#p3f1f960481)\" style=\"fill: #1f77b4\"/>\n",
       "   </g>\n",
       "   <g id=\"patch_10\">\n",
       "    <path d=\"M 114.200852 244.078125 \n",
       "L 119.27358 244.078125 \n",
       "L 119.27358 244.078125 \n",
       "L 114.200852 244.078125 \n",
       "z\n",
       "\" clip-path=\"url(#p3f1f960481)\" style=\"fill: #1f77b4\"/>\n",
       "   </g>\n",
       "   <g id=\"patch_11\">\n",
       "    <path d=\"M 119.27358 244.078125 \n",
       "L 124.346307 244.078125 \n",
       "L 124.346307 244.078125 \n",
       "L 119.27358 244.078125 \n",
       "z\n",
       "\" clip-path=\"url(#p3f1f960481)\" style=\"fill: #1f77b4\"/>\n",
       "   </g>\n",
       "   <g id=\"patch_12\">\n",
       "    <path d=\"M 124.346307 244.078125 \n",
       "L 129.419034 244.078125 \n",
       "L 129.419034 244.078125 \n",
       "L 124.346307 244.078125 \n",
       "z\n",
       "\" clip-path=\"url(#p3f1f960481)\" style=\"fill: #1f77b4\"/>\n",
       "   </g>\n",
       "   <g id=\"patch_13\">\n",
       "    <path d=\"M 129.419034 244.078125 \n",
       "L 134.491761 244.078125 \n",
       "L 134.491761 244.078125 \n",
       "L 129.419034 244.078125 \n",
       "z\n",
       "\" clip-path=\"url(#p3f1f960481)\" style=\"fill: #1f77b4\"/>\n",
       "   </g>\n",
       "   <g id=\"patch_14\">\n",
       "    <path d=\"M 134.491761 244.078125 \n",
       "L 139.564489 244.078125 \n",
       "L 139.564489 244.078125 \n",
       "L 134.491761 244.078125 \n",
       "z\n",
       "\" clip-path=\"url(#p3f1f960481)\" style=\"fill: #1f77b4\"/>\n",
       "   </g>\n",
       "   <g id=\"patch_15\">\n",
       "    <path d=\"M 139.564489 244.078125 \n",
       "L 144.637216 244.078125 \n",
       "L 144.637216 244.078125 \n",
       "L 139.564489 244.078125 \n",
       "z\n",
       "\" clip-path=\"url(#p3f1f960481)\" style=\"fill: #1f77b4\"/>\n",
       "   </g>\n",
       "   <g id=\"patch_16\">\n",
       "    <path d=\"M 144.637216 244.078125 \n",
       "L 149.709943 244.078125 \n",
       "L 149.709943 244.078125 \n",
       "L 144.637216 244.078125 \n",
       "z\n",
       "\" clip-path=\"url(#p3f1f960481)\" style=\"fill: #1f77b4\"/>\n",
       "   </g>\n",
       "   <g id=\"patch_17\">\n",
       "    <path d=\"M 149.709943 244.078125 \n",
       "L 154.78267 244.078125 \n",
       "L 154.78267 244.078125 \n",
       "L 149.709943 244.078125 \n",
       "z\n",
       "\" clip-path=\"url(#p3f1f960481)\" style=\"fill: #1f77b4\"/>\n",
       "   </g>\n",
       "   <g id=\"patch_18\">\n",
       "    <path d=\"M 154.78267 244.078125 \n",
       "L 159.855398 244.078125 \n",
       "L 159.855398 244.078125 \n",
       "L 154.78267 244.078125 \n",
       "z\n",
       "\" clip-path=\"url(#p3f1f960481)\" style=\"fill: #1f77b4\"/>\n",
       "   </g>\n",
       "   <g id=\"patch_19\">\n",
       "    <path d=\"M 159.855398 244.078125 \n",
       "L 164.928125 244.078125 \n",
       "L 164.928125 244.078125 \n",
       "L 159.855398 244.078125 \n",
       "z\n",
       "\" clip-path=\"url(#p3f1f960481)\" style=\"fill: #1f77b4\"/>\n",
       "   </g>\n",
       "   <g id=\"patch_20\">\n",
       "    <path d=\"M 164.928125 244.078125 \n",
       "L 170.000852 244.078125 \n",
       "L 170.000852 244.078125 \n",
       "L 164.928125 244.078125 \n",
       "z\n",
       "\" clip-path=\"url(#p3f1f960481)\" style=\"fill: #1f77b4\"/>\n",
       "   </g>\n",
       "   <g id=\"patch_21\">\n",
       "    <path d=\"M 170.000852 244.078125 \n",
       "L 175.07358 244.078125 \n",
       "L 175.07358 244.078125 \n",
       "L 170.000852 244.078125 \n",
       "z\n",
       "\" clip-path=\"url(#p3f1f960481)\" style=\"fill: #1f77b4\"/>\n",
       "   </g>\n",
       "   <g id=\"patch_22\">\n",
       "    <path d=\"M 175.07358 244.078125 \n",
       "L 180.146307 244.078125 \n",
       "L 180.146307 244.078125 \n",
       "L 175.07358 244.078125 \n",
       "z\n",
       "\" clip-path=\"url(#p3f1f960481)\" style=\"fill: #1f77b4\"/>\n",
       "   </g>\n",
       "   <g id=\"patch_23\">\n",
       "    <path d=\"M 180.146307 244.078125 \n",
       "L 185.219034 244.078125 \n",
       "L 185.219034 244.078125 \n",
       "L 180.146307 244.078125 \n",
       "z\n",
       "\" clip-path=\"url(#p3f1f960481)\" style=\"fill: #1f77b4\"/>\n",
       "   </g>\n",
       "   <g id=\"patch_24\">\n",
       "    <path d=\"M 185.219034 244.078125 \n",
       "L 190.291761 244.078125 \n",
       "L 190.291761 244.078125 \n",
       "L 185.219034 244.078125 \n",
       "z\n",
       "\" clip-path=\"url(#p3f1f960481)\" style=\"fill: #1f77b4\"/>\n",
       "   </g>\n",
       "   <g id=\"patch_25\">\n",
       "    <path d=\"M 190.291761 244.078125 \n",
       "L 195.364489 244.078125 \n",
       "L 195.364489 244.078125 \n",
       "L 190.291761 244.078125 \n",
       "z\n",
       "\" clip-path=\"url(#p3f1f960481)\" style=\"fill: #1f77b4\"/>\n",
       "   </g>\n",
       "   <g id=\"patch_26\">\n",
       "    <path d=\"M 195.364489 244.078125 \n",
       "L 200.437216 244.078125 \n",
       "L 200.437216 244.078125 \n",
       "L 195.364489 244.078125 \n",
       "z\n",
       "\" clip-path=\"url(#p3f1f960481)\" style=\"fill: #1f77b4\"/>\n",
       "   </g>\n",
       "   <g id=\"patch_27\">\n",
       "    <path d=\"M 200.437216 244.078125 \n",
       "L 205.509943 244.078125 \n",
       "L 205.509943 244.078125 \n",
       "L 200.437216 244.078125 \n",
       "z\n",
       "\" clip-path=\"url(#p3f1f960481)\" style=\"fill: #1f77b4\"/>\n",
       "   </g>\n",
       "   <g id=\"patch_28\">\n",
       "    <path d=\"M 205.509943 244.078125 \n",
       "L 210.58267 244.078125 \n",
       "L 210.58267 244.078125 \n",
       "L 205.509943 244.078125 \n",
       "z\n",
       "\" clip-path=\"url(#p3f1f960481)\" style=\"fill: #1f77b4\"/>\n",
       "   </g>\n",
       "   <g id=\"patch_29\">\n",
       "    <path d=\"M 210.58267 244.078125 \n",
       "L 215.655398 244.078125 \n",
       "L 215.655398 244.078125 \n",
       "L 210.58267 244.078125 \n",
       "z\n",
       "\" clip-path=\"url(#p3f1f960481)\" style=\"fill: #1f77b4\"/>\n",
       "   </g>\n",
       "   <g id=\"patch_30\">\n",
       "    <path d=\"M 215.655398 244.078125 \n",
       "L 220.728125 244.078125 \n",
       "L 220.728125 244.078125 \n",
       "L 215.655398 244.078125 \n",
       "z\n",
       "\" clip-path=\"url(#p3f1f960481)\" style=\"fill: #1f77b4\"/>\n",
       "   </g>\n",
       "   <g id=\"patch_31\">\n",
       "    <path d=\"M 220.728125 244.078125 \n",
       "L 225.800852 244.078125 \n",
       "L 225.800852 244.078125 \n",
       "L 220.728125 244.078125 \n",
       "z\n",
       "\" clip-path=\"url(#p3f1f960481)\" style=\"fill: #1f77b4\"/>\n",
       "   </g>\n",
       "   <g id=\"patch_32\">\n",
       "    <path d=\"M 225.800852 244.078125 \n",
       "L 230.87358 244.078125 \n",
       "L 230.87358 244.078125 \n",
       "L 225.800852 244.078125 \n",
       "z\n",
       "\" clip-path=\"url(#p3f1f960481)\" style=\"fill: #1f77b4\"/>\n",
       "   </g>\n",
       "   <g id=\"patch_33\">\n",
       "    <path d=\"M 230.87358 244.078125 \n",
       "L 235.946307 244.078125 \n",
       "L 235.946307 244.078125 \n",
       "L 230.87358 244.078125 \n",
       "z\n",
       "\" clip-path=\"url(#p3f1f960481)\" style=\"fill: #1f77b4\"/>\n",
       "   </g>\n",
       "   <g id=\"patch_34\">\n",
       "    <path d=\"M 235.946307 244.078125 \n",
       "L 241.019034 244.078125 \n",
       "L 241.019034 244.078125 \n",
       "L 235.946307 244.078125 \n",
       "z\n",
       "\" clip-path=\"url(#p3f1f960481)\" style=\"fill: #1f77b4\"/>\n",
       "   </g>\n",
       "   <g id=\"patch_35\">\n",
       "    <path d=\"M 241.019034 244.078125 \n",
       "L 246.091761 244.078125 \n",
       "L 246.091761 244.078125 \n",
       "L 241.019034 244.078125 \n",
       "z\n",
       "\" clip-path=\"url(#p3f1f960481)\" style=\"fill: #1f77b4\"/>\n",
       "   </g>\n",
       "   <g id=\"patch_36\">\n",
       "    <path d=\"M 246.091761 244.078125 \n",
       "L 251.164489 244.078125 \n",
       "L 251.164489 244.078125 \n",
       "L 246.091761 244.078125 \n",
       "z\n",
       "\" clip-path=\"url(#p3f1f960481)\" style=\"fill: #1f77b4\"/>\n",
       "   </g>\n",
       "   <g id=\"patch_37\">\n",
       "    <path d=\"M 251.164489 244.078125 \n",
       "L 256.237216 244.078125 \n",
       "L 256.237216 244.078125 \n",
       "L 251.164489 244.078125 \n",
       "z\n",
       "\" clip-path=\"url(#p3f1f960481)\" style=\"fill: #1f77b4\"/>\n",
       "   </g>\n",
       "   <g id=\"patch_38\">\n",
       "    <path d=\"M 256.237216 244.078125 \n",
       "L 261.309943 244.078125 \n",
       "L 261.309943 244.078125 \n",
       "L 256.237216 244.078125 \n",
       "z\n",
       "\" clip-path=\"url(#p3f1f960481)\" style=\"fill: #1f77b4\"/>\n",
       "   </g>\n",
       "   <g id=\"patch_39\">\n",
       "    <path d=\"M 261.309943 244.078125 \n",
       "L 266.38267 244.078125 \n",
       "L 266.38267 244.078125 \n",
       "L 261.309943 244.078125 \n",
       "z\n",
       "\" clip-path=\"url(#p3f1f960481)\" style=\"fill: #1f77b4\"/>\n",
       "   </g>\n",
       "   <g id=\"patch_40\">\n",
       "    <path d=\"M 266.38267 244.078125 \n",
       "L 271.455398 244.078125 \n",
       "L 271.455398 244.078125 \n",
       "L 266.38267 244.078125 \n",
       "z\n",
       "\" clip-path=\"url(#p3f1f960481)\" style=\"fill: #1f77b4\"/>\n",
       "   </g>\n",
       "   <g id=\"patch_41\">\n",
       "    <path d=\"M 271.455398 244.078125 \n",
       "L 276.528125 244.078125 \n",
       "L 276.528125 244.078125 \n",
       "L 271.455398 244.078125 \n",
       "z\n",
       "\" clip-path=\"url(#p3f1f960481)\" style=\"fill: #1f77b4\"/>\n",
       "   </g>\n",
       "   <g id=\"patch_42\">\n",
       "    <path d=\"M 276.528125 244.078125 \n",
       "L 281.600852 244.078125 \n",
       "L 281.600852 244.078125 \n",
       "L 276.528125 244.078125 \n",
       "z\n",
       "\" clip-path=\"url(#p3f1f960481)\" style=\"fill: #1f77b4\"/>\n",
       "   </g>\n",
       "   <g id=\"patch_43\">\n",
       "    <path d=\"M 281.600852 244.078125 \n",
       "L 286.67358 244.078125 \n",
       "L 286.67358 244.078125 \n",
       "L 281.600852 244.078125 \n",
       "z\n",
       "\" clip-path=\"url(#p3f1f960481)\" style=\"fill: #1f77b4\"/>\n",
       "   </g>\n",
       "   <g id=\"patch_44\">\n",
       "    <path d=\"M 286.67358 244.078125 \n",
       "L 291.746307 244.078125 \n",
       "L 291.746307 244.078125 \n",
       "L 286.67358 244.078125 \n",
       "z\n",
       "\" clip-path=\"url(#p3f1f960481)\" style=\"fill: #1f77b4\"/>\n",
       "   </g>\n",
       "   <g id=\"patch_45\">\n",
       "    <path d=\"M 291.746307 244.078125 \n",
       "L 296.819034 244.078125 \n",
       "L 296.819034 244.078125 \n",
       "L 291.746307 244.078125 \n",
       "z\n",
       "\" clip-path=\"url(#p3f1f960481)\" style=\"fill: #1f77b4\"/>\n",
       "   </g>\n",
       "   <g id=\"patch_46\">\n",
       "    <path d=\"M 296.819034 244.078125 \n",
       "L 301.891761 244.078125 \n",
       "L 301.891761 244.078125 \n",
       "L 296.819034 244.078125 \n",
       "z\n",
       "\" clip-path=\"url(#p3f1f960481)\" style=\"fill: #1f77b4\"/>\n",
       "   </g>\n",
       "   <g id=\"patch_47\">\n",
       "    <path d=\"M 301.891761 244.078125 \n",
       "L 306.964489 244.078125 \n",
       "L 306.964489 244.078125 \n",
       "L 301.891761 244.078125 \n",
       "z\n",
       "\" clip-path=\"url(#p3f1f960481)\" style=\"fill: #1f77b4\"/>\n",
       "   </g>\n",
       "   <g id=\"patch_48\">\n",
       "    <path d=\"M 306.964489 244.078125 \n",
       "L 312.037216 244.078125 \n",
       "L 312.037216 244.078125 \n",
       "L 306.964489 244.078125 \n",
       "z\n",
       "\" clip-path=\"url(#p3f1f960481)\" style=\"fill: #1f77b4\"/>\n",
       "   </g>\n",
       "   <g id=\"patch_49\">\n",
       "    <path d=\"M 312.037216 244.078125 \n",
       "L 317.109943 244.078125 \n",
       "L 317.109943 244.078125 \n",
       "L 312.037216 244.078125 \n",
       "z\n",
       "\" clip-path=\"url(#p3f1f960481)\" style=\"fill: #1f77b4\"/>\n",
       "   </g>\n",
       "   <g id=\"patch_50\">\n",
       "    <path d=\"M 317.109943 244.078125 \n",
       "L 322.18267 244.078125 \n",
       "L 322.18267 244.078125 \n",
       "L 317.109943 244.078125 \n",
       "z\n",
       "\" clip-path=\"url(#p3f1f960481)\" style=\"fill: #1f77b4\"/>\n",
       "   </g>\n",
       "   <g id=\"patch_51\">\n",
       "    <path d=\"M 322.18267 244.078125 \n",
       "L 327.255398 244.078125 \n",
       "L 327.255398 244.078125 \n",
       "L 322.18267 244.078125 \n",
       "z\n",
       "\" clip-path=\"url(#p3f1f960481)\" style=\"fill: #1f77b4\"/>\n",
       "   </g>\n",
       "   <g id=\"patch_52\">\n",
       "    <path d=\"M 327.255398 244.078125 \n",
       "L 332.328125 244.078125 \n",
       "L 332.328125 244.078125 \n",
       "L 327.255398 244.078125 \n",
       "z\n",
       "\" clip-path=\"url(#p3f1f960481)\" style=\"fill: #1f77b4\"/>\n",
       "   </g>\n",
       "   <g id=\"patch_53\">\n",
       "    <path d=\"M 332.328125 244.078125 \n",
       "L 337.400852 244.078125 \n",
       "L 337.400852 32.878125 \n",
       "L 332.328125 32.878125 \n",
       "z\n",
       "\" clip-path=\"url(#p3f1f960481)\" style=\"fill: #1f77b4\"/>\n",
       "   </g>\n",
       "   <g id=\"patch_54\">\n",
       "    <path d=\"M 337.400852 244.078125 \n",
       "L 342.47358 244.078125 \n",
       "L 342.47358 244.078125 \n",
       "L 337.400852 244.078125 \n",
       "z\n",
       "\" clip-path=\"url(#p3f1f960481)\" style=\"fill: #1f77b4\"/>\n",
       "   </g>\n",
       "   <g id=\"patch_55\">\n",
       "    <path d=\"M 342.47358 244.078125 \n",
       "L 347.546307 244.078125 \n",
       "L 347.546307 244.078125 \n",
       "L 342.47358 244.078125 \n",
       "z\n",
       "\" clip-path=\"url(#p3f1f960481)\" style=\"fill: #1f77b4\"/>\n",
       "   </g>\n",
       "   <g id=\"patch_56\">\n",
       "    <path d=\"M 347.546307 244.078125 \n",
       "L 352.619034 244.078125 \n",
       "L 352.619034 244.078125 \n",
       "L 347.546307 244.078125 \n",
       "z\n",
       "\" clip-path=\"url(#p3f1f960481)\" style=\"fill: #1f77b4\"/>\n",
       "   </g>\n",
       "   <g id=\"patch_57\">\n",
       "    <path d=\"M 352.619034 244.078125 \n",
       "L 357.691761 244.078125 \n",
       "L 357.691761 244.078125 \n",
       "L 352.619034 244.078125 \n",
       "z\n",
       "\" clip-path=\"url(#p3f1f960481)\" style=\"fill: #1f77b4\"/>\n",
       "   </g>\n",
       "   <g id=\"patch_58\">\n",
       "    <path d=\"M 357.691761 244.078125 \n",
       "L 362.764489 244.078125 \n",
       "L 362.764489 244.078125 \n",
       "L 357.691761 244.078125 \n",
       "z\n",
       "\" clip-path=\"url(#p3f1f960481)\" style=\"fill: #1f77b4\"/>\n",
       "   </g>\n",
       "   <g id=\"patch_59\">\n",
       "    <path d=\"M 362.764489 244.078125 \n",
       "L 367.837216 244.078125 \n",
       "L 367.837216 244.078125 \n",
       "L 362.764489 244.078125 \n",
       "z\n",
       "\" clip-path=\"url(#p3f1f960481)\" style=\"fill: #1f77b4\"/>\n",
       "   </g>\n",
       "   <g id=\"patch_60\">\n",
       "    <path d=\"M 367.837216 244.078125 \n",
       "L 372.909943 244.078125 \n",
       "L 372.909943 244.078125 \n",
       "L 367.837216 244.078125 \n",
       "z\n",
       "\" clip-path=\"url(#p3f1f960481)\" style=\"fill: #1f77b4\"/>\n",
       "   </g>\n",
       "   <g id=\"patch_61\">\n",
       "    <path d=\"M 372.909943 244.078125 \n",
       "L 377.98267 244.078125 \n",
       "L 377.98267 244.078125 \n",
       "L 372.909943 244.078125 \n",
       "z\n",
       "\" clip-path=\"url(#p3f1f960481)\" style=\"fill: #1f77b4\"/>\n",
       "   </g>\n",
       "   <g id=\"patch_62\">\n",
       "    <path d=\"M 377.98267 244.078125 \n",
       "L 383.055398 244.078125 \n",
       "L 383.055398 244.078125 \n",
       "L 377.98267 244.078125 \n",
       "z\n",
       "\" clip-path=\"url(#p3f1f960481)\" style=\"fill: #1f77b4\"/>\n",
       "   </g>\n",
       "   <g id=\"patch_63\">\n",
       "    <path d=\"M 383.055398 244.078125 \n",
       "L 388.128125 244.078125 \n",
       "L 388.128125 244.078125 \n",
       "L 383.055398 244.078125 \n",
       "z\n",
       "\" clip-path=\"url(#p3f1f960481)\" style=\"fill: #1f77b4\"/>\n",
       "   </g>\n",
       "   <g id=\"patch_64\">\n",
       "    <path d=\"M 388.128125 244.078125 \n",
       "L 393.200852 244.078125 \n",
       "L 393.200852 244.078125 \n",
       "L 388.128125 244.078125 \n",
       "z\n",
       "\" clip-path=\"url(#p3f1f960481)\" style=\"fill: #1f77b4\"/>\n",
       "   </g>\n",
       "   <g id=\"patch_65\">\n",
       "    <path d=\"M 393.200852 244.078125 \n",
       "L 398.27358 244.078125 \n",
       "L 398.27358 244.078125 \n",
       "L 393.200852 244.078125 \n",
       "z\n",
       "\" clip-path=\"url(#p3f1f960481)\" style=\"fill: #1f77b4\"/>\n",
       "   </g>\n",
       "   <g id=\"patch_66\">\n",
       "    <path d=\"M 398.27358 244.078125 \n",
       "L 403.346307 244.078125 \n",
       "L 403.346307 244.078125 \n",
       "L 398.27358 244.078125 \n",
       "z\n",
       "\" clip-path=\"url(#p3f1f960481)\" style=\"fill: #1f77b4\"/>\n",
       "   </g>\n",
       "   <g id=\"patch_67\">\n",
       "    <path d=\"M 403.346307 244.078125 \n",
       "L 408.419034 244.078125 \n",
       "L 408.419034 244.078125 \n",
       "L 403.346307 244.078125 \n",
       "z\n",
       "\" clip-path=\"url(#p3f1f960481)\" style=\"fill: #1f77b4\"/>\n",
       "   </g>\n",
       "   <g id=\"patch_68\">\n",
       "    <path d=\"M 408.419034 244.078125 \n",
       "L 413.491761 244.078125 \n",
       "L 413.491761 244.078125 \n",
       "L 408.419034 244.078125 \n",
       "z\n",
       "\" clip-path=\"url(#p3f1f960481)\" style=\"fill: #1f77b4\"/>\n",
       "   </g>\n",
       "   <g id=\"patch_69\">\n",
       "    <path d=\"M 413.491761 244.078125 \n",
       "L 418.564489 244.078125 \n",
       "L 418.564489 244.078125 \n",
       "L 413.491761 244.078125 \n",
       "z\n",
       "\" clip-path=\"url(#p3f1f960481)\" style=\"fill: #1f77b4\"/>\n",
       "   </g>\n",
       "   <g id=\"patch_70\">\n",
       "    <path d=\"M 418.564489 244.078125 \n",
       "L 423.637216 244.078125 \n",
       "L 423.637216 244.078125 \n",
       "L 418.564489 244.078125 \n",
       "z\n",
       "\" clip-path=\"url(#p3f1f960481)\" style=\"fill: #1f77b4\"/>\n",
       "   </g>\n",
       "   <g id=\"patch_71\">\n",
       "    <path d=\"M 423.637216 244.078125 \n",
       "L 428.709943 244.078125 \n",
       "L 428.709943 244.078125 \n",
       "L 423.637216 244.078125 \n",
       "z\n",
       "\" clip-path=\"url(#p3f1f960481)\" style=\"fill: #1f77b4\"/>\n",
       "   </g>\n",
       "   <g id=\"patch_72\">\n",
       "    <path d=\"M 428.709943 244.078125 \n",
       "L 433.78267 244.078125 \n",
       "L 433.78267 244.078125 \n",
       "L 428.709943 244.078125 \n",
       "z\n",
       "\" clip-path=\"url(#p3f1f960481)\" style=\"fill: #1f77b4\"/>\n",
       "   </g>\n",
       "   <g id=\"patch_73\">\n",
       "    <path d=\"M 433.78267 244.078125 \n",
       "L 438.855398 244.078125 \n",
       "L 438.855398 244.078125 \n",
       "L 433.78267 244.078125 \n",
       "z\n",
       "\" clip-path=\"url(#p3f1f960481)\" style=\"fill: #1f77b4\"/>\n",
       "   </g>\n",
       "   <g id=\"patch_74\">\n",
       "    <path d=\"M 438.855398 244.078125 \n",
       "L 443.928125 244.078125 \n",
       "L 443.928125 244.078125 \n",
       "L 438.855398 244.078125 \n",
       "z\n",
       "\" clip-path=\"url(#p3f1f960481)\" style=\"fill: #1f77b4\"/>\n",
       "   </g>\n",
       "   <g id=\"patch_75\">\n",
       "    <path d=\"M 443.928125 244.078125 \n",
       "L 449.000852 244.078125 \n",
       "L 449.000852 244.078125 \n",
       "L 443.928125 244.078125 \n",
       "z\n",
       "\" clip-path=\"url(#p3f1f960481)\" style=\"fill: #1f77b4\"/>\n",
       "   </g>\n",
       "   <g id=\"patch_76\">\n",
       "    <path d=\"M 449.000852 244.078125 \n",
       "L 454.07358 244.078125 \n",
       "L 454.07358 244.078125 \n",
       "L 449.000852 244.078125 \n",
       "z\n",
       "\" clip-path=\"url(#p3f1f960481)\" style=\"fill: #1f77b4\"/>\n",
       "   </g>\n",
       "   <g id=\"patch_77\">\n",
       "    <path d=\"M 454.07358 244.078125 \n",
       "L 459.146307 244.078125 \n",
       "L 459.146307 244.078125 \n",
       "L 454.07358 244.078125 \n",
       "z\n",
       "\" clip-path=\"url(#p3f1f960481)\" style=\"fill: #1f77b4\"/>\n",
       "   </g>\n",
       "   <g id=\"patch_78\">\n",
       "    <path d=\"M 459.146307 244.078125 \n",
       "L 464.219034 244.078125 \n",
       "L 464.219034 244.078125 \n",
       "L 459.146307 244.078125 \n",
       "z\n",
       "\" clip-path=\"url(#p3f1f960481)\" style=\"fill: #1f77b4\"/>\n",
       "   </g>\n",
       "   <g id=\"patch_79\">\n",
       "    <path d=\"M 464.219034 244.078125 \n",
       "L 469.291761 244.078125 \n",
       "L 469.291761 244.078125 \n",
       "L 464.219034 244.078125 \n",
       "z\n",
       "\" clip-path=\"url(#p3f1f960481)\" style=\"fill: #1f77b4\"/>\n",
       "   </g>\n",
       "   <g id=\"patch_80\">\n",
       "    <path d=\"M 469.291761 244.078125 \n",
       "L 474.364489 244.078125 \n",
       "L 474.364489 244.078125 \n",
       "L 469.291761 244.078125 \n",
       "z\n",
       "\" clip-path=\"url(#p3f1f960481)\" style=\"fill: #1f77b4\"/>\n",
       "   </g>\n",
       "   <g id=\"patch_81\">\n",
       "    <path d=\"M 474.364489 244.078125 \n",
       "L 479.437216 244.078125 \n",
       "L 479.437216 244.078125 \n",
       "L 474.364489 244.078125 \n",
       "z\n",
       "\" clip-path=\"url(#p3f1f960481)\" style=\"fill: #1f77b4\"/>\n",
       "   </g>\n",
       "   <g id=\"patch_82\">\n",
       "    <path d=\"M 479.437216 244.078125 \n",
       "L 484.509943 244.078125 \n",
       "L 484.509943 244.078125 \n",
       "L 479.437216 244.078125 \n",
       "z\n",
       "\" clip-path=\"url(#p3f1f960481)\" style=\"fill: #1f77b4\"/>\n",
       "   </g>\n",
       "   <g id=\"patch_83\">\n",
       "    <path d=\"M 484.509943 244.078125 \n",
       "L 489.58267 244.078125 \n",
       "L 489.58267 244.078125 \n",
       "L 484.509943 244.078125 \n",
       "z\n",
       "\" clip-path=\"url(#p3f1f960481)\" style=\"fill: #1f77b4\"/>\n",
       "   </g>\n",
       "   <g id=\"patch_84\">\n",
       "    <path d=\"M 489.58267 244.078125 \n",
       "L 494.655398 244.078125 \n",
       "L 494.655398 244.078125 \n",
       "L 489.58267 244.078125 \n",
       "z\n",
       "\" clip-path=\"url(#p3f1f960481)\" style=\"fill: #1f77b4\"/>\n",
       "   </g>\n",
       "   <g id=\"patch_85\">\n",
       "    <path d=\"M 494.655398 244.078125 \n",
       "L 499.728125 244.078125 \n",
       "L 499.728125 244.078125 \n",
       "L 494.655398 244.078125 \n",
       "z\n",
       "\" clip-path=\"url(#p3f1f960481)\" style=\"fill: #1f77b4\"/>\n",
       "   </g>\n",
       "   <g id=\"patch_86\">\n",
       "    <path d=\"M 499.728125 244.078125 \n",
       "L 504.800852 244.078125 \n",
       "L 504.800852 244.078125 \n",
       "L 499.728125 244.078125 \n",
       "z\n",
       "\" clip-path=\"url(#p3f1f960481)\" style=\"fill: #1f77b4\"/>\n",
       "   </g>\n",
       "   <g id=\"patch_87\">\n",
       "    <path d=\"M 504.800852 244.078125 \n",
       "L 509.87358 244.078125 \n",
       "L 509.87358 244.078125 \n",
       "L 504.800852 244.078125 \n",
       "z\n",
       "\" clip-path=\"url(#p3f1f960481)\" style=\"fill: #1f77b4\"/>\n",
       "   </g>\n",
       "   <g id=\"patch_88\">\n",
       "    <path d=\"M 509.87358 244.078125 \n",
       "L 514.946307 244.078125 \n",
       "L 514.946307 244.078125 \n",
       "L 509.87358 244.078125 \n",
       "z\n",
       "\" clip-path=\"url(#p3f1f960481)\" style=\"fill: #1f77b4\"/>\n",
       "   </g>\n",
       "   <g id=\"patch_89\">\n",
       "    <path d=\"M 514.946307 244.078125 \n",
       "L 520.019034 244.078125 \n",
       "L 520.019034 244.078125 \n",
       "L 514.946307 244.078125 \n",
       "z\n",
       "\" clip-path=\"url(#p3f1f960481)\" style=\"fill: #1f77b4\"/>\n",
       "   </g>\n",
       "   <g id=\"patch_90\">\n",
       "    <path d=\"M 520.019034 244.078125 \n",
       "L 525.091761 244.078125 \n",
       "L 525.091761 244.078125 \n",
       "L 520.019034 244.078125 \n",
       "z\n",
       "\" clip-path=\"url(#p3f1f960481)\" style=\"fill: #1f77b4\"/>\n",
       "   </g>\n",
       "   <g id=\"patch_91\">\n",
       "    <path d=\"M 525.091761 244.078125 \n",
       "L 530.164489 244.078125 \n",
       "L 530.164489 244.078125 \n",
       "L 525.091761 244.078125 \n",
       "z\n",
       "\" clip-path=\"url(#p3f1f960481)\" style=\"fill: #1f77b4\"/>\n",
       "   </g>\n",
       "   <g id=\"patch_92\">\n",
       "    <path d=\"M 530.164489 244.078125 \n",
       "L 535.237216 244.078125 \n",
       "L 535.237216 244.078125 \n",
       "L 530.164489 244.078125 \n",
       "z\n",
       "\" clip-path=\"url(#p3f1f960481)\" style=\"fill: #1f77b4\"/>\n",
       "   </g>\n",
       "   <g id=\"patch_93\">\n",
       "    <path d=\"M 535.237216 244.078125 \n",
       "L 540.309943 244.078125 \n",
       "L 540.309943 244.078125 \n",
       "L 535.237216 244.078125 \n",
       "z\n",
       "\" clip-path=\"url(#p3f1f960481)\" style=\"fill: #1f77b4\"/>\n",
       "   </g>\n",
       "   <g id=\"patch_94\">\n",
       "    <path d=\"M 540.309943 244.078125 \n",
       "L 545.38267 244.078125 \n",
       "L 545.38267 244.078125 \n",
       "L 540.309943 244.078125 \n",
       "z\n",
       "\" clip-path=\"url(#p3f1f960481)\" style=\"fill: #1f77b4\"/>\n",
       "   </g>\n",
       "   <g id=\"patch_95\">\n",
       "    <path d=\"M 545.38267 244.078125 \n",
       "L 550.455398 244.078125 \n",
       "L 550.455398 244.078125 \n",
       "L 545.38267 244.078125 \n",
       "z\n",
       "\" clip-path=\"url(#p3f1f960481)\" style=\"fill: #1f77b4\"/>\n",
       "   </g>\n",
       "   <g id=\"patch_96\">\n",
       "    <path d=\"M 550.455398 244.078125 \n",
       "L 555.528125 244.078125 \n",
       "L 555.528125 244.078125 \n",
       "L 550.455398 244.078125 \n",
       "z\n",
       "\" clip-path=\"url(#p3f1f960481)\" style=\"fill: #1f77b4\"/>\n",
       "   </g>\n",
       "   <g id=\"patch_97\">\n",
       "    <path d=\"M 555.528125 244.078125 \n",
       "L 560.600852 244.078125 \n",
       "L 560.600852 244.078125 \n",
       "L 555.528125 244.078125 \n",
       "z\n",
       "\" clip-path=\"url(#p3f1f960481)\" style=\"fill: #1f77b4\"/>\n",
       "   </g>\n",
       "   <g id=\"patch_98\">\n",
       "    <path d=\"M 560.600852 244.078125 \n",
       "L 565.67358 244.078125 \n",
       "L 565.67358 244.078125 \n",
       "L 560.600852 244.078125 \n",
       "z\n",
       "\" clip-path=\"url(#p3f1f960481)\" style=\"fill: #1f77b4\"/>\n",
       "   </g>\n",
       "   <g id=\"patch_99\">\n",
       "    <path d=\"M 565.67358 244.078125 \n",
       "L 570.746307 244.078125 \n",
       "L 570.746307 244.078125 \n",
       "L 565.67358 244.078125 \n",
       "z\n",
       "\" clip-path=\"url(#p3f1f960481)\" style=\"fill: #1f77b4\"/>\n",
       "   </g>\n",
       "   <g id=\"patch_100\">\n",
       "    <path d=\"M 570.746307 244.078125 \n",
       "L 575.819034 244.078125 \n",
       "L 575.819034 244.078125 \n",
       "L 570.746307 244.078125 \n",
       "z\n",
       "\" clip-path=\"url(#p3f1f960481)\" style=\"fill: #1f77b4\"/>\n",
       "   </g>\n",
       "   <g id=\"patch_101\">\n",
       "    <path d=\"M 575.819034 244.078125 \n",
       "L 580.891761 244.078125 \n",
       "L 580.891761 244.078125 \n",
       "L 575.819034 244.078125 \n",
       "z\n",
       "\" clip-path=\"url(#p3f1f960481)\" style=\"fill: #1f77b4\"/>\n",
       "   </g>\n",
       "   <g id=\"patch_102\">\n",
       "    <path d=\"M 580.891761 244.078125 \n",
       "L 585.964489 244.078125 \n",
       "L 585.964489 244.078125 \n",
       "L 580.891761 244.078125 \n",
       "z\n",
       "\" clip-path=\"url(#p3f1f960481)\" style=\"fill: #1f77b4\"/>\n",
       "   </g>\n",
       "   <g id=\"matplotlib.axis_1\">\n",
       "    <g id=\"xtick_1\">\n",
       "     <g id=\"line2d_1\">\n",
       "      <defs>\n",
       "       <path id=\"m0772252829\" d=\"M 0 0 \n",
       "L 0 3.5 \n",
       "\" style=\"stroke: #000000; stroke-width: 0.8\"/>\n",
       "      </defs>\n",
       "      <g>\n",
       "       <use xlink:href=\"#m0772252829\" x=\"129.419034\" y=\"244.078125\" style=\"stroke: #000000; stroke-width: 0.8\"/>\n",
       "      </g>\n",
       "     </g>\n",
       "     <g id=\"text_1\">\n",
       "      <!-- 499.6 -->\n",
       "      <g transform=\"translate(115.104972 258.676562) scale(0.1 -0.1)\">\n",
       "       <defs>\n",
       "        <path id=\"DejaVuSans-34\" d=\"M 2419 4116 \n",
       "L 825 1625 \n",
       "L 2419 1625 \n",
       "L 2419 4116 \n",
       "z\n",
       "M 2253 4666 \n",
       "L 3047 4666 \n",
       "L 3047 1625 \n",
       "L 3713 1625 \n",
       "L 3713 1100 \n",
       "L 3047 1100 \n",
       "L 3047 0 \n",
       "L 2419 0 \n",
       "L 2419 1100 \n",
       "L 313 1100 \n",
       "L 313 1709 \n",
       "L 2253 4666 \n",
       "z\n",
       "\" transform=\"scale(0.015625)\"/>\n",
       "        <path id=\"DejaVuSans-39\" d=\"M 703 97 \n",
       "L 703 672 \n",
       "Q 941 559 1184 500 \n",
       "Q 1428 441 1663 441 \n",
       "Q 2288 441 2617 861 \n",
       "Q 2947 1281 2994 2138 \n",
       "Q 2813 1869 2534 1725 \n",
       "Q 2256 1581 1919 1581 \n",
       "Q 1219 1581 811 2004 \n",
       "Q 403 2428 403 3163 \n",
       "Q 403 3881 828 4315 \n",
       "Q 1253 4750 1959 4750 \n",
       "Q 2769 4750 3195 4129 \n",
       "Q 3622 3509 3622 2328 \n",
       "Q 3622 1225 3098 567 \n",
       "Q 2575 -91 1691 -91 \n",
       "Q 1453 -91 1209 -44 \n",
       "Q 966 3 703 97 \n",
       "z\n",
       "M 1959 2075 \n",
       "Q 2384 2075 2632 2365 \n",
       "Q 2881 2656 2881 3163 \n",
       "Q 2881 3666 2632 3958 \n",
       "Q 2384 4250 1959 4250 \n",
       "Q 1534 4250 1286 3958 \n",
       "Q 1038 3666 1038 3163 \n",
       "Q 1038 2656 1286 2365 \n",
       "Q 1534 2075 1959 2075 \n",
       "z\n",
       "\" transform=\"scale(0.015625)\"/>\n",
       "        <path id=\"DejaVuSans-2e\" d=\"M 684 794 \n",
       "L 1344 794 \n",
       "L 1344 0 \n",
       "L 684 0 \n",
       "L 684 794 \n",
       "z\n",
       "\" transform=\"scale(0.015625)\"/>\n",
       "        <path id=\"DejaVuSans-36\" d=\"M 2113 2584 \n",
       "Q 1688 2584 1439 2293 \n",
       "Q 1191 2003 1191 1497 \n",
       "Q 1191 994 1439 701 \n",
       "Q 1688 409 2113 409 \n",
       "Q 2538 409 2786 701 \n",
       "Q 3034 994 3034 1497 \n",
       "Q 3034 2003 2786 2293 \n",
       "Q 2538 2584 2113 2584 \n",
       "z\n",
       "M 3366 4563 \n",
       "L 3366 3988 \n",
       "Q 3128 4100 2886 4159 \n",
       "Q 2644 4219 2406 4219 \n",
       "Q 1781 4219 1451 3797 \n",
       "Q 1122 3375 1075 2522 \n",
       "Q 1259 2794 1537 2939 \n",
       "Q 1816 3084 2150 3084 \n",
       "Q 2853 3084 3261 2657 \n",
       "Q 3669 2231 3669 1497 \n",
       "Q 3669 778 3244 343 \n",
       "Q 2819 -91 2113 -91 \n",
       "Q 1303 -91 875 529 \n",
       "Q 447 1150 447 2328 \n",
       "Q 447 3434 972 4092 \n",
       "Q 1497 4750 2381 4750 \n",
       "Q 2619 4750 2861 4703 \n",
       "Q 3103 4656 3366 4563 \n",
       "z\n",
       "\" transform=\"scale(0.015625)\"/>\n",
       "       </defs>\n",
       "       <use xlink:href=\"#DejaVuSans-34\"/>\n",
       "       <use xlink:href=\"#DejaVuSans-39\" x=\"63.623047\"/>\n",
       "       <use xlink:href=\"#DejaVuSans-39\" x=\"127.246094\"/>\n",
       "       <use xlink:href=\"#DejaVuSans-2e\" x=\"190.869141\"/>\n",
       "       <use xlink:href=\"#DejaVuSans-36\" x=\"222.65625\"/>\n",
       "      </g>\n",
       "     </g>\n",
       "    </g>\n",
       "    <g id=\"xtick_2\">\n",
       "     <g id=\"line2d_2\">\n",
       "      <g>\n",
       "       <use xlink:href=\"#m0772252829\" x=\"230.87358\" y=\"244.078125\" style=\"stroke: #000000; stroke-width: 0.8\"/>\n",
       "      </g>\n",
       "     </g>\n",
       "     <g id=\"text_2\">\n",
       "      <!-- 499.8 -->\n",
       "      <g transform=\"translate(216.559517 258.676562) scale(0.1 -0.1)\">\n",
       "       <defs>\n",
       "        <path id=\"DejaVuSans-38\" d=\"M 2034 2216 \n",
       "Q 1584 2216 1326 1975 \n",
       "Q 1069 1734 1069 1313 \n",
       "Q 1069 891 1326 650 \n",
       "Q 1584 409 2034 409 \n",
       "Q 2484 409 2743 651 \n",
       "Q 3003 894 3003 1313 \n",
       "Q 3003 1734 2745 1975 \n",
       "Q 2488 2216 2034 2216 \n",
       "z\n",
       "M 1403 2484 \n",
       "Q 997 2584 770 2862 \n",
       "Q 544 3141 544 3541 \n",
       "Q 544 4100 942 4425 \n",
       "Q 1341 4750 2034 4750 \n",
       "Q 2731 4750 3128 4425 \n",
       "Q 3525 4100 3525 3541 \n",
       "Q 3525 3141 3298 2862 \n",
       "Q 3072 2584 2669 2484 \n",
       "Q 3125 2378 3379 2068 \n",
       "Q 3634 1759 3634 1313 \n",
       "Q 3634 634 3220 271 \n",
       "Q 2806 -91 2034 -91 \n",
       "Q 1263 -91 848 271 \n",
       "Q 434 634 434 1313 \n",
       "Q 434 1759 690 2068 \n",
       "Q 947 2378 1403 2484 \n",
       "z\n",
       "M 1172 3481 \n",
       "Q 1172 3119 1398 2916 \n",
       "Q 1625 2713 2034 2713 \n",
       "Q 2441 2713 2670 2916 \n",
       "Q 2900 3119 2900 3481 \n",
       "Q 2900 3844 2670 4047 \n",
       "Q 2441 4250 2034 4250 \n",
       "Q 1625 4250 1398 4047 \n",
       "Q 1172 3844 1172 3481 \n",
       "z\n",
       "\" transform=\"scale(0.015625)\"/>\n",
       "       </defs>\n",
       "       <use xlink:href=\"#DejaVuSans-34\"/>\n",
       "       <use xlink:href=\"#DejaVuSans-39\" x=\"63.623047\"/>\n",
       "       <use xlink:href=\"#DejaVuSans-39\" x=\"127.246094\"/>\n",
       "       <use xlink:href=\"#DejaVuSans-2e\" x=\"190.869141\"/>\n",
       "       <use xlink:href=\"#DejaVuSans-38\" x=\"222.65625\"/>\n",
       "      </g>\n",
       "     </g>\n",
       "    </g>\n",
       "    <g id=\"xtick_3\">\n",
       "     <g id=\"line2d_3\">\n",
       "      <g>\n",
       "       <use xlink:href=\"#m0772252829\" x=\"332.328125\" y=\"244.078125\" style=\"stroke: #000000; stroke-width: 0.8\"/>\n",
       "      </g>\n",
       "     </g>\n",
       "     <g id=\"text_3\">\n",
       "      <!-- 500.0 -->\n",
       "      <g transform=\"translate(318.014063 258.676562) scale(0.1 -0.1)\">\n",
       "       <defs>\n",
       "        <path id=\"DejaVuSans-35\" d=\"M 691 4666 \n",
       "L 3169 4666 \n",
       "L 3169 4134 \n",
       "L 1269 4134 \n",
       "L 1269 2991 \n",
       "Q 1406 3038 1543 3061 \n",
       "Q 1681 3084 1819 3084 \n",
       "Q 2600 3084 3056 2656 \n",
       "Q 3513 2228 3513 1497 \n",
       "Q 3513 744 3044 326 \n",
       "Q 2575 -91 1722 -91 \n",
       "Q 1428 -91 1123 -41 \n",
       "Q 819 9 494 109 \n",
       "L 494 744 \n",
       "Q 775 591 1075 516 \n",
       "Q 1375 441 1709 441 \n",
       "Q 2250 441 2565 725 \n",
       "Q 2881 1009 2881 1497 \n",
       "Q 2881 1984 2565 2268 \n",
       "Q 2250 2553 1709 2553 \n",
       "Q 1456 2553 1204 2497 \n",
       "Q 953 2441 691 2322 \n",
       "L 691 4666 \n",
       "z\n",
       "\" transform=\"scale(0.015625)\"/>\n",
       "        <path id=\"DejaVuSans-30\" d=\"M 2034 4250 \n",
       "Q 1547 4250 1301 3770 \n",
       "Q 1056 3291 1056 2328 \n",
       "Q 1056 1369 1301 889 \n",
       "Q 1547 409 2034 409 \n",
       "Q 2525 409 2770 889 \n",
       "Q 3016 1369 3016 2328 \n",
       "Q 3016 3291 2770 3770 \n",
       "Q 2525 4250 2034 4250 \n",
       "z\n",
       "M 2034 4750 \n",
       "Q 2819 4750 3233 4129 \n",
       "Q 3647 3509 3647 2328 \n",
       "Q 3647 1150 3233 529 \n",
       "Q 2819 -91 2034 -91 \n",
       "Q 1250 -91 836 529 \n",
       "Q 422 1150 422 2328 \n",
       "Q 422 3509 836 4129 \n",
       "Q 1250 4750 2034 4750 \n",
       "z\n",
       "\" transform=\"scale(0.015625)\"/>\n",
       "       </defs>\n",
       "       <use xlink:href=\"#DejaVuSans-35\"/>\n",
       "       <use xlink:href=\"#DejaVuSans-30\" x=\"63.623047\"/>\n",
       "       <use xlink:href=\"#DejaVuSans-30\" x=\"127.246094\"/>\n",
       "       <use xlink:href=\"#DejaVuSans-2e\" x=\"190.869141\"/>\n",
       "       <use xlink:href=\"#DejaVuSans-30\" x=\"222.65625\"/>\n",
       "      </g>\n",
       "     </g>\n",
       "    </g>\n",
       "    <g id=\"xtick_4\">\n",
       "     <g id=\"line2d_4\">\n",
       "      <g>\n",
       "       <use xlink:href=\"#m0772252829\" x=\"433.78267\" y=\"244.078125\" style=\"stroke: #000000; stroke-width: 0.8\"/>\n",
       "      </g>\n",
       "     </g>\n",
       "     <g id=\"text_4\">\n",
       "      <!-- 500.2 -->\n",
       "      <g transform=\"translate(419.468608 258.676562) scale(0.1 -0.1)\">\n",
       "       <defs>\n",
       "        <path id=\"DejaVuSans-32\" d=\"M 1228 531 \n",
       "L 3431 531 \n",
       "L 3431 0 \n",
       "L 469 0 \n",
       "L 469 531 \n",
       "Q 828 903 1448 1529 \n",
       "Q 2069 2156 2228 2338 \n",
       "Q 2531 2678 2651 2914 \n",
       "Q 2772 3150 2772 3378 \n",
       "Q 2772 3750 2511 3984 \n",
       "Q 2250 4219 1831 4219 \n",
       "Q 1534 4219 1204 4116 \n",
       "Q 875 4013 500 3803 \n",
       "L 500 4441 \n",
       "Q 881 4594 1212 4672 \n",
       "Q 1544 4750 1819 4750 \n",
       "Q 2544 4750 2975 4387 \n",
       "Q 3406 4025 3406 3419 \n",
       "Q 3406 3131 3298 2873 \n",
       "Q 3191 2616 2906 2266 \n",
       "Q 2828 2175 2409 1742 \n",
       "Q 1991 1309 1228 531 \n",
       "z\n",
       "\" transform=\"scale(0.015625)\"/>\n",
       "       </defs>\n",
       "       <use xlink:href=\"#DejaVuSans-35\"/>\n",
       "       <use xlink:href=\"#DejaVuSans-30\" x=\"63.623047\"/>\n",
       "       <use xlink:href=\"#DejaVuSans-30\" x=\"127.246094\"/>\n",
       "       <use xlink:href=\"#DejaVuSans-2e\" x=\"190.869141\"/>\n",
       "       <use xlink:href=\"#DejaVuSans-32\" x=\"222.65625\"/>\n",
       "      </g>\n",
       "     </g>\n",
       "    </g>\n",
       "    <g id=\"xtick_5\">\n",
       "     <g id=\"line2d_5\">\n",
       "      <g>\n",
       "       <use xlink:href=\"#m0772252829\" x=\"535.237216\" y=\"244.078125\" style=\"stroke: #000000; stroke-width: 0.8\"/>\n",
       "      </g>\n",
       "     </g>\n",
       "     <g id=\"text_5\">\n",
       "      <!-- 500.4 -->\n",
       "      <g transform=\"translate(520.923153 258.676562) scale(0.1 -0.1)\">\n",
       "       <use xlink:href=\"#DejaVuSans-35\"/>\n",
       "       <use xlink:href=\"#DejaVuSans-30\" x=\"63.623047\"/>\n",
       "       <use xlink:href=\"#DejaVuSans-30\" x=\"127.246094\"/>\n",
       "       <use xlink:href=\"#DejaVuSans-2e\" x=\"190.869141\"/>\n",
       "       <use xlink:href=\"#DejaVuSans-34\" x=\"222.65625\"/>\n",
       "      </g>\n",
       "     </g>\n",
       "    </g>\n",
       "   </g>\n",
       "   <g id=\"matplotlib.axis_2\">\n",
       "    <g id=\"ytick_1\">\n",
       "     <g id=\"line2d_6\">\n",
       "      <defs>\n",
       "       <path id=\"mb4c027bcf8\" d=\"M 0 0 \n",
       "L -3.5 0 \n",
       "\" style=\"stroke: #000000; stroke-width: 0.8\"/>\n",
       "      </defs>\n",
       "      <g>\n",
       "       <use xlink:href=\"#mb4c027bcf8\" x=\"53.328125\" y=\"244.078125\" style=\"stroke: #000000; stroke-width: 0.8\"/>\n",
       "      </g>\n",
       "     </g>\n",
       "     <g id=\"text_6\">\n",
       "      <!-- 0 -->\n",
       "      <g transform=\"translate(39.965625 247.877344) scale(0.1 -0.1)\">\n",
       "       <use xlink:href=\"#DejaVuSans-30\"/>\n",
       "      </g>\n",
       "     </g>\n",
       "    </g>\n",
       "    <g id=\"ytick_2\">\n",
       "     <g id=\"line2d_7\">\n",
       "      <g>\n",
       "       <use xlink:href=\"#mb4c027bcf8\" x=\"53.328125\" y=\"201.838125\" style=\"stroke: #000000; stroke-width: 0.8\"/>\n",
       "      </g>\n",
       "     </g>\n",
       "     <g id=\"text_7\">\n",
       "      <!-- 200 -->\n",
       "      <g transform=\"translate(27.240625 205.637344) scale(0.1 -0.1)\">\n",
       "       <use xlink:href=\"#DejaVuSans-32\"/>\n",
       "       <use xlink:href=\"#DejaVuSans-30\" x=\"63.623047\"/>\n",
       "       <use xlink:href=\"#DejaVuSans-30\" x=\"127.246094\"/>\n",
       "      </g>\n",
       "     </g>\n",
       "    </g>\n",
       "    <g id=\"ytick_3\">\n",
       "     <g id=\"line2d_8\">\n",
       "      <g>\n",
       "       <use xlink:href=\"#mb4c027bcf8\" x=\"53.328125\" y=\"159.598125\" style=\"stroke: #000000; stroke-width: 0.8\"/>\n",
       "      </g>\n",
       "     </g>\n",
       "     <g id=\"text_8\">\n",
       "      <!-- 400 -->\n",
       "      <g transform=\"translate(27.240625 163.397344) scale(0.1 -0.1)\">\n",
       "       <use xlink:href=\"#DejaVuSans-34\"/>\n",
       "       <use xlink:href=\"#DejaVuSans-30\" x=\"63.623047\"/>\n",
       "       <use xlink:href=\"#DejaVuSans-30\" x=\"127.246094\"/>\n",
       "      </g>\n",
       "     </g>\n",
       "    </g>\n",
       "    <g id=\"ytick_4\">\n",
       "     <g id=\"line2d_9\">\n",
       "      <g>\n",
       "       <use xlink:href=\"#mb4c027bcf8\" x=\"53.328125\" y=\"117.358125\" style=\"stroke: #000000; stroke-width: 0.8\"/>\n",
       "      </g>\n",
       "     </g>\n",
       "     <g id=\"text_9\">\n",
       "      <!-- 600 -->\n",
       "      <g transform=\"translate(27.240625 121.157344) scale(0.1 -0.1)\">\n",
       "       <use xlink:href=\"#DejaVuSans-36\"/>\n",
       "       <use xlink:href=\"#DejaVuSans-30\" x=\"63.623047\"/>\n",
       "       <use xlink:href=\"#DejaVuSans-30\" x=\"127.246094\"/>\n",
       "      </g>\n",
       "     </g>\n",
       "    </g>\n",
       "    <g id=\"ytick_5\">\n",
       "     <g id=\"line2d_10\">\n",
       "      <g>\n",
       "       <use xlink:href=\"#mb4c027bcf8\" x=\"53.328125\" y=\"75.118125\" style=\"stroke: #000000; stroke-width: 0.8\"/>\n",
       "      </g>\n",
       "     </g>\n",
       "     <g id=\"text_10\">\n",
       "      <!-- 800 -->\n",
       "      <g transform=\"translate(27.240625 78.917344) scale(0.1 -0.1)\">\n",
       "       <use xlink:href=\"#DejaVuSans-38\"/>\n",
       "       <use xlink:href=\"#DejaVuSans-30\" x=\"63.623047\"/>\n",
       "       <use xlink:href=\"#DejaVuSans-30\" x=\"127.246094\"/>\n",
       "      </g>\n",
       "     </g>\n",
       "    </g>\n",
       "    <g id=\"ytick_6\">\n",
       "     <g id=\"line2d_11\">\n",
       "      <g>\n",
       "       <use xlink:href=\"#mb4c027bcf8\" x=\"53.328125\" y=\"32.878125\" style=\"stroke: #000000; stroke-width: 0.8\"/>\n",
       "      </g>\n",
       "     </g>\n",
       "     <g id=\"text_11\">\n",
       "      <!-- 1000 -->\n",
       "      <g transform=\"translate(20.878125 36.677344) scale(0.1 -0.1)\">\n",
       "       <defs>\n",
       "        <path id=\"DejaVuSans-31\" d=\"M 794 531 \n",
       "L 1825 531 \n",
       "L 1825 4091 \n",
       "L 703 3866 \n",
       "L 703 4441 \n",
       "L 1819 4666 \n",
       "L 2450 4666 \n",
       "L 2450 531 \n",
       "L 3481 531 \n",
       "L 3481 0 \n",
       "L 794 0 \n",
       "L 794 531 \n",
       "z\n",
       "\" transform=\"scale(0.015625)\"/>\n",
       "       </defs>\n",
       "       <use xlink:href=\"#DejaVuSans-31\"/>\n",
       "       <use xlink:href=\"#DejaVuSans-30\" x=\"63.623047\"/>\n",
       "       <use xlink:href=\"#DejaVuSans-30\" x=\"127.246094\"/>\n",
       "       <use xlink:href=\"#DejaVuSans-30\" x=\"190.869141\"/>\n",
       "      </g>\n",
       "     </g>\n",
       "    </g>\n",
       "    <g id=\"text_12\">\n",
       "     <!-- Frequency -->\n",
       "     <g transform=\"translate(14.798438 159.027813) rotate(-90) scale(0.1 -0.1)\">\n",
       "      <defs>\n",
       "       <path id=\"DejaVuSans-46\" d=\"M 628 4666 \n",
       "L 3309 4666 \n",
       "L 3309 4134 \n",
       "L 1259 4134 \n",
       "L 1259 2759 \n",
       "L 3109 2759 \n",
       "L 3109 2228 \n",
       "L 1259 2228 \n",
       "L 1259 0 \n",
       "L 628 0 \n",
       "L 628 4666 \n",
       "z\n",
       "\" transform=\"scale(0.015625)\"/>\n",
       "       <path id=\"DejaVuSans-72\" d=\"M 2631 2963 \n",
       "Q 2534 3019 2420 3045 \n",
       "Q 2306 3072 2169 3072 \n",
       "Q 1681 3072 1420 2755 \n",
       "Q 1159 2438 1159 1844 \n",
       "L 1159 0 \n",
       "L 581 0 \n",
       "L 581 3500 \n",
       "L 1159 3500 \n",
       "L 1159 2956 \n",
       "Q 1341 3275 1631 3429 \n",
       "Q 1922 3584 2338 3584 \n",
       "Q 2397 3584 2469 3576 \n",
       "Q 2541 3569 2628 3553 \n",
       "L 2631 2963 \n",
       "z\n",
       "\" transform=\"scale(0.015625)\"/>\n",
       "       <path id=\"DejaVuSans-65\" d=\"M 3597 1894 \n",
       "L 3597 1613 \n",
       "L 953 1613 \n",
       "Q 991 1019 1311 708 \n",
       "Q 1631 397 2203 397 \n",
       "Q 2534 397 2845 478 \n",
       "Q 3156 559 3463 722 \n",
       "L 3463 178 \n",
       "Q 3153 47 2828 -22 \n",
       "Q 2503 -91 2169 -91 \n",
       "Q 1331 -91 842 396 \n",
       "Q 353 884 353 1716 \n",
       "Q 353 2575 817 3079 \n",
       "Q 1281 3584 2069 3584 \n",
       "Q 2775 3584 3186 3129 \n",
       "Q 3597 2675 3597 1894 \n",
       "z\n",
       "M 3022 2063 \n",
       "Q 3016 2534 2758 2815 \n",
       "Q 2500 3097 2075 3097 \n",
       "Q 1594 3097 1305 2825 \n",
       "Q 1016 2553 972 2059 \n",
       "L 3022 2063 \n",
       "z\n",
       "\" transform=\"scale(0.015625)\"/>\n",
       "       <path id=\"DejaVuSans-71\" d=\"M 947 1747 \n",
       "Q 947 1113 1208 752 \n",
       "Q 1469 391 1925 391 \n",
       "Q 2381 391 2643 752 \n",
       "Q 2906 1113 2906 1747 \n",
       "Q 2906 2381 2643 2742 \n",
       "Q 2381 3103 1925 3103 \n",
       "Q 1469 3103 1208 2742 \n",
       "Q 947 2381 947 1747 \n",
       "z\n",
       "M 2906 525 \n",
       "Q 2725 213 2448 61 \n",
       "Q 2172 -91 1784 -91 \n",
       "Q 1150 -91 751 415 \n",
       "Q 353 922 353 1747 \n",
       "Q 353 2572 751 3078 \n",
       "Q 1150 3584 1784 3584 \n",
       "Q 2172 3584 2448 3432 \n",
       "Q 2725 3281 2906 2969 \n",
       "L 2906 3500 \n",
       "L 3481 3500 \n",
       "L 3481 -1331 \n",
       "L 2906 -1331 \n",
       "L 2906 525 \n",
       "z\n",
       "\" transform=\"scale(0.015625)\"/>\n",
       "       <path id=\"DejaVuSans-75\" d=\"M 544 1381 \n",
       "L 544 3500 \n",
       "L 1119 3500 \n",
       "L 1119 1403 \n",
       "Q 1119 906 1312 657 \n",
       "Q 1506 409 1894 409 \n",
       "Q 2359 409 2629 706 \n",
       "Q 2900 1003 2900 1516 \n",
       "L 2900 3500 \n",
       "L 3475 3500 \n",
       "L 3475 0 \n",
       "L 2900 0 \n",
       "L 2900 538 \n",
       "Q 2691 219 2414 64 \n",
       "Q 2138 -91 1772 -91 \n",
       "Q 1169 -91 856 284 \n",
       "Q 544 659 544 1381 \n",
       "z\n",
       "M 1991 3584 \n",
       "L 1991 3584 \n",
       "z\n",
       "\" transform=\"scale(0.015625)\"/>\n",
       "       <path id=\"DejaVuSans-6e\" d=\"M 3513 2113 \n",
       "L 3513 0 \n",
       "L 2938 0 \n",
       "L 2938 2094 \n",
       "Q 2938 2591 2744 2837 \n",
       "Q 2550 3084 2163 3084 \n",
       "Q 1697 3084 1428 2787 \n",
       "Q 1159 2491 1159 1978 \n",
       "L 1159 0 \n",
       "L 581 0 \n",
       "L 581 3500 \n",
       "L 1159 3500 \n",
       "L 1159 2956 \n",
       "Q 1366 3272 1645 3428 \n",
       "Q 1925 3584 2291 3584 \n",
       "Q 2894 3584 3203 3211 \n",
       "Q 3513 2838 3513 2113 \n",
       "z\n",
       "\" transform=\"scale(0.015625)\"/>\n",
       "       <path id=\"DejaVuSans-63\" d=\"M 3122 3366 \n",
       "L 3122 2828 \n",
       "Q 2878 2963 2633 3030 \n",
       "Q 2388 3097 2138 3097 \n",
       "Q 1578 3097 1268 2742 \n",
       "Q 959 2388 959 1747 \n",
       "Q 959 1106 1268 751 \n",
       "Q 1578 397 2138 397 \n",
       "Q 2388 397 2633 464 \n",
       "Q 2878 531 3122 666 \n",
       "L 3122 134 \n",
       "Q 2881 22 2623 -34 \n",
       "Q 2366 -91 2075 -91 \n",
       "Q 1284 -91 818 406 \n",
       "Q 353 903 353 1747 \n",
       "Q 353 2603 823 3093 \n",
       "Q 1294 3584 2113 3584 \n",
       "Q 2378 3584 2631 3529 \n",
       "Q 2884 3475 3122 3366 \n",
       "z\n",
       "\" transform=\"scale(0.015625)\"/>\n",
       "       <path id=\"DejaVuSans-79\" d=\"M 2059 -325 \n",
       "Q 1816 -950 1584 -1140 \n",
       "Q 1353 -1331 966 -1331 \n",
       "L 506 -1331 \n",
       "L 506 -850 \n",
       "L 844 -850 \n",
       "Q 1081 -850 1212 -737 \n",
       "Q 1344 -625 1503 -206 \n",
       "L 1606 56 \n",
       "L 191 3500 \n",
       "L 800 3500 \n",
       "L 1894 763 \n",
       "L 2988 3500 \n",
       "L 3597 3500 \n",
       "L 2059 -325 \n",
       "z\n",
       "\" transform=\"scale(0.015625)\"/>\n",
       "      </defs>\n",
       "      <use xlink:href=\"#DejaVuSans-46\"/>\n",
       "      <use xlink:href=\"#DejaVuSans-72\" x=\"50.269531\"/>\n",
       "      <use xlink:href=\"#DejaVuSans-65\" x=\"89.132812\"/>\n",
       "      <use xlink:href=\"#DejaVuSans-71\" x=\"150.65625\"/>\n",
       "      <use xlink:href=\"#DejaVuSans-75\" x=\"214.132812\"/>\n",
       "      <use xlink:href=\"#DejaVuSans-65\" x=\"277.511719\"/>\n",
       "      <use xlink:href=\"#DejaVuSans-6e\" x=\"339.035156\"/>\n",
       "      <use xlink:href=\"#DejaVuSans-63\" x=\"402.414062\"/>\n",
       "      <use xlink:href=\"#DejaVuSans-79\" x=\"457.394531\"/>\n",
       "     </g>\n",
       "    </g>\n",
       "   </g>\n",
       "   <g id=\"patch_103\">\n",
       "    <path d=\"M 53.328125 244.078125 \n",
       "L 53.328125 22.318125 \n",
       "\" style=\"fill: none; stroke: #000000; stroke-width: 0.8; stroke-linejoin: miter; stroke-linecap: square\"/>\n",
       "   </g>\n",
       "   <g id=\"patch_104\">\n",
       "    <path d=\"M 611.328125 244.078125 \n",
       "L 611.328125 22.318125 \n",
       "\" style=\"fill: none; stroke: #000000; stroke-width: 0.8; stroke-linejoin: miter; stroke-linecap: square\"/>\n",
       "   </g>\n",
       "   <g id=\"patch_105\">\n",
       "    <path d=\"M 53.328125 244.078125 \n",
       "L 611.328125 244.078125 \n",
       "\" style=\"fill: none; stroke: #000000; stroke-width: 0.8; stroke-linejoin: miter; stroke-linecap: square\"/>\n",
       "   </g>\n",
       "   <g id=\"patch_106\">\n",
       "    <path d=\"M 53.328125 22.318125 \n",
       "L 611.328125 22.318125 \n",
       "\" style=\"fill: none; stroke: #000000; stroke-width: 0.8; stroke-linejoin: miter; stroke-linecap: square\"/>\n",
       "   </g>\n",
       "   <g id=\"text_13\">\n",
       "    <!-- Rewards -->\n",
       "    <g transform=\"translate(306.857188 16.318125) scale(0.12 -0.12)\">\n",
       "     <defs>\n",
       "      <path id=\"DejaVuSans-52\" d=\"M 2841 2188 \n",
       "Q 3044 2119 3236 1894 \n",
       "Q 3428 1669 3622 1275 \n",
       "L 4263 0 \n",
       "L 3584 0 \n",
       "L 2988 1197 \n",
       "Q 2756 1666 2539 1819 \n",
       "Q 2322 1972 1947 1972 \n",
       "L 1259 1972 \n",
       "L 1259 0 \n",
       "L 628 0 \n",
       "L 628 4666 \n",
       "L 2053 4666 \n",
       "Q 2853 4666 3247 4331 \n",
       "Q 3641 3997 3641 3322 \n",
       "Q 3641 2881 3436 2590 \n",
       "Q 3231 2300 2841 2188 \n",
       "z\n",
       "M 1259 4147 \n",
       "L 1259 2491 \n",
       "L 2053 2491 \n",
       "Q 2509 2491 2742 2702 \n",
       "Q 2975 2913 2975 3322 \n",
       "Q 2975 3731 2742 3939 \n",
       "Q 2509 4147 2053 4147 \n",
       "L 1259 4147 \n",
       "z\n",
       "\" transform=\"scale(0.015625)\"/>\n",
       "      <path id=\"DejaVuSans-77\" d=\"M 269 3500 \n",
       "L 844 3500 \n",
       "L 1563 769 \n",
       "L 2278 3500 \n",
       "L 2956 3500 \n",
       "L 3675 769 \n",
       "L 4391 3500 \n",
       "L 4966 3500 \n",
       "L 4050 0 \n",
       "L 3372 0 \n",
       "L 2619 2869 \n",
       "L 1863 0 \n",
       "L 1184 0 \n",
       "L 269 3500 \n",
       "z\n",
       "\" transform=\"scale(0.015625)\"/>\n",
       "      <path id=\"DejaVuSans-61\" d=\"M 2194 1759 \n",
       "Q 1497 1759 1228 1600 \n",
       "Q 959 1441 959 1056 \n",
       "Q 959 750 1161 570 \n",
       "Q 1363 391 1709 391 \n",
       "Q 2188 391 2477 730 \n",
       "Q 2766 1069 2766 1631 \n",
       "L 2766 1759 \n",
       "L 2194 1759 \n",
       "z\n",
       "M 3341 1997 \n",
       "L 3341 0 \n",
       "L 2766 0 \n",
       "L 2766 531 \n",
       "Q 2569 213 2275 61 \n",
       "Q 1981 -91 1556 -91 \n",
       "Q 1019 -91 701 211 \n",
       "Q 384 513 384 1019 \n",
       "Q 384 1609 779 1909 \n",
       "Q 1175 2209 1959 2209 \n",
       "L 2766 2209 \n",
       "L 2766 2266 \n",
       "Q 2766 2663 2505 2880 \n",
       "Q 2244 3097 1772 3097 \n",
       "Q 1472 3097 1187 3025 \n",
       "Q 903 2953 641 2809 \n",
       "L 641 3341 \n",
       "Q 956 3463 1253 3523 \n",
       "Q 1550 3584 1831 3584 \n",
       "Q 2591 3584 2966 3190 \n",
       "Q 3341 2797 3341 1997 \n",
       "z\n",
       "\" transform=\"scale(0.015625)\"/>\n",
       "      <path id=\"DejaVuSans-64\" d=\"M 2906 2969 \n",
       "L 2906 4863 \n",
       "L 3481 4863 \n",
       "L 3481 0 \n",
       "L 2906 0 \n",
       "L 2906 525 \n",
       "Q 2725 213 2448 61 \n",
       "Q 2172 -91 1784 -91 \n",
       "Q 1150 -91 751 415 \n",
       "Q 353 922 353 1747 \n",
       "Q 353 2572 751 3078 \n",
       "Q 1150 3584 1784 3584 \n",
       "Q 2172 3584 2448 3432 \n",
       "Q 2725 3281 2906 2969 \n",
       "z\n",
       "M 947 1747 \n",
       "Q 947 1113 1208 752 \n",
       "Q 1469 391 1925 391 \n",
       "Q 2381 391 2643 752 \n",
       "Q 2906 1113 2906 1747 \n",
       "Q 2906 2381 2643 2742 \n",
       "Q 2381 3103 1925 3103 \n",
       "Q 1469 3103 1208 2742 \n",
       "Q 947 2381 947 1747 \n",
       "z\n",
       "\" transform=\"scale(0.015625)\"/>\n",
       "      <path id=\"DejaVuSans-73\" d=\"M 2834 3397 \n",
       "L 2834 2853 \n",
       "Q 2591 2978 2328 3040 \n",
       "Q 2066 3103 1784 3103 \n",
       "Q 1356 3103 1142 2972 \n",
       "Q 928 2841 928 2578 \n",
       "Q 928 2378 1081 2264 \n",
       "Q 1234 2150 1697 2047 \n",
       "L 1894 2003 \n",
       "Q 2506 1872 2764 1633 \n",
       "Q 3022 1394 3022 966 \n",
       "Q 3022 478 2636 193 \n",
       "Q 2250 -91 1575 -91 \n",
       "Q 1294 -91 989 -36 \n",
       "Q 684 19 347 128 \n",
       "L 347 722 \n",
       "Q 666 556 975 473 \n",
       "Q 1284 391 1588 391 \n",
       "Q 1994 391 2212 530 \n",
       "Q 2431 669 2431 922 \n",
       "Q 2431 1156 2273 1281 \n",
       "Q 2116 1406 1581 1522 \n",
       "L 1381 1569 \n",
       "Q 847 1681 609 1914 \n",
       "Q 372 2147 372 2553 \n",
       "Q 372 3047 722 3315 \n",
       "Q 1072 3584 1716 3584 \n",
       "Q 2034 3584 2315 3537 \n",
       "Q 2597 3491 2834 3397 \n",
       "z\n",
       "\" transform=\"scale(0.015625)\"/>\n",
       "     </defs>\n",
       "     <use xlink:href=\"#DejaVuSans-52\"/>\n",
       "     <use xlink:href=\"#DejaVuSans-65\" x=\"64.982422\"/>\n",
       "     <use xlink:href=\"#DejaVuSans-77\" x=\"126.505859\"/>\n",
       "     <use xlink:href=\"#DejaVuSans-61\" x=\"208.292969\"/>\n",
       "     <use xlink:href=\"#DejaVuSans-72\" x=\"269.572266\"/>\n",
       "     <use xlink:href=\"#DejaVuSans-64\" x=\"308.935547\"/>\n",
       "     <use xlink:href=\"#DejaVuSans-73\" x=\"372.412109\"/>\n",
       "    </g>\n",
       "   </g>\n",
       "  </g>\n",
       " </g>\n",
       " <defs>\n",
       "  <clipPath id=\"p3f1f960481\">\n",
       "   <rect x=\"53.328125\" y=\"22.318125\" width=\"558\" height=\"221.76\"/>\n",
       "  </clipPath>\n",
       " </defs>\n",
       "</svg>\n"
      ],
      "text/plain": [
       "<Figure size 1000x400 with 1 Axes>"
      ]
     },
     "metadata": {},
     "output_type": "display_data"
    }
   ],
   "source": [
    "import matplotlib.pyplot as plt\n",
    "import pandas as pd\n",
    "\n",
    "fig, ax = plt.subplots(figsize = (10, 4))\n",
    "ax.set_title(\"Rewards\")    \n",
    "pd.Series(rewards).plot(kind='hist', bins=100)\n",
    "\n",
    "plt.show()"
   ]
  },
  {
   "cell_type": "markdown",
   "id": "53e4673a",
   "metadata": {},
   "source": [
    "## 1.4 Generate train data -->  `train.csv`"
   ]
  },
  {
   "cell_type": "code",
   "execution_count": 7,
   "id": "05fad909",
   "metadata": {},
   "outputs": [
    {
     "name": "stderr",
     "output_type": "stream",
     "text": [
      "100%|██████████| 1000/1000 [00:00<00:00, 3366.08it/s]\n"
     ]
    }
   ],
   "source": [
    "from supervised_ml import generate_state_action_data\n",
    "from config import DATA_SUPERVISED_ML\n",
    "\n",
    "n_samples_train = 1000\n",
    "path_to_train_data = DATA_SUPERVISED_ML / 'train.csv'\n",
    "\n",
    "\n",
    "# we let the agent interact with the environment until we have\n",
    "# collected enough pairs (state, action)\n",
    "generate_state_action_data(env, agent,\n",
    "                           n_samples=n_samples_train,\n",
    "                           path=path_to_train_data)"
   ]
  },
  {
   "cell_type": "markdown",
   "id": "352ab13d",
   "metadata": {},
   "source": [
    "## 1.5 Generate test data --> `test.csv`"
   ]
  },
  {
   "cell_type": "code",
   "execution_count": 8,
   "id": "0ed66beb",
   "metadata": {},
   "outputs": [
    {
     "name": "stderr",
     "output_type": "stream",
     "text": [
      "100%|██████████| 1000/1000 [00:00<00:00, 3660.53it/s]\n"
     ]
    }
   ],
   "source": [
    "# test data\n",
    "n_samples_test = 1000\n",
    "path_to_test_data = DATA_SUPERVISED_ML / 'test.csv'\n",
    "\n",
    "# Very important to use another seed than for the\n",
    "# train set\n",
    "\n",
    "generate_state_action_data(env, agent, \n",
    "                           n_samples=n_samples_test,\n",
    "                           path=path_to_test_data)"
   ]
  },
  {
   "cell_type": "markdown",
   "id": "93058fd0",
   "metadata": {},
   "source": [
    "-----"
   ]
  },
  {
   "cell_type": "markdown",
   "id": "4d0db3d6",
   "metadata": {},
   "source": [
    "# 2. Let's train a few neural networks\n",
    "\n",
    "#### 👉We will try different neural network architecture, to see which one works best for our problem.\n",
    "#### 👉 Finding the right architecture is not an easy problem. This is one of the hard parts of training neural networks."
   ]
  },
  {
   "cell_type": "markdown",
   "id": "d4b49be6",
   "metadata": {},
   "source": [
    "## Load `train.csv` and `test.csv` into 🐼"
   ]
  },
  {
   "cell_type": "code",
   "execution_count": 9,
   "id": "1c0e0a30",
   "metadata": {},
   "outputs": [],
   "source": [
    "import pandas as pd\n",
    "\n",
    "train_data = pd.read_csv(path_to_train_data)\n",
    "test_data = pd.read_csv(path_to_test_data)"
   ]
  },
  {
   "cell_type": "markdown",
   "id": "5b900fb0",
   "metadata": {},
   "source": [
    "## PyTorch datasets"
   ]
  },
  {
   "cell_type": "code",
   "execution_count": 10,
   "id": "904a4c99",
   "metadata": {},
   "outputs": [],
   "source": [
    "from torch.utils.data import Dataset\n",
    "\n",
    "class OptimalPolicyDataset(Dataset):\n",
    "\n",
    "    def __init__(self, X: pd.DataFrame, y: pd.Series):\n",
    "        self.X = X\n",
    "        self.y = y\n",
    "\n",
    "    def __len__(self):\n",
    "        \"\"\"\n",
    "        Returns number of samples in the data\n",
    "        \"\"\"\n",
    "        return len(self.X)\n",
    "\n",
    "    def __getitem__(self, idx):\n",
    "        \"\"\"\n",
    "        Returns the features and label\n",
    "        of sample number `idx`\n",
    "        \"\"\"\n",
    "        return self.X.iloc[idx].values, self.y.iloc[idx]"
   ]
  },
  {
   "cell_type": "code",
   "execution_count": 11,
   "id": "b75b13ea",
   "metadata": {},
   "outputs": [],
   "source": [
    "# split features and labels\n",
    "X_train = train_data[['s0', 's1', 's2', 's3']]\n",
    "y_train = train_data['action']\n",
    "X_test = test_data[['s0', 's1', 's2', 's3']]\n",
    "y_test = test_data['action']\n",
    "\n",
    "# PyTorch datasets\n",
    "from supervised_ml import OptimalPolicyDataset\n",
    "train_dataset = OptimalPolicyDataset(X_train, y_train)\n",
    "test_dataset = OptimalPolicyDataset(X_test, y_test)"
   ]
  },
  {
   "cell_type": "markdown",
   "id": "ee996ce4",
   "metadata": {},
   "source": [
    "## PyTorch dataloaders"
   ]
  },
  {
   "cell_type": "code",
   "execution_count": 12,
   "id": "186254a2",
   "metadata": {},
   "outputs": [],
   "source": [
    "BATCH_SIZE = 64\n",
    "\n",
    "# PyTorch dataloaders\n",
    "from torch.utils.data import DataLoader\n",
    "train_dataloader = DataLoader(train_dataset,\n",
    "                              batch_size=BATCH_SIZE,\n",
    "                              shuffle=True)\n",
    "test_dataloader = DataLoader(test_dataset,\n",
    "                             batch_size=BATCH_SIZE,\n",
    "                             shuffle=False)"
   ]
  },
  {
   "cell_type": "markdown",
   "id": "cc7bfec4",
   "metadata": {},
   "source": [
    "## Loss function\n",
    "#### 👉 The cross entropy is a common choice for classification problems"
   ]
  },
  {
   "cell_type": "code",
   "execution_count": 13,
   "id": "0a4256e4",
   "metadata": {},
   "outputs": [],
   "source": [
    "import torch.nn as nn\n",
    "criterion = nn.CrossEntropyLoss()"
   ]
  },
  {
   "cell_type": "markdown",
   "id": "ef0b92a4",
   "metadata": {},
   "source": [
    "## Model 0: Baseline"
   ]
  },
  {
   "cell_type": "code",
   "execution_count": 14,
   "id": "58a1a153",
   "metadata": {},
   "outputs": [
    {
     "data": {
      "text/plain": [
       "action\n",
       "1    500\n",
       "0    500\n",
       "Name: count, dtype: int64"
      ]
     },
     "execution_count": 14,
     "metadata": {},
     "output_type": "execute_result"
    }
   ],
   "source": [
    "train_data['action'].value_counts()"
   ]
  },
  {
   "cell_type": "code",
   "execution_count": 15,
   "id": "a0746021",
   "metadata": {},
   "outputs": [
    {
     "data": {
      "text/plain": [
       "action\n",
       "1    501\n",
       "0    499\n",
       "Name: count, dtype: int64"
      ]
     },
     "execution_count": 15,
     "metadata": {},
     "output_type": "execute_result"
    }
   ],
   "source": [
    "test_data['action'].value_counts()"
   ]
  },
  {
   "cell_type": "markdown",
   "id": "83cd9abf",
   "metadata": {},
   "source": [
    "## Model 1: Linear model"
   ]
  },
  {
   "cell_type": "markdown",
   "id": "ec6276f6",
   "metadata": {},
   "source": [
    "### Model architecture 📐🏗️"
   ]
  },
  {
   "cell_type": "code",
   "execution_count": 16,
   "id": "3350a669",
   "metadata": {},
   "outputs": [
    {
     "name": "stdout",
     "output_type": "stream",
     "text": [
      "10 parameters\n",
      "Sequential(\n",
      "  (0): Linear(in_features=4, out_features=2, bias=True)\n",
      ")\n"
     ]
    }
   ],
   "source": [
    "import torch\n",
    "from model_factory import get_model, count_parameters\n",
    "\n",
    "# linear model --> no hidden_layers (hidden_layers = None)\n",
    "model = get_model(input_dim=4, output_dim=2, hidden_layers=None)\n",
    "\n",
    "# send the model to GPU if you have one.\n",
    "# GPUs have a very fast implementation of matrix multiplication,\n",
    "# which is the key operation to propagate inputs to outputs\n",
    "# in most neural network architectures\n",
    "device = torch.device(\"cuda\" if torch.cuda.is_available() else \"cpu\")\n",
    "model.to(device)\n",
    "\n",
    "print(f'{count_parameters(model):,} parameters')\n",
    "print(model)"
   ]
  },
  {
   "cell_type": "markdown",
   "id": "481fadcd",
   "metadata": {},
   "source": [
    "![image](https://github.com/Paulescu/hands-on-rl/blob/main/03_cart_pole/images/linear_model_sml.jpg?raw=true)"
   ]
  },
  {
   "cell_type": "markdown",
   "id": "350103d3",
   "metadata": {},
   "source": [
    "### Train loop 🏋️"
   ]
  },
  {
   "cell_type": "code",
   "execution_count": 17,
   "id": "da48fe72",
   "metadata": {
    "scrolled": true
   },
   "outputs": [
    {
     "name": "stderr",
     "output_type": "stream",
     "text": [
      "Epoch 0 - loss: 0.6410 - accuracy: 0.6700: 100%|██████████| 16/16 [00:00<00:00, 36.45it/s]\n",
      "Epoch 0 - loss: 0.6390 - accuracy: 0.6790: 100%|██████████| 16/16 [00:00<00:00, 123.69it/s]\n"
     ]
    },
    {
     "name": "stdout",
     "output_type": "stream",
     "text": [
      "----------\n"
     ]
    },
    {
     "name": "stderr",
     "output_type": "stream",
     "text": [
      "Epoch 1 - loss: 0.6365 - accuracy: 0.6860: 100%|██████████| 16/16 [00:00<00:00, 81.11it/s]\n",
      "Epoch 1 - loss: 0.6356 - accuracy: 0.6930: 100%|██████████| 16/16 [00:00<00:00, 107.33it/s]\n"
     ]
    },
    {
     "name": "stdout",
     "output_type": "stream",
     "text": [
      "----------\n"
     ]
    },
    {
     "name": "stderr",
     "output_type": "stream",
     "text": [
      "Epoch 2 - loss: 0.6335 - accuracy: 0.6950: 100%|██████████| 16/16 [00:00<00:00, 104.51it/s]\n",
      "Epoch 2 - loss: 0.6326 - accuracy: 0.6930: 100%|██████████| 16/16 [00:00<00:00, 115.53it/s]\n"
     ]
    },
    {
     "name": "stdout",
     "output_type": "stream",
     "text": [
      "----------\n"
     ]
    },
    {
     "name": "stderr",
     "output_type": "stream",
     "text": [
      "Epoch 3 - loss: 0.6312 - accuracy: 0.6990: 100%|██████████| 16/16 [00:00<00:00, 129.08it/s]\n",
      "Epoch 3 - loss: 0.6296 - accuracy: 0.6940: 100%|██████████| 16/16 [00:00<00:00, 133.90it/s]\n"
     ]
    },
    {
     "name": "stdout",
     "output_type": "stream",
     "text": [
      "----------\n"
     ]
    },
    {
     "name": "stderr",
     "output_type": "stream",
     "text": [
      "Epoch 4 - loss: 0.6284 - accuracy: 0.7060: 100%|██████████| 16/16 [00:00<00:00, 119.12it/s]\n",
      "Epoch 4 - loss: 0.6268 - accuracy: 0.6980: 100%|██████████| 16/16 [00:00<00:00, 123.11it/s]\n"
     ]
    },
    {
     "name": "stdout",
     "output_type": "stream",
     "text": [
      "----------\n"
     ]
    },
    {
     "name": "stderr",
     "output_type": "stream",
     "text": [
      "Epoch 5 - loss: 0.6255 - accuracy: 0.7070: 100%|██████████| 16/16 [00:00<00:00, 106.04it/s]\n",
      "Epoch 5 - loss: 0.6242 - accuracy: 0.7010: 100%|██████████| 16/16 [00:00<00:00, 136.95it/s]\n"
     ]
    },
    {
     "name": "stdout",
     "output_type": "stream",
     "text": [
      "----------\n"
     ]
    },
    {
     "name": "stderr",
     "output_type": "stream",
     "text": [
      "Epoch 6 - loss: 0.6240 - accuracy: 0.7080: 100%|██████████| 16/16 [00:00<00:00, 115.17it/s]\n",
      "Epoch 6 - loss: 0.6217 - accuracy: 0.7020: 100%|██████████| 16/16 [00:00<00:00, 143.21it/s]\n"
     ]
    },
    {
     "name": "stdout",
     "output_type": "stream",
     "text": [
      "----------\n"
     ]
    },
    {
     "name": "stderr",
     "output_type": "stream",
     "text": [
      "Epoch 7 - loss: 0.6210 - accuracy: 0.7090: 100%|██████████| 16/16 [00:00<00:00, 144.45it/s]\n",
      "Epoch 7 - loss: 0.6193 - accuracy: 0.7030: 100%|██████████| 16/16 [00:00<00:00, 150.24it/s]\n"
     ]
    },
    {
     "name": "stdout",
     "output_type": "stream",
     "text": [
      "----------\n"
     ]
    },
    {
     "name": "stderr",
     "output_type": "stream",
     "text": [
      "Epoch 8 - loss: 0.6172 - accuracy: 0.7120: 100%|██████████| 16/16 [00:00<00:00, 135.07it/s]\n",
      "Epoch 8 - loss: 0.6171 - accuracy: 0.7040: 100%|██████████| 16/16 [00:00<00:00, 161.76it/s]\n"
     ]
    },
    {
     "name": "stdout",
     "output_type": "stream",
     "text": [
      "----------\n"
     ]
    },
    {
     "name": "stderr",
     "output_type": "stream",
     "text": [
      "Epoch 9 - loss: 0.6160 - accuracy: 0.7140: 100%|██████████| 16/16 [00:00<00:00, 111.61it/s]\n",
      "Epoch 9 - loss: 0.6148 - accuracy: 0.7020: 100%|██████████| 16/16 [00:00<00:00, 108.49it/s]\n"
     ]
    },
    {
     "name": "stdout",
     "output_type": "stream",
     "text": [
      "----------\n"
     ]
    },
    {
     "name": "stderr",
     "output_type": "stream",
     "text": [
      "Epoch 10 - loss: 0.6132 - accuracy: 0.7200: 100%|██████████| 16/16 [00:00<00:00, 94.31it/s]\n",
      "Epoch 10 - loss: 0.6127 - accuracy: 0.7030: 100%|██████████| 16/16 [00:00<00:00, 115.43it/s]\n"
     ]
    },
    {
     "name": "stdout",
     "output_type": "stream",
     "text": [
      "----------\n"
     ]
    },
    {
     "name": "stderr",
     "output_type": "stream",
     "text": [
      "Epoch 11 - loss: 0.6110 - accuracy: 0.7160: 100%|██████████| 16/16 [00:00<00:00, 92.19it/s]\n",
      "Epoch 11 - loss: 0.6107 - accuracy: 0.7040: 100%|██████████| 16/16 [00:00<00:00, 106.75it/s]\n"
     ]
    },
    {
     "name": "stdout",
     "output_type": "stream",
     "text": [
      "----------\n"
     ]
    },
    {
     "name": "stderr",
     "output_type": "stream",
     "text": [
      "Epoch 12 - loss: 0.6093 - accuracy: 0.7180: 100%|██████████| 16/16 [00:00<00:00, 85.33it/s]\n",
      "Epoch 12 - loss: 0.6087 - accuracy: 0.7000: 100%|██████████| 16/16 [00:00<00:00, 101.97it/s]\n"
     ]
    },
    {
     "name": "stdout",
     "output_type": "stream",
     "text": [
      "----------\n"
     ]
    },
    {
     "name": "stderr",
     "output_type": "stream",
     "text": [
      "Epoch 13 - loss: 0.6079 - accuracy: 0.7180: 100%|██████████| 16/16 [00:00<00:00, 85.58it/s]\n",
      "Epoch 13 - loss: 0.6069 - accuracy: 0.7010: 100%|██████████| 16/16 [00:00<00:00, 106.51it/s]\n"
     ]
    },
    {
     "name": "stdout",
     "output_type": "stream",
     "text": [
      "----------\n"
     ]
    },
    {
     "name": "stderr",
     "output_type": "stream",
     "text": [
      "Epoch 14 - loss: 0.6062 - accuracy: 0.7200: 100%|██████████| 16/16 [00:00<00:00, 100.99it/s]\n",
      "Epoch 14 - loss: 0.6050 - accuracy: 0.7030: 100%|██████████| 16/16 [00:00<00:00, 128.35it/s]\n"
     ]
    },
    {
     "name": "stdout",
     "output_type": "stream",
     "text": [
      "----------\n"
     ]
    },
    {
     "name": "stderr",
     "output_type": "stream",
     "text": [
      "Epoch 15 - loss: 0.6042 - accuracy: 0.7190: 100%|██████████| 16/16 [00:00<00:00, 125.06it/s]\n",
      "Epoch 15 - loss: 0.6034 - accuracy: 0.7030: 100%|██████████| 16/16 [00:00<00:00, 137.15it/s]\n"
     ]
    },
    {
     "name": "stdout",
     "output_type": "stream",
     "text": [
      "----------\n"
     ]
    },
    {
     "name": "stderr",
     "output_type": "stream",
     "text": [
      "Epoch 16 - loss: 0.6031 - accuracy: 0.7200: 100%|██████████| 16/16 [00:00<00:00, 124.41it/s]\n",
      "Epoch 16 - loss: 0.6017 - accuracy: 0.7040: 100%|██████████| 16/16 [00:00<00:00, 140.67it/s]\n"
     ]
    },
    {
     "name": "stdout",
     "output_type": "stream",
     "text": [
      "----------\n"
     ]
    },
    {
     "name": "stderr",
     "output_type": "stream",
     "text": [
      "Epoch 17 - loss: 0.6002 - accuracy: 0.7170: 100%|██████████| 16/16 [00:00<00:00, 125.64it/s]\n",
      "Epoch 17 - loss: 0.6001 - accuracy: 0.7060: 100%|██████████| 16/16 [00:00<00:00, 142.02it/s]\n"
     ]
    },
    {
     "name": "stdout",
     "output_type": "stream",
     "text": [
      "----------\n"
     ]
    },
    {
     "name": "stderr",
     "output_type": "stream",
     "text": [
      "Epoch 18 - loss: 0.5991 - accuracy: 0.7170: 100%|██████████| 16/16 [00:00<00:00, 119.96it/s]\n",
      "Epoch 18 - loss: 0.5985 - accuracy: 0.7050: 100%|██████████| 16/16 [00:00<00:00, 145.64it/s]\n"
     ]
    },
    {
     "name": "stdout",
     "output_type": "stream",
     "text": [
      "----------\n"
     ]
    },
    {
     "name": "stderr",
     "output_type": "stream",
     "text": [
      "Epoch 19 - loss: 0.5955 - accuracy: 0.7170: 100%|██████████| 16/16 [00:00<00:00, 131.21it/s]\n",
      "Epoch 19 - loss: 0.5970 - accuracy: 0.7070: 100%|██████████| 16/16 [00:00<00:00, 150.67it/s]\n"
     ]
    },
    {
     "name": "stdout",
     "output_type": "stream",
     "text": [
      "----------\n"
     ]
    },
    {
     "name": "stderr",
     "output_type": "stream",
     "text": [
      "Epoch 20 - loss: 0.5966 - accuracy: 0.7170: 100%|██████████| 16/16 [00:00<00:00, 129.24it/s]\n",
      "Epoch 20 - loss: 0.5955 - accuracy: 0.7060: 100%|██████████| 16/16 [00:00<00:00, 146.20it/s]\n"
     ]
    },
    {
     "name": "stdout",
     "output_type": "stream",
     "text": [
      "----------\n"
     ]
    },
    {
     "name": "stderr",
     "output_type": "stream",
     "text": [
      "Epoch 21 - loss: 0.5949 - accuracy: 0.7160: 100%|██████████| 16/16 [00:00<00:00, 116.14it/s]\n",
      "Epoch 21 - loss: 0.5940 - accuracy: 0.7060: 100%|██████████| 16/16 [00:00<00:00, 149.56it/s]\n"
     ]
    },
    {
     "name": "stdout",
     "output_type": "stream",
     "text": [
      "----------\n"
     ]
    },
    {
     "name": "stderr",
     "output_type": "stream",
     "text": [
      "Epoch 22 - loss: 0.5926 - accuracy: 0.7160: 100%|██████████| 16/16 [00:00<00:00, 137.94it/s]\n",
      "Epoch 22 - loss: 0.5927 - accuracy: 0.7060: 100%|██████████| 16/16 [00:00<00:00, 147.46it/s]\n"
     ]
    },
    {
     "name": "stdout",
     "output_type": "stream",
     "text": [
      "----------\n"
     ]
    },
    {
     "name": "stderr",
     "output_type": "stream",
     "text": [
      "Epoch 23 - loss: 0.5927 - accuracy: 0.7140: 100%|██████████| 16/16 [00:00<00:00, 132.54it/s]\n",
      "Epoch 23 - loss: 0.5913 - accuracy: 0.7060: 100%|██████████| 16/16 [00:00<00:00, 150.31it/s]\n"
     ]
    },
    {
     "name": "stdout",
     "output_type": "stream",
     "text": [
      "----------\n"
     ]
    },
    {
     "name": "stderr",
     "output_type": "stream",
     "text": [
      "Epoch 24 - loss: 0.5899 - accuracy: 0.7140: 100%|██████████| 16/16 [00:00<00:00, 129.33it/s]\n",
      "Epoch 24 - loss: 0.5901 - accuracy: 0.7060: 100%|██████████| 16/16 [00:00<00:00, 147.35it/s]\n"
     ]
    },
    {
     "name": "stdout",
     "output_type": "stream",
     "text": [
      "----------\n"
     ]
    },
    {
     "name": "stderr",
     "output_type": "stream",
     "text": [
      "Epoch 25 - loss: 0.5894 - accuracy: 0.7140: 100%|██████████| 16/16 [00:00<00:00, 124.57it/s]\n",
      "Epoch 25 - loss: 0.5889 - accuracy: 0.7080: 100%|██████████| 16/16 [00:00<00:00, 149.44it/s]\n"
     ]
    },
    {
     "name": "stdout",
     "output_type": "stream",
     "text": [
      "----------\n"
     ]
    },
    {
     "name": "stderr",
     "output_type": "stream",
     "text": [
      "Epoch 26 - loss: 0.5880 - accuracy: 0.7140: 100%|██████████| 16/16 [00:00<00:00, 124.72it/s]\n",
      "Epoch 26 - loss: 0.5877 - accuracy: 0.7070: 100%|██████████| 16/16 [00:00<00:00, 145.78it/s]\n"
     ]
    },
    {
     "name": "stdout",
     "output_type": "stream",
     "text": [
      "----------\n"
     ]
    },
    {
     "name": "stderr",
     "output_type": "stream",
     "text": [
      "Epoch 27 - loss: 0.5874 - accuracy: 0.7140: 100%|██████████| 16/16 [00:00<00:00, 111.91it/s]\n",
      "Epoch 27 - loss: 0.5865 - accuracy: 0.7080: 100%|██████████| 16/16 [00:00<00:00, 143.60it/s]\n"
     ]
    },
    {
     "name": "stdout",
     "output_type": "stream",
     "text": [
      "----------\n"
     ]
    },
    {
     "name": "stderr",
     "output_type": "stream",
     "text": [
      "Epoch 28 - loss: 0.5843 - accuracy: 0.7140: 100%|██████████| 16/16 [00:00<00:00, 125.71it/s]\n",
      "Epoch 28 - loss: 0.5854 - accuracy: 0.7110: 100%|██████████| 16/16 [00:00<00:00, 131.00it/s]\n"
     ]
    },
    {
     "name": "stdout",
     "output_type": "stream",
     "text": [
      "----------\n"
     ]
    },
    {
     "name": "stderr",
     "output_type": "stream",
     "text": [
      "Epoch 29 - loss: 0.5848 - accuracy: 0.7140: 100%|██████████| 16/16 [00:00<00:00, 114.19it/s]\n",
      "Epoch 29 - loss: 0.5843 - accuracy: 0.7120: 100%|██████████| 16/16 [00:00<00:00, 121.42it/s]\n"
     ]
    },
    {
     "name": "stdout",
     "output_type": "stream",
     "text": [
      "----------\n"
     ]
    },
    {
     "name": "stderr",
     "output_type": "stream",
     "text": [
      "Epoch 30 - loss: 0.5846 - accuracy: 0.7130: 100%|██████████| 16/16 [00:00<00:00, 125.46it/s]\n",
      "Epoch 30 - loss: 0.5833 - accuracy: 0.7100: 100%|██████████| 16/16 [00:00<00:00, 142.02it/s]\n"
     ]
    },
    {
     "name": "stdout",
     "output_type": "stream",
     "text": [
      "----------\n"
     ]
    },
    {
     "name": "stderr",
     "output_type": "stream",
     "text": [
      "Epoch 31 - loss: 0.5818 - accuracy: 0.7140: 100%|██████████| 16/16 [00:00<00:00, 139.81it/s]\n",
      "Epoch 31 - loss: 0.5823 - accuracy: 0.7110: 100%|██████████| 16/16 [00:00<00:00, 149.83it/s]\n"
     ]
    },
    {
     "name": "stdout",
     "output_type": "stream",
     "text": [
      "----------\n"
     ]
    },
    {
     "name": "stderr",
     "output_type": "stream",
     "text": [
      "Epoch 32 - loss: 0.5815 - accuracy: 0.7140: 100%|██████████| 16/16 [00:00<00:00, 133.24it/s]\n",
      "Epoch 32 - loss: 0.5813 - accuracy: 0.7120: 100%|██████████| 16/16 [00:00<00:00, 143.01it/s]\n"
     ]
    },
    {
     "name": "stdout",
     "output_type": "stream",
     "text": [
      "----------\n"
     ]
    },
    {
     "name": "stderr",
     "output_type": "stream",
     "text": [
      "Epoch 33 - loss: 0.5812 - accuracy: 0.7140: 100%|██████████| 16/16 [00:00<00:00, 121.27it/s]\n",
      "Epoch 33 - loss: 0.5803 - accuracy: 0.7120: 100%|██████████| 16/16 [00:00<00:00, 143.12it/s]\n"
     ]
    },
    {
     "name": "stdout",
     "output_type": "stream",
     "text": [
      "----------\n"
     ]
    },
    {
     "name": "stderr",
     "output_type": "stream",
     "text": [
      "Epoch 34 - loss: 0.5796 - accuracy: 0.7140: 100%|██████████| 16/16 [00:00<00:00, 135.58it/s]\n",
      "Epoch 34 - loss: 0.5795 - accuracy: 0.7120: 100%|██████████| 16/16 [00:00<00:00, 149.35it/s]\n"
     ]
    },
    {
     "name": "stdout",
     "output_type": "stream",
     "text": [
      "----------\n"
     ]
    },
    {
     "name": "stderr",
     "output_type": "stream",
     "text": [
      "Epoch 35 - loss: 0.5782 - accuracy: 0.7140: 100%|██████████| 16/16 [00:00<00:00, 135.67it/s]\n",
      "Epoch 35 - loss: 0.5786 - accuracy: 0.7130: 100%|██████████| 16/16 [00:00<00:00, 141.88it/s]\n"
     ]
    },
    {
     "name": "stdout",
     "output_type": "stream",
     "text": [
      "----------\n"
     ]
    },
    {
     "name": "stderr",
     "output_type": "stream",
     "text": [
      "Epoch 36 - loss: 0.5773 - accuracy: 0.7140: 100%|██████████| 16/16 [00:00<00:00, 123.23it/s]\n",
      "Epoch 36 - loss: 0.5778 - accuracy: 0.7120: 100%|██████████| 16/16 [00:00<00:00, 140.18it/s]\n"
     ]
    },
    {
     "name": "stdout",
     "output_type": "stream",
     "text": [
      "----------\n"
     ]
    },
    {
     "name": "stderr",
     "output_type": "stream",
     "text": [
      "Epoch 37 - loss: 0.5783 - accuracy: 0.7140: 100%|██████████| 16/16 [00:00<00:00, 106.78it/s]\n",
      "Epoch 37 - loss: 0.5769 - accuracy: 0.7120: 100%|██████████| 16/16 [00:00<00:00, 119.14it/s]\n"
     ]
    },
    {
     "name": "stdout",
     "output_type": "stream",
     "text": [
      "----------\n"
     ]
    },
    {
     "name": "stderr",
     "output_type": "stream",
     "text": [
      "Epoch 38 - loss: 0.5763 - accuracy: 0.7140: 100%|██████████| 16/16 [00:00<00:00, 114.30it/s]\n",
      "Epoch 38 - loss: 0.5761 - accuracy: 0.7120: 100%|██████████| 16/16 [00:00<00:00, 107.11it/s]\n"
     ]
    },
    {
     "name": "stdout",
     "output_type": "stream",
     "text": [
      "----------\n"
     ]
    },
    {
     "name": "stderr",
     "output_type": "stream",
     "text": [
      "Epoch 39 - loss: 0.5750 - accuracy: 0.7140: 100%|██████████| 16/16 [00:00<00:00, 103.97it/s]\n",
      "Epoch 39 - loss: 0.5753 - accuracy: 0.7120: 100%|██████████| 16/16 [00:00<00:00, 125.57it/s]\n"
     ]
    },
    {
     "name": "stdout",
     "output_type": "stream",
     "text": [
      "----------\n"
     ]
    },
    {
     "name": "stderr",
     "output_type": "stream",
     "text": [
      "Epoch 40 - loss: 0.5755 - accuracy: 0.7140: 100%|██████████| 16/16 [00:00<00:00, 108.46it/s]\n",
      "Epoch 40 - loss: 0.5746 - accuracy: 0.7120: 100%|██████████| 16/16 [00:00<00:00, 126.78it/s]\n"
     ]
    },
    {
     "name": "stdout",
     "output_type": "stream",
     "text": [
      "----------\n"
     ]
    },
    {
     "name": "stderr",
     "output_type": "stream",
     "text": [
      "Epoch 41 - loss: 0.5739 - accuracy: 0.7140: 100%|██████████| 16/16 [00:00<00:00, 98.09it/s] \n",
      "Epoch 41 - loss: 0.5739 - accuracy: 0.7130: 100%|██████████| 16/16 [00:00<00:00, 109.81it/s]\n"
     ]
    },
    {
     "name": "stdout",
     "output_type": "stream",
     "text": [
      "----------\n"
     ]
    },
    {
     "name": "stderr",
     "output_type": "stream",
     "text": [
      "Epoch 42 - loss: 0.5726 - accuracy: 0.7130: 100%|██████████| 16/16 [00:00<00:00, 99.41it/s]\n",
      "Epoch 42 - loss: 0.5732 - accuracy: 0.7120: 100%|██████████| 16/16 [00:00<00:00, 116.60it/s]\n"
     ]
    },
    {
     "name": "stdout",
     "output_type": "stream",
     "text": [
      "----------\n"
     ]
    },
    {
     "name": "stderr",
     "output_type": "stream",
     "text": [
      "Epoch 43 - loss: 0.5732 - accuracy: 0.7140: 100%|██████████| 16/16 [00:00<00:00, 100.31it/s]\n",
      "Epoch 43 - loss: 0.5726 - accuracy: 0.7140: 100%|██████████| 16/16 [00:00<00:00, 122.82it/s]\n"
     ]
    },
    {
     "name": "stdout",
     "output_type": "stream",
     "text": [
      "----------\n"
     ]
    },
    {
     "name": "stderr",
     "output_type": "stream",
     "text": [
      "Epoch 44 - loss: 0.5717 - accuracy: 0.7130: 100%|██████████| 16/16 [00:00<00:00, 96.30it/s] \n",
      "Epoch 44 - loss: 0.5719 - accuracy: 0.7130: 100%|██████████| 16/16 [00:00<00:00, 101.56it/s]\n"
     ]
    },
    {
     "name": "stdout",
     "output_type": "stream",
     "text": [
      "----------\n"
     ]
    },
    {
     "name": "stderr",
     "output_type": "stream",
     "text": [
      "Epoch 45 - loss: 0.5712 - accuracy: 0.7130: 100%|██████████| 16/16 [00:00<00:00, 94.72it/s]\n",
      "Epoch 45 - loss: 0.5713 - accuracy: 0.7170: 100%|██████████| 16/16 [00:00<00:00, 111.23it/s]\n"
     ]
    },
    {
     "name": "stdout",
     "output_type": "stream",
     "text": [
      "----------\n"
     ]
    },
    {
     "name": "stderr",
     "output_type": "stream",
     "text": [
      "Epoch 46 - loss: 0.5720 - accuracy: 0.7140: 100%|██████████| 16/16 [00:00<00:00, 96.50it/s]\n",
      "Epoch 46 - loss: 0.5706 - accuracy: 0.7170: 100%|██████████| 16/16 [00:00<00:00, 88.78it/s]\n"
     ]
    },
    {
     "name": "stdout",
     "output_type": "stream",
     "text": [
      "----------\n"
     ]
    },
    {
     "name": "stderr",
     "output_type": "stream",
     "text": [
      "Epoch 47 - loss: 0.5699 - accuracy: 0.7130: 100%|██████████| 16/16 [00:00<00:00, 98.00it/s]\n",
      "Epoch 47 - loss: 0.5701 - accuracy: 0.7140: 100%|██████████| 16/16 [00:00<00:00, 115.94it/s]\n"
     ]
    },
    {
     "name": "stdout",
     "output_type": "stream",
     "text": [
      "----------\n"
     ]
    },
    {
     "name": "stderr",
     "output_type": "stream",
     "text": [
      "Epoch 48 - loss: 0.5690 - accuracy: 0.7130: 100%|██████████| 16/16 [00:00<00:00, 100.31it/s]\n",
      "Epoch 48 - loss: 0.5695 - accuracy: 0.7130: 100%|██████████| 16/16 [00:00<00:00, 104.89it/s]\n"
     ]
    },
    {
     "name": "stdout",
     "output_type": "stream",
     "text": [
      "----------\n"
     ]
    },
    {
     "name": "stderr",
     "output_type": "stream",
     "text": [
      "Epoch 49 - loss: 0.5665 - accuracy: 0.7130: 100%|██████████| 16/16 [00:00<00:00, 88.97it/s]\n",
      "Epoch 49 - loss: 0.5690 - accuracy: 0.7150: 100%|██████████| 16/16 [00:00<00:00, 104.11it/s]\n"
     ]
    },
    {
     "name": "stdout",
     "output_type": "stream",
     "text": [
      "----------\n"
     ]
    },
    {
     "name": "stderr",
     "output_type": "stream",
     "text": [
      "Epoch 50 - loss: 0.5690 - accuracy: 0.7130: 100%|██████████| 16/16 [00:00<00:00, 92.98it/s]\n",
      "Epoch 50 - loss: 0.5684 - accuracy: 0.7150: 100%|██████████| 16/16 [00:00<00:00, 109.28it/s]\n"
     ]
    },
    {
     "name": "stdout",
     "output_type": "stream",
     "text": [
      "----------\n"
     ]
    },
    {
     "name": "stderr",
     "output_type": "stream",
     "text": [
      "Epoch 51 - loss: 0.5707 - accuracy: 0.7130: 100%|██████████| 16/16 [00:00<00:00, 108.90it/s]\n",
      "Epoch 51 - loss: 0.5679 - accuracy: 0.7170: 100%|██████████| 16/16 [00:00<00:00, 127.56it/s]\n"
     ]
    },
    {
     "name": "stdout",
     "output_type": "stream",
     "text": [
      "----------\n"
     ]
    },
    {
     "name": "stderr",
     "output_type": "stream",
     "text": [
      "Epoch 52 - loss: 0.5670 - accuracy: 0.7130: 100%|██████████| 16/16 [00:00<00:00, 114.03it/s]\n",
      "Epoch 52 - loss: 0.5674 - accuracy: 0.7170: 100%|██████████| 16/16 [00:00<00:00, 130.23it/s]\n"
     ]
    },
    {
     "name": "stdout",
     "output_type": "stream",
     "text": [
      "----------\n"
     ]
    },
    {
     "name": "stderr",
     "output_type": "stream",
     "text": [
      "Epoch 53 - loss: 0.5689 - accuracy: 0.7130: 100%|██████████| 16/16 [00:00<00:00, 87.49it/s]\n",
      "Epoch 53 - loss: 0.5670 - accuracy: 0.7160: 100%|██████████| 16/16 [00:00<00:00, 137.59it/s]\n"
     ]
    },
    {
     "name": "stdout",
     "output_type": "stream",
     "text": [
      "----------\n"
     ]
    },
    {
     "name": "stderr",
     "output_type": "stream",
     "text": [
      "Epoch 54 - loss: 0.5665 - accuracy: 0.7130: 100%|██████████| 16/16 [00:00<00:00, 73.86it/s]\n",
      "Epoch 54 - loss: 0.5665 - accuracy: 0.7170: 100%|██████████| 16/16 [00:00<00:00, 105.98it/s]\n"
     ]
    },
    {
     "name": "stdout",
     "output_type": "stream",
     "text": [
      "----------\n"
     ]
    },
    {
     "name": "stderr",
     "output_type": "stream",
     "text": [
      "Epoch 55 - loss: 0.5661 - accuracy: 0.7120: 100%|██████████| 16/16 [00:00<00:00, 93.77it/s]\n",
      "Epoch 55 - loss: 0.5661 - accuracy: 0.7210: 100%|██████████| 16/16 [00:00<00:00, 91.37it/s]\n"
     ]
    },
    {
     "name": "stdout",
     "output_type": "stream",
     "text": [
      "----------\n"
     ]
    },
    {
     "name": "stderr",
     "output_type": "stream",
     "text": [
      "Epoch 56 - loss: 0.5652 - accuracy: 0.7120: 100%|██████████| 16/16 [00:00<00:00, 65.97it/s]\n",
      "Epoch 56 - loss: 0.5656 - accuracy: 0.7180: 100%|██████████| 16/16 [00:00<00:00, 97.53it/s]\n"
     ]
    },
    {
     "name": "stdout",
     "output_type": "stream",
     "text": [
      "----------\n"
     ]
    },
    {
     "name": "stderr",
     "output_type": "stream",
     "text": [
      "Epoch 57 - loss: 0.5646 - accuracy: 0.7110: 100%|██████████| 16/16 [00:00<00:00, 75.23it/s]\n",
      "Epoch 57 - loss: 0.5652 - accuracy: 0.7190: 100%|██████████| 16/16 [00:00<00:00, 88.64it/s]\n"
     ]
    },
    {
     "name": "stdout",
     "output_type": "stream",
     "text": [
      "----------\n"
     ]
    },
    {
     "name": "stderr",
     "output_type": "stream",
     "text": [
      "Epoch 58 - loss: 0.5632 - accuracy: 0.7120: 100%|██████████| 16/16 [00:00<00:00, 57.54it/s]\n",
      "Epoch 58 - loss: 0.5648 - accuracy: 0.7200: 100%|██████████| 16/16 [00:00<00:00, 84.53it/s]\n"
     ]
    },
    {
     "name": "stdout",
     "output_type": "stream",
     "text": [
      "----------\n"
     ]
    },
    {
     "name": "stderr",
     "output_type": "stream",
     "text": [
      "Epoch 59 - loss: 0.5657 - accuracy: 0.7120: 100%|██████████| 16/16 [00:00<00:00, 79.28it/s]\n",
      "Epoch 59 - loss: 0.5644 - accuracy: 0.7190: 100%|██████████| 16/16 [00:00<00:00, 92.48it/s]\n"
     ]
    },
    {
     "name": "stdout",
     "output_type": "stream",
     "text": [
      "----------\n"
     ]
    },
    {
     "name": "stderr",
     "output_type": "stream",
     "text": [
      "Epoch 60 - loss: 0.5630 - accuracy: 0.7130: 100%|██████████| 16/16 [00:00<00:00, 98.24it/s] \n",
      "Epoch 60 - loss: 0.5640 - accuracy: 0.7180: 100%|██████████| 16/16 [00:00<00:00, 95.85it/s]\n"
     ]
    },
    {
     "name": "stdout",
     "output_type": "stream",
     "text": [
      "----------\n"
     ]
    },
    {
     "name": "stderr",
     "output_type": "stream",
     "text": [
      "Epoch 61 - loss: 0.5627 - accuracy: 0.7120: 100%|██████████| 16/16 [00:00<00:00, 101.23it/s]\n",
      "Epoch 61 - loss: 0.5637 - accuracy: 0.7200: 100%|██████████| 16/16 [00:00<00:00, 93.29it/s]\n"
     ]
    },
    {
     "name": "stdout",
     "output_type": "stream",
     "text": [
      "----------\n"
     ]
    },
    {
     "name": "stderr",
     "output_type": "stream",
     "text": [
      "Epoch 62 - loss: 0.5629 - accuracy: 0.7120: 100%|██████████| 16/16 [00:00<00:00, 87.36it/s]\n",
      "Epoch 62 - loss: 0.5633 - accuracy: 0.7200: 100%|██████████| 16/16 [00:00<00:00, 94.00it/s]\n"
     ]
    },
    {
     "name": "stdout",
     "output_type": "stream",
     "text": [
      "----------\n"
     ]
    },
    {
     "name": "stderr",
     "output_type": "stream",
     "text": [
      "Epoch 63 - loss: 0.5624 - accuracy: 0.7120: 100%|██████████| 16/16 [00:00<00:00, 86.88it/s]\n",
      "Epoch 63 - loss: 0.5630 - accuracy: 0.7190: 100%|██████████| 16/16 [00:00<00:00, 103.69it/s]\n"
     ]
    },
    {
     "name": "stdout",
     "output_type": "stream",
     "text": [
      "----------\n"
     ]
    },
    {
     "name": "stderr",
     "output_type": "stream",
     "text": [
      "Epoch 64 - loss: 0.5622 - accuracy: 0.7120: 100%|██████████| 16/16 [00:00<00:00, 92.13it/s]\n",
      "Epoch 64 - loss: 0.5626 - accuracy: 0.7200: 100%|██████████| 16/16 [00:00<00:00, 107.58it/s]\n"
     ]
    },
    {
     "name": "stdout",
     "output_type": "stream",
     "text": [
      "----------\n"
     ]
    },
    {
     "name": "stderr",
     "output_type": "stream",
     "text": [
      "Epoch 65 - loss: 0.5616 - accuracy: 0.7130: 100%|██████████| 16/16 [00:00<00:00, 77.21it/s]\n",
      "Epoch 65 - loss: 0.5623 - accuracy: 0.7180: 100%|██████████| 16/16 [00:00<00:00, 93.30it/s]\n"
     ]
    },
    {
     "name": "stdout",
     "output_type": "stream",
     "text": [
      "----------\n"
     ]
    },
    {
     "name": "stderr",
     "output_type": "stream",
     "text": [
      "Epoch 66 - loss: 0.5629 - accuracy: 0.7110: 100%|██████████| 16/16 [00:00<00:00, 97.34it/s]\n",
      "Epoch 66 - loss: 0.5620 - accuracy: 0.7190: 100%|██████████| 16/16 [00:00<00:00, 118.11it/s]\n"
     ]
    },
    {
     "name": "stdout",
     "output_type": "stream",
     "text": [
      "----------\n"
     ]
    },
    {
     "name": "stderr",
     "output_type": "stream",
     "text": [
      "Epoch 67 - loss: 0.5620 - accuracy: 0.7110: 100%|██████████| 16/16 [00:00<00:00, 90.83it/s]\n",
      "Epoch 67 - loss: 0.5617 - accuracy: 0.7240: 100%|██████████| 16/16 [00:00<00:00, 119.49it/s]\n"
     ]
    },
    {
     "name": "stdout",
     "output_type": "stream",
     "text": [
      "----------\n"
     ]
    },
    {
     "name": "stderr",
     "output_type": "stream",
     "text": [
      "Epoch 68 - loss: 0.5606 - accuracy: 0.7130: 100%|██████████| 16/16 [00:00<00:00, 94.47it/s]\n",
      "Epoch 68 - loss: 0.5614 - accuracy: 0.7210: 100%|██████████| 16/16 [00:00<00:00, 119.07it/s]\n"
     ]
    },
    {
     "name": "stdout",
     "output_type": "stream",
     "text": [
      "----------\n"
     ]
    },
    {
     "name": "stderr",
     "output_type": "stream",
     "text": [
      "Epoch 69 - loss: 0.5595 - accuracy: 0.7120: 100%|██████████| 16/16 [00:00<00:00, 109.64it/s]\n",
      "Epoch 69 - loss: 0.5611 - accuracy: 0.7200: 100%|██████████| 16/16 [00:00<00:00, 127.65it/s]\n"
     ]
    },
    {
     "name": "stdout",
     "output_type": "stream",
     "text": [
      "----------\n"
     ]
    },
    {
     "name": "stderr",
     "output_type": "stream",
     "text": [
      "Epoch 70 - loss: 0.5613 - accuracy: 0.7120: 100%|██████████| 16/16 [00:00<00:00, 115.28it/s]\n",
      "Epoch 70 - loss: 0.5608 - accuracy: 0.7200: 100%|██████████| 16/16 [00:00<00:00, 132.19it/s]\n"
     ]
    },
    {
     "name": "stdout",
     "output_type": "stream",
     "text": [
      "----------\n"
     ]
    },
    {
     "name": "stderr",
     "output_type": "stream",
     "text": [
      "Epoch 71 - loss: 0.5608 - accuracy: 0.7120: 100%|██████████| 16/16 [00:00<00:00, 115.13it/s]\n",
      "Epoch 71 - loss: 0.5606 - accuracy: 0.7200: 100%|██████████| 16/16 [00:00<00:00, 41.20it/s] \n"
     ]
    },
    {
     "name": "stdout",
     "output_type": "stream",
     "text": [
      "----------\n"
     ]
    },
    {
     "name": "stderr",
     "output_type": "stream",
     "text": [
      "Epoch 72 - loss: 0.5611 - accuracy: 0.7130: 100%|██████████| 16/16 [00:00<00:00, 117.03it/s]\n",
      "Epoch 72 - loss: 0.5603 - accuracy: 0.7230: 100%|██████████| 16/16 [00:00<00:00, 119.59it/s]\n"
     ]
    },
    {
     "name": "stdout",
     "output_type": "stream",
     "text": [
      "----------\n"
     ]
    },
    {
     "name": "stderr",
     "output_type": "stream",
     "text": [
      "Epoch 73 - loss: 0.5599 - accuracy: 0.7120: 100%|██████████| 16/16 [00:00<00:00, 69.01it/s]\n",
      "Epoch 73 - loss: 0.5601 - accuracy: 0.7200: 100%|██████████| 16/16 [00:00<00:00, 73.23it/s]\n"
     ]
    },
    {
     "name": "stdout",
     "output_type": "stream",
     "text": [
      "----------\n"
     ]
    },
    {
     "name": "stderr",
     "output_type": "stream",
     "text": [
      "Epoch 74 - loss: 0.5594 - accuracy: 0.7110: 100%|██████████| 16/16 [00:00<00:00, 126.36it/s]\n",
      "Epoch 74 - loss: 0.5598 - accuracy: 0.7200: 100%|██████████| 16/16 [00:00<00:00, 127.75it/s]\n"
     ]
    },
    {
     "name": "stdout",
     "output_type": "stream",
     "text": [
      "----------\n"
     ]
    },
    {
     "name": "stderr",
     "output_type": "stream",
     "text": [
      "Epoch 75 - loss: 0.5591 - accuracy: 0.7120: 100%|██████████| 16/16 [00:00<00:00, 115.85it/s]\n",
      "Epoch 75 - loss: 0.5596 - accuracy: 0.7230: 100%|██████████| 16/16 [00:00<00:00, 129.34it/s]\n"
     ]
    },
    {
     "name": "stdout",
     "output_type": "stream",
     "text": [
      "----------\n"
     ]
    },
    {
     "name": "stderr",
     "output_type": "stream",
     "text": [
      "Epoch 76 - loss: 0.5584 - accuracy: 0.7120: 100%|██████████| 16/16 [00:00<00:00, 104.40it/s]\n",
      "Epoch 76 - loss: 0.5593 - accuracy: 0.7210: 100%|██████████| 16/16 [00:00<00:00, 92.48it/s]\n"
     ]
    },
    {
     "name": "stdout",
     "output_type": "stream",
     "text": [
      "----------\n"
     ]
    },
    {
     "name": "stderr",
     "output_type": "stream",
     "text": [
      "Epoch 77 - loss: 0.5569 - accuracy: 0.7130: 100%|██████████| 16/16 [00:00<00:00, 111.61it/s]\n",
      "Epoch 77 - loss: 0.5591 - accuracy: 0.7210: 100%|██████████| 16/16 [00:00<00:00, 106.70it/s]\n"
     ]
    },
    {
     "name": "stdout",
     "output_type": "stream",
     "text": [
      "----------\n"
     ]
    },
    {
     "name": "stderr",
     "output_type": "stream",
     "text": [
      "Epoch 78 - loss: 0.5603 - accuracy: 0.7130: 100%|██████████| 16/16 [00:00<00:00, 129.17it/s]\n",
      "Epoch 78 - loss: 0.5589 - accuracy: 0.7230: 100%|██████████| 16/16 [00:00<00:00, 70.32it/s]\n"
     ]
    },
    {
     "name": "stdout",
     "output_type": "stream",
     "text": [
      "----------\n"
     ]
    },
    {
     "name": "stderr",
     "output_type": "stream",
     "text": [
      "Epoch 79 - loss: 0.5579 - accuracy: 0.7120: 100%|██████████| 16/16 [00:01<00:00,  9.13it/s] \n",
      "Epoch 79 - loss: 0.5587 - accuracy: 0.7230: 100%|██████████| 16/16 [00:00<00:00, 163.21it/s]\n"
     ]
    },
    {
     "name": "stdout",
     "output_type": "stream",
     "text": [
      "----------\n"
     ]
    },
    {
     "name": "stderr",
     "output_type": "stream",
     "text": [
      "Epoch 80 - loss: 0.5613 - accuracy: 0.7120: 100%|██████████| 16/16 [00:00<00:00, 140.73it/s]\n",
      "Epoch 80 - loss: 0.5585 - accuracy: 0.7210: 100%|██████████| 16/16 [00:00<00:00, 148.10it/s]\n"
     ]
    },
    {
     "name": "stdout",
     "output_type": "stream",
     "text": [
      "----------\n"
     ]
    },
    {
     "name": "stderr",
     "output_type": "stream",
     "text": [
      "Epoch 81 - loss: 0.5576 - accuracy: 0.7120: 100%|██████████| 16/16 [00:00<00:00, 120.51it/s]\n",
      "Epoch 81 - loss: 0.5583 - accuracy: 0.7230: 100%|██████████| 16/16 [00:00<00:00, 142.36it/s]\n"
     ]
    },
    {
     "name": "stdout",
     "output_type": "stream",
     "text": [
      "----------\n"
     ]
    },
    {
     "name": "stderr",
     "output_type": "stream",
     "text": [
      "Epoch 82 - loss: 0.5567 - accuracy: 0.7120: 100%|██████████| 16/16 [00:00<00:00, 111.77it/s]\n",
      "Epoch 82 - loss: 0.5581 - accuracy: 0.7230: 100%|██████████| 16/16 [00:00<00:00, 116.54it/s]\n"
     ]
    },
    {
     "name": "stdout",
     "output_type": "stream",
     "text": [
      "----------\n"
     ]
    },
    {
     "name": "stderr",
     "output_type": "stream",
     "text": [
      "Epoch 83 - loss: 0.5584 - accuracy: 0.7120: 100%|██████████| 16/16 [00:00<00:00, 125.26it/s]\n",
      "Epoch 83 - loss: 0.5579 - accuracy: 0.7240: 100%|██████████| 16/16 [00:00<00:00, 144.52it/s]\n"
     ]
    },
    {
     "name": "stdout",
     "output_type": "stream",
     "text": [
      "----------\n"
     ]
    },
    {
     "name": "stderr",
     "output_type": "stream",
     "text": [
      "Epoch 84 - loss: 0.5583 - accuracy: 0.7120: 100%|██████████| 16/16 [00:00<00:00, 109.79it/s]\n",
      "Epoch 84 - loss: 0.5577 - accuracy: 0.7250: 100%|██████████| 16/16 [00:00<00:00, 130.40it/s]\n"
     ]
    },
    {
     "name": "stdout",
     "output_type": "stream",
     "text": [
      "----------\n"
     ]
    },
    {
     "name": "stderr",
     "output_type": "stream",
     "text": [
      "Epoch 85 - loss: 0.5555 - accuracy: 0.7130: 100%|██████████| 16/16 [00:00<00:00, 113.58it/s]\n",
      "Epoch 85 - loss: 0.5576 - accuracy: 0.7290: 100%|██████████| 16/16 [00:00<00:00, 133.63it/s]\n"
     ]
    },
    {
     "name": "stdout",
     "output_type": "stream",
     "text": [
      "----------\n"
     ]
    },
    {
     "name": "stderr",
     "output_type": "stream",
     "text": [
      "Epoch 86 - loss: 0.5567 - accuracy: 0.7130: 100%|██████████| 16/16 [00:00<00:00, 135.15it/s]\n",
      "Epoch 86 - loss: 0.5574 - accuracy: 0.7280: 100%|██████████| 16/16 [00:00<00:00, 152.82it/s]\n"
     ]
    },
    {
     "name": "stdout",
     "output_type": "stream",
     "text": [
      "----------\n"
     ]
    },
    {
     "name": "stderr",
     "output_type": "stream",
     "text": [
      "Epoch 87 - loss: 0.5549 - accuracy: 0.7130: 100%|██████████| 16/16 [00:00<00:00, 130.08it/s]\n",
      "Epoch 87 - loss: 0.5572 - accuracy: 0.7270: 100%|██████████| 16/16 [00:00<00:00, 146.10it/s]\n"
     ]
    },
    {
     "name": "stdout",
     "output_type": "stream",
     "text": [
      "----------\n"
     ]
    },
    {
     "name": "stderr",
     "output_type": "stream",
     "text": [
      "Epoch 88 - loss: 0.5582 - accuracy: 0.7140: 100%|██████████| 16/16 [00:00<00:00, 136.94it/s]\n",
      "Epoch 88 - loss: 0.5570 - accuracy: 0.7240: 100%|██████████| 16/16 [00:00<00:00, 123.04it/s]\n"
     ]
    },
    {
     "name": "stdout",
     "output_type": "stream",
     "text": [
      "----------\n"
     ]
    },
    {
     "name": "stderr",
     "output_type": "stream",
     "text": [
      "Epoch 89 - loss: 0.5567 - accuracy: 0.7130: 100%|██████████| 16/16 [00:00<00:00, 117.47it/s]\n",
      "Epoch 89 - loss: 0.5569 - accuracy: 0.7280: 100%|██████████| 16/16 [00:00<00:00, 142.76it/s]\n"
     ]
    },
    {
     "name": "stdout",
     "output_type": "stream",
     "text": [
      "----------\n"
     ]
    },
    {
     "name": "stderr",
     "output_type": "stream",
     "text": [
      "Epoch 90 - loss: 0.5550 - accuracy: 0.7130: 100%|██████████| 16/16 [00:00<00:00, 112.70it/s]\n",
      "Epoch 90 - loss: 0.5567 - accuracy: 0.7260: 100%|██████████| 16/16 [00:00<00:00, 120.00it/s]\n"
     ]
    },
    {
     "name": "stdout",
     "output_type": "stream",
     "text": [
      "----------\n"
     ]
    },
    {
     "name": "stderr",
     "output_type": "stream",
     "text": [
      "Epoch 91 - loss: 0.5568 - accuracy: 0.7140: 100%|██████████| 16/16 [00:00<00:00, 122.79it/s]\n",
      "Epoch 91 - loss: 0.5565 - accuracy: 0.7280: 100%|██████████| 16/16 [00:00<00:00, 130.21it/s]\n"
     ]
    },
    {
     "name": "stdout",
     "output_type": "stream",
     "text": [
      "----------\n"
     ]
    },
    {
     "name": "stderr",
     "output_type": "stream",
     "text": [
      "Epoch 92 - loss: 0.5555 - accuracy: 0.7130: 100%|██████████| 16/16 [00:00<00:00, 123.25it/s]\n",
      "Epoch 92 - loss: 0.5564 - accuracy: 0.7300: 100%|██████████| 16/16 [00:00<00:00, 137.72it/s]\n"
     ]
    },
    {
     "name": "stdout",
     "output_type": "stream",
     "text": [
      "----------\n"
     ]
    },
    {
     "name": "stderr",
     "output_type": "stream",
     "text": [
      "Epoch 93 - loss: 0.5551 - accuracy: 0.7130: 100%|██████████| 16/16 [00:00<00:00, 119.41it/s]\n",
      "Epoch 93 - loss: 0.5563 - accuracy: 0.7250: 100%|██████████| 16/16 [00:00<00:00, 134.06it/s]\n"
     ]
    },
    {
     "name": "stdout",
     "output_type": "stream",
     "text": [
      "----------\n"
     ]
    },
    {
     "name": "stderr",
     "output_type": "stream",
     "text": [
      "Epoch 94 - loss: 0.5574 - accuracy: 0.7140: 100%|██████████| 16/16 [00:00<00:00, 121.13it/s]\n",
      "Epoch 94 - loss: 0.5561 - accuracy: 0.7260: 100%|██████████| 16/16 [00:00<00:00, 121.83it/s]\n"
     ]
    },
    {
     "name": "stdout",
     "output_type": "stream",
     "text": [
      "----------\n"
     ]
    },
    {
     "name": "stderr",
     "output_type": "stream",
     "text": [
      "Epoch 95 - loss: 0.5578 - accuracy: 0.7140: 100%|██████████| 16/16 [00:00<00:00, 109.72it/s]\n",
      "Epoch 95 - loss: 0.5560 - accuracy: 0.7280: 100%|██████████| 16/16 [00:00<00:00, 125.31it/s]\n"
     ]
    },
    {
     "name": "stdout",
     "output_type": "stream",
     "text": [
      "----------\n"
     ]
    },
    {
     "name": "stderr",
     "output_type": "stream",
     "text": [
      "Epoch 96 - loss: 0.5554 - accuracy: 0.7140: 100%|██████████| 16/16 [00:00<00:00, 114.00it/s]\n",
      "Epoch 96 - loss: 0.5558 - accuracy: 0.7270: 100%|██████████| 16/16 [00:00<00:00, 134.79it/s]\n"
     ]
    },
    {
     "name": "stdout",
     "output_type": "stream",
     "text": [
      "----------\n"
     ]
    },
    {
     "name": "stderr",
     "output_type": "stream",
     "text": [
      "Epoch 97 - loss: 0.5558 - accuracy: 0.7140: 100%|██████████| 16/16 [00:00<00:00, 108.05it/s]\n",
      "Epoch 97 - loss: 0.5557 - accuracy: 0.7250: 100%|██████████| 16/16 [00:00<00:00, 139.86it/s]\n"
     ]
    },
    {
     "name": "stdout",
     "output_type": "stream",
     "text": [
      "----------\n"
     ]
    },
    {
     "name": "stderr",
     "output_type": "stream",
     "text": [
      "Epoch 98 - loss: 0.5561 - accuracy: 0.7130: 100%|██████████| 16/16 [00:00<00:00, 114.40it/s]\n",
      "Epoch 98 - loss: 0.5555 - accuracy: 0.7240: 100%|██████████| 16/16 [00:00<00:00, 126.69it/s]\n"
     ]
    },
    {
     "name": "stdout",
     "output_type": "stream",
     "text": [
      "----------\n"
     ]
    },
    {
     "name": "stderr",
     "output_type": "stream",
     "text": [
      "Epoch 99 - loss: 0.5543 - accuracy: 0.7140: 100%|██████████| 16/16 [00:00<00:00, 120.17it/s]\n",
      "Epoch 99 - loss: 0.5554 - accuracy: 0.7300: 100%|██████████| 16/16 [00:00<00:00, 129.61it/s]\n"
     ]
    },
    {
     "name": "stdout",
     "output_type": "stream",
     "text": [
      "----------\n"
     ]
    },
    {
     "name": "stderr",
     "output_type": "stream",
     "text": [
      "Epoch 100 - loss: 0.5534 - accuracy: 0.7140: 100%|██████████| 16/16 [00:00<00:00, 119.71it/s]\n",
      "Epoch 100 - loss: 0.5553 - accuracy: 0.7310: 100%|██████████| 16/16 [00:00<00:00, 127.16it/s]\n"
     ]
    },
    {
     "name": "stdout",
     "output_type": "stream",
     "text": [
      "----------\n"
     ]
    },
    {
     "name": "stderr",
     "output_type": "stream",
     "text": [
      "Epoch 101 - loss: 0.5551 - accuracy: 0.7140: 100%|██████████| 16/16 [00:00<00:00, 121.33it/s]\n",
      "Epoch 101 - loss: 0.5552 - accuracy: 0.7300: 100%|██████████| 16/16 [00:00<00:00, 135.07it/s]\n"
     ]
    },
    {
     "name": "stdout",
     "output_type": "stream",
     "text": [
      "----------\n"
     ]
    },
    {
     "name": "stderr",
     "output_type": "stream",
     "text": [
      "Epoch 102 - loss: 0.5516 - accuracy: 0.7140: 100%|██████████| 16/16 [00:00<00:00, 109.69it/s]\n",
      "Epoch 102 - loss: 0.5550 - accuracy: 0.7310: 100%|██████████| 16/16 [00:00<00:00, 135.10it/s]\n"
     ]
    },
    {
     "name": "stdout",
     "output_type": "stream",
     "text": [
      "----------\n"
     ]
    },
    {
     "name": "stderr",
     "output_type": "stream",
     "text": [
      "Epoch 103 - loss: 0.5552 - accuracy: 0.7140: 100%|██████████| 16/16 [00:00<00:00, 120.90it/s]\n",
      "Epoch 103 - loss: 0.5549 - accuracy: 0.7290: 100%|██████████| 16/16 [00:00<00:00, 138.71it/s]\n"
     ]
    },
    {
     "name": "stdout",
     "output_type": "stream",
     "text": [
      "----------\n"
     ]
    },
    {
     "name": "stderr",
     "output_type": "stream",
     "text": [
      "Epoch 104 - loss: 0.5531 - accuracy: 0.7140: 100%|██████████| 16/16 [00:00<00:00, 124.08it/s]\n",
      "Epoch 104 - loss: 0.5548 - accuracy: 0.7310: 100%|██████████| 16/16 [00:00<00:00, 144.92it/s]\n"
     ]
    },
    {
     "name": "stdout",
     "output_type": "stream",
     "text": [
      "----------\n"
     ]
    },
    {
     "name": "stderr",
     "output_type": "stream",
     "text": [
      "Epoch 105 - loss: 0.5542 - accuracy: 0.7140: 100%|██████████| 16/16 [00:00<00:00, 121.04it/s]\n",
      "Epoch 105 - loss: 0.5547 - accuracy: 0.7310: 100%|██████████| 16/16 [00:00<00:00, 139.54it/s]\n"
     ]
    },
    {
     "name": "stdout",
     "output_type": "stream",
     "text": [
      "----------\n"
     ]
    },
    {
     "name": "stderr",
     "output_type": "stream",
     "text": [
      "Epoch 106 - loss: 0.5533 - accuracy: 0.7140: 100%|██████████| 16/16 [00:00<00:00, 129.94it/s]\n",
      "Epoch 106 - loss: 0.5546 - accuracy: 0.7290: 100%|██████████| 16/16 [00:00<00:00, 131.07it/s]\n"
     ]
    },
    {
     "name": "stdout",
     "output_type": "stream",
     "text": [
      "----------\n"
     ]
    },
    {
     "name": "stderr",
     "output_type": "stream",
     "text": [
      "Epoch 107 - loss: 0.5527 - accuracy: 0.7140: 100%|██████████| 16/16 [00:00<00:00, 87.15it/s]\n",
      "Epoch 107 - loss: 0.5544 - accuracy: 0.7290: 100%|██████████| 16/16 [00:00<00:00, 132.81it/s]\n"
     ]
    },
    {
     "name": "stdout",
     "output_type": "stream",
     "text": [
      "----------\n"
     ]
    },
    {
     "name": "stderr",
     "output_type": "stream",
     "text": [
      "Epoch 108 - loss: 0.5573 - accuracy: 0.7140: 100%|██████████| 16/16 [00:00<00:00, 127.72it/s]\n",
      "Epoch 108 - loss: 0.5543 - accuracy: 0.7290: 100%|██████████| 16/16 [00:00<00:00, 159.71it/s]\n"
     ]
    },
    {
     "name": "stdout",
     "output_type": "stream",
     "text": [
      "----------\n"
     ]
    },
    {
     "name": "stderr",
     "output_type": "stream",
     "text": [
      "Epoch 109 - loss: 0.5541 - accuracy: 0.7140: 100%|██████████| 16/16 [00:00<00:00, 125.85it/s]\n",
      "Epoch 109 - loss: 0.5542 - accuracy: 0.7320: 100%|██████████| 16/16 [00:00<00:00, 130.68it/s]\n"
     ]
    },
    {
     "name": "stdout",
     "output_type": "stream",
     "text": [
      "----------\n"
     ]
    },
    {
     "name": "stderr",
     "output_type": "stream",
     "text": [
      "Epoch 110 - loss: 0.5526 - accuracy: 0.7140: 100%|██████████| 16/16 [00:00<00:00, 119.54it/s]\n",
      "Epoch 110 - loss: 0.5541 - accuracy: 0.7330: 100%|██████████| 16/16 [00:00<00:00, 148.14it/s]\n"
     ]
    },
    {
     "name": "stdout",
     "output_type": "stream",
     "text": [
      "----------\n"
     ]
    },
    {
     "name": "stderr",
     "output_type": "stream",
     "text": [
      "Epoch 111 - loss: 0.5563 - accuracy: 0.7140: 100%|██████████| 16/16 [00:00<00:00, 139.42it/s]\n",
      "Epoch 111 - loss: 0.5540 - accuracy: 0.7330: 100%|██████████| 16/16 [00:00<00:00, 147.69it/s]\n"
     ]
    },
    {
     "name": "stdout",
     "output_type": "stream",
     "text": [
      "----------\n"
     ]
    },
    {
     "name": "stderr",
     "output_type": "stream",
     "text": [
      "Epoch 112 - loss: 0.5544 - accuracy: 0.7130: 100%|██████████| 16/16 [00:00<00:00, 64.98it/s]\n",
      "Epoch 112 - loss: 0.5539 - accuracy: 0.7290: 100%|██████████| 16/16 [00:00<00:00, 147.79it/s]\n"
     ]
    },
    {
     "name": "stdout",
     "output_type": "stream",
     "text": [
      "----------\n"
     ]
    },
    {
     "name": "stderr",
     "output_type": "stream",
     "text": [
      "Epoch 113 - loss: 0.5541 - accuracy: 0.7130: 100%|██████████| 16/16 [00:00<00:00, 135.10it/s]\n",
      "Epoch 113 - loss: 0.5538 - accuracy: 0.7310: 100%|██████████| 16/16 [00:00<00:00, 135.90it/s]\n"
     ]
    },
    {
     "name": "stdout",
     "output_type": "stream",
     "text": [
      "----------\n"
     ]
    },
    {
     "name": "stderr",
     "output_type": "stream",
     "text": [
      "Epoch 114 - loss: 0.5551 - accuracy: 0.7130: 100%|██████████| 16/16 [00:00<00:00, 113.11it/s]\n",
      "Epoch 114 - loss: 0.5537 - accuracy: 0.7290: 100%|██████████| 16/16 [00:00<00:00, 144.51it/s]\n"
     ]
    },
    {
     "name": "stdout",
     "output_type": "stream",
     "text": [
      "----------\n"
     ]
    },
    {
     "name": "stderr",
     "output_type": "stream",
     "text": [
      "Epoch 115 - loss: 0.5540 - accuracy: 0.7120: 100%|██████████| 16/16 [00:00<00:00, 145.10it/s]\n",
      "Epoch 115 - loss: 0.5536 - accuracy: 0.7280: 100%|██████████| 16/16 [00:00<00:00, 159.64it/s]\n"
     ]
    },
    {
     "name": "stdout",
     "output_type": "stream",
     "text": [
      "----------\n"
     ]
    },
    {
     "name": "stderr",
     "output_type": "stream",
     "text": [
      "Epoch 116 - loss: 0.5528 - accuracy: 0.7120: 100%|██████████| 16/16 [00:00<00:00, 144.48it/s]\n",
      "Epoch 116 - loss: 0.5535 - accuracy: 0.7300: 100%|██████████| 16/16 [00:00<00:00, 144.45it/s]\n"
     ]
    },
    {
     "name": "stdout",
     "output_type": "stream",
     "text": [
      "----------\n"
     ]
    },
    {
     "name": "stderr",
     "output_type": "stream",
     "text": [
      "Epoch 117 - loss: 0.5535 - accuracy: 0.7120: 100%|██████████| 16/16 [00:00<00:00, 141.83it/s]\n",
      "Epoch 117 - loss: 0.5534 - accuracy: 0.7340: 100%|██████████| 16/16 [00:00<00:00, 123.77it/s]\n"
     ]
    },
    {
     "name": "stdout",
     "output_type": "stream",
     "text": [
      "----------\n"
     ]
    },
    {
     "name": "stderr",
     "output_type": "stream",
     "text": [
      "Epoch 118 - loss: 0.5572 - accuracy: 0.7130: 100%|██████████| 16/16 [00:00<00:00, 103.83it/s]\n",
      "Epoch 118 - loss: 0.5533 - accuracy: 0.7350: 100%|██████████| 16/16 [00:00<00:00, 141.02it/s]\n"
     ]
    },
    {
     "name": "stdout",
     "output_type": "stream",
     "text": [
      "----------\n"
     ]
    },
    {
     "name": "stderr",
     "output_type": "stream",
     "text": [
      "Epoch 119 - loss: 0.5540 - accuracy: 0.7130: 100%|██████████| 16/16 [00:00<00:00, 116.34it/s]\n",
      "Epoch 119 - loss: 0.5532 - accuracy: 0.7350: 100%|██████████| 16/16 [00:00<00:00, 130.84it/s]\n"
     ]
    },
    {
     "name": "stdout",
     "output_type": "stream",
     "text": [
      "----------\n"
     ]
    },
    {
     "name": "stderr",
     "output_type": "stream",
     "text": [
      "Epoch 120 - loss: 0.5514 - accuracy: 0.7130: 100%|██████████| 16/16 [00:00<00:00, 82.94it/s]\n",
      "Epoch 120 - loss: 0.5531 - accuracy: 0.7350: 100%|██████████| 16/16 [00:00<00:00, 143.69it/s]\n"
     ]
    },
    {
     "name": "stdout",
     "output_type": "stream",
     "text": [
      "----------\n"
     ]
    },
    {
     "name": "stderr",
     "output_type": "stream",
     "text": [
      "Epoch 121 - loss: 0.5500 - accuracy: 0.7130: 100%|██████████| 16/16 [00:00<00:00, 96.36it/s]\n",
      "Epoch 121 - loss: 0.5530 - accuracy: 0.7340: 100%|██████████| 16/16 [00:00<00:00, 144.87it/s]\n"
     ]
    },
    {
     "name": "stdout",
     "output_type": "stream",
     "text": [
      "----------\n"
     ]
    },
    {
     "name": "stderr",
     "output_type": "stream",
     "text": [
      "Epoch 122 - loss: 0.5537 - accuracy: 0.7120: 100%|██████████| 16/16 [00:00<00:00, 93.65it/s]\n",
      "Epoch 122 - loss: 0.5529 - accuracy: 0.7310: 100%|██████████| 16/16 [00:00<00:00, 77.20it/s]\n"
     ]
    },
    {
     "name": "stdout",
     "output_type": "stream",
     "text": [
      "----------\n"
     ]
    },
    {
     "name": "stderr",
     "output_type": "stream",
     "text": [
      "Epoch 123 - loss: 0.5513 - accuracy: 0.7120: 100%|██████████| 16/16 [00:00<00:00, 115.43it/s]\n",
      "Epoch 123 - loss: 0.5528 - accuracy: 0.7340: 100%|██████████| 16/16 [00:00<00:00, 134.12it/s]\n"
     ]
    },
    {
     "name": "stdout",
     "output_type": "stream",
     "text": [
      "----------\n"
     ]
    },
    {
     "name": "stderr",
     "output_type": "stream",
     "text": [
      "Epoch 124 - loss: 0.5528 - accuracy: 0.7120: 100%|██████████| 16/16 [00:00<00:00, 125.59it/s]\n",
      "Epoch 124 - loss: 0.5527 - accuracy: 0.7340: 100%|██████████| 16/16 [00:00<00:00, 100.20it/s]\n"
     ]
    },
    {
     "name": "stdout",
     "output_type": "stream",
     "text": [
      "----------\n"
     ]
    },
    {
     "name": "stderr",
     "output_type": "stream",
     "text": [
      "Epoch 125 - loss: 0.5522 - accuracy: 0.7120: 100%|██████████| 16/16 [00:00<00:00, 115.19it/s]\n",
      "Epoch 125 - loss: 0.5526 - accuracy: 0.7320: 100%|██████████| 16/16 [00:00<00:00, 141.78it/s]\n"
     ]
    },
    {
     "name": "stdout",
     "output_type": "stream",
     "text": [
      "----------\n"
     ]
    },
    {
     "name": "stderr",
     "output_type": "stream",
     "text": [
      "Epoch 126 - loss: 0.5518 - accuracy: 0.7120: 100%|██████████| 16/16 [00:00<00:00, 125.33it/s]\n",
      "Epoch 126 - loss: 0.5525 - accuracy: 0.7340: 100%|██████████| 16/16 [00:00<00:00, 130.79it/s]\n"
     ]
    },
    {
     "name": "stdout",
     "output_type": "stream",
     "text": [
      "----------\n"
     ]
    },
    {
     "name": "stderr",
     "output_type": "stream",
     "text": [
      "Epoch 127 - loss: 0.5518 - accuracy: 0.7120: 100%|██████████| 16/16 [00:00<00:00, 100.41it/s]\n",
      "Epoch 127 - loss: 0.5524 - accuracy: 0.7330: 100%|██████████| 16/16 [00:00<00:00, 122.81it/s]\n"
     ]
    },
    {
     "name": "stdout",
     "output_type": "stream",
     "text": [
      "----------\n"
     ]
    },
    {
     "name": "stderr",
     "output_type": "stream",
     "text": [
      "Epoch 128 - loss: 0.5510 - accuracy: 0.7120: 100%|██████████| 16/16 [00:00<00:00, 81.57it/s]\n",
      "Epoch 128 - loss: 0.5523 - accuracy: 0.7330: 100%|██████████| 16/16 [00:00<00:00, 108.00it/s]\n"
     ]
    },
    {
     "name": "stdout",
     "output_type": "stream",
     "text": [
      "----------\n"
     ]
    },
    {
     "name": "stderr",
     "output_type": "stream",
     "text": [
      "Epoch 129 - loss: 0.5497 - accuracy: 0.7120: 100%|██████████| 16/16 [00:00<00:00, 114.78it/s]\n",
      "Epoch 129 - loss: 0.5522 - accuracy: 0.7340: 100%|██████████| 16/16 [00:00<00:00, 107.44it/s]\n"
     ]
    },
    {
     "name": "stdout",
     "output_type": "stream",
     "text": [
      "----------\n"
     ]
    },
    {
     "name": "stderr",
     "output_type": "stream",
     "text": [
      "Epoch 130 - loss: 0.5532 - accuracy: 0.7130: 100%|██████████| 16/16 [00:00<00:00, 122.89it/s]\n",
      "Epoch 130 - loss: 0.5521 - accuracy: 0.7320: 100%|██████████| 16/16 [00:00<00:00, 162.19it/s]\n"
     ]
    },
    {
     "name": "stdout",
     "output_type": "stream",
     "text": [
      "----------\n"
     ]
    },
    {
     "name": "stderr",
     "output_type": "stream",
     "text": [
      "Epoch 131 - loss: 0.5493 - accuracy: 0.7130: 100%|██████████| 16/16 [00:00<00:00, 132.88it/s]\n",
      "Epoch 131 - loss: 0.5520 - accuracy: 0.7340: 100%|██████████| 16/16 [00:00<00:00, 163.25it/s]\n"
     ]
    },
    {
     "name": "stdout",
     "output_type": "stream",
     "text": [
      "----------\n"
     ]
    },
    {
     "name": "stderr",
     "output_type": "stream",
     "text": [
      "Epoch 132 - loss: 0.5538 - accuracy: 0.7130: 100%|██████████| 16/16 [00:00<00:00, 133.60it/s]\n",
      "Epoch 132 - loss: 0.5520 - accuracy: 0.7320: 100%|██████████| 16/16 [00:00<00:00, 154.97it/s]\n"
     ]
    },
    {
     "name": "stdout",
     "output_type": "stream",
     "text": [
      "----------\n"
     ]
    },
    {
     "name": "stderr",
     "output_type": "stream",
     "text": [
      "Epoch 133 - loss: 0.5495 - accuracy: 0.7140: 100%|██████████| 16/16 [00:00<00:00, 138.76it/s]\n",
      "Epoch 133 - loss: 0.5519 - accuracy: 0.7350: 100%|██████████| 16/16 [00:00<00:00, 167.22it/s]\n"
     ]
    },
    {
     "name": "stdout",
     "output_type": "stream",
     "text": [
      "----------\n"
     ]
    },
    {
     "name": "stderr",
     "output_type": "stream",
     "text": [
      "Epoch 134 - loss: 0.5492 - accuracy: 0.7140: 100%|██████████| 16/16 [00:00<00:00, 123.46it/s]\n",
      "Epoch 134 - loss: 0.5518 - accuracy: 0.7350: 100%|██████████| 16/16 [00:00<00:00, 64.22it/s]\n"
     ]
    },
    {
     "name": "stdout",
     "output_type": "stream",
     "text": [
      "----------\n"
     ]
    },
    {
     "name": "stderr",
     "output_type": "stream",
     "text": [
      "Epoch 135 - loss: 0.5517 - accuracy: 0.7140: 100%|██████████| 16/16 [00:00<00:00, 142.73it/s]\n",
      "Epoch 135 - loss: 0.5517 - accuracy: 0.7360: 100%|██████████| 16/16 [00:00<00:00, 104.02it/s]\n"
     ]
    },
    {
     "name": "stdout",
     "output_type": "stream",
     "text": [
      "----------\n"
     ]
    },
    {
     "name": "stderr",
     "output_type": "stream",
     "text": [
      "Epoch 136 - loss: 0.5514 - accuracy: 0.7140: 100%|██████████| 16/16 [00:00<00:00, 39.58it/s]\n",
      "Epoch 136 - loss: 0.5516 - accuracy: 0.7360: 100%|██████████| 16/16 [00:00<00:00, 167.36it/s]\n"
     ]
    },
    {
     "name": "stdout",
     "output_type": "stream",
     "text": [
      "----------\n"
     ]
    },
    {
     "name": "stderr",
     "output_type": "stream",
     "text": [
      "Epoch 137 - loss: 0.5522 - accuracy: 0.7140: 100%|██████████| 16/16 [00:00<00:00, 127.20it/s]\n",
      "Epoch 137 - loss: 0.5515 - accuracy: 0.7350: 100%|██████████| 16/16 [00:00<00:00, 127.10it/s]\n"
     ]
    },
    {
     "name": "stdout",
     "output_type": "stream",
     "text": [
      "----------\n"
     ]
    },
    {
     "name": "stderr",
     "output_type": "stream",
     "text": [
      "Epoch 138 - loss: 0.5516 - accuracy: 0.7140: 100%|██████████| 16/16 [00:00<00:00, 104.00it/s]\n",
      "Epoch 138 - loss: 0.5514 - accuracy: 0.7360: 100%|██████████| 16/16 [00:00<00:00, 118.99it/s]\n"
     ]
    },
    {
     "name": "stdout",
     "output_type": "stream",
     "text": [
      "----------\n"
     ]
    },
    {
     "name": "stderr",
     "output_type": "stream",
     "text": [
      "Epoch 139 - loss: 0.5490 - accuracy: 0.7150: 100%|██████████| 16/16 [00:00<00:00, 124.95it/s]\n",
      "Epoch 139 - loss: 0.5514 - accuracy: 0.7360: 100%|██████████| 16/16 [00:00<00:00, 145.12it/s]\n"
     ]
    },
    {
     "name": "stdout",
     "output_type": "stream",
     "text": [
      "----------\n"
     ]
    },
    {
     "name": "stderr",
     "output_type": "stream",
     "text": [
      "Epoch 140 - loss: 0.5495 - accuracy: 0.7150: 100%|██████████| 16/16 [00:00<00:00, 141.61it/s]\n",
      "Epoch 140 - loss: 0.5513 - accuracy: 0.7360: 100%|██████████| 16/16 [00:00<00:00, 155.95it/s]\n"
     ]
    },
    {
     "name": "stdout",
     "output_type": "stream",
     "text": [
      "----------\n"
     ]
    },
    {
     "name": "stderr",
     "output_type": "stream",
     "text": [
      "Epoch 141 - loss: 0.5487 - accuracy: 0.7150: 100%|██████████| 16/16 [00:00<00:00, 138.05it/s]\n",
      "Epoch 141 - loss: 0.5512 - accuracy: 0.7380: 100%|██████████| 16/16 [00:00<00:00, 157.07it/s]\n"
     ]
    },
    {
     "name": "stdout",
     "output_type": "stream",
     "text": [
      "----------\n"
     ]
    },
    {
     "name": "stderr",
     "output_type": "stream",
     "text": [
      "Epoch 142 - loss: 0.5488 - accuracy: 0.7150: 100%|██████████| 16/16 [00:00<00:00, 74.91it/s]\n",
      "Epoch 142 - loss: 0.5511 - accuracy: 0.7380: 100%|██████████| 16/16 [00:00<00:00, 148.51it/s]\n"
     ]
    },
    {
     "name": "stdout",
     "output_type": "stream",
     "text": [
      "----------\n"
     ]
    },
    {
     "name": "stderr",
     "output_type": "stream",
     "text": [
      "Epoch 143 - loss: 0.5514 - accuracy: 0.7150: 100%|██████████| 16/16 [00:00<00:00, 137.04it/s]\n",
      "Epoch 143 - loss: 0.5510 - accuracy: 0.7380: 100%|██████████| 16/16 [00:00<00:00, 152.35it/s]\n"
     ]
    },
    {
     "name": "stdout",
     "output_type": "stream",
     "text": [
      "----------\n"
     ]
    },
    {
     "name": "stderr",
     "output_type": "stream",
     "text": [
      "Epoch 144 - loss: 0.5504 - accuracy: 0.7160: 100%|██████████| 16/16 [00:00<00:00, 117.91it/s]\n",
      "Epoch 144 - loss: 0.5509 - accuracy: 0.7380: 100%|██████████| 16/16 [00:00<00:00, 124.95it/s]\n"
     ]
    },
    {
     "name": "stdout",
     "output_type": "stream",
     "text": [
      "----------\n"
     ]
    },
    {
     "name": "stderr",
     "output_type": "stream",
     "text": [
      "Epoch 145 - loss: 0.5513 - accuracy: 0.7160: 100%|██████████| 16/16 [00:00<00:00, 123.49it/s]\n",
      "Epoch 145 - loss: 0.5509 - accuracy: 0.7410: 100%|██████████| 16/16 [00:00<00:00, 147.74it/s]\n"
     ]
    },
    {
     "name": "stdout",
     "output_type": "stream",
     "text": [
      "----------\n"
     ]
    },
    {
     "name": "stderr",
     "output_type": "stream",
     "text": [
      "Epoch 146 - loss: 0.5481 - accuracy: 0.7150: 100%|██████████| 16/16 [00:00<00:00, 68.34it/s] \n",
      "Epoch 146 - loss: 0.5508 - accuracy: 0.7390: 100%|██████████| 16/16 [00:00<00:00, 116.90it/s]\n"
     ]
    },
    {
     "name": "stdout",
     "output_type": "stream",
     "text": [
      "----------\n"
     ]
    },
    {
     "name": "stderr",
     "output_type": "stream",
     "text": [
      "Epoch 147 - loss: 0.5501 - accuracy: 0.7150: 100%|██████████| 16/16 [00:00<00:00, 110.83it/s]\n",
      "Epoch 147 - loss: 0.5507 - accuracy: 0.7410: 100%|██████████| 16/16 [00:00<00:00, 17.43it/s] \n"
     ]
    },
    {
     "name": "stdout",
     "output_type": "stream",
     "text": [
      "----------\n"
     ]
    },
    {
     "name": "stderr",
     "output_type": "stream",
     "text": [
      "Epoch 148 - loss: 0.5476 - accuracy: 0.7150: 100%|██████████| 16/16 [00:00<00:00, 19.01it/s]\n",
      "Epoch 148 - loss: 0.5506 - accuracy: 0.7410: 100%|██████████| 16/16 [00:00<00:00, 133.61it/s]\n"
     ]
    },
    {
     "name": "stdout",
     "output_type": "stream",
     "text": [
      "----------\n"
     ]
    },
    {
     "name": "stderr",
     "output_type": "stream",
     "text": [
      "Epoch 149 - loss: 0.5485 - accuracy: 0.7150: 100%|██████████| 16/16 [00:00<00:00, 129.14it/s]\n",
      "Epoch 149 - loss: 0.5505 - accuracy: 0.7420: 100%|██████████| 16/16 [00:00<00:00, 137.92it/s]"
     ]
    },
    {
     "name": "stdout",
     "output_type": "stream",
     "text": [
      "----------\n"
     ]
    },
    {
     "name": "stderr",
     "output_type": "stream",
     "text": [
      "\n"
     ]
    }
   ],
   "source": [
    "# Tensorboard logger\n",
    "import time\n",
    "from supervised_ml import get_tensorboard_writer\n",
    "run_name = f'linear/{str(int(time.time()))}'\n",
    "tensorboard_writer = get_tensorboard_writer(run_name)\n",
    "\n",
    "# Adam is always a safe choice\n",
    "import torch.optim as optim\n",
    "optimizer = optim.Adam(model.parameters())\n",
    "\n",
    "# train_val_loop runs a full pass on the given data\n",
    "# (either train or test) and logs metrics to tensorboard\n",
    "from supervised_ml import get_train_val_loop\n",
    "train_val_loop = get_train_val_loop(model,\n",
    "                                    criterion,\n",
    "                                    optimizer,\n",
    "                                    tensorboard_writer)\n",
    "\n",
    "\n",
    "# call train_val_loop 150 times for training,\n",
    "# and 150 times for evaluating.\n",
    "N_EPOCHS = 150\n",
    "for epoch in range(N_EPOCHS):\n",
    "    # train\n",
    "    train_val_loop(is_train=True,\n",
    "                   dataloader=train_dataloader,\n",
    "                   epoch=epoch)\n",
    "\n",
    "    with torch.no_grad():\n",
    "        # validate\n",
    "        train_val_loop(is_train=False,\n",
    "                       dataloader=test_dataloader,\n",
    "                       epoch=epoch)\n",
    "\n",
    "    print('----------')"
   ]
  },
  {
   "cell_type": "markdown",
   "id": "0de73bcb",
   "metadata": {},
   "source": [
    "-------"
   ]
  },
  {
   "cell_type": "markdown",
   "id": "db037ccc",
   "metadata": {},
   "source": [
    "## Model 2: Neural network with 1 hidden layer"
   ]
  },
  {
   "cell_type": "markdown",
   "id": "3e40a6c4",
   "metadata": {},
   "source": [
    "### Model architecture 📐🏗️"
   ]
  },
  {
   "cell_type": "code",
   "execution_count": 18,
   "id": "9bbd9af6",
   "metadata": {},
   "outputs": [
    {
     "name": "stdout",
     "output_type": "stream",
     "text": [
      "1,794 parameters\n",
      "Sequential(\n",
      "  (0): Linear(in_features=4, out_features=256, bias=True)\n",
      "  (1): ReLU()\n",
      "  (2): Linear(in_features=256, out_features=2, bias=True)\n",
      ")\n"
     ]
    }
   ],
   "source": [
    "model = get_model(input_dim=4, output_dim=2, hidden_layers=[256])\n",
    "device = torch.device(\"cuda\" if torch.cuda.is_available() else \"cpu\")\n",
    "model.to(device)\n",
    "\n",
    "print(f'{count_parameters(model):,} parameters')\n",
    "print(model)"
   ]
  },
  {
   "cell_type": "markdown",
   "id": "d6219a7f",
   "metadata": {},
   "source": [
    "![image](https://github.com/Paulescu/hands-on-rl/blob/main/03_cart_pole/images/nn_1_hidden_layer_sml.jpg?raw=true)"
   ]
  },
  {
   "cell_type": "markdown",
   "id": "7fec9138",
   "metadata": {},
   "source": [
    "### Train loop 🏋️"
   ]
  },
  {
   "cell_type": "code",
   "execution_count": 19,
   "id": "ef30158a",
   "metadata": {
    "scrolled": true
   },
   "outputs": [
    {
     "name": "stderr",
     "output_type": "stream",
     "text": [
      "Epoch 0 - loss: 0.6468 - accuracy: 0.6570: 100%|██████████| 16/16 [00:00<00:00, 74.38it/s]\n",
      "Epoch 0 - loss: 0.6169 - accuracy: 0.7040: 100%|██████████| 16/16 [00:00<00:00, 125.23it/s]\n"
     ]
    },
    {
     "name": "stdout",
     "output_type": "stream",
     "text": [
      "----------\n"
     ]
    },
    {
     "name": "stderr",
     "output_type": "stream",
     "text": [
      "Epoch 1 - loss: 0.5987 - accuracy: 0.7060: 100%|██████████| 16/16 [00:00<00:00, 105.37it/s]\n",
      "Epoch 1 - loss: 0.5816 - accuracy: 0.7050: 100%|██████████| 16/16 [00:00<00:00, 118.62it/s]\n"
     ]
    },
    {
     "name": "stdout",
     "output_type": "stream",
     "text": [
      "----------\n"
     ]
    },
    {
     "name": "stderr",
     "output_type": "stream",
     "text": [
      "Epoch 2 - loss: 0.5741 - accuracy: 0.7080: 100%|██████████| 16/16 [00:00<00:00, 108.29it/s]\n",
      "Epoch 2 - loss: 0.5652 - accuracy: 0.7050: 100%|██████████| 16/16 [00:00<00:00, 128.26it/s]\n"
     ]
    },
    {
     "name": "stdout",
     "output_type": "stream",
     "text": [
      "----------\n"
     ]
    },
    {
     "name": "stderr",
     "output_type": "stream",
     "text": [
      "Epoch 3 - loss: 0.5620 - accuracy: 0.7130: 100%|██████████| 16/16 [00:00<00:00, 113.44it/s]\n",
      "Epoch 3 - loss: 0.5595 - accuracy: 0.7050: 100%|██████████| 16/16 [00:00<00:00, 141.26it/s]\n"
     ]
    },
    {
     "name": "stdout",
     "output_type": "stream",
     "text": [
      "----------\n"
     ]
    },
    {
     "name": "stderr",
     "output_type": "stream",
     "text": [
      "Epoch 4 - loss: 0.5565 - accuracy: 0.7120: 100%|██████████| 16/16 [00:00<00:00, 116.97it/s]\n",
      "Epoch 4 - loss: 0.5571 - accuracy: 0.7090: 100%|██████████| 16/16 [00:00<00:00, 147.84it/s]\n"
     ]
    },
    {
     "name": "stdout",
     "output_type": "stream",
     "text": [
      "----------\n"
     ]
    },
    {
     "name": "stderr",
     "output_type": "stream",
     "text": [
      "Epoch 5 - loss: 0.5565 - accuracy: 0.7190: 100%|██████████| 16/16 [00:00<00:00, 140.09it/s]\n",
      "Epoch 5 - loss: 0.5553 - accuracy: 0.7070: 100%|██████████| 16/16 [00:00<00:00, 145.56it/s]\n"
     ]
    },
    {
     "name": "stdout",
     "output_type": "stream",
     "text": [
      "----------\n"
     ]
    },
    {
     "name": "stderr",
     "output_type": "stream",
     "text": [
      "Epoch 6 - loss: 0.5535 - accuracy: 0.7150: 100%|██████████| 16/16 [00:00<00:00, 122.82it/s]\n",
      "Epoch 6 - loss: 0.5533 - accuracy: 0.7110: 100%|██████████| 16/16 [00:00<00:00, 146.43it/s]\n"
     ]
    },
    {
     "name": "stdout",
     "output_type": "stream",
     "text": [
      "----------\n"
     ]
    },
    {
     "name": "stderr",
     "output_type": "stream",
     "text": [
      "Epoch 7 - loss: 0.5507 - accuracy: 0.7170: 100%|██████████| 16/16 [00:00<00:00, 120.96it/s]\n",
      "Epoch 7 - loss: 0.5515 - accuracy: 0.7120: 100%|██████████| 16/16 [00:00<00:00, 146.51it/s]\n"
     ]
    },
    {
     "name": "stdout",
     "output_type": "stream",
     "text": [
      "----------\n"
     ]
    },
    {
     "name": "stderr",
     "output_type": "stream",
     "text": [
      "Epoch 8 - loss: 0.5504 - accuracy: 0.7160: 100%|██████████| 16/16 [00:00<00:00, 129.82it/s]\n",
      "Epoch 8 - loss: 0.5495 - accuracy: 0.7070: 100%|██████████| 16/16 [00:00<00:00, 152.63it/s]\n"
     ]
    },
    {
     "name": "stdout",
     "output_type": "stream",
     "text": [
      "----------\n"
     ]
    },
    {
     "name": "stderr",
     "output_type": "stream",
     "text": [
      "Epoch 9 - loss: 0.5502 - accuracy: 0.7160: 100%|██████████| 16/16 [00:00<00:00, 118.90it/s]\n",
      "Epoch 9 - loss: 0.5474 - accuracy: 0.7200: 100%|██████████| 16/16 [00:00<00:00, 143.86it/s]\n"
     ]
    },
    {
     "name": "stdout",
     "output_type": "stream",
     "text": [
      "----------\n"
     ]
    },
    {
     "name": "stderr",
     "output_type": "stream",
     "text": [
      "Epoch 10 - loss: 0.5467 - accuracy: 0.7150: 100%|██████████| 16/16 [00:00<00:00, 116.13it/s]\n",
      "Epoch 10 - loss: 0.5454 - accuracy: 0.7220: 100%|██████████| 16/16 [00:00<00:00, 137.61it/s]\n"
     ]
    },
    {
     "name": "stdout",
     "output_type": "stream",
     "text": [
      "----------\n"
     ]
    },
    {
     "name": "stderr",
     "output_type": "stream",
     "text": [
      "Epoch 11 - loss: 0.5443 - accuracy: 0.7220: 100%|██████████| 16/16 [00:00<00:00, 98.68it/s]\n",
      "Epoch 11 - loss: 0.5438 - accuracy: 0.7440: 100%|██████████| 16/16 [00:00<00:00, 134.20it/s]\n"
     ]
    },
    {
     "name": "stdout",
     "output_type": "stream",
     "text": [
      "----------\n"
     ]
    },
    {
     "name": "stderr",
     "output_type": "stream",
     "text": [
      "Epoch 12 - loss: 0.5438 - accuracy: 0.7310: 100%|██████████| 16/16 [00:00<00:00, 116.12it/s]\n",
      "Epoch 12 - loss: 0.5418 - accuracy: 0.7190: 100%|██████████| 16/16 [00:00<00:00, 125.42it/s]\n"
     ]
    },
    {
     "name": "stdout",
     "output_type": "stream",
     "text": [
      "----------\n"
     ]
    },
    {
     "name": "stderr",
     "output_type": "stream",
     "text": [
      "Epoch 13 - loss: 0.5420 - accuracy: 0.7150: 100%|██████████| 16/16 [00:00<00:00, 114.90it/s]\n",
      "Epoch 13 - loss: 0.5403 - accuracy: 0.7460: 100%|██████████| 16/16 [00:00<00:00, 134.72it/s]\n"
     ]
    },
    {
     "name": "stdout",
     "output_type": "stream",
     "text": [
      "----------\n"
     ]
    },
    {
     "name": "stderr",
     "output_type": "stream",
     "text": [
      "Epoch 14 - loss: 0.5407 - accuracy: 0.7200: 100%|██████████| 16/16 [00:00<00:00, 114.08it/s]\n",
      "Epoch 14 - loss: 0.5386 - accuracy: 0.7200: 100%|██████████| 16/16 [00:00<00:00, 129.25it/s]\n"
     ]
    },
    {
     "name": "stdout",
     "output_type": "stream",
     "text": [
      "----------\n"
     ]
    },
    {
     "name": "stderr",
     "output_type": "stream",
     "text": [
      "Epoch 15 - loss: 0.5345 - accuracy: 0.7280: 100%|██████████| 16/16 [00:00<00:00, 107.88it/s]\n",
      "Epoch 15 - loss: 0.5369 - accuracy: 0.7530: 100%|██████████| 16/16 [00:00<00:00, 135.59it/s]\n"
     ]
    },
    {
     "name": "stdout",
     "output_type": "stream",
     "text": [
      "----------\n"
     ]
    },
    {
     "name": "stderr",
     "output_type": "stream",
     "text": [
      "Epoch 16 - loss: 0.5335 - accuracy: 0.7230: 100%|██████████| 16/16 [00:00<00:00, 119.63it/s]\n",
      "Epoch 16 - loss: 0.5349 - accuracy: 0.7370: 100%|██████████| 16/16 [00:00<00:00, 134.78it/s]\n"
     ]
    },
    {
     "name": "stdout",
     "output_type": "stream",
     "text": [
      "----------\n"
     ]
    },
    {
     "name": "stderr",
     "output_type": "stream",
     "text": [
      "Epoch 17 - loss: 0.5336 - accuracy: 0.7300: 100%|██████████| 16/16 [00:00<00:00, 117.84it/s]\n",
      "Epoch 17 - loss: 0.5331 - accuracy: 0.7540: 100%|██████████| 16/16 [00:00<00:00, 124.74it/s]\n"
     ]
    },
    {
     "name": "stdout",
     "output_type": "stream",
     "text": [
      "----------\n"
     ]
    },
    {
     "name": "stderr",
     "output_type": "stream",
     "text": [
      "Epoch 18 - loss: 0.5324 - accuracy: 0.7260: 100%|██████████| 16/16 [00:00<00:00, 112.35it/s]\n",
      "Epoch 18 - loss: 0.5311 - accuracy: 0.7460: 100%|██████████| 16/16 [00:00<00:00, 129.32it/s]\n"
     ]
    },
    {
     "name": "stdout",
     "output_type": "stream",
     "text": [
      "----------\n"
     ]
    },
    {
     "name": "stderr",
     "output_type": "stream",
     "text": [
      "Epoch 19 - loss: 0.5282 - accuracy: 0.7380: 100%|██████████| 16/16 [00:00<00:00, 129.34it/s]\n",
      "Epoch 19 - loss: 0.5292 - accuracy: 0.7440: 100%|██████████| 16/16 [00:00<00:00, 148.58it/s]\n"
     ]
    },
    {
     "name": "stdout",
     "output_type": "stream",
     "text": [
      "----------\n"
     ]
    },
    {
     "name": "stderr",
     "output_type": "stream",
     "text": [
      "Epoch 20 - loss: 0.5278 - accuracy: 0.7330: 100%|██████████| 16/16 [00:00<00:00, 112.86it/s]\n",
      "Epoch 20 - loss: 0.5278 - accuracy: 0.7660: 100%|██████████| 16/16 [00:00<00:00, 149.15it/s]\n"
     ]
    },
    {
     "name": "stdout",
     "output_type": "stream",
     "text": [
      "----------\n"
     ]
    },
    {
     "name": "stderr",
     "output_type": "stream",
     "text": [
      "Epoch 21 - loss: 0.5250 - accuracy: 0.7380: 100%|██████████| 16/16 [00:00<00:00, 127.73it/s]\n",
      "Epoch 21 - loss: 0.5263 - accuracy: 0.7500: 100%|██████████| 16/16 [00:00<00:00, 151.41it/s]\n"
     ]
    },
    {
     "name": "stdout",
     "output_type": "stream",
     "text": [
      "----------\n"
     ]
    },
    {
     "name": "stderr",
     "output_type": "stream",
     "text": [
      "Epoch 22 - loss: 0.5234 - accuracy: 0.7420: 100%|██████████| 16/16 [00:00<00:00, 119.75it/s]\n",
      "Epoch 22 - loss: 0.5240 - accuracy: 0.7600: 100%|██████████| 16/16 [00:00<00:00, 135.36it/s]\n"
     ]
    },
    {
     "name": "stdout",
     "output_type": "stream",
     "text": [
      "----------\n"
     ]
    },
    {
     "name": "stderr",
     "output_type": "stream",
     "text": [
      "Epoch 23 - loss: 0.5215 - accuracy: 0.7530: 100%|██████████| 16/16 [00:00<00:00, 123.13it/s]\n",
      "Epoch 23 - loss: 0.5222 - accuracy: 0.7590: 100%|██████████| 16/16 [00:00<00:00, 148.53it/s]\n"
     ]
    },
    {
     "name": "stdout",
     "output_type": "stream",
     "text": [
      "----------\n"
     ]
    },
    {
     "name": "stderr",
     "output_type": "stream",
     "text": [
      "Epoch 24 - loss: 0.5213 - accuracy: 0.7510: 100%|██████████| 16/16 [00:00<00:00, 123.16it/s]\n",
      "Epoch 24 - loss: 0.5206 - accuracy: 0.7620: 100%|██████████| 16/16 [00:00<00:00, 152.79it/s]\n"
     ]
    },
    {
     "name": "stdout",
     "output_type": "stream",
     "text": [
      "----------\n"
     ]
    },
    {
     "name": "stderr",
     "output_type": "stream",
     "text": [
      "Epoch 25 - loss: 0.5158 - accuracy: 0.7500: 100%|██████████| 16/16 [00:00<00:00, 128.28it/s]\n",
      "Epoch 25 - loss: 0.5185 - accuracy: 0.7550: 100%|██████████| 16/16 [00:00<00:00, 151.61it/s]\n"
     ]
    },
    {
     "name": "stdout",
     "output_type": "stream",
     "text": [
      "----------\n"
     ]
    },
    {
     "name": "stderr",
     "output_type": "stream",
     "text": [
      "Epoch 26 - loss: 0.5146 - accuracy: 0.7570: 100%|██████████| 16/16 [00:00<00:00, 106.75it/s]\n",
      "Epoch 26 - loss: 0.5166 - accuracy: 0.7620: 100%|██████████| 16/16 [00:00<00:00, 129.31it/s]\n"
     ]
    },
    {
     "name": "stdout",
     "output_type": "stream",
     "text": [
      "----------\n"
     ]
    },
    {
     "name": "stderr",
     "output_type": "stream",
     "text": [
      "Epoch 27 - loss: 0.5119 - accuracy: 0.7530: 100%|██████████| 16/16 [00:00<00:00, 116.75it/s]\n",
      "Epoch 27 - loss: 0.5149 - accuracy: 0.7640: 100%|██████████| 16/16 [00:00<00:00, 155.84it/s]\n"
     ]
    },
    {
     "name": "stdout",
     "output_type": "stream",
     "text": [
      "----------\n"
     ]
    },
    {
     "name": "stderr",
     "output_type": "stream",
     "text": [
      "Epoch 28 - loss: 0.5158 - accuracy: 0.7570: 100%|██████████| 16/16 [00:00<00:00, 126.62it/s]\n",
      "Epoch 28 - loss: 0.5135 - accuracy: 0.7620: 100%|██████████| 16/16 [00:00<00:00, 158.18it/s]\n"
     ]
    },
    {
     "name": "stdout",
     "output_type": "stream",
     "text": [
      "----------\n"
     ]
    },
    {
     "name": "stderr",
     "output_type": "stream",
     "text": [
      "Epoch 29 - loss: 0.5082 - accuracy: 0.7590: 100%|██████████| 16/16 [00:00<00:00, 116.11it/s]\n",
      "Epoch 29 - loss: 0.5115 - accuracy: 0.7630: 100%|██████████| 16/16 [00:00<00:00, 163.82it/s]\n"
     ]
    },
    {
     "name": "stdout",
     "output_type": "stream",
     "text": [
      "----------\n"
     ]
    },
    {
     "name": "stderr",
     "output_type": "stream",
     "text": [
      "Epoch 30 - loss: 0.5097 - accuracy: 0.7620: 100%|██████████| 16/16 [00:00<00:00, 121.85it/s]\n",
      "Epoch 30 - loss: 0.5094 - accuracy: 0.7630: 100%|██████████| 16/16 [00:00<00:00, 146.52it/s]\n"
     ]
    },
    {
     "name": "stdout",
     "output_type": "stream",
     "text": [
      "----------\n"
     ]
    },
    {
     "name": "stderr",
     "output_type": "stream",
     "text": [
      "Epoch 31 - loss: 0.5053 - accuracy: 0.7600: 100%|██████████| 16/16 [00:00<00:00, 119.39it/s]\n",
      "Epoch 31 - loss: 0.5080 - accuracy: 0.7650: 100%|██████████| 16/16 [00:00<00:00, 156.22it/s]\n"
     ]
    },
    {
     "name": "stdout",
     "output_type": "stream",
     "text": [
      "----------\n"
     ]
    },
    {
     "name": "stderr",
     "output_type": "stream",
     "text": [
      "Epoch 32 - loss: 0.5042 - accuracy: 0.7600: 100%|██████████| 16/16 [00:00<00:00, 132.02it/s]\n",
      "Epoch 32 - loss: 0.5063 - accuracy: 0.7630: 100%|██████████| 16/16 [00:00<00:00, 162.97it/s]\n"
     ]
    },
    {
     "name": "stdout",
     "output_type": "stream",
     "text": [
      "----------\n"
     ]
    },
    {
     "name": "stderr",
     "output_type": "stream",
     "text": [
      "Epoch 33 - loss: 0.5021 - accuracy: 0.7660: 100%|██████████| 16/16 [00:00<00:00, 133.06it/s]\n",
      "Epoch 33 - loss: 0.5046 - accuracy: 0.7640: 100%|██████████| 16/16 [00:00<00:00, 162.12it/s]\n"
     ]
    },
    {
     "name": "stdout",
     "output_type": "stream",
     "text": [
      "----------\n"
     ]
    },
    {
     "name": "stderr",
     "output_type": "stream",
     "text": [
      "Epoch 34 - loss: 0.5000 - accuracy: 0.7620: 100%|██████████| 16/16 [00:00<00:00, 140.66it/s]\n",
      "Epoch 34 - loss: 0.5029 - accuracy: 0.7640: 100%|██████████| 16/16 [00:00<00:00, 152.10it/s]\n"
     ]
    },
    {
     "name": "stdout",
     "output_type": "stream",
     "text": [
      "----------\n"
     ]
    },
    {
     "name": "stderr",
     "output_type": "stream",
     "text": [
      "Epoch 35 - loss: 0.5006 - accuracy: 0.7610: 100%|██████████| 16/16 [00:00<00:00, 120.89it/s]\n",
      "Epoch 35 - loss: 0.5013 - accuracy: 0.7690: 100%|██████████| 16/16 [00:00<00:00, 147.21it/s]\n"
     ]
    },
    {
     "name": "stdout",
     "output_type": "stream",
     "text": [
      "----------\n"
     ]
    },
    {
     "name": "stderr",
     "output_type": "stream",
     "text": [
      "Epoch 36 - loss: 0.4975 - accuracy: 0.7610: 100%|██████████| 16/16 [00:00<00:00, 130.85it/s]\n",
      "Epoch 36 - loss: 0.5011 - accuracy: 0.7580: 100%|██████████| 16/16 [00:00<00:00, 141.67it/s]\n"
     ]
    },
    {
     "name": "stdout",
     "output_type": "stream",
     "text": [
      "----------\n"
     ]
    },
    {
     "name": "stderr",
     "output_type": "stream",
     "text": [
      "Epoch 37 - loss: 0.4962 - accuracy: 0.7640: 100%|██████████| 16/16 [00:00<00:00, 136.87it/s]\n",
      "Epoch 37 - loss: 0.4979 - accuracy: 0.7610: 100%|██████████| 16/16 [00:00<00:00, 166.90it/s]\n"
     ]
    },
    {
     "name": "stdout",
     "output_type": "stream",
     "text": [
      "----------\n"
     ]
    },
    {
     "name": "stderr",
     "output_type": "stream",
     "text": [
      "Epoch 38 - loss: 0.4953 - accuracy: 0.7630: 100%|██████████| 16/16 [00:00<00:00, 135.44it/s]\n",
      "Epoch 38 - loss: 0.4966 - accuracy: 0.7650: 100%|██████████| 16/16 [00:00<00:00, 152.95it/s]\n"
     ]
    },
    {
     "name": "stdout",
     "output_type": "stream",
     "text": [
      "----------\n"
     ]
    },
    {
     "name": "stderr",
     "output_type": "stream",
     "text": [
      "Epoch 39 - loss: 0.4942 - accuracy: 0.7660: 100%|██████████| 16/16 [00:00<00:00, 132.56it/s]\n",
      "Epoch 39 - loss: 0.4954 - accuracy: 0.7650: 100%|██████████| 16/16 [00:00<00:00, 128.86it/s]\n"
     ]
    },
    {
     "name": "stdout",
     "output_type": "stream",
     "text": [
      "----------\n"
     ]
    },
    {
     "name": "stderr",
     "output_type": "stream",
     "text": [
      "Epoch 40 - loss: 0.4928 - accuracy: 0.7640: 100%|██████████| 16/16 [00:00<00:00, 127.68it/s]\n",
      "Epoch 40 - loss: 0.4936 - accuracy: 0.7620: 100%|██████████| 16/16 [00:00<00:00, 160.50it/s]\n"
     ]
    },
    {
     "name": "stdout",
     "output_type": "stream",
     "text": [
      "----------\n"
     ]
    },
    {
     "name": "stderr",
     "output_type": "stream",
     "text": [
      "Epoch 41 - loss: 0.4906 - accuracy: 0.7640: 100%|██████████| 16/16 [00:00<00:00, 140.97it/s]\n",
      "Epoch 41 - loss: 0.4924 - accuracy: 0.7610: 100%|██████████| 16/16 [00:00<00:00, 161.36it/s]\n"
     ]
    },
    {
     "name": "stdout",
     "output_type": "stream",
     "text": [
      "----------\n"
     ]
    },
    {
     "name": "stderr",
     "output_type": "stream",
     "text": [
      "Epoch 42 - loss: 0.4877 - accuracy: 0.7680: 100%|██████████| 16/16 [00:00<00:00, 127.38it/s]\n",
      "Epoch 42 - loss: 0.4910 - accuracy: 0.7620: 100%|██████████| 16/16 [00:00<00:00, 161.08it/s]\n"
     ]
    },
    {
     "name": "stdout",
     "output_type": "stream",
     "text": [
      "----------\n"
     ]
    },
    {
     "name": "stderr",
     "output_type": "stream",
     "text": [
      "Epoch 43 - loss: 0.4848 - accuracy: 0.7690: 100%|██████████| 16/16 [00:00<00:00, 126.56it/s]\n",
      "Epoch 43 - loss: 0.4894 - accuracy: 0.7640: 100%|██████████| 16/16 [00:00<00:00, 151.40it/s]\n"
     ]
    },
    {
     "name": "stdout",
     "output_type": "stream",
     "text": [
      "----------\n"
     ]
    },
    {
     "name": "stderr",
     "output_type": "stream",
     "text": [
      "Epoch 44 - loss: 0.4837 - accuracy: 0.7660: 100%|██████████| 16/16 [00:00<00:00, 133.46it/s]\n",
      "Epoch 44 - loss: 0.4884 - accuracy: 0.7610: 100%|██████████| 16/16 [00:00<00:00, 143.94it/s]\n"
     ]
    },
    {
     "name": "stdout",
     "output_type": "stream",
     "text": [
      "----------\n"
     ]
    },
    {
     "name": "stderr",
     "output_type": "stream",
     "text": [
      "Epoch 45 - loss: 0.4859 - accuracy: 0.7740: 100%|██████████| 16/16 [00:00<00:00, 134.76it/s]\n",
      "Epoch 45 - loss: 0.4871 - accuracy: 0.7680: 100%|██████████| 16/16 [00:00<00:00, 169.98it/s]\n"
     ]
    },
    {
     "name": "stdout",
     "output_type": "stream",
     "text": [
      "----------\n"
     ]
    },
    {
     "name": "stderr",
     "output_type": "stream",
     "text": [
      "Epoch 46 - loss: 0.4849 - accuracy: 0.7760: 100%|██████████| 16/16 [00:00<00:00, 138.92it/s]\n",
      "Epoch 46 - loss: 0.4860 - accuracy: 0.7570: 100%|██████████| 16/16 [00:00<00:00, 168.14it/s]\n"
     ]
    },
    {
     "name": "stdout",
     "output_type": "stream",
     "text": [
      "----------\n"
     ]
    },
    {
     "name": "stderr",
     "output_type": "stream",
     "text": [
      "Epoch 47 - loss: 0.4809 - accuracy: 0.7690: 100%|██████████| 16/16 [00:00<00:00, 131.31it/s]\n",
      "Epoch 47 - loss: 0.4847 - accuracy: 0.7590: 100%|██████████| 16/16 [00:00<00:00, 158.18it/s]\n"
     ]
    },
    {
     "name": "stdout",
     "output_type": "stream",
     "text": [
      "----------\n"
     ]
    },
    {
     "name": "stderr",
     "output_type": "stream",
     "text": [
      "Epoch 48 - loss: 0.4791 - accuracy: 0.7730: 100%|██████████| 16/16 [00:00<00:00, 136.79it/s]\n",
      "Epoch 48 - loss: 0.4829 - accuracy: 0.7580: 100%|██████████| 16/16 [00:00<00:00, 150.02it/s]\n"
     ]
    },
    {
     "name": "stdout",
     "output_type": "stream",
     "text": [
      "----------\n"
     ]
    },
    {
     "name": "stderr",
     "output_type": "stream",
     "text": [
      "Epoch 49 - loss: 0.4778 - accuracy: 0.7800: 100%|██████████| 16/16 [00:00<00:00, 124.32it/s]\n",
      "Epoch 49 - loss: 0.4816 - accuracy: 0.7620: 100%|██████████| 16/16 [00:00<00:00, 156.48it/s]\n"
     ]
    },
    {
     "name": "stdout",
     "output_type": "stream",
     "text": [
      "----------\n"
     ]
    },
    {
     "name": "stderr",
     "output_type": "stream",
     "text": [
      "Epoch 50 - loss: 0.4747 - accuracy: 0.7770: 100%|██████████| 16/16 [00:00<00:00, 138.32it/s]\n",
      "Epoch 50 - loss: 0.4811 - accuracy: 0.7590: 100%|██████████| 16/16 [00:00<00:00, 161.38it/s]\n"
     ]
    },
    {
     "name": "stdout",
     "output_type": "stream",
     "text": [
      "----------\n"
     ]
    },
    {
     "name": "stderr",
     "output_type": "stream",
     "text": [
      "Epoch 51 - loss: 0.4784 - accuracy: 0.7660: 100%|██████████| 16/16 [00:00<00:00, 132.03it/s]\n",
      "Epoch 51 - loss: 0.4800 - accuracy: 0.7730: 100%|██████████| 16/16 [00:00<00:00, 155.85it/s]\n"
     ]
    },
    {
     "name": "stdout",
     "output_type": "stream",
     "text": [
      "----------\n"
     ]
    },
    {
     "name": "stderr",
     "output_type": "stream",
     "text": [
      "Epoch 52 - loss: 0.4758 - accuracy: 0.7800: 100%|██████████| 16/16 [00:00<00:00, 129.33it/s]\n",
      "Epoch 52 - loss: 0.4782 - accuracy: 0.7610: 100%|██████████| 16/16 [00:00<00:00, 135.32it/s]\n"
     ]
    },
    {
     "name": "stdout",
     "output_type": "stream",
     "text": [
      "----------\n"
     ]
    },
    {
     "name": "stderr",
     "output_type": "stream",
     "text": [
      "Epoch 53 - loss: 0.4749 - accuracy: 0.7790: 100%|██████████| 16/16 [00:00<00:00, 116.94it/s]\n",
      "Epoch 53 - loss: 0.4770 - accuracy: 0.7640: 100%|██████████| 16/16 [00:00<00:00, 137.08it/s]\n"
     ]
    },
    {
     "name": "stdout",
     "output_type": "stream",
     "text": [
      "----------\n"
     ]
    },
    {
     "name": "stderr",
     "output_type": "stream",
     "text": [
      "Epoch 54 - loss: 0.4731 - accuracy: 0.7730: 100%|██████████| 16/16 [00:00<00:00, 125.71it/s]\n",
      "Epoch 54 - loss: 0.4758 - accuracy: 0.7610: 100%|██████████| 16/16 [00:00<00:00, 146.09it/s]\n"
     ]
    },
    {
     "name": "stdout",
     "output_type": "stream",
     "text": [
      "----------\n"
     ]
    },
    {
     "name": "stderr",
     "output_type": "stream",
     "text": [
      "Epoch 55 - loss: 0.4750 - accuracy: 0.7780: 100%|██████████| 16/16 [00:00<00:00, 118.64it/s]\n",
      "Epoch 55 - loss: 0.4749 - accuracy: 0.7630: 100%|██████████| 16/16 [00:00<00:00, 136.43it/s]\n"
     ]
    },
    {
     "name": "stdout",
     "output_type": "stream",
     "text": [
      "----------\n"
     ]
    },
    {
     "name": "stderr",
     "output_type": "stream",
     "text": [
      "Epoch 56 - loss: 0.4721 - accuracy: 0.7810: 100%|██████████| 16/16 [00:00<00:00, 125.04it/s]\n",
      "Epoch 56 - loss: 0.4735 - accuracy: 0.7600: 100%|██████████| 16/16 [00:00<00:00, 140.10it/s]\n"
     ]
    },
    {
     "name": "stdout",
     "output_type": "stream",
     "text": [
      "----------\n"
     ]
    },
    {
     "name": "stderr",
     "output_type": "stream",
     "text": [
      "Epoch 57 - loss: 0.4662 - accuracy: 0.7770: 100%|██████████| 16/16 [00:00<00:00, 118.58it/s]\n",
      "Epoch 57 - loss: 0.4728 - accuracy: 0.7610: 100%|██████████| 16/16 [00:00<00:00, 127.32it/s]\n"
     ]
    },
    {
     "name": "stdout",
     "output_type": "stream",
     "text": [
      "----------\n"
     ]
    },
    {
     "name": "stderr",
     "output_type": "stream",
     "text": [
      "Epoch 58 - loss: 0.4662 - accuracy: 0.7890: 100%|██████████| 16/16 [00:00<00:00, 120.50it/s]\n",
      "Epoch 58 - loss: 0.4721 - accuracy: 0.7610: 100%|██████████| 16/16 [00:00<00:00, 127.88it/s]\n"
     ]
    },
    {
     "name": "stdout",
     "output_type": "stream",
     "text": [
      "----------\n"
     ]
    },
    {
     "name": "stderr",
     "output_type": "stream",
     "text": [
      "Epoch 59 - loss: 0.4650 - accuracy: 0.7840: 100%|██████████| 16/16 [00:00<00:00, 116.61it/s]\n",
      "Epoch 59 - loss: 0.4705 - accuracy: 0.7610: 100%|██████████| 16/16 [00:00<00:00, 142.20it/s]\n"
     ]
    },
    {
     "name": "stdout",
     "output_type": "stream",
     "text": [
      "----------\n"
     ]
    },
    {
     "name": "stderr",
     "output_type": "stream",
     "text": [
      "Epoch 60 - loss: 0.4661 - accuracy: 0.7820: 100%|██████████| 16/16 [00:00<00:00, 112.57it/s]\n",
      "Epoch 60 - loss: 0.4699 - accuracy: 0.7640: 100%|██████████| 16/16 [00:00<00:00, 147.55it/s]\n"
     ]
    },
    {
     "name": "stdout",
     "output_type": "stream",
     "text": [
      "----------\n"
     ]
    },
    {
     "name": "stderr",
     "output_type": "stream",
     "text": [
      "Epoch 61 - loss: 0.4646 - accuracy: 0.7750: 100%|██████████| 16/16 [00:00<00:00, 136.71it/s]\n",
      "Epoch 61 - loss: 0.4689 - accuracy: 0.7630: 100%|██████████| 16/16 [00:00<00:00, 157.12it/s]\n"
     ]
    },
    {
     "name": "stdout",
     "output_type": "stream",
     "text": [
      "----------\n"
     ]
    },
    {
     "name": "stderr",
     "output_type": "stream",
     "text": [
      "Epoch 62 - loss: 0.4647 - accuracy: 0.7900: 100%|██████████| 16/16 [00:00<00:00, 119.30it/s]\n",
      "Epoch 62 - loss: 0.4681 - accuracy: 0.7610: 100%|██████████| 16/16 [00:00<00:00, 152.65it/s]\n"
     ]
    },
    {
     "name": "stdout",
     "output_type": "stream",
     "text": [
      "----------\n"
     ]
    },
    {
     "name": "stderr",
     "output_type": "stream",
     "text": [
      "Epoch 63 - loss: 0.4589 - accuracy: 0.7810: 100%|██████████| 16/16 [00:00<00:00, 124.76it/s]\n",
      "Epoch 63 - loss: 0.4669 - accuracy: 0.7640: 100%|██████████| 16/16 [00:00<00:00, 131.97it/s]\n"
     ]
    },
    {
     "name": "stdout",
     "output_type": "stream",
     "text": [
      "----------\n"
     ]
    },
    {
     "name": "stderr",
     "output_type": "stream",
     "text": [
      "Epoch 64 - loss: 0.4586 - accuracy: 0.7900: 100%|██████████| 16/16 [00:00<00:00, 119.18it/s]\n",
      "Epoch 64 - loss: 0.4666 - accuracy: 0.7630: 100%|██████████| 16/16 [00:00<00:00, 131.87it/s]\n"
     ]
    },
    {
     "name": "stdout",
     "output_type": "stream",
     "text": [
      "----------\n"
     ]
    },
    {
     "name": "stderr",
     "output_type": "stream",
     "text": [
      "Epoch 65 - loss: 0.4600 - accuracy: 0.7790: 100%|██████████| 16/16 [00:00<00:00, 118.30it/s]\n",
      "Epoch 65 - loss: 0.4655 - accuracy: 0.7620: 100%|██████████| 16/16 [00:00<00:00, 151.43it/s]\n"
     ]
    },
    {
     "name": "stdout",
     "output_type": "stream",
     "text": [
      "----------\n"
     ]
    },
    {
     "name": "stderr",
     "output_type": "stream",
     "text": [
      "Epoch 66 - loss: 0.4577 - accuracy: 0.7870: 100%|██████████| 16/16 [00:00<00:00, 119.81it/s]\n",
      "Epoch 66 - loss: 0.4645 - accuracy: 0.7630: 100%|██████████| 16/16 [00:00<00:00, 153.53it/s]\n"
     ]
    },
    {
     "name": "stdout",
     "output_type": "stream",
     "text": [
      "----------\n"
     ]
    },
    {
     "name": "stderr",
     "output_type": "stream",
     "text": [
      "Epoch 67 - loss: 0.4566 - accuracy: 0.7850: 100%|██████████| 16/16 [00:00<00:00, 139.63it/s]\n",
      "Epoch 67 - loss: 0.4633 - accuracy: 0.7650: 100%|██████████| 16/16 [00:00<00:00, 160.12it/s]\n"
     ]
    },
    {
     "name": "stdout",
     "output_type": "stream",
     "text": [
      "----------\n"
     ]
    },
    {
     "name": "stderr",
     "output_type": "stream",
     "text": [
      "Epoch 68 - loss: 0.4561 - accuracy: 0.7880: 100%|██████████| 16/16 [00:00<00:00, 115.52it/s]\n",
      "Epoch 68 - loss: 0.4626 - accuracy: 0.7640: 100%|██████████| 16/16 [00:00<00:00, 160.55it/s]\n"
     ]
    },
    {
     "name": "stdout",
     "output_type": "stream",
     "text": [
      "----------\n"
     ]
    },
    {
     "name": "stderr",
     "output_type": "stream",
     "text": [
      "Epoch 69 - loss: 0.4535 - accuracy: 0.7830: 100%|██████████| 16/16 [00:00<00:00, 133.01it/s]\n",
      "Epoch 69 - loss: 0.4618 - accuracy: 0.7630: 100%|██████████| 16/16 [00:00<00:00, 165.91it/s]\n"
     ]
    },
    {
     "name": "stdout",
     "output_type": "stream",
     "text": [
      "----------\n"
     ]
    },
    {
     "name": "stderr",
     "output_type": "stream",
     "text": [
      "Epoch 70 - loss: 0.4552 - accuracy: 0.7920: 100%|██████████| 16/16 [00:00<00:00, 135.01it/s]\n",
      "Epoch 70 - loss: 0.4611 - accuracy: 0.7650: 100%|██████████| 16/16 [00:00<00:00, 160.54it/s]\n"
     ]
    },
    {
     "name": "stdout",
     "output_type": "stream",
     "text": [
      "----------\n"
     ]
    },
    {
     "name": "stderr",
     "output_type": "stream",
     "text": [
      "Epoch 71 - loss: 0.4539 - accuracy: 0.7780: 100%|██████████| 16/16 [00:00<00:00, 135.73it/s]\n",
      "Epoch 71 - loss: 0.4602 - accuracy: 0.7640: 100%|██████████| 16/16 [00:00<00:00, 164.65it/s]\n"
     ]
    },
    {
     "name": "stdout",
     "output_type": "stream",
     "text": [
      "----------\n"
     ]
    },
    {
     "name": "stderr",
     "output_type": "stream",
     "text": [
      "Epoch 72 - loss: 0.4553 - accuracy: 0.7950: 100%|██████████| 16/16 [00:00<00:00, 130.53it/s]\n",
      "Epoch 72 - loss: 0.4592 - accuracy: 0.7630: 100%|██████████| 16/16 [00:00<00:00, 157.30it/s]\n"
     ]
    },
    {
     "name": "stdout",
     "output_type": "stream",
     "text": [
      "----------\n"
     ]
    },
    {
     "name": "stderr",
     "output_type": "stream",
     "text": [
      "Epoch 73 - loss: 0.4544 - accuracy: 0.7790: 100%|██████████| 16/16 [00:00<00:00, 136.45it/s]\n",
      "Epoch 73 - loss: 0.4583 - accuracy: 0.7650: 100%|██████████| 16/16 [00:00<00:00, 157.37it/s]\n"
     ]
    },
    {
     "name": "stdout",
     "output_type": "stream",
     "text": [
      "----------\n"
     ]
    },
    {
     "name": "stderr",
     "output_type": "stream",
     "text": [
      "Epoch 74 - loss: 0.4495 - accuracy: 0.7970: 100%|██████████| 16/16 [00:00<00:00, 131.45it/s]\n",
      "Epoch 74 - loss: 0.4576 - accuracy: 0.7680: 100%|██████████| 16/16 [00:00<00:00, 162.98it/s]\n"
     ]
    },
    {
     "name": "stdout",
     "output_type": "stream",
     "text": [
      "----------\n"
     ]
    },
    {
     "name": "stderr",
     "output_type": "stream",
     "text": [
      "Epoch 75 - loss: 0.4491 - accuracy: 0.7880: 100%|██████████| 16/16 [00:00<00:00, 131.95it/s]\n",
      "Epoch 75 - loss: 0.4571 - accuracy: 0.7650: 100%|██████████| 16/16 [00:00<00:00, 163.83it/s]\n"
     ]
    },
    {
     "name": "stdout",
     "output_type": "stream",
     "text": [
      "----------\n"
     ]
    },
    {
     "name": "stderr",
     "output_type": "stream",
     "text": [
      "Epoch 76 - loss: 0.4517 - accuracy: 0.7960: 100%|██████████| 16/16 [00:00<00:00, 131.80it/s]\n",
      "Epoch 76 - loss: 0.4559 - accuracy: 0.7650: 100%|██████████| 16/16 [00:00<00:00, 154.33it/s]\n"
     ]
    },
    {
     "name": "stdout",
     "output_type": "stream",
     "text": [
      "----------\n"
     ]
    },
    {
     "name": "stderr",
     "output_type": "stream",
     "text": [
      "Epoch 77 - loss: 0.4524 - accuracy: 0.7800: 100%|██████████| 16/16 [00:00<00:00, 113.65it/s]\n",
      "Epoch 77 - loss: 0.4550 - accuracy: 0.7670: 100%|██████████| 16/16 [00:00<00:00, 160.54it/s]\n"
     ]
    },
    {
     "name": "stdout",
     "output_type": "stream",
     "text": [
      "----------\n"
     ]
    },
    {
     "name": "stderr",
     "output_type": "stream",
     "text": [
      "Epoch 78 - loss: 0.4478 - accuracy: 0.7910: 100%|██████████| 16/16 [00:00<00:00, 135.08it/s]\n",
      "Epoch 78 - loss: 0.4544 - accuracy: 0.7660: 100%|██████████| 16/16 [00:00<00:00, 161.24it/s]\n"
     ]
    },
    {
     "name": "stdout",
     "output_type": "stream",
     "text": [
      "----------\n"
     ]
    },
    {
     "name": "stderr",
     "output_type": "stream",
     "text": [
      "Epoch 79 - loss: 0.4469 - accuracy: 0.7880: 100%|██████████| 16/16 [00:00<00:00, 137.68it/s]\n",
      "Epoch 79 - loss: 0.4535 - accuracy: 0.7670: 100%|██████████| 16/16 [00:00<00:00, 148.31it/s]\n"
     ]
    },
    {
     "name": "stdout",
     "output_type": "stream",
     "text": [
      "----------\n"
     ]
    },
    {
     "name": "stderr",
     "output_type": "stream",
     "text": [
      "Epoch 80 - loss: 0.4454 - accuracy: 0.7960: 100%|██████████| 16/16 [00:00<00:00, 124.77it/s]\n",
      "Epoch 80 - loss: 0.4526 - accuracy: 0.7660: 100%|██████████| 16/16 [00:00<00:00, 150.06it/s]\n"
     ]
    },
    {
     "name": "stdout",
     "output_type": "stream",
     "text": [
      "----------\n"
     ]
    },
    {
     "name": "stderr",
     "output_type": "stream",
     "text": [
      "Epoch 81 - loss: 0.4449 - accuracy: 0.7910: 100%|██████████| 16/16 [00:00<00:00, 130.95it/s]\n",
      "Epoch 81 - loss: 0.4518 - accuracy: 0.7660: 100%|██████████| 16/16 [00:00<00:00, 155.00it/s]\n"
     ]
    },
    {
     "name": "stdout",
     "output_type": "stream",
     "text": [
      "----------\n"
     ]
    },
    {
     "name": "stderr",
     "output_type": "stream",
     "text": [
      "Epoch 82 - loss: 0.4439 - accuracy: 0.7900: 100%|██████████| 16/16 [00:00<00:00, 137.72it/s]\n",
      "Epoch 82 - loss: 0.4513 - accuracy: 0.7670: 100%|██████████| 16/16 [00:00<00:00, 160.54it/s]\n"
     ]
    },
    {
     "name": "stdout",
     "output_type": "stream",
     "text": [
      "----------\n"
     ]
    },
    {
     "name": "stderr",
     "output_type": "stream",
     "text": [
      "Epoch 83 - loss: 0.4445 - accuracy: 0.7960: 100%|██████████| 16/16 [00:00<00:00, 134.01it/s]\n",
      "Epoch 83 - loss: 0.4503 - accuracy: 0.7670: 100%|██████████| 16/16 [00:00<00:00, 159.25it/s]\n"
     ]
    },
    {
     "name": "stdout",
     "output_type": "stream",
     "text": [
      "----------\n"
     ]
    },
    {
     "name": "stderr",
     "output_type": "stream",
     "text": [
      "Epoch 84 - loss: 0.4432 - accuracy: 0.7950: 100%|██████████| 16/16 [00:00<00:00, 127.30it/s]\n",
      "Epoch 84 - loss: 0.4496 - accuracy: 0.7670: 100%|██████████| 16/16 [00:00<00:00, 158.39it/s]\n"
     ]
    },
    {
     "name": "stdout",
     "output_type": "stream",
     "text": [
      "----------\n"
     ]
    },
    {
     "name": "stderr",
     "output_type": "stream",
     "text": [
      "Epoch 85 - loss: 0.4423 - accuracy: 0.7920: 100%|██████████| 16/16 [00:00<00:00, 131.76it/s]\n",
      "Epoch 85 - loss: 0.4486 - accuracy: 0.7690: 100%|██████████| 16/16 [00:00<00:00, 157.37it/s]\n"
     ]
    },
    {
     "name": "stdout",
     "output_type": "stream",
     "text": [
      "----------\n"
     ]
    },
    {
     "name": "stderr",
     "output_type": "stream",
     "text": [
      "Epoch 86 - loss: 0.4406 - accuracy: 0.7940: 100%|██████████| 16/16 [00:00<00:00, 95.50it/s]\n",
      "Epoch 86 - loss: 0.4481 - accuracy: 0.7720: 100%|██████████| 16/16 [00:00<00:00, 149.97it/s]\n"
     ]
    },
    {
     "name": "stdout",
     "output_type": "stream",
     "text": [
      "----------\n"
     ]
    },
    {
     "name": "stderr",
     "output_type": "stream",
     "text": [
      "Epoch 87 - loss: 0.4412 - accuracy: 0.8000: 100%|██████████| 16/16 [00:00<00:00, 133.95it/s]\n",
      "Epoch 87 - loss: 0.4472 - accuracy: 0.7720: 100%|██████████| 16/16 [00:00<00:00, 164.64it/s]\n"
     ]
    },
    {
     "name": "stdout",
     "output_type": "stream",
     "text": [
      "----------\n"
     ]
    },
    {
     "name": "stderr",
     "output_type": "stream",
     "text": [
      "Epoch 88 - loss: 0.4368 - accuracy: 0.7940: 100%|██████████| 16/16 [00:00<00:00, 130.92it/s]\n",
      "Epoch 88 - loss: 0.4470 - accuracy: 0.7670: 100%|██████████| 16/16 [00:00<00:00, 153.31it/s]\n"
     ]
    },
    {
     "name": "stdout",
     "output_type": "stream",
     "text": [
      "----------\n"
     ]
    },
    {
     "name": "stderr",
     "output_type": "stream",
     "text": [
      "Epoch 89 - loss: 0.4373 - accuracy: 0.7990: 100%|██████████| 16/16 [00:00<00:00, 126.36it/s]\n",
      "Epoch 89 - loss: 0.4455 - accuracy: 0.7700: 100%|██████████| 16/16 [00:00<00:00, 155.56it/s]\n"
     ]
    },
    {
     "name": "stdout",
     "output_type": "stream",
     "text": [
      "----------\n"
     ]
    },
    {
     "name": "stderr",
     "output_type": "stream",
     "text": [
      "Epoch 90 - loss: 0.4360 - accuracy: 0.8000: 100%|██████████| 16/16 [00:00<00:00, 135.32it/s]\n",
      "Epoch 90 - loss: 0.4447 - accuracy: 0.7690: 100%|██████████| 16/16 [00:00<00:00, 150.47it/s]\n"
     ]
    },
    {
     "name": "stdout",
     "output_type": "stream",
     "text": [
      "----------\n"
     ]
    },
    {
     "name": "stderr",
     "output_type": "stream",
     "text": [
      "Epoch 91 - loss: 0.4370 - accuracy: 0.7940: 100%|██████████| 16/16 [00:00<00:00, 133.51it/s]\n",
      "Epoch 91 - loss: 0.4440 - accuracy: 0.7740: 100%|██████████| 16/16 [00:00<00:00, 162.68it/s]\n"
     ]
    },
    {
     "name": "stdout",
     "output_type": "stream",
     "text": [
      "----------\n"
     ]
    },
    {
     "name": "stderr",
     "output_type": "stream",
     "text": [
      "Epoch 92 - loss: 0.4355 - accuracy: 0.8020: 100%|██████████| 16/16 [00:00<00:00, 135.38it/s]\n",
      "Epoch 92 - loss: 0.4437 - accuracy: 0.7830: 100%|██████████| 16/16 [00:00<00:00, 158.86it/s]\n"
     ]
    },
    {
     "name": "stdout",
     "output_type": "stream",
     "text": [
      "----------\n"
     ]
    },
    {
     "name": "stderr",
     "output_type": "stream",
     "text": [
      "Epoch 93 - loss: 0.4353 - accuracy: 0.8020: 100%|██████████| 16/16 [00:00<00:00, 139.69it/s]\n",
      "Epoch 93 - loss: 0.4426 - accuracy: 0.7690: 100%|██████████| 16/16 [00:00<00:00, 147.19it/s]\n"
     ]
    },
    {
     "name": "stdout",
     "output_type": "stream",
     "text": [
      "----------\n"
     ]
    },
    {
     "name": "stderr",
     "output_type": "stream",
     "text": [
      "Epoch 94 - loss: 0.4335 - accuracy: 0.7950: 100%|██████████| 16/16 [00:00<00:00, 121.50it/s]\n",
      "Epoch 94 - loss: 0.4416 - accuracy: 0.7780: 100%|██████████| 16/16 [00:00<00:00, 138.55it/s]\n"
     ]
    },
    {
     "name": "stdout",
     "output_type": "stream",
     "text": [
      "----------\n"
     ]
    },
    {
     "name": "stderr",
     "output_type": "stream",
     "text": [
      "Epoch 95 - loss: 0.4364 - accuracy: 0.8020: 100%|██████████| 16/16 [00:00<00:00, 117.86it/s]\n",
      "Epoch 95 - loss: 0.4417 - accuracy: 0.7680: 100%|██████████| 16/16 [00:00<00:00, 140.06it/s]\n"
     ]
    },
    {
     "name": "stdout",
     "output_type": "stream",
     "text": [
      "----------\n"
     ]
    },
    {
     "name": "stderr",
     "output_type": "stream",
     "text": [
      "Epoch 96 - loss: 0.4314 - accuracy: 0.7980: 100%|██████████| 16/16 [00:00<00:00, 129.87it/s]\n",
      "Epoch 96 - loss: 0.4401 - accuracy: 0.7790: 100%|██████████| 16/16 [00:00<00:00, 150.68it/s]\n"
     ]
    },
    {
     "name": "stdout",
     "output_type": "stream",
     "text": [
      "----------\n"
     ]
    },
    {
     "name": "stderr",
     "output_type": "stream",
     "text": [
      "Epoch 97 - loss: 0.4286 - accuracy: 0.8050: 100%|██████████| 16/16 [00:00<00:00, 124.12it/s]\n",
      "Epoch 97 - loss: 0.4393 - accuracy: 0.7800: 100%|██████████| 16/16 [00:00<00:00, 136.00it/s]\n"
     ]
    },
    {
     "name": "stdout",
     "output_type": "stream",
     "text": [
      "----------\n"
     ]
    },
    {
     "name": "stderr",
     "output_type": "stream",
     "text": [
      "Epoch 98 - loss: 0.4298 - accuracy: 0.8020: 100%|██████████| 16/16 [00:00<00:00, 125.22it/s]\n",
      "Epoch 98 - loss: 0.4386 - accuracy: 0.7780: 100%|██████████| 16/16 [00:00<00:00, 134.38it/s]\n"
     ]
    },
    {
     "name": "stdout",
     "output_type": "stream",
     "text": [
      "----------\n"
     ]
    },
    {
     "name": "stderr",
     "output_type": "stream",
     "text": [
      "Epoch 99 - loss: 0.4294 - accuracy: 0.8000: 100%|██████████| 16/16 [00:00<00:00, 108.20it/s]\n",
      "Epoch 99 - loss: 0.4379 - accuracy: 0.7720: 100%|██████████| 16/16 [00:00<00:00, 152.88it/s]\n"
     ]
    },
    {
     "name": "stdout",
     "output_type": "stream",
     "text": [
      "----------\n"
     ]
    },
    {
     "name": "stderr",
     "output_type": "stream",
     "text": [
      "Epoch 100 - loss: 0.4287 - accuracy: 0.8010: 100%|██████████| 16/16 [00:00<00:00, 134.31it/s]\n",
      "Epoch 100 - loss: 0.4370 - accuracy: 0.7830: 100%|██████████| 16/16 [00:00<00:00, 150.68it/s]\n"
     ]
    },
    {
     "name": "stdout",
     "output_type": "stream",
     "text": [
      "----------\n"
     ]
    },
    {
     "name": "stderr",
     "output_type": "stream",
     "text": [
      "Epoch 101 - loss: 0.4276 - accuracy: 0.8060: 100%|██████████| 16/16 [00:00<00:00, 121.63it/s]\n",
      "Epoch 101 - loss: 0.4364 - accuracy: 0.7810: 100%|██████████| 16/16 [00:00<00:00, 139.05it/s]\n"
     ]
    },
    {
     "name": "stdout",
     "output_type": "stream",
     "text": [
      "----------\n"
     ]
    },
    {
     "name": "stderr",
     "output_type": "stream",
     "text": [
      "Epoch 102 - loss: 0.4289 - accuracy: 0.8050: 100%|██████████| 16/16 [00:00<00:00, 128.28it/s]\n",
      "Epoch 102 - loss: 0.4357 - accuracy: 0.7810: 100%|██████████| 16/16 [00:00<00:00, 162.91it/s]\n"
     ]
    },
    {
     "name": "stdout",
     "output_type": "stream",
     "text": [
      "----------\n"
     ]
    },
    {
     "name": "stderr",
     "output_type": "stream",
     "text": [
      "Epoch 103 - loss: 0.4287 - accuracy: 0.8020: 100%|██████████| 16/16 [00:00<00:00, 138.89it/s]\n",
      "Epoch 103 - loss: 0.4348 - accuracy: 0.7760: 100%|██████████| 16/16 [00:00<00:00, 140.12it/s]\n"
     ]
    },
    {
     "name": "stdout",
     "output_type": "stream",
     "text": [
      "----------\n"
     ]
    },
    {
     "name": "stderr",
     "output_type": "stream",
     "text": [
      "Epoch 104 - loss: 0.4269 - accuracy: 0.8040: 100%|██████████| 16/16 [00:00<00:00, 107.71it/s]\n",
      "Epoch 104 - loss: 0.4342 - accuracy: 0.7800: 100%|██████████| 16/16 [00:00<00:00, 152.87it/s]\n"
     ]
    },
    {
     "name": "stdout",
     "output_type": "stream",
     "text": [
      "----------\n"
     ]
    },
    {
     "name": "stderr",
     "output_type": "stream",
     "text": [
      "Epoch 105 - loss: 0.4238 - accuracy: 0.8030: 100%|██████████| 16/16 [00:00<00:00, 121.51it/s]\n",
      "Epoch 105 - loss: 0.4333 - accuracy: 0.7890: 100%|██████████| 16/16 [00:00<00:00, 145.22it/s]\n"
     ]
    },
    {
     "name": "stdout",
     "output_type": "stream",
     "text": [
      "----------\n"
     ]
    },
    {
     "name": "stderr",
     "output_type": "stream",
     "text": [
      "Epoch 106 - loss: 0.4249 - accuracy: 0.8110: 100%|██████████| 16/16 [00:00<00:00, 129.17it/s]\n",
      "Epoch 106 - loss: 0.4324 - accuracy: 0.7790: 100%|██████████| 16/16 [00:00<00:00, 148.50it/s]\n"
     ]
    },
    {
     "name": "stdout",
     "output_type": "stream",
     "text": [
      "----------\n"
     ]
    },
    {
     "name": "stderr",
     "output_type": "stream",
     "text": [
      "Epoch 107 - loss: 0.4254 - accuracy: 0.8030: 100%|██████████| 16/16 [00:00<00:00, 131.71it/s]\n",
      "Epoch 107 - loss: 0.4318 - accuracy: 0.7780: 100%|██████████| 16/16 [00:00<00:00, 147.88it/s]\n"
     ]
    },
    {
     "name": "stdout",
     "output_type": "stream",
     "text": [
      "----------\n"
     ]
    },
    {
     "name": "stderr",
     "output_type": "stream",
     "text": [
      "Epoch 108 - loss: 0.4259 - accuracy: 0.8000: 100%|██████████| 16/16 [00:00<00:00, 127.78it/s]\n",
      "Epoch 108 - loss: 0.4318 - accuracy: 0.7980: 100%|██████████| 16/16 [00:00<00:00, 157.36it/s]\n"
     ]
    },
    {
     "name": "stdout",
     "output_type": "stream",
     "text": [
      "----------\n"
     ]
    },
    {
     "name": "stderr",
     "output_type": "stream",
     "text": [
      "Epoch 109 - loss: 0.4191 - accuracy: 0.8150: 100%|██████████| 16/16 [00:00<00:00, 132.41it/s]\n",
      "Epoch 109 - loss: 0.4302 - accuracy: 0.7830: 100%|██████████| 16/16 [00:00<00:00, 162.98it/s]\n"
     ]
    },
    {
     "name": "stdout",
     "output_type": "stream",
     "text": [
      "----------\n"
     ]
    },
    {
     "name": "stderr",
     "output_type": "stream",
     "text": [
      "Epoch 110 - loss: 0.4196 - accuracy: 0.8000: 100%|██████████| 16/16 [00:00<00:00, 132.32it/s]\n",
      "Epoch 110 - loss: 0.4297 - accuracy: 0.7800: 100%|██████████| 16/16 [00:00<00:00, 162.17it/s]\n"
     ]
    },
    {
     "name": "stdout",
     "output_type": "stream",
     "text": [
      "----------\n"
     ]
    },
    {
     "name": "stderr",
     "output_type": "stream",
     "text": [
      "Epoch 111 - loss: 0.4173 - accuracy: 0.8040: 100%|██████████| 16/16 [00:00<00:00, 132.92it/s]\n",
      "Epoch 111 - loss: 0.4290 - accuracy: 0.7930: 100%|██████████| 16/16 [00:00<00:00, 162.20it/s]\n"
     ]
    },
    {
     "name": "stdout",
     "output_type": "stream",
     "text": [
      "----------\n"
     ]
    },
    {
     "name": "stderr",
     "output_type": "stream",
     "text": [
      "Epoch 112 - loss: 0.4179 - accuracy: 0.8080: 100%|██████████| 16/16 [00:00<00:00, 132.06it/s]\n",
      "Epoch 112 - loss: 0.4282 - accuracy: 0.7840: 100%|██████████| 16/16 [00:00<00:00, 166.38it/s]\n"
     ]
    },
    {
     "name": "stdout",
     "output_type": "stream",
     "text": [
      "----------\n"
     ]
    },
    {
     "name": "stderr",
     "output_type": "stream",
     "text": [
      "Epoch 113 - loss: 0.4139 - accuracy: 0.8060: 100%|██████████| 16/16 [00:00<00:00, 117.41it/s]\n",
      "Epoch 113 - loss: 0.4274 - accuracy: 0.7840: 100%|██████████| 16/16 [00:00<00:00, 146.98it/s]\n"
     ]
    },
    {
     "name": "stdout",
     "output_type": "stream",
     "text": [
      "----------\n"
     ]
    },
    {
     "name": "stderr",
     "output_type": "stream",
     "text": [
      "Epoch 114 - loss: 0.4144 - accuracy: 0.8050: 100%|██████████| 16/16 [00:00<00:00, 134.78it/s]\n",
      "Epoch 114 - loss: 0.4268 - accuracy: 0.7800: 100%|██████████| 16/16 [00:00<00:00, 160.17it/s]\n"
     ]
    },
    {
     "name": "stdout",
     "output_type": "stream",
     "text": [
      "----------\n"
     ]
    },
    {
     "name": "stderr",
     "output_type": "stream",
     "text": [
      "Epoch 115 - loss: 0.4157 - accuracy: 0.8070: 100%|██████████| 16/16 [00:00<00:00, 134.19it/s]\n",
      "Epoch 115 - loss: 0.4260 - accuracy: 0.7950: 100%|██████████| 16/16 [00:00<00:00, 162.69it/s]\n"
     ]
    },
    {
     "name": "stdout",
     "output_type": "stream",
     "text": [
      "----------\n"
     ]
    },
    {
     "name": "stderr",
     "output_type": "stream",
     "text": [
      "Epoch 116 - loss: 0.4120 - accuracy: 0.8090: 100%|██████████| 16/16 [00:00<00:00, 132.64it/s]\n",
      "Epoch 116 - loss: 0.4253 - accuracy: 0.7830: 100%|██████████| 16/16 [00:00<00:00, 164.33it/s]\n"
     ]
    },
    {
     "name": "stdout",
     "output_type": "stream",
     "text": [
      "----------\n"
     ]
    },
    {
     "name": "stderr",
     "output_type": "stream",
     "text": [
      "Epoch 117 - loss: 0.4151 - accuracy: 0.8110: 100%|██████████| 16/16 [00:00<00:00, 138.87it/s]\n",
      "Epoch 117 - loss: 0.4242 - accuracy: 0.7930: 100%|██████████| 16/16 [00:00<00:00, 160.51it/s]\n"
     ]
    },
    {
     "name": "stdout",
     "output_type": "stream",
     "text": [
      "----------\n"
     ]
    },
    {
     "name": "stderr",
     "output_type": "stream",
     "text": [
      "Epoch 118 - loss: 0.4161 - accuracy: 0.8080: 100%|██████████| 16/16 [00:00<00:00, 134.19it/s]\n",
      "Epoch 118 - loss: 0.4238 - accuracy: 0.7980: 100%|██████████| 16/16 [00:00<00:00, 158.55it/s]\n"
     ]
    },
    {
     "name": "stdout",
     "output_type": "stream",
     "text": [
      "----------\n"
     ]
    },
    {
     "name": "stderr",
     "output_type": "stream",
     "text": [
      "Epoch 119 - loss: 0.4127 - accuracy: 0.8140: 100%|██████████| 16/16 [00:00<00:00, 124.24it/s]\n",
      "Epoch 119 - loss: 0.4238 - accuracy: 0.7920: 100%|██████████| 16/16 [00:00<00:00, 131.62it/s]\n"
     ]
    },
    {
     "name": "stdout",
     "output_type": "stream",
     "text": [
      "----------\n"
     ]
    },
    {
     "name": "stderr",
     "output_type": "stream",
     "text": [
      "Epoch 120 - loss: 0.4112 - accuracy: 0.8110: 100%|██████████| 16/16 [00:00<00:00, 122.33it/s]\n",
      "Epoch 120 - loss: 0.4228 - accuracy: 0.7990: 100%|██████████| 16/16 [00:00<00:00, 138.23it/s]\n"
     ]
    },
    {
     "name": "stdout",
     "output_type": "stream",
     "text": [
      "----------\n"
     ]
    },
    {
     "name": "stderr",
     "output_type": "stream",
     "text": [
      "Epoch 121 - loss: 0.4146 - accuracy: 0.8080: 100%|██████████| 16/16 [00:00<00:00, 112.04it/s]\n",
      "Epoch 121 - loss: 0.4218 - accuracy: 0.7990: 100%|██████████| 16/16 [00:00<00:00, 134.23it/s]\n"
     ]
    },
    {
     "name": "stdout",
     "output_type": "stream",
     "text": [
      "----------\n"
     ]
    },
    {
     "name": "stderr",
     "output_type": "stream",
     "text": [
      "Epoch 122 - loss: 0.4147 - accuracy: 0.8060: 100%|██████████| 16/16 [00:00<00:00, 121.93it/s]\n",
      "Epoch 122 - loss: 0.4209 - accuracy: 0.7860: 100%|██████████| 16/16 [00:00<00:00, 142.32it/s]\n"
     ]
    },
    {
     "name": "stdout",
     "output_type": "stream",
     "text": [
      "----------\n"
     ]
    },
    {
     "name": "stderr",
     "output_type": "stream",
     "text": [
      "Epoch 123 - loss: 0.4103 - accuracy: 0.8130: 100%|██████████| 16/16 [00:00<00:00, 120.49it/s]\n",
      "Epoch 123 - loss: 0.4202 - accuracy: 0.7920: 100%|██████████| 16/16 [00:00<00:00, 137.26it/s]\n"
     ]
    },
    {
     "name": "stdout",
     "output_type": "stream",
     "text": [
      "----------\n"
     ]
    },
    {
     "name": "stderr",
     "output_type": "stream",
     "text": [
      "Epoch 124 - loss: 0.4093 - accuracy: 0.8120: 100%|██████████| 16/16 [00:00<00:00, 123.54it/s]\n",
      "Epoch 124 - loss: 0.4211 - accuracy: 0.8100: 100%|██████████| 16/16 [00:00<00:00, 129.86it/s]\n"
     ]
    },
    {
     "name": "stdout",
     "output_type": "stream",
     "text": [
      "----------\n"
     ]
    },
    {
     "name": "stderr",
     "output_type": "stream",
     "text": [
      "Epoch 125 - loss: 0.4082 - accuracy: 0.8140: 100%|██████████| 16/16 [00:00<00:00, 121.04it/s]\n",
      "Epoch 125 - loss: 0.4204 - accuracy: 0.7820: 100%|██████████| 16/16 [00:00<00:00, 141.38it/s]\n"
     ]
    },
    {
     "name": "stdout",
     "output_type": "stream",
     "text": [
      "----------\n"
     ]
    },
    {
     "name": "stderr",
     "output_type": "stream",
     "text": [
      "Epoch 126 - loss: 0.4074 - accuracy: 0.8120: 100%|██████████| 16/16 [00:00<00:00, 113.65it/s]\n",
      "Epoch 126 - loss: 0.4180 - accuracy: 0.8020: 100%|██████████| 16/16 [00:00<00:00, 142.95it/s]\n"
     ]
    },
    {
     "name": "stdout",
     "output_type": "stream",
     "text": [
      "----------\n"
     ]
    },
    {
     "name": "stderr",
     "output_type": "stream",
     "text": [
      "Epoch 127 - loss: 0.4063 - accuracy: 0.8170: 100%|██████████| 16/16 [00:00<00:00, 129.24it/s]\n",
      "Epoch 127 - loss: 0.4171 - accuracy: 0.7970: 100%|██████████| 16/16 [00:00<00:00, 160.49it/s]\n"
     ]
    },
    {
     "name": "stdout",
     "output_type": "stream",
     "text": [
      "----------\n"
     ]
    },
    {
     "name": "stderr",
     "output_type": "stream",
     "text": [
      "Epoch 128 - loss: 0.4031 - accuracy: 0.8090: 100%|██████████| 16/16 [00:00<00:00, 133.67it/s]\n",
      "Epoch 128 - loss: 0.4161 - accuracy: 0.7980: 100%|██████████| 16/16 [00:00<00:00, 143.28it/s]\n"
     ]
    },
    {
     "name": "stdout",
     "output_type": "stream",
     "text": [
      "----------\n"
     ]
    },
    {
     "name": "stderr",
     "output_type": "stream",
     "text": [
      "Epoch 129 - loss: 0.4068 - accuracy: 0.8100: 100%|██████████| 16/16 [00:00<00:00, 117.18it/s]\n",
      "Epoch 129 - loss: 0.4155 - accuracy: 0.7990: 100%|██████████| 16/16 [00:00<00:00, 137.64it/s]\n"
     ]
    },
    {
     "name": "stdout",
     "output_type": "stream",
     "text": [
      "----------\n"
     ]
    },
    {
     "name": "stderr",
     "output_type": "stream",
     "text": [
      "Epoch 130 - loss: 0.4042 - accuracy: 0.8110: 100%|██████████| 16/16 [00:00<00:00, 107.46it/s]\n",
      "Epoch 130 - loss: 0.4149 - accuracy: 0.8040: 100%|██████████| 16/16 [00:00<00:00, 133.63it/s]\n"
     ]
    },
    {
     "name": "stdout",
     "output_type": "stream",
     "text": [
      "----------\n"
     ]
    },
    {
     "name": "stderr",
     "output_type": "stream",
     "text": [
      "Epoch 131 - loss: 0.4075 - accuracy: 0.8180: 100%|██████████| 16/16 [00:00<00:00, 114.26it/s]\n",
      "Epoch 131 - loss: 0.4148 - accuracy: 0.7900: 100%|██████████| 16/16 [00:00<00:00, 137.13it/s]\n"
     ]
    },
    {
     "name": "stdout",
     "output_type": "stream",
     "text": [
      "----------\n"
     ]
    },
    {
     "name": "stderr",
     "output_type": "stream",
     "text": [
      "Epoch 132 - loss: 0.4043 - accuracy: 0.8150: 100%|██████████| 16/16 [00:00<00:00, 127.93it/s]\n",
      "Epoch 132 - loss: 0.4131 - accuracy: 0.7980: 100%|██████████| 16/16 [00:00<00:00, 152.13it/s]\n"
     ]
    },
    {
     "name": "stdout",
     "output_type": "stream",
     "text": [
      "----------\n"
     ]
    },
    {
     "name": "stderr",
     "output_type": "stream",
     "text": [
      "Epoch 133 - loss: 0.4012 - accuracy: 0.8090: 100%|██████████| 16/16 [00:00<00:00, 119.62it/s]\n",
      "Epoch 133 - loss: 0.4124 - accuracy: 0.7990: 100%|██████████| 16/16 [00:00<00:00, 153.54it/s]\n"
     ]
    },
    {
     "name": "stdout",
     "output_type": "stream",
     "text": [
      "----------\n"
     ]
    },
    {
     "name": "stderr",
     "output_type": "stream",
     "text": [
      "Epoch 134 - loss: 0.3995 - accuracy: 0.8110: 100%|██████████| 16/16 [00:00<00:00, 133.64it/s]\n",
      "Epoch 134 - loss: 0.4130 - accuracy: 0.8090: 100%|██████████| 16/16 [00:00<00:00, 161.17it/s]\n"
     ]
    },
    {
     "name": "stdout",
     "output_type": "stream",
     "text": [
      "----------\n"
     ]
    },
    {
     "name": "stderr",
     "output_type": "stream",
     "text": [
      "Epoch 135 - loss: 0.3980 - accuracy: 0.8190: 100%|██████████| 16/16 [00:00<00:00, 134.81it/s]\n",
      "Epoch 135 - loss: 0.4116 - accuracy: 0.7970: 100%|██████████| 16/16 [00:00<00:00, 165.55it/s]\n"
     ]
    },
    {
     "name": "stdout",
     "output_type": "stream",
     "text": [
      "----------\n"
     ]
    },
    {
     "name": "stderr",
     "output_type": "stream",
     "text": [
      "Epoch 136 - loss: 0.4012 - accuracy: 0.8080: 100%|██████████| 16/16 [00:00<00:00, 132.47it/s]\n",
      "Epoch 136 - loss: 0.4104 - accuracy: 0.8050: 100%|██████████| 16/16 [00:00<00:00, 162.96it/s]\n"
     ]
    },
    {
     "name": "stdout",
     "output_type": "stream",
     "text": [
      "----------\n"
     ]
    },
    {
     "name": "stderr",
     "output_type": "stream",
     "text": [
      "Epoch 137 - loss: 0.3968 - accuracy: 0.8140: 100%|██████████| 16/16 [00:00<00:00, 129.37it/s]\n",
      "Epoch 137 - loss: 0.4094 - accuracy: 0.8000: 100%|██████████| 16/16 [00:00<00:00, 162.08it/s]\n"
     ]
    },
    {
     "name": "stdout",
     "output_type": "stream",
     "text": [
      "----------\n"
     ]
    },
    {
     "name": "stderr",
     "output_type": "stream",
     "text": [
      "Epoch 138 - loss: 0.3973 - accuracy: 0.8110: 100%|██████████| 16/16 [00:00<00:00, 116.99it/s]\n",
      "Epoch 138 - loss: 0.4088 - accuracy: 0.7980: 100%|██████████| 16/16 [00:00<00:00, 147.04it/s]\n"
     ]
    },
    {
     "name": "stdout",
     "output_type": "stream",
     "text": [
      "----------\n"
     ]
    },
    {
     "name": "stderr",
     "output_type": "stream",
     "text": [
      "Epoch 139 - loss: 0.3990 - accuracy: 0.8150: 100%|██████████| 16/16 [00:00<00:00, 132.36it/s]\n",
      "Epoch 139 - loss: 0.4085 - accuracy: 0.8080: 100%|██████████| 16/16 [00:00<00:00, 164.97it/s]\n"
     ]
    },
    {
     "name": "stdout",
     "output_type": "stream",
     "text": [
      "----------\n"
     ]
    },
    {
     "name": "stderr",
     "output_type": "stream",
     "text": [
      "Epoch 140 - loss: 0.3955 - accuracy: 0.8200: 100%|██████████| 16/16 [00:00<00:00, 121.93it/s]\n",
      "Epoch 140 - loss: 0.4077 - accuracy: 0.7980: 100%|██████████| 16/16 [00:00<00:00, 162.15it/s]\n"
     ]
    },
    {
     "name": "stdout",
     "output_type": "stream",
     "text": [
      "----------\n"
     ]
    },
    {
     "name": "stderr",
     "output_type": "stream",
     "text": [
      "Epoch 141 - loss: 0.3951 - accuracy: 0.8110: 100%|██████████| 16/16 [00:00<00:00, 123.02it/s]\n",
      "Epoch 141 - loss: 0.4067 - accuracy: 0.8080: 100%|██████████| 16/16 [00:00<00:00, 159.22it/s]\n"
     ]
    },
    {
     "name": "stdout",
     "output_type": "stream",
     "text": [
      "----------\n"
     ]
    },
    {
     "name": "stderr",
     "output_type": "stream",
     "text": [
      "Epoch 142 - loss: 0.3914 - accuracy: 0.8150: 100%|██████████| 16/16 [00:00<00:00, 126.73it/s]\n",
      "Epoch 142 - loss: 0.4057 - accuracy: 0.8000: 100%|██████████| 16/16 [00:00<00:00, 163.80it/s]\n"
     ]
    },
    {
     "name": "stdout",
     "output_type": "stream",
     "text": [
      "----------\n"
     ]
    },
    {
     "name": "stderr",
     "output_type": "stream",
     "text": [
      "Epoch 143 - loss: 0.3928 - accuracy: 0.8140: 100%|██████████| 16/16 [00:00<00:00, 120.19it/s]\n",
      "Epoch 143 - loss: 0.4051 - accuracy: 0.8080: 100%|██████████| 16/16 [00:00<00:00, 159.69it/s]\n"
     ]
    },
    {
     "name": "stdout",
     "output_type": "stream",
     "text": [
      "----------\n"
     ]
    },
    {
     "name": "stderr",
     "output_type": "stream",
     "text": [
      "Epoch 144 - loss: 0.3919 - accuracy: 0.8140: 100%|██████████| 16/16 [00:00<00:00, 130.39it/s]\n",
      "Epoch 144 - loss: 0.4045 - accuracy: 0.8040: 100%|██████████| 16/16 [00:00<00:00, 135.68it/s]\n"
     ]
    },
    {
     "name": "stdout",
     "output_type": "stream",
     "text": [
      "----------\n"
     ]
    },
    {
     "name": "stderr",
     "output_type": "stream",
     "text": [
      "Epoch 145 - loss: 0.3922 - accuracy: 0.8150: 100%|██████████| 16/16 [00:00<00:00, 117.87it/s]\n",
      "Epoch 145 - loss: 0.4048 - accuracy: 0.7950: 100%|██████████| 16/16 [00:00<00:00, 161.80it/s]\n"
     ]
    },
    {
     "name": "stdout",
     "output_type": "stream",
     "text": [
      "----------\n"
     ]
    },
    {
     "name": "stderr",
     "output_type": "stream",
     "text": [
      "Epoch 146 - loss: 0.3888 - accuracy: 0.8130: 100%|██████████| 16/16 [00:00<00:00, 131.49it/s]\n",
      "Epoch 146 - loss: 0.4025 - accuracy: 0.8010: 100%|██████████| 16/16 [00:00<00:00, 162.73it/s]\n"
     ]
    },
    {
     "name": "stdout",
     "output_type": "stream",
     "text": [
      "----------\n"
     ]
    },
    {
     "name": "stderr",
     "output_type": "stream",
     "text": [
      "Epoch 147 - loss: 0.3891 - accuracy: 0.8150: 100%|██████████| 16/16 [00:00<00:00, 112.06it/s]\n",
      "Epoch 147 - loss: 0.4018 - accuracy: 0.8030: 100%|██████████| 16/16 [00:00<00:00, 146.51it/s]\n"
     ]
    },
    {
     "name": "stdout",
     "output_type": "stream",
     "text": [
      "----------\n"
     ]
    },
    {
     "name": "stderr",
     "output_type": "stream",
     "text": [
      "Epoch 148 - loss: 0.3898 - accuracy: 0.8160: 100%|██████████| 16/16 [00:00<00:00, 137.07it/s]\n",
      "Epoch 148 - loss: 0.4016 - accuracy: 0.8050: 100%|██████████| 16/16 [00:00<00:00, 156.82it/s]\n"
     ]
    },
    {
     "name": "stdout",
     "output_type": "stream",
     "text": [
      "----------\n"
     ]
    },
    {
     "name": "stderr",
     "output_type": "stream",
     "text": [
      "Epoch 149 - loss: 0.3868 - accuracy: 0.8140: 100%|██████████| 16/16 [00:00<00:00, 138.39it/s]\n",
      "Epoch 149 - loss: 0.4006 - accuracy: 0.8060: 100%|██████████| 16/16 [00:00<00:00, 155.84it/s]"
     ]
    },
    {
     "name": "stdout",
     "output_type": "stream",
     "text": [
      "----------\n"
     ]
    },
    {
     "name": "stderr",
     "output_type": "stream",
     "text": [
      "\n"
     ]
    }
   ],
   "source": [
    "# Tensoboard logger\n",
    "import time\n",
    "from supervised_ml import get_tensorboard_writer\n",
    "\n",
    "run_name = f'[256]/{str(int(time.time()))}'\n",
    "tensorboard_writer = get_tensorboard_writer(run_name)\n",
    "\n",
    "# Adam is always a safe choice\n",
    "import torch.optim as optim\n",
    "optimizer = optim.Adam(model.parameters())\n",
    "\n",
    "from supervised_ml import get_train_val_loop\n",
    "train_val_loop = get_train_val_loop(model, criterion, optimizer, tensorboard_writer)\n",
    "\n",
    "N_EPOCHS = 150\n",
    "\n",
    "for epoch in range(N_EPOCHS):\n",
    "    # train\n",
    "    train_val_loop(is_train=True, dataloader=train_dataloader, epoch=epoch)\n",
    "\n",
    "    with torch.no_grad():\n",
    "        # validate\n",
    "        train_val_loop(is_train=False, dataloader=test_dataloader, epoch=epoch)\n",
    "\n",
    "    print('----------')"
   ]
  },
  {
   "cell_type": "markdown",
   "id": "184e8bc1",
   "metadata": {},
   "source": [
    "## Model 3: Neural network with 2 hidden layers"
   ]
  },
  {
   "cell_type": "markdown",
   "id": "e8408e6c",
   "metadata": {},
   "source": [
    "### Model architecture 📐🏗️"
   ]
  },
  {
   "cell_type": "code",
   "execution_count": 20,
   "id": "fac1d923",
   "metadata": {},
   "outputs": [
    {
     "name": "stdout",
     "output_type": "stream",
     "text": [
      "67,586 parameters\n",
      "Sequential(\n",
      "  (0): Linear(in_features=4, out_features=256, bias=True)\n",
      "  (1): ReLU()\n",
      "  (2): Linear(in_features=256, out_features=256, bias=True)\n",
      "  (3): ReLU()\n",
      "  (4): Linear(in_features=256, out_features=2, bias=True)\n",
      ")\n"
     ]
    }
   ],
   "source": [
    "model = get_model(input_dim=4, output_dim=2, hidden_layers=[256, 256])\n",
    "device = torch.device(\"cuda\" if torch.cuda.is_available() else \"cpu\")\n",
    "model.to(device)\n",
    "\n",
    "print(f'{count_parameters(model):,} parameters')\n",
    "print(model)"
   ]
  },
  {
   "cell_type": "markdown",
   "id": "5daf282f",
   "metadata": {},
   "source": [
    "![image](https://github.com/Paulescu/hands-on-rl/blob/main/03_cart_pole/images/nn_2_hidden_layers_sml.jpg?raw=true)"
   ]
  },
  {
   "cell_type": "markdown",
   "id": "86125275",
   "metadata": {},
   "source": [
    "### Train loop 🏋️"
   ]
  },
  {
   "cell_type": "code",
   "execution_count": 21,
   "id": "e4d72a5a",
   "metadata": {
    "scrolled": true
   },
   "outputs": [
    {
     "name": "stderr",
     "output_type": "stream",
     "text": [
      "Epoch 0 - loss: 0.6157 - accuracy: 0.6720: 100%|██████████| 16/16 [00:00<00:00, 115.40it/s]\n",
      "Epoch 0 - loss: 0.5656 - accuracy: 0.7000: 100%|██████████| 16/16 [00:00<00:00, 161.03it/s]\n"
     ]
    },
    {
     "name": "stdout",
     "output_type": "stream",
     "text": [
      "----------\n"
     ]
    },
    {
     "name": "stderr",
     "output_type": "stream",
     "text": [
      "Epoch 1 - loss: 0.5663 - accuracy: 0.7110: 100%|██████████| 16/16 [00:00<00:00, 121.65it/s]\n",
      "Epoch 1 - loss: 0.5712 - accuracy: 0.6990: 100%|██████████| 16/16 [00:00<00:00, 152.53it/s]\n"
     ]
    },
    {
     "name": "stdout",
     "output_type": "stream",
     "text": [
      "----------\n"
     ]
    },
    {
     "name": "stderr",
     "output_type": "stream",
     "text": [
      "Epoch 2 - loss: 0.5639 - accuracy: 0.7120: 100%|██████████| 16/16 [00:00<00:00, 110.50it/s]\n",
      "Epoch 2 - loss: 0.5559 - accuracy: 0.7030: 100%|██████████| 16/16 [00:00<00:00, 145.80it/s]\n"
     ]
    },
    {
     "name": "stdout",
     "output_type": "stream",
     "text": [
      "----------\n"
     ]
    },
    {
     "name": "stderr",
     "output_type": "stream",
     "text": [
      "Epoch 3 - loss: 0.5562 - accuracy: 0.7140: 100%|██████████| 16/16 [00:00<00:00, 105.66it/s]\n",
      "Epoch 3 - loss: 0.5506 - accuracy: 0.7040: 100%|██████████| 16/16 [00:00<00:00, 152.77it/s]\n"
     ]
    },
    {
     "name": "stdout",
     "output_type": "stream",
     "text": [
      "----------\n"
     ]
    },
    {
     "name": "stderr",
     "output_type": "stream",
     "text": [
      "Epoch 4 - loss: 0.5509 - accuracy: 0.7060: 100%|██████████| 16/16 [00:00<00:00, 95.78it/s]\n",
      "Epoch 4 - loss: 0.5459 - accuracy: 0.7000: 100%|██████████| 16/16 [00:00<00:00, 151.65it/s]\n"
     ]
    },
    {
     "name": "stdout",
     "output_type": "stream",
     "text": [
      "----------\n"
     ]
    },
    {
     "name": "stderr",
     "output_type": "stream",
     "text": [
      "Epoch 5 - loss: 0.5447 - accuracy: 0.7030: 100%|██████████| 16/16 [00:00<00:00, 119.56it/s]\n",
      "Epoch 5 - loss: 0.5461 - accuracy: 0.7010: 100%|██████████| 16/16 [00:00<00:00, 151.46it/s]\n"
     ]
    },
    {
     "name": "stdout",
     "output_type": "stream",
     "text": [
      "----------\n"
     ]
    },
    {
     "name": "stderr",
     "output_type": "stream",
     "text": [
      "Epoch 6 - loss: 0.5349 - accuracy: 0.7260: 100%|██████████| 16/16 [00:00<00:00, 116.02it/s]\n",
      "Epoch 6 - loss: 0.5441 - accuracy: 0.6750: 100%|██████████| 16/16 [00:00<00:00, 150.00it/s]\n"
     ]
    },
    {
     "name": "stdout",
     "output_type": "stream",
     "text": [
      "----------\n"
     ]
    },
    {
     "name": "stderr",
     "output_type": "stream",
     "text": [
      "Epoch 7 - loss: 0.5326 - accuracy: 0.7260: 100%|██████████| 16/16 [00:00<00:00, 110.01it/s]\n",
      "Epoch 7 - loss: 0.5342 - accuracy: 0.7040: 100%|██████████| 16/16 [00:00<00:00, 161.59it/s]\n"
     ]
    },
    {
     "name": "stdout",
     "output_type": "stream",
     "text": [
      "----------\n"
     ]
    },
    {
     "name": "stderr",
     "output_type": "stream",
     "text": [
      "Epoch 8 - loss: 0.5328 - accuracy: 0.7140: 100%|██████████| 16/16 [00:00<00:00, 116.92it/s]\n",
      "Epoch 8 - loss: 0.5241 - accuracy: 0.7620: 100%|██████████| 16/16 [00:00<00:00, 157.53it/s]\n"
     ]
    },
    {
     "name": "stdout",
     "output_type": "stream",
     "text": [
      "----------\n"
     ]
    },
    {
     "name": "stderr",
     "output_type": "stream",
     "text": [
      "Epoch 9 - loss: 0.5284 - accuracy: 0.7210: 100%|██████████| 16/16 [00:00<00:00, 114.89it/s]\n",
      "Epoch 9 - loss: 0.5269 - accuracy: 0.6950: 100%|██████████| 16/16 [00:00<00:00, 153.65it/s]\n"
     ]
    },
    {
     "name": "stdout",
     "output_type": "stream",
     "text": [
      "----------\n"
     ]
    },
    {
     "name": "stderr",
     "output_type": "stream",
     "text": [
      "Epoch 10 - loss: 0.5239 - accuracy: 0.7200: 100%|██████████| 16/16 [00:00<00:00, 118.08it/s]\n",
      "Epoch 10 - loss: 0.5252 - accuracy: 0.6900: 100%|██████████| 16/16 [00:00<00:00, 139.87it/s]\n"
     ]
    },
    {
     "name": "stdout",
     "output_type": "stream",
     "text": [
      "----------\n"
     ]
    },
    {
     "name": "stderr",
     "output_type": "stream",
     "text": [
      "Epoch 11 - loss: 0.5154 - accuracy: 0.7410: 100%|██████████| 16/16 [00:00<00:00, 113.92it/s]\n",
      "Epoch 11 - loss: 0.5100 - accuracy: 0.7740: 100%|██████████| 16/16 [00:00<00:00, 159.25it/s]\n"
     ]
    },
    {
     "name": "stdout",
     "output_type": "stream",
     "text": [
      "----------\n"
     ]
    },
    {
     "name": "stderr",
     "output_type": "stream",
     "text": [
      "Epoch 12 - loss: 0.5096 - accuracy: 0.7450: 100%|██████████| 16/16 [00:00<00:00, 115.98it/s]\n",
      "Epoch 12 - loss: 0.5054 - accuracy: 0.7750: 100%|██████████| 16/16 [00:00<00:00, 152.88it/s]\n"
     ]
    },
    {
     "name": "stdout",
     "output_type": "stream",
     "text": [
      "----------\n"
     ]
    },
    {
     "name": "stderr",
     "output_type": "stream",
     "text": [
      "Epoch 13 - loss: 0.5034 - accuracy: 0.7630: 100%|██████████| 16/16 [00:00<00:00, 116.22it/s]\n",
      "Epoch 13 - loss: 0.4975 - accuracy: 0.7650: 100%|██████████| 16/16 [00:00<00:00, 147.06it/s]\n"
     ]
    },
    {
     "name": "stdout",
     "output_type": "stream",
     "text": [
      "----------\n"
     ]
    },
    {
     "name": "stderr",
     "output_type": "stream",
     "text": [
      "Epoch 14 - loss: 0.4963 - accuracy: 0.7670: 100%|██████████| 16/16 [00:00<00:00, 115.28it/s]\n",
      "Epoch 14 - loss: 0.4917 - accuracy: 0.7730: 100%|██████████| 16/16 [00:00<00:00, 128.44it/s]\n"
     ]
    },
    {
     "name": "stdout",
     "output_type": "stream",
     "text": [
      "----------\n"
     ]
    },
    {
     "name": "stderr",
     "output_type": "stream",
     "text": [
      "Epoch 15 - loss: 0.4909 - accuracy: 0.7600: 100%|██████████| 16/16 [00:00<00:00, 117.40it/s]\n",
      "Epoch 15 - loss: 0.4874 - accuracy: 0.7770: 100%|██████████| 16/16 [00:00<00:00, 151.09it/s]\n"
     ]
    },
    {
     "name": "stdout",
     "output_type": "stream",
     "text": [
      "----------\n"
     ]
    },
    {
     "name": "stderr",
     "output_type": "stream",
     "text": [
      "Epoch 16 - loss: 0.4882 - accuracy: 0.7820: 100%|██████████| 16/16 [00:00<00:00, 118.93it/s]\n",
      "Epoch 16 - loss: 0.4889 - accuracy: 0.7730: 100%|██████████| 16/16 [00:00<00:00, 155.80it/s]\n"
     ]
    },
    {
     "name": "stdout",
     "output_type": "stream",
     "text": [
      "----------\n"
     ]
    },
    {
     "name": "stderr",
     "output_type": "stream",
     "text": [
      "Epoch 17 - loss: 0.4784 - accuracy: 0.7740: 100%|██████████| 16/16 [00:00<00:00, 120.28it/s]\n",
      "Epoch 17 - loss: 0.4772 - accuracy: 0.7520: 100%|██████████| 16/16 [00:00<00:00, 157.34it/s]\n"
     ]
    },
    {
     "name": "stdout",
     "output_type": "stream",
     "text": [
      "----------\n"
     ]
    },
    {
     "name": "stderr",
     "output_type": "stream",
     "text": [
      "Epoch 18 - loss: 0.4731 - accuracy: 0.7710: 100%|██████████| 16/16 [00:00<00:00, 118.53it/s]\n",
      "Epoch 18 - loss: 0.4801 - accuracy: 0.7380: 100%|██████████| 16/16 [00:00<00:00, 150.62it/s]\n"
     ]
    },
    {
     "name": "stdout",
     "output_type": "stream",
     "text": [
      "----------\n"
     ]
    },
    {
     "name": "stderr",
     "output_type": "stream",
     "text": [
      "Epoch 19 - loss: 0.4678 - accuracy: 0.7710: 100%|██████████| 16/16 [00:00<00:00, 112.45it/s]\n",
      "Epoch 19 - loss: 0.4655 - accuracy: 0.7690: 100%|██████████| 16/16 [00:00<00:00, 154.17it/s]\n"
     ]
    },
    {
     "name": "stdout",
     "output_type": "stream",
     "text": [
      "----------\n"
     ]
    },
    {
     "name": "stderr",
     "output_type": "stream",
     "text": [
      "Epoch 20 - loss: 0.4598 - accuracy: 0.7880: 100%|██████████| 16/16 [00:00<00:00, 117.31it/s]\n",
      "Epoch 20 - loss: 0.4619 - accuracy: 0.7860: 100%|██████████| 16/16 [00:00<00:00, 156.57it/s]\n"
     ]
    },
    {
     "name": "stdout",
     "output_type": "stream",
     "text": [
      "----------\n"
     ]
    },
    {
     "name": "stderr",
     "output_type": "stream",
     "text": [
      "Epoch 21 - loss: 0.4577 - accuracy: 0.7870: 100%|██████████| 16/16 [00:00<00:00, 116.14it/s]\n",
      "Epoch 21 - loss: 0.4623 - accuracy: 0.7530: 100%|██████████| 16/16 [00:00<00:00, 162.05it/s]\n"
     ]
    },
    {
     "name": "stdout",
     "output_type": "stream",
     "text": [
      "----------\n"
     ]
    },
    {
     "name": "stderr",
     "output_type": "stream",
     "text": [
      "Epoch 22 - loss: 0.4563 - accuracy: 0.7790: 100%|██████████| 16/16 [00:00<00:00, 117.26it/s]\n",
      "Epoch 22 - loss: 0.4528 - accuracy: 0.7710: 100%|██████████| 16/16 [00:00<00:00, 143.90it/s]\n"
     ]
    },
    {
     "name": "stdout",
     "output_type": "stream",
     "text": [
      "----------\n"
     ]
    },
    {
     "name": "stderr",
     "output_type": "stream",
     "text": [
      "Epoch 23 - loss: 0.4557 - accuracy: 0.7680: 100%|██████████| 16/16 [00:00<00:00, 113.73it/s]\n",
      "Epoch 23 - loss: 0.4509 - accuracy: 0.7570: 100%|██████████| 16/16 [00:00<00:00, 162.94it/s]\n"
     ]
    },
    {
     "name": "stdout",
     "output_type": "stream",
     "text": [
      "----------\n"
     ]
    },
    {
     "name": "stderr",
     "output_type": "stream",
     "text": [
      "Epoch 24 - loss: 0.4406 - accuracy: 0.8030: 100%|██████████| 16/16 [00:00<00:00, 104.52it/s]\n",
      "Epoch 24 - loss: 0.4503 - accuracy: 0.7580: 100%|██████████| 16/16 [00:00<00:00, 156.50it/s]\n"
     ]
    },
    {
     "name": "stdout",
     "output_type": "stream",
     "text": [
      "----------\n"
     ]
    },
    {
     "name": "stderr",
     "output_type": "stream",
     "text": [
      "Epoch 25 - loss: 0.4469 - accuracy: 0.7710: 100%|██████████| 16/16 [00:00<00:00, 118.91it/s]\n",
      "Epoch 25 - loss: 0.4533 - accuracy: 0.7600: 100%|██████████| 16/16 [00:00<00:00, 158.64it/s]\n"
     ]
    },
    {
     "name": "stdout",
     "output_type": "stream",
     "text": [
      "----------\n"
     ]
    },
    {
     "name": "stderr",
     "output_type": "stream",
     "text": [
      "Epoch 26 - loss: 0.4422 - accuracy: 0.7890: 100%|██████████| 16/16 [00:00<00:00, 114.93it/s]\n",
      "Epoch 26 - loss: 0.4520 - accuracy: 0.7560: 100%|██████████| 16/16 [00:00<00:00, 152.42it/s]\n"
     ]
    },
    {
     "name": "stdout",
     "output_type": "stream",
     "text": [
      "----------\n"
     ]
    },
    {
     "name": "stderr",
     "output_type": "stream",
     "text": [
      "Epoch 27 - loss: 0.4352 - accuracy: 0.8010: 100%|██████████| 16/16 [00:00<00:00, 115.74it/s]\n",
      "Epoch 27 - loss: 0.4397 - accuracy: 0.7980: 100%|██████████| 16/16 [00:00<00:00, 152.67it/s]\n"
     ]
    },
    {
     "name": "stdout",
     "output_type": "stream",
     "text": [
      "----------\n"
     ]
    },
    {
     "name": "stderr",
     "output_type": "stream",
     "text": [
      "Epoch 28 - loss: 0.4261 - accuracy: 0.7910: 100%|██████████| 16/16 [00:00<00:00, 121.19it/s]\n",
      "Epoch 28 - loss: 0.4336 - accuracy: 0.7920: 100%|██████████| 16/16 [00:00<00:00, 152.60it/s]\n"
     ]
    },
    {
     "name": "stdout",
     "output_type": "stream",
     "text": [
      "----------\n"
     ]
    },
    {
     "name": "stderr",
     "output_type": "stream",
     "text": [
      "Epoch 29 - loss: 0.4239 - accuracy: 0.7950: 100%|██████████| 16/16 [00:00<00:00, 117.91it/s]\n",
      "Epoch 29 - loss: 0.4425 - accuracy: 0.8210: 100%|██████████| 16/16 [00:00<00:00, 160.52it/s]\n"
     ]
    },
    {
     "name": "stdout",
     "output_type": "stream",
     "text": [
      "----------\n"
     ]
    },
    {
     "name": "stderr",
     "output_type": "stream",
     "text": [
      "Epoch 30 - loss: 0.4268 - accuracy: 0.8030: 100%|██████████| 16/16 [00:00<00:00, 116.49it/s]\n",
      "Epoch 30 - loss: 0.4333 - accuracy: 0.8120: 100%|██████████| 16/16 [00:00<00:00, 155.96it/s]\n"
     ]
    },
    {
     "name": "stdout",
     "output_type": "stream",
     "text": [
      "----------\n"
     ]
    },
    {
     "name": "stderr",
     "output_type": "stream",
     "text": [
      "Epoch 31 - loss: 0.4140 - accuracy: 0.8050: 100%|██████████| 16/16 [00:00<00:00, 111.34it/s]\n",
      "Epoch 31 - loss: 0.4293 - accuracy: 0.8050: 100%|██████████| 16/16 [00:00<00:00, 125.97it/s]\n"
     ]
    },
    {
     "name": "stdout",
     "output_type": "stream",
     "text": [
      "----------\n"
     ]
    },
    {
     "name": "stderr",
     "output_type": "stream",
     "text": [
      "Epoch 32 - loss: 0.4073 - accuracy: 0.8050: 100%|██████████| 16/16 [00:00<00:00, 102.99it/s]\n",
      "Epoch 32 - loss: 0.4388 - accuracy: 0.8230: 100%|██████████| 16/16 [00:00<00:00, 139.55it/s]\n"
     ]
    },
    {
     "name": "stdout",
     "output_type": "stream",
     "text": [
      "----------\n"
     ]
    },
    {
     "name": "stderr",
     "output_type": "stream",
     "text": [
      "Epoch 33 - loss: 0.4093 - accuracy: 0.8070: 100%|██████████| 16/16 [00:00<00:00, 90.49it/s]\n",
      "Epoch 33 - loss: 0.4204 - accuracy: 0.7910: 100%|██████████| 16/16 [00:00<00:00, 129.92it/s]\n"
     ]
    },
    {
     "name": "stdout",
     "output_type": "stream",
     "text": [
      "----------\n"
     ]
    },
    {
     "name": "stderr",
     "output_type": "stream",
     "text": [
      "Epoch 34 - loss: 0.4071 - accuracy: 0.8180: 100%|██████████| 16/16 [00:00<00:00, 99.52it/s] \n",
      "Epoch 34 - loss: 0.4145 - accuracy: 0.7980: 100%|██████████| 16/16 [00:00<00:00, 135.91it/s]\n"
     ]
    },
    {
     "name": "stdout",
     "output_type": "stream",
     "text": [
      "----------\n"
     ]
    },
    {
     "name": "stderr",
     "output_type": "stream",
     "text": [
      "Epoch 35 - loss: 0.3984 - accuracy: 0.8160: 100%|██████████| 16/16 [00:00<00:00, 104.33it/s]\n",
      "Epoch 35 - loss: 0.4114 - accuracy: 0.7970: 100%|██████████| 16/16 [00:00<00:00, 135.91it/s]\n"
     ]
    },
    {
     "name": "stdout",
     "output_type": "stream",
     "text": [
      "----------\n"
     ]
    },
    {
     "name": "stderr",
     "output_type": "stream",
     "text": [
      "Epoch 36 - loss: 0.3930 - accuracy: 0.8180: 100%|██████████| 16/16 [00:00<00:00, 100.50it/s]\n",
      "Epoch 36 - loss: 0.4100 - accuracy: 0.8120: 100%|██████████| 16/16 [00:00<00:00, 133.29it/s]\n"
     ]
    },
    {
     "name": "stdout",
     "output_type": "stream",
     "text": [
      "----------\n"
     ]
    },
    {
     "name": "stderr",
     "output_type": "stream",
     "text": [
      "Epoch 37 - loss: 0.3929 - accuracy: 0.8170: 100%|██████████| 16/16 [00:00<00:00, 102.82it/s]\n",
      "Epoch 37 - loss: 0.4285 - accuracy: 0.8220: 100%|██████████| 16/16 [00:00<00:00, 140.03it/s]\n"
     ]
    },
    {
     "name": "stdout",
     "output_type": "stream",
     "text": [
      "----------\n"
     ]
    },
    {
     "name": "stderr",
     "output_type": "stream",
     "text": [
      "Epoch 38 - loss: 0.3910 - accuracy: 0.8210: 100%|██████████| 16/16 [00:00<00:00, 98.38it/s]\n",
      "Epoch 38 - loss: 0.4185 - accuracy: 0.7850: 100%|██████████| 16/16 [00:00<00:00, 141.92it/s]\n"
     ]
    },
    {
     "name": "stdout",
     "output_type": "stream",
     "text": [
      "----------\n"
     ]
    },
    {
     "name": "stderr",
     "output_type": "stream",
     "text": [
      "Epoch 39 - loss: 0.3786 - accuracy: 0.8180: 100%|██████████| 16/16 [00:00<00:00, 112.15it/s]\n",
      "Epoch 39 - loss: 0.4061 - accuracy: 0.8230: 100%|██████████| 16/16 [00:00<00:00, 151.88it/s]\n"
     ]
    },
    {
     "name": "stdout",
     "output_type": "stream",
     "text": [
      "----------\n"
     ]
    },
    {
     "name": "stderr",
     "output_type": "stream",
     "text": [
      "Epoch 40 - loss: 0.4035 - accuracy: 0.8140: 100%|██████████| 16/16 [00:00<00:00, 102.58it/s]\n",
      "Epoch 40 - loss: 0.4367 - accuracy: 0.7730: 100%|██████████| 16/16 [00:00<00:00, 146.70it/s]\n"
     ]
    },
    {
     "name": "stdout",
     "output_type": "stream",
     "text": [
      "----------\n"
     ]
    },
    {
     "name": "stderr",
     "output_type": "stream",
     "text": [
      "Epoch 41 - loss: 0.3897 - accuracy: 0.8180: 100%|██████████| 16/16 [00:00<00:00, 94.65it/s]\n",
      "Epoch 41 - loss: 0.3937 - accuracy: 0.8190: 100%|██████████| 16/16 [00:00<00:00, 138.16it/s]\n"
     ]
    },
    {
     "name": "stdout",
     "output_type": "stream",
     "text": [
      "----------\n"
     ]
    },
    {
     "name": "stderr",
     "output_type": "stream",
     "text": [
      "Epoch 42 - loss: 0.3654 - accuracy: 0.8340: 100%|██████████| 16/16 [00:00<00:00, 103.89it/s]\n",
      "Epoch 42 - loss: 0.3852 - accuracy: 0.8070: 100%|██████████| 16/16 [00:00<00:00, 135.27it/s]\n"
     ]
    },
    {
     "name": "stdout",
     "output_type": "stream",
     "text": [
      "----------\n"
     ]
    },
    {
     "name": "stderr",
     "output_type": "stream",
     "text": [
      "Epoch 43 - loss: 0.3657 - accuracy: 0.8280: 100%|██████████| 16/16 [00:00<00:00, 102.62it/s]\n",
      "Epoch 43 - loss: 0.3867 - accuracy: 0.8250: 100%|██████████| 16/16 [00:00<00:00, 155.50it/s]\n"
     ]
    },
    {
     "name": "stdout",
     "output_type": "stream",
     "text": [
      "----------\n"
     ]
    },
    {
     "name": "stderr",
     "output_type": "stream",
     "text": [
      "Epoch 44 - loss: 0.3701 - accuracy: 0.8250: 100%|██████████| 16/16 [00:00<00:00, 99.72it/s]\n",
      "Epoch 44 - loss: 0.3886 - accuracy: 0.8130: 100%|██████████| 16/16 [00:00<00:00, 153.78it/s]\n"
     ]
    },
    {
     "name": "stdout",
     "output_type": "stream",
     "text": [
      "----------\n"
     ]
    },
    {
     "name": "stderr",
     "output_type": "stream",
     "text": [
      "Epoch 45 - loss: 0.3637 - accuracy: 0.8380: 100%|██████████| 16/16 [00:00<00:00, 107.52it/s]\n",
      "Epoch 45 - loss: 0.3825 - accuracy: 0.8270: 100%|██████████| 16/16 [00:00<00:00, 154.80it/s]\n"
     ]
    },
    {
     "name": "stdout",
     "output_type": "stream",
     "text": [
      "----------\n"
     ]
    },
    {
     "name": "stderr",
     "output_type": "stream",
     "text": [
      "Epoch 46 - loss: 0.3553 - accuracy: 0.8370: 100%|██████████| 16/16 [00:00<00:00, 109.66it/s]\n",
      "Epoch 46 - loss: 0.3838 - accuracy: 0.8010: 100%|██████████| 16/16 [00:00<00:00, 153.20it/s]\n"
     ]
    },
    {
     "name": "stdout",
     "output_type": "stream",
     "text": [
      "----------\n"
     ]
    },
    {
     "name": "stderr",
     "output_type": "stream",
     "text": [
      "Epoch 47 - loss: 0.3531 - accuracy: 0.8320: 100%|██████████| 16/16 [00:00<00:00, 111.92it/s]\n",
      "Epoch 47 - loss: 0.3796 - accuracy: 0.8340: 100%|██████████| 16/16 [00:00<00:00, 128.75it/s]\n"
     ]
    },
    {
     "name": "stdout",
     "output_type": "stream",
     "text": [
      "----------\n"
     ]
    },
    {
     "name": "stderr",
     "output_type": "stream",
     "text": [
      "Epoch 48 - loss: 0.3405 - accuracy: 0.8430: 100%|██████████| 16/16 [00:00<00:00, 102.88it/s]\n",
      "Epoch 48 - loss: 0.3680 - accuracy: 0.8240: 100%|██████████| 16/16 [00:00<00:00, 154.80it/s]\n"
     ]
    },
    {
     "name": "stdout",
     "output_type": "stream",
     "text": [
      "----------\n"
     ]
    },
    {
     "name": "stderr",
     "output_type": "stream",
     "text": [
      "Epoch 49 - loss: 0.3532 - accuracy: 0.8410: 100%|██████████| 16/16 [00:00<00:00, 96.97it/s]\n",
      "Epoch 49 - loss: 0.3602 - accuracy: 0.8270: 100%|██████████| 16/16 [00:00<00:00, 129.05it/s]\n"
     ]
    },
    {
     "name": "stdout",
     "output_type": "stream",
     "text": [
      "----------\n"
     ]
    },
    {
     "name": "stderr",
     "output_type": "stream",
     "text": [
      "Epoch 50 - loss: 0.3414 - accuracy: 0.8460: 100%|██████████| 16/16 [00:00<00:00, 90.44it/s]\n",
      "Epoch 50 - loss: 0.3758 - accuracy: 0.8280: 100%|██████████| 16/16 [00:00<00:00, 137.25it/s]\n"
     ]
    },
    {
     "name": "stdout",
     "output_type": "stream",
     "text": [
      "----------\n"
     ]
    },
    {
     "name": "stderr",
     "output_type": "stream",
     "text": [
      "Epoch 51 - loss: 0.3322 - accuracy: 0.8450: 100%|██████████| 16/16 [00:00<00:00, 97.70it/s]\n",
      "Epoch 51 - loss: 0.3535 - accuracy: 0.8410: 100%|██████████| 16/16 [00:00<00:00, 139.14it/s]\n"
     ]
    },
    {
     "name": "stdout",
     "output_type": "stream",
     "text": [
      "----------\n"
     ]
    },
    {
     "name": "stderr",
     "output_type": "stream",
     "text": [
      "Epoch 52 - loss: 0.3289 - accuracy: 0.8470: 100%|██████████| 16/16 [00:00<00:00, 99.13it/s]\n",
      "Epoch 52 - loss: 0.3754 - accuracy: 0.8300: 100%|██████████| 16/16 [00:00<00:00, 130.57it/s]\n"
     ]
    },
    {
     "name": "stdout",
     "output_type": "stream",
     "text": [
      "----------\n"
     ]
    },
    {
     "name": "stderr",
     "output_type": "stream",
     "text": [
      "Epoch 53 - loss: 0.3318 - accuracy: 0.8460: 100%|██████████| 16/16 [00:00<00:00, 96.83it/s]\n",
      "Epoch 53 - loss: 0.3646 - accuracy: 0.8340: 100%|██████████| 16/16 [00:00<00:00, 140.35it/s]\n"
     ]
    },
    {
     "name": "stdout",
     "output_type": "stream",
     "text": [
      "----------\n"
     ]
    },
    {
     "name": "stderr",
     "output_type": "stream",
     "text": [
      "Epoch 54 - loss: 0.3292 - accuracy: 0.8480: 100%|██████████| 16/16 [00:00<00:00, 100.15it/s]\n",
      "Epoch 54 - loss: 0.3531 - accuracy: 0.8340: 100%|██████████| 16/16 [00:00<00:00, 133.04it/s]\n"
     ]
    },
    {
     "name": "stdout",
     "output_type": "stream",
     "text": [
      "----------\n"
     ]
    },
    {
     "name": "stderr",
     "output_type": "stream",
     "text": [
      "Epoch 55 - loss: 0.3263 - accuracy: 0.8500: 100%|██████████| 16/16 [00:00<00:00, 95.92it/s]\n",
      "Epoch 55 - loss: 0.3421 - accuracy: 0.8410: 100%|██████████| 16/16 [00:00<00:00, 134.80it/s]\n"
     ]
    },
    {
     "name": "stdout",
     "output_type": "stream",
     "text": [
      "----------\n"
     ]
    },
    {
     "name": "stderr",
     "output_type": "stream",
     "text": [
      "Epoch 56 - loss: 0.3136 - accuracy: 0.8600: 100%|██████████| 16/16 [00:00<00:00, 104.30it/s]\n",
      "Epoch 56 - loss: 0.4184 - accuracy: 0.7710: 100%|██████████| 16/16 [00:00<00:00, 134.26it/s]\n"
     ]
    },
    {
     "name": "stdout",
     "output_type": "stream",
     "text": [
      "----------\n"
     ]
    },
    {
     "name": "stderr",
     "output_type": "stream",
     "text": [
      "Epoch 57 - loss: 0.3370 - accuracy: 0.8310: 100%|██████████| 16/16 [00:00<00:00, 102.42it/s]\n",
      "Epoch 57 - loss: 0.3364 - accuracy: 0.8450: 100%|██████████| 16/16 [00:00<00:00, 134.06it/s]\n"
     ]
    },
    {
     "name": "stdout",
     "output_type": "stream",
     "text": [
      "----------\n"
     ]
    },
    {
     "name": "stderr",
     "output_type": "stream",
     "text": [
      "Epoch 58 - loss: 0.3069 - accuracy: 0.8630: 100%|██████████| 16/16 [00:00<00:00, 87.46it/s]\n",
      "Epoch 58 - loss: 0.3371 - accuracy: 0.8570: 100%|██████████| 16/16 [00:00<00:00, 128.68it/s]\n"
     ]
    },
    {
     "name": "stdout",
     "output_type": "stream",
     "text": [
      "----------\n"
     ]
    },
    {
     "name": "stderr",
     "output_type": "stream",
     "text": [
      "Epoch 59 - loss: 0.3152 - accuracy: 0.8660: 100%|██████████| 16/16 [00:00<00:00, 96.26it/s]\n",
      "Epoch 59 - loss: 0.3668 - accuracy: 0.8540: 100%|██████████| 16/16 [00:00<00:00, 133.28it/s]\n"
     ]
    },
    {
     "name": "stdout",
     "output_type": "stream",
     "text": [
      "----------\n"
     ]
    },
    {
     "name": "stderr",
     "output_type": "stream",
     "text": [
      "Epoch 60 - loss: 0.3582 - accuracy: 0.8380: 100%|██████████| 16/16 [00:00<00:00, 99.96it/s]\n",
      "Epoch 60 - loss: 0.3260 - accuracy: 0.8360: 100%|██████████| 16/16 [00:00<00:00, 147.18it/s]\n"
     ]
    },
    {
     "name": "stdout",
     "output_type": "stream",
     "text": [
      "----------\n"
     ]
    },
    {
     "name": "stderr",
     "output_type": "stream",
     "text": [
      "Epoch 61 - loss: 0.3429 - accuracy: 0.8400: 100%|██████████| 16/16 [00:00<00:00, 105.43it/s]\n",
      "Epoch 61 - loss: 0.3244 - accuracy: 0.8340: 100%|██████████| 16/16 [00:00<00:00, 136.66it/s]\n"
     ]
    },
    {
     "name": "stdout",
     "output_type": "stream",
     "text": [
      "----------\n"
     ]
    },
    {
     "name": "stderr",
     "output_type": "stream",
     "text": [
      "Epoch 62 - loss: 0.3177 - accuracy: 0.8550: 100%|██████████| 16/16 [00:00<00:00, 100.44it/s]\n",
      "Epoch 62 - loss: 0.3300 - accuracy: 0.8550: 100%|██████████| 16/16 [00:00<00:00, 133.64it/s]\n"
     ]
    },
    {
     "name": "stdout",
     "output_type": "stream",
     "text": [
      "----------\n"
     ]
    },
    {
     "name": "stderr",
     "output_type": "stream",
     "text": [
      "Epoch 63 - loss: 0.2972 - accuracy: 0.8730: 100%|██████████| 16/16 [00:00<00:00, 104.11it/s]\n",
      "Epoch 63 - loss: 0.3193 - accuracy: 0.8490: 100%|██████████| 16/16 [00:00<00:00, 133.62it/s]\n"
     ]
    },
    {
     "name": "stdout",
     "output_type": "stream",
     "text": [
      "----------\n"
     ]
    },
    {
     "name": "stderr",
     "output_type": "stream",
     "text": [
      "Epoch 64 - loss: 0.2910 - accuracy: 0.8710: 100%|██████████| 16/16 [00:00<00:00, 106.11it/s]\n",
      "Epoch 64 - loss: 0.3204 - accuracy: 0.8470: 100%|██████████| 16/16 [00:00<00:00, 136.82it/s]\n"
     ]
    },
    {
     "name": "stdout",
     "output_type": "stream",
     "text": [
      "----------\n"
     ]
    },
    {
     "name": "stderr",
     "output_type": "stream",
     "text": [
      "Epoch 65 - loss: 0.2948 - accuracy: 0.8670: 100%|██████████| 16/16 [00:00<00:00, 96.50it/s]\n",
      "Epoch 65 - loss: 0.3189 - accuracy: 0.8510: 100%|██████████| 16/16 [00:00<00:00, 140.73it/s]\n"
     ]
    },
    {
     "name": "stdout",
     "output_type": "stream",
     "text": [
      "----------\n"
     ]
    },
    {
     "name": "stderr",
     "output_type": "stream",
     "text": [
      "Epoch 66 - loss: 0.2824 - accuracy: 0.8790: 100%|██████████| 16/16 [00:00<00:00, 78.08it/s]\n",
      "Epoch 66 - loss: 0.3223 - accuracy: 0.8530: 100%|██████████| 16/16 [00:00<00:00, 133.90it/s]\n"
     ]
    },
    {
     "name": "stdout",
     "output_type": "stream",
     "text": [
      "----------\n"
     ]
    },
    {
     "name": "stderr",
     "output_type": "stream",
     "text": [
      "Epoch 67 - loss: 0.2971 - accuracy: 0.8610: 100%|██████████| 16/16 [00:00<00:00, 106.55it/s]\n",
      "Epoch 67 - loss: 0.3111 - accuracy: 0.8620: 100%|██████████| 16/16 [00:00<00:00, 142.15it/s]\n"
     ]
    },
    {
     "name": "stdout",
     "output_type": "stream",
     "text": [
      "----------\n"
     ]
    },
    {
     "name": "stderr",
     "output_type": "stream",
     "text": [
      "Epoch 68 - loss: 0.3005 - accuracy: 0.8620: 100%|██████████| 16/16 [00:00<00:00, 101.28it/s]\n",
      "Epoch 68 - loss: 0.3252 - accuracy: 0.8420: 100%|██████████| 16/16 [00:00<00:00, 133.96it/s]\n"
     ]
    },
    {
     "name": "stdout",
     "output_type": "stream",
     "text": [
      "----------\n"
     ]
    },
    {
     "name": "stderr",
     "output_type": "stream",
     "text": [
      "Epoch 69 - loss: 0.2858 - accuracy: 0.8690: 100%|██████████| 16/16 [00:00<00:00, 101.10it/s]\n",
      "Epoch 69 - loss: 0.3112 - accuracy: 0.8460: 100%|██████████| 16/16 [00:00<00:00, 140.08it/s]\n"
     ]
    },
    {
     "name": "stdout",
     "output_type": "stream",
     "text": [
      "----------\n"
     ]
    },
    {
     "name": "stderr",
     "output_type": "stream",
     "text": [
      "Epoch 70 - loss: 0.2856 - accuracy: 0.8640: 100%|██████████| 16/16 [00:00<00:00, 98.32it/s] \n",
      "Epoch 70 - loss: 0.3099 - accuracy: 0.8520: 100%|██████████| 16/16 [00:00<00:00, 133.55it/s]\n"
     ]
    },
    {
     "name": "stdout",
     "output_type": "stream",
     "text": [
      "----------\n"
     ]
    },
    {
     "name": "stderr",
     "output_type": "stream",
     "text": [
      "Epoch 71 - loss: 0.2725 - accuracy: 0.8770: 100%|██████████| 16/16 [00:00<00:00, 99.16it/s] \n",
      "Epoch 71 - loss: 0.3014 - accuracy: 0.8550: 100%|██████████| 16/16 [00:00<00:00, 145.03it/s]\n"
     ]
    },
    {
     "name": "stdout",
     "output_type": "stream",
     "text": [
      "----------\n"
     ]
    },
    {
     "name": "stderr",
     "output_type": "stream",
     "text": [
      "Epoch 72 - loss: 0.2701 - accuracy: 0.8750: 100%|██████████| 16/16 [00:00<00:00, 100.20it/s]\n",
      "Epoch 72 - loss: 0.2978 - accuracy: 0.8670: 100%|██████████| 16/16 [00:00<00:00, 134.08it/s]\n"
     ]
    },
    {
     "name": "stdout",
     "output_type": "stream",
     "text": [
      "----------\n"
     ]
    },
    {
     "name": "stderr",
     "output_type": "stream",
     "text": [
      "Epoch 73 - loss: 0.2646 - accuracy: 0.8870: 100%|██████████| 16/16 [00:00<00:00, 97.98it/s]\n",
      "Epoch 73 - loss: 0.3559 - accuracy: 0.8280: 100%|██████████| 16/16 [00:00<00:00, 136.81it/s]\n"
     ]
    },
    {
     "name": "stdout",
     "output_type": "stream",
     "text": [
      "----------\n"
     ]
    },
    {
     "name": "stderr",
     "output_type": "stream",
     "text": [
      "Epoch 74 - loss: 0.2909 - accuracy: 0.8610: 100%|██████████| 16/16 [00:00<00:00, 86.92it/s]\n",
      "Epoch 74 - loss: 0.2929 - accuracy: 0.8660: 100%|██████████| 16/16 [00:00<00:00, 138.91it/s]\n"
     ]
    },
    {
     "name": "stdout",
     "output_type": "stream",
     "text": [
      "----------\n"
     ]
    },
    {
     "name": "stderr",
     "output_type": "stream",
     "text": [
      "Epoch 75 - loss: 0.2693 - accuracy: 0.8810: 100%|██████████| 16/16 [00:00<00:00, 101.42it/s]\n",
      "Epoch 75 - loss: 0.3120 - accuracy: 0.8430: 100%|██████████| 16/16 [00:00<00:00, 144.56it/s]\n"
     ]
    },
    {
     "name": "stdout",
     "output_type": "stream",
     "text": [
      "----------\n"
     ]
    },
    {
     "name": "stderr",
     "output_type": "stream",
     "text": [
      "Epoch 76 - loss: 0.2739 - accuracy: 0.8720: 100%|██████████| 16/16 [00:00<00:00, 105.43it/s]\n",
      "Epoch 76 - loss: 0.2899 - accuracy: 0.8680: 100%|██████████| 16/16 [00:00<00:00, 124.25it/s]\n"
     ]
    },
    {
     "name": "stdout",
     "output_type": "stream",
     "text": [
      "----------\n"
     ]
    },
    {
     "name": "stderr",
     "output_type": "stream",
     "text": [
      "Epoch 77 - loss: 0.2692 - accuracy: 0.8740: 100%|██████████| 16/16 [00:00<00:00, 102.39it/s]\n",
      "Epoch 77 - loss: 0.2855 - accuracy: 0.8670: 100%|██████████| 16/16 [00:00<00:00, 140.96it/s]\n"
     ]
    },
    {
     "name": "stdout",
     "output_type": "stream",
     "text": [
      "----------\n"
     ]
    },
    {
     "name": "stderr",
     "output_type": "stream",
     "text": [
      "Epoch 78 - loss: 0.2552 - accuracy: 0.8860: 100%|██████████| 16/16 [00:00<00:00, 98.11it/s] \n",
      "Epoch 78 - loss: 0.2904 - accuracy: 0.8660: 100%|██████████| 16/16 [00:00<00:00, 128.52it/s]\n"
     ]
    },
    {
     "name": "stdout",
     "output_type": "stream",
     "text": [
      "----------\n"
     ]
    },
    {
     "name": "stderr",
     "output_type": "stream",
     "text": [
      "Epoch 79 - loss: 0.2559 - accuracy: 0.8940: 100%|██████████| 16/16 [00:00<00:00, 104.37it/s]\n",
      "Epoch 79 - loss: 0.2827 - accuracy: 0.8730: 100%|██████████| 16/16 [00:00<00:00, 134.34it/s]\n"
     ]
    },
    {
     "name": "stdout",
     "output_type": "stream",
     "text": [
      "----------\n"
     ]
    },
    {
     "name": "stderr",
     "output_type": "stream",
     "text": [
      "Epoch 80 - loss: 0.2465 - accuracy: 0.8950: 100%|██████████| 16/16 [00:00<00:00, 94.88it/s]\n",
      "Epoch 80 - loss: 0.2824 - accuracy: 0.8730: 100%|██████████| 16/16 [00:00<00:00, 139.43it/s]\n"
     ]
    },
    {
     "name": "stdout",
     "output_type": "stream",
     "text": [
      "----------\n"
     ]
    },
    {
     "name": "stderr",
     "output_type": "stream",
     "text": [
      "Epoch 81 - loss: 0.2431 - accuracy: 0.8960: 100%|██████████| 16/16 [00:00<00:00, 102.08it/s]\n",
      "Epoch 81 - loss: 0.2821 - accuracy: 0.8690: 100%|██████████| 16/16 [00:00<00:00, 144.01it/s]\n"
     ]
    },
    {
     "name": "stdout",
     "output_type": "stream",
     "text": [
      "----------\n"
     ]
    },
    {
     "name": "stderr",
     "output_type": "stream",
     "text": [
      "Epoch 82 - loss: 0.2522 - accuracy: 0.8860: 100%|██████████| 16/16 [00:00<00:00, 111.52it/s]\n",
      "Epoch 82 - loss: 0.3080 - accuracy: 0.8340: 100%|██████████| 16/16 [00:00<00:00, 153.34it/s]\n"
     ]
    },
    {
     "name": "stdout",
     "output_type": "stream",
     "text": [
      "----------\n"
     ]
    },
    {
     "name": "stderr",
     "output_type": "stream",
     "text": [
      "Epoch 83 - loss: 0.2484 - accuracy: 0.8890: 100%|██████████| 16/16 [00:00<00:00, 98.67it/s]\n",
      "Epoch 83 - loss: 0.2818 - accuracy: 0.8780: 100%|██████████| 16/16 [00:00<00:00, 149.64it/s]\n"
     ]
    },
    {
     "name": "stdout",
     "output_type": "stream",
     "text": [
      "----------\n"
     ]
    },
    {
     "name": "stderr",
     "output_type": "stream",
     "text": [
      "Epoch 84 - loss: 0.2456 - accuracy: 0.8910: 100%|██████████| 16/16 [00:00<00:00, 111.59it/s]\n",
      "Epoch 84 - loss: 0.3020 - accuracy: 0.8760: 100%|██████████| 16/16 [00:00<00:00, 161.93it/s]\n"
     ]
    },
    {
     "name": "stdout",
     "output_type": "stream",
     "text": [
      "----------\n"
     ]
    },
    {
     "name": "stderr",
     "output_type": "stream",
     "text": [
      "Epoch 85 - loss: 0.2400 - accuracy: 0.8930: 100%|██████████| 16/16 [00:00<00:00, 111.33it/s]\n",
      "Epoch 85 - loss: 0.2731 - accuracy: 0.8740: 100%|██████████| 16/16 [00:00<00:00, 123.74it/s]\n"
     ]
    },
    {
     "name": "stdout",
     "output_type": "stream",
     "text": [
      "----------\n"
     ]
    },
    {
     "name": "stderr",
     "output_type": "stream",
     "text": [
      "Epoch 86 - loss: 0.2391 - accuracy: 0.8970: 100%|██████████| 16/16 [00:00<00:00, 97.29it/s]\n",
      "Epoch 86 - loss: 0.2693 - accuracy: 0.8700: 100%|██████████| 16/16 [00:00<00:00, 134.33it/s]\n"
     ]
    },
    {
     "name": "stdout",
     "output_type": "stream",
     "text": [
      "----------\n"
     ]
    },
    {
     "name": "stderr",
     "output_type": "stream",
     "text": [
      "Epoch 87 - loss: 0.2492 - accuracy: 0.8900: 100%|██████████| 16/16 [00:00<00:00, 93.56it/s]\n",
      "Epoch 87 - loss: 0.2777 - accuracy: 0.8660: 100%|██████████| 16/16 [00:00<00:00, 97.61it/s] \n"
     ]
    },
    {
     "name": "stdout",
     "output_type": "stream",
     "text": [
      "----------\n"
     ]
    },
    {
     "name": "stderr",
     "output_type": "stream",
     "text": [
      "Epoch 88 - loss: 0.2378 - accuracy: 0.8920: 100%|██████████| 16/16 [00:00<00:00, 74.66it/s]\n",
      "Epoch 88 - loss: 0.2798 - accuracy: 0.8680: 100%|██████████| 16/16 [00:00<00:00, 117.38it/s]\n"
     ]
    },
    {
     "name": "stdout",
     "output_type": "stream",
     "text": [
      "----------\n"
     ]
    },
    {
     "name": "stderr",
     "output_type": "stream",
     "text": [
      "Epoch 89 - loss: 0.2468 - accuracy: 0.8990: 100%|██████████| 16/16 [00:00<00:00, 91.09it/s]\n",
      "Epoch 89 - loss: 0.2696 - accuracy: 0.8760: 100%|██████████| 16/16 [00:00<00:00, 119.62it/s]\n"
     ]
    },
    {
     "name": "stdout",
     "output_type": "stream",
     "text": [
      "----------\n"
     ]
    },
    {
     "name": "stderr",
     "output_type": "stream",
     "text": [
      "Epoch 90 - loss: 0.2349 - accuracy: 0.9000: 100%|██████████| 16/16 [00:00<00:00, 88.78it/s]\n",
      "Epoch 90 - loss: 0.2598 - accuracy: 0.8800: 100%|██████████| 16/16 [00:00<00:00, 102.68it/s]\n"
     ]
    },
    {
     "name": "stdout",
     "output_type": "stream",
     "text": [
      "----------\n"
     ]
    },
    {
     "name": "stderr",
     "output_type": "stream",
     "text": [
      "Epoch 91 - loss: 0.2350 - accuracy: 0.8980: 100%|██████████| 16/16 [00:00<00:00, 86.17it/s]\n",
      "Epoch 91 - loss: 0.2591 - accuracy: 0.8810: 100%|██████████| 16/16 [00:00<00:00, 92.93it/s]\n"
     ]
    },
    {
     "name": "stdout",
     "output_type": "stream",
     "text": [
      "----------\n"
     ]
    },
    {
     "name": "stderr",
     "output_type": "stream",
     "text": [
      "Epoch 92 - loss: 0.2249 - accuracy: 0.9010: 100%|██████████| 16/16 [00:00<00:00, 68.00it/s]\n",
      "Epoch 92 - loss: 0.2638 - accuracy: 0.8740: 100%|██████████| 16/16 [00:00<00:00, 93.55it/s]\n"
     ]
    },
    {
     "name": "stdout",
     "output_type": "stream",
     "text": [
      "----------\n"
     ]
    },
    {
     "name": "stderr",
     "output_type": "stream",
     "text": [
      "Epoch 93 - loss: 0.2226 - accuracy: 0.9120: 100%|██████████| 16/16 [00:00<00:00, 90.86it/s]\n",
      "Epoch 93 - loss: 0.2728 - accuracy: 0.8780: 100%|██████████| 16/16 [00:00<00:00, 92.97it/s]\n"
     ]
    },
    {
     "name": "stdout",
     "output_type": "stream",
     "text": [
      "----------\n"
     ]
    },
    {
     "name": "stderr",
     "output_type": "stream",
     "text": [
      "Epoch 94 - loss: 0.2372 - accuracy: 0.8960: 100%|██████████| 16/16 [00:00<00:00, 72.19it/s]\n",
      "Epoch 94 - loss: 0.2629 - accuracy: 0.8800: 100%|██████████| 16/16 [00:00<00:00, 119.82it/s]\n"
     ]
    },
    {
     "name": "stdout",
     "output_type": "stream",
     "text": [
      "----------\n"
     ]
    },
    {
     "name": "stderr",
     "output_type": "stream",
     "text": [
      "Epoch 95 - loss: 0.2262 - accuracy: 0.8990: 100%|██████████| 16/16 [00:00<00:00, 70.03it/s]\n",
      "Epoch 95 - loss: 0.2644 - accuracy: 0.8650: 100%|██████████| 16/16 [00:00<00:00, 98.81it/s]\n"
     ]
    },
    {
     "name": "stdout",
     "output_type": "stream",
     "text": [
      "----------\n"
     ]
    },
    {
     "name": "stderr",
     "output_type": "stream",
     "text": [
      "Epoch 96 - loss: 0.2413 - accuracy: 0.8930: 100%|██████████| 16/16 [00:00<00:00, 77.10it/s]\n",
      "Epoch 96 - loss: 0.2507 - accuracy: 0.8850: 100%|██████████| 16/16 [00:00<00:00, 104.95it/s]\n"
     ]
    },
    {
     "name": "stdout",
     "output_type": "stream",
     "text": [
      "----------\n"
     ]
    },
    {
     "name": "stderr",
     "output_type": "stream",
     "text": [
      "Epoch 97 - loss: 0.2239 - accuracy: 0.9020: 100%|██████████| 16/16 [00:00<00:00, 77.29it/s]\n",
      "Epoch 97 - loss: 0.2632 - accuracy: 0.8810: 100%|██████████| 16/16 [00:00<00:00, 118.68it/s]\n"
     ]
    },
    {
     "name": "stdout",
     "output_type": "stream",
     "text": [
      "----------\n"
     ]
    },
    {
     "name": "stderr",
     "output_type": "stream",
     "text": [
      "Epoch 98 - loss: 0.2155 - accuracy: 0.9070: 100%|██████████| 16/16 [00:00<00:00, 81.65it/s]\n",
      "Epoch 98 - loss: 0.2530 - accuracy: 0.8810: 100%|██████████| 16/16 [00:00<00:00, 125.42it/s]\n"
     ]
    },
    {
     "name": "stdout",
     "output_type": "stream",
     "text": [
      "----------\n"
     ]
    },
    {
     "name": "stderr",
     "output_type": "stream",
     "text": [
      "Epoch 99 - loss: 0.2075 - accuracy: 0.9140: 100%|██████████| 16/16 [00:00<00:00, 92.39it/s]\n",
      "Epoch 99 - loss: 0.2541 - accuracy: 0.8800: 100%|██████████| 16/16 [00:00<00:00, 138.02it/s]\n"
     ]
    },
    {
     "name": "stdout",
     "output_type": "stream",
     "text": [
      "----------\n"
     ]
    },
    {
     "name": "stderr",
     "output_type": "stream",
     "text": [
      "Epoch 100 - loss: 0.2254 - accuracy: 0.9040: 100%|██████████| 16/16 [00:00<00:00, 95.07it/s]\n",
      "Epoch 100 - loss: 0.2637 - accuracy: 0.8570: 100%|██████████| 16/16 [00:00<00:00, 140.56it/s]\n"
     ]
    },
    {
     "name": "stdout",
     "output_type": "stream",
     "text": [
      "----------\n"
     ]
    },
    {
     "name": "stderr",
     "output_type": "stream",
     "text": [
      "Epoch 101 - loss: 0.2471 - accuracy: 0.8890: 100%|██████████| 16/16 [00:00<00:00, 100.11it/s]\n",
      "Epoch 101 - loss: 0.3077 - accuracy: 0.8720: 100%|██████████| 16/16 [00:00<00:00, 103.31it/s]\n"
     ]
    },
    {
     "name": "stdout",
     "output_type": "stream",
     "text": [
      "----------\n"
     ]
    },
    {
     "name": "stderr",
     "output_type": "stream",
     "text": [
      "Epoch 102 - loss: 0.2431 - accuracy: 0.8920: 100%|██████████| 16/16 [00:00<00:00, 100.00it/s]\n",
      "Epoch 102 - loss: 0.2712 - accuracy: 0.8580: 100%|██████████| 16/16 [00:00<00:00, 137.62it/s]\n"
     ]
    },
    {
     "name": "stdout",
     "output_type": "stream",
     "text": [
      "----------\n"
     ]
    },
    {
     "name": "stderr",
     "output_type": "stream",
     "text": [
      "Epoch 103 - loss: 0.2121 - accuracy: 0.9080: 100%|██████████| 16/16 [00:00<00:00, 106.54it/s]\n",
      "Epoch 103 - loss: 0.2471 - accuracy: 0.8940: 100%|██████████| 16/16 [00:00<00:00, 134.81it/s]\n"
     ]
    },
    {
     "name": "stdout",
     "output_type": "stream",
     "text": [
      "----------\n"
     ]
    },
    {
     "name": "stderr",
     "output_type": "stream",
     "text": [
      "Epoch 104 - loss: 0.2075 - accuracy: 0.9140: 100%|██████████| 16/16 [00:00<00:00, 106.42it/s]\n",
      "Epoch 104 - loss: 0.2665 - accuracy: 0.8810: 100%|██████████| 16/16 [00:00<00:00, 149.23it/s]\n"
     ]
    },
    {
     "name": "stdout",
     "output_type": "stream",
     "text": [
      "----------\n"
     ]
    },
    {
     "name": "stderr",
     "output_type": "stream",
     "text": [
      "Epoch 105 - loss: 0.2218 - accuracy: 0.9040: 100%|██████████| 16/16 [00:00<00:00, 106.77it/s]\n",
      "Epoch 105 - loss: 0.2465 - accuracy: 0.8950: 100%|██████████| 16/16 [00:00<00:00, 109.75it/s]\n"
     ]
    },
    {
     "name": "stdout",
     "output_type": "stream",
     "text": [
      "----------\n"
     ]
    },
    {
     "name": "stderr",
     "output_type": "stream",
     "text": [
      "Epoch 106 - loss: 0.2150 - accuracy: 0.9060: 100%|██████████| 16/16 [00:00<00:00, 108.69it/s]\n",
      "Epoch 106 - loss: 0.2399 - accuracy: 0.8910: 100%|██████████| 16/16 [00:00<00:00, 123.33it/s]\n"
     ]
    },
    {
     "name": "stdout",
     "output_type": "stream",
     "text": [
      "----------\n"
     ]
    },
    {
     "name": "stderr",
     "output_type": "stream",
     "text": [
      "Epoch 107 - loss: 0.1996 - accuracy: 0.9130: 100%|██████████| 16/16 [00:00<00:00, 85.06it/s]\n",
      "Epoch 107 - loss: 0.2452 - accuracy: 0.8760: 100%|██████████| 16/16 [00:00<00:00, 132.95it/s]\n"
     ]
    },
    {
     "name": "stdout",
     "output_type": "stream",
     "text": [
      "----------\n"
     ]
    },
    {
     "name": "stderr",
     "output_type": "stream",
     "text": [
      "Epoch 108 - loss: 0.1992 - accuracy: 0.9110: 100%|██████████| 16/16 [00:00<00:00, 100.55it/s]\n",
      "Epoch 108 - loss: 0.2572 - accuracy: 0.8600: 100%|██████████| 16/16 [00:00<00:00, 130.58it/s]\n"
     ]
    },
    {
     "name": "stdout",
     "output_type": "stream",
     "text": [
      "----------\n"
     ]
    },
    {
     "name": "stderr",
     "output_type": "stream",
     "text": [
      "Epoch 109 - loss: 0.2064 - accuracy: 0.9070: 100%|██████████| 16/16 [00:00<00:00, 99.48it/s]\n",
      "Epoch 109 - loss: 0.2640 - accuracy: 0.8570: 100%|██████████| 16/16 [00:00<00:00, 133.10it/s]\n"
     ]
    },
    {
     "name": "stdout",
     "output_type": "stream",
     "text": [
      "----------\n"
     ]
    },
    {
     "name": "stderr",
     "output_type": "stream",
     "text": [
      "Epoch 110 - loss: 0.2218 - accuracy: 0.9010: 100%|██████████| 16/16 [00:00<00:00, 99.97it/s] \n",
      "Epoch 110 - loss: 0.2462 - accuracy: 0.8840: 100%|██████████| 16/16 [00:00<00:00, 131.45it/s]\n"
     ]
    },
    {
     "name": "stdout",
     "output_type": "stream",
     "text": [
      "----------\n"
     ]
    },
    {
     "name": "stderr",
     "output_type": "stream",
     "text": [
      "Epoch 111 - loss: 0.2002 - accuracy: 0.9140: 100%|██████████| 16/16 [00:00<00:00, 99.63it/s] \n",
      "Epoch 111 - loss: 0.2340 - accuracy: 0.9060: 100%|██████████| 16/16 [00:00<00:00, 139.97it/s]\n"
     ]
    },
    {
     "name": "stdout",
     "output_type": "stream",
     "text": [
      "----------\n"
     ]
    },
    {
     "name": "stderr",
     "output_type": "stream",
     "text": [
      "Epoch 112 - loss: 0.1984 - accuracy: 0.9200: 100%|██████████| 16/16 [00:00<00:00, 99.44it/s] \n",
      "Epoch 112 - loss: 0.2597 - accuracy: 0.8570: 100%|██████████| 16/16 [00:00<00:00, 125.23it/s]\n"
     ]
    },
    {
     "name": "stdout",
     "output_type": "stream",
     "text": [
      "----------\n"
     ]
    },
    {
     "name": "stderr",
     "output_type": "stream",
     "text": [
      "Epoch 113 - loss: 0.1988 - accuracy: 0.9160: 100%|██████████| 16/16 [00:00<00:00, 78.72it/s]\n",
      "Epoch 113 - loss: 0.2330 - accuracy: 0.9140: 100%|██████████| 16/16 [00:00<00:00, 111.57it/s]\n"
     ]
    },
    {
     "name": "stdout",
     "output_type": "stream",
     "text": [
      "----------\n"
     ]
    },
    {
     "name": "stderr",
     "output_type": "stream",
     "text": [
      "Epoch 114 - loss: 0.1974 - accuracy: 0.9210: 100%|██████████| 16/16 [00:00<00:00, 75.77it/s]\n",
      "Epoch 114 - loss: 0.2265 - accuracy: 0.8930: 100%|██████████| 16/16 [00:00<00:00, 116.85it/s]\n"
     ]
    },
    {
     "name": "stdout",
     "output_type": "stream",
     "text": [
      "----------\n"
     ]
    },
    {
     "name": "stderr",
     "output_type": "stream",
     "text": [
      "Epoch 115 - loss: 0.1943 - accuracy: 0.9220: 100%|██████████| 16/16 [00:00<00:00, 89.03it/s]\n",
      "Epoch 115 - loss: 0.2489 - accuracy: 0.8880: 100%|██████████| 16/16 [00:00<00:00, 137.05it/s]\n"
     ]
    },
    {
     "name": "stdout",
     "output_type": "stream",
     "text": [
      "----------\n"
     ]
    },
    {
     "name": "stderr",
     "output_type": "stream",
     "text": [
      "Epoch 116 - loss: 0.1963 - accuracy: 0.9190: 100%|██████████| 16/16 [00:00<00:00, 81.09it/s]\n",
      "Epoch 116 - loss: 0.2569 - accuracy: 0.8590: 100%|██████████| 16/16 [00:00<00:00, 99.86it/s] \n"
     ]
    },
    {
     "name": "stdout",
     "output_type": "stream",
     "text": [
      "----------\n"
     ]
    },
    {
     "name": "stderr",
     "output_type": "stream",
     "text": [
      "Epoch 117 - loss: 0.2111 - accuracy: 0.9110: 100%|██████████| 16/16 [00:00<00:00, 95.21it/s]\n",
      "Epoch 117 - loss: 0.2270 - accuracy: 0.9090: 100%|██████████| 16/16 [00:00<00:00, 149.29it/s]\n"
     ]
    },
    {
     "name": "stdout",
     "output_type": "stream",
     "text": [
      "----------\n"
     ]
    },
    {
     "name": "stderr",
     "output_type": "stream",
     "text": [
      "Epoch 118 - loss: 0.2022 - accuracy: 0.9090: 100%|██████████| 16/16 [00:00<00:00, 101.81it/s]\n",
      "Epoch 118 - loss: 0.2339 - accuracy: 0.9060: 100%|██████████| 16/16 [00:00<00:00, 121.87it/s]\n"
     ]
    },
    {
     "name": "stdout",
     "output_type": "stream",
     "text": [
      "----------\n"
     ]
    },
    {
     "name": "stderr",
     "output_type": "stream",
     "text": [
      "Epoch 119 - loss: 0.1953 - accuracy: 0.9150: 100%|██████████| 16/16 [00:00<00:00, 86.19it/s]\n",
      "Epoch 119 - loss: 0.2337 - accuracy: 0.8830: 100%|██████████| 16/16 [00:00<00:00, 133.01it/s]\n"
     ]
    },
    {
     "name": "stdout",
     "output_type": "stream",
     "text": [
      "----------\n"
     ]
    },
    {
     "name": "stderr",
     "output_type": "stream",
     "text": [
      "Epoch 120 - loss: 0.1892 - accuracy: 0.9180: 100%|██████████| 16/16 [00:00<00:00, 99.21it/s] \n",
      "Epoch 120 - loss: 0.2169 - accuracy: 0.9010: 100%|██████████| 16/16 [00:00<00:00, 115.33it/s]\n"
     ]
    },
    {
     "name": "stdout",
     "output_type": "stream",
     "text": [
      "----------\n"
     ]
    },
    {
     "name": "stderr",
     "output_type": "stream",
     "text": [
      "Epoch 121 - loss: 0.1934 - accuracy: 0.9170: 100%|██████████| 16/16 [00:00<00:00, 93.10it/s]\n",
      "Epoch 121 - loss: 0.2238 - accuracy: 0.8910: 100%|██████████| 16/16 [00:00<00:00, 128.24it/s]\n"
     ]
    },
    {
     "name": "stdout",
     "output_type": "stream",
     "text": [
      "----------\n"
     ]
    },
    {
     "name": "stderr",
     "output_type": "stream",
     "text": [
      "Epoch 122 - loss: 0.1889 - accuracy: 0.9140: 100%|██████████| 16/16 [00:00<00:00, 88.13it/s]\n",
      "Epoch 122 - loss: 0.2328 - accuracy: 0.9030: 100%|██████████| 16/16 [00:00<00:00, 136.91it/s]\n"
     ]
    },
    {
     "name": "stdout",
     "output_type": "stream",
     "text": [
      "----------\n"
     ]
    },
    {
     "name": "stderr",
     "output_type": "stream",
     "text": [
      "Epoch 123 - loss: 0.1899 - accuracy: 0.9200: 100%|██████████| 16/16 [00:00<00:00, 85.20it/s]\n",
      "Epoch 123 - loss: 0.2689 - accuracy: 0.8850: 100%|██████████| 16/16 [00:00<00:00, 143.84it/s]\n"
     ]
    },
    {
     "name": "stdout",
     "output_type": "stream",
     "text": [
      "----------\n"
     ]
    },
    {
     "name": "stderr",
     "output_type": "stream",
     "text": [
      "Epoch 124 - loss: 0.2007 - accuracy: 0.9160: 100%|██████████| 16/16 [00:00<00:00, 101.19it/s]\n",
      "Epoch 124 - loss: 0.2196 - accuracy: 0.9090: 100%|██████████| 16/16 [00:00<00:00, 128.06it/s]\n"
     ]
    },
    {
     "name": "stdout",
     "output_type": "stream",
     "text": [
      "----------\n"
     ]
    },
    {
     "name": "stderr",
     "output_type": "stream",
     "text": [
      "Epoch 125 - loss: 0.1772 - accuracy: 0.9250: 100%|██████████| 16/16 [00:00<00:00, 90.96it/s]\n",
      "Epoch 125 - loss: 0.2169 - accuracy: 0.8920: 100%|██████████| 16/16 [00:00<00:00, 132.41it/s]\n"
     ]
    },
    {
     "name": "stdout",
     "output_type": "stream",
     "text": [
      "----------\n"
     ]
    },
    {
     "name": "stderr",
     "output_type": "stream",
     "text": [
      "Epoch 126 - loss: 0.1834 - accuracy: 0.9220: 100%|██████████| 16/16 [00:00<00:00, 94.83it/s]\n",
      "Epoch 126 - loss: 0.2242 - accuracy: 0.9080: 100%|██████████| 16/16 [00:00<00:00, 140.39it/s]\n"
     ]
    },
    {
     "name": "stdout",
     "output_type": "stream",
     "text": [
      "----------\n"
     ]
    },
    {
     "name": "stderr",
     "output_type": "stream",
     "text": [
      "Epoch 127 - loss: 0.1715 - accuracy: 0.9330: 100%|██████████| 16/16 [00:00<00:00, 103.62it/s]\n",
      "Epoch 127 - loss: 0.2513 - accuracy: 0.8980: 100%|██████████| 16/16 [00:00<00:00, 134.40it/s]\n"
     ]
    },
    {
     "name": "stdout",
     "output_type": "stream",
     "text": [
      "----------\n"
     ]
    },
    {
     "name": "stderr",
     "output_type": "stream",
     "text": [
      "Epoch 128 - loss: 0.1741 - accuracy: 0.9240: 100%|██████████| 16/16 [00:00<00:00, 74.51it/s]\n",
      "Epoch 128 - loss: 0.2168 - accuracy: 0.9150: 100%|██████████| 16/16 [00:00<00:00, 107.09it/s]\n"
     ]
    },
    {
     "name": "stdout",
     "output_type": "stream",
     "text": [
      "----------\n"
     ]
    },
    {
     "name": "stderr",
     "output_type": "stream",
     "text": [
      "Epoch 129 - loss: 0.1815 - accuracy: 0.9250: 100%|██████████| 16/16 [00:00<00:00, 63.93it/s]\n",
      "Epoch 129 - loss: 0.2647 - accuracy: 0.8560: 100%|██████████| 16/16 [00:00<00:00, 116.53it/s]\n"
     ]
    },
    {
     "name": "stdout",
     "output_type": "stream",
     "text": [
      "----------\n"
     ]
    },
    {
     "name": "stderr",
     "output_type": "stream",
     "text": [
      "Epoch 130 - loss: 0.1827 - accuracy: 0.9230: 100%|██████████| 16/16 [00:00<00:00, 83.88it/s]\n",
      "Epoch 130 - loss: 0.2399 - accuracy: 0.8710: 100%|██████████| 16/16 [00:00<00:00, 115.92it/s]\n"
     ]
    },
    {
     "name": "stdout",
     "output_type": "stream",
     "text": [
      "----------\n"
     ]
    },
    {
     "name": "stderr",
     "output_type": "stream",
     "text": [
      "Epoch 131 - loss: 0.1792 - accuracy: 0.9200: 100%|██████████| 16/16 [00:00<00:00, 89.83it/s]\n",
      "Epoch 131 - loss: 0.2207 - accuracy: 0.9070: 100%|██████████| 16/16 [00:00<00:00, 120.94it/s]\n"
     ]
    },
    {
     "name": "stdout",
     "output_type": "stream",
     "text": [
      "----------\n"
     ]
    },
    {
     "name": "stderr",
     "output_type": "stream",
     "text": [
      "Epoch 132 - loss: 0.1650 - accuracy: 0.9310: 100%|██████████| 16/16 [00:00<00:00, 86.87it/s]\n",
      "Epoch 132 - loss: 0.2287 - accuracy: 0.9070: 100%|██████████| 16/16 [00:00<00:00, 106.90it/s]\n"
     ]
    },
    {
     "name": "stdout",
     "output_type": "stream",
     "text": [
      "----------\n"
     ]
    },
    {
     "name": "stderr",
     "output_type": "stream",
     "text": [
      "Epoch 133 - loss: 0.1775 - accuracy: 0.9300: 100%|██████████| 16/16 [00:00<00:00, 88.19it/s]\n",
      "Epoch 133 - loss: 0.2174 - accuracy: 0.9040: 100%|██████████| 16/16 [00:00<00:00, 111.35it/s]\n"
     ]
    },
    {
     "name": "stdout",
     "output_type": "stream",
     "text": [
      "----------\n"
     ]
    },
    {
     "name": "stderr",
     "output_type": "stream",
     "text": [
      "Epoch 134 - loss: 0.1815 - accuracy: 0.9300: 100%|██████████| 16/16 [00:00<00:00, 80.07it/s]\n",
      "Epoch 134 - loss: 0.2396 - accuracy: 0.8700: 100%|██████████| 16/16 [00:00<00:00, 104.68it/s]\n"
     ]
    },
    {
     "name": "stdout",
     "output_type": "stream",
     "text": [
      "----------\n"
     ]
    },
    {
     "name": "stderr",
     "output_type": "stream",
     "text": [
      "Epoch 135 - loss: 0.1735 - accuracy: 0.9250: 100%|██████████| 16/16 [00:00<00:00, 85.29it/s]\n",
      "Epoch 135 - loss: 0.2232 - accuracy: 0.9160: 100%|██████████| 16/16 [00:00<00:00, 110.44it/s]\n"
     ]
    },
    {
     "name": "stdout",
     "output_type": "stream",
     "text": [
      "----------\n"
     ]
    },
    {
     "name": "stderr",
     "output_type": "stream",
     "text": [
      "Epoch 136 - loss: 0.1697 - accuracy: 0.9310: 100%|██████████| 16/16 [00:00<00:00, 102.20it/s]\n",
      "Epoch 136 - loss: 0.2027 - accuracy: 0.9010: 100%|██████████| 16/16 [00:00<00:00, 129.00it/s]\n"
     ]
    },
    {
     "name": "stdout",
     "output_type": "stream",
     "text": [
      "----------\n"
     ]
    },
    {
     "name": "stderr",
     "output_type": "stream",
     "text": [
      "Epoch 137 - loss: 0.1816 - accuracy: 0.9190: 100%|██████████| 16/16 [00:00<00:00, 81.95it/s]\n",
      "Epoch 137 - loss: 0.2728 - accuracy: 0.8510: 100%|██████████| 16/16 [00:00<00:00, 104.52it/s]\n"
     ]
    },
    {
     "name": "stdout",
     "output_type": "stream",
     "text": [
      "----------\n"
     ]
    },
    {
     "name": "stderr",
     "output_type": "stream",
     "text": [
      "Epoch 138 - loss: 0.1718 - accuracy: 0.9340: 100%|██████████| 16/16 [00:00<00:00, 76.42it/s]\n",
      "Epoch 138 - loss: 0.2147 - accuracy: 0.8980: 100%|██████████| 16/16 [00:00<00:00, 105.00it/s]\n"
     ]
    },
    {
     "name": "stdout",
     "output_type": "stream",
     "text": [
      "----------\n"
     ]
    },
    {
     "name": "stderr",
     "output_type": "stream",
     "text": [
      "Epoch 139 - loss: 0.1634 - accuracy: 0.9300: 100%|██████████| 16/16 [00:00<00:00, 79.18it/s]\n",
      "Epoch 139 - loss: 0.2008 - accuracy: 0.8990: 100%|██████████| 16/16 [00:00<00:00, 107.47it/s]\n"
     ]
    },
    {
     "name": "stdout",
     "output_type": "stream",
     "text": [
      "----------\n"
     ]
    },
    {
     "name": "stderr",
     "output_type": "stream",
     "text": [
      "Epoch 140 - loss: 0.1678 - accuracy: 0.9330: 100%|██████████| 16/16 [00:00<00:00, 74.60it/s]\n",
      "Epoch 140 - loss: 0.2046 - accuracy: 0.9150: 100%|██████████| 16/16 [00:00<00:00, 104.01it/s]\n"
     ]
    },
    {
     "name": "stdout",
     "output_type": "stream",
     "text": [
      "----------\n"
     ]
    },
    {
     "name": "stderr",
     "output_type": "stream",
     "text": [
      "Epoch 141 - loss: 0.1606 - accuracy: 0.9340: 100%|██████████| 16/16 [00:00<00:00, 75.74it/s]\n",
      "Epoch 141 - loss: 0.2330 - accuracy: 0.8720: 100%|██████████| 16/16 [00:00<00:00, 107.38it/s]\n"
     ]
    },
    {
     "name": "stdout",
     "output_type": "stream",
     "text": [
      "----------\n"
     ]
    },
    {
     "name": "stderr",
     "output_type": "stream",
     "text": [
      "Epoch 142 - loss: 0.1702 - accuracy: 0.9310: 100%|██████████| 16/16 [00:00<00:00, 84.77it/s]\n",
      "Epoch 142 - loss: 0.2271 - accuracy: 0.8920: 100%|██████████| 16/16 [00:00<00:00, 95.33it/s]\n"
     ]
    },
    {
     "name": "stdout",
     "output_type": "stream",
     "text": [
      "----------\n"
     ]
    },
    {
     "name": "stderr",
     "output_type": "stream",
     "text": [
      "Epoch 143 - loss: 0.1613 - accuracy: 0.9360: 100%|██████████| 16/16 [00:00<00:00, 82.54it/s]\n",
      "Epoch 143 - loss: 0.2432 - accuracy: 0.8990: 100%|██████████| 16/16 [00:00<00:00, 122.46it/s]\n"
     ]
    },
    {
     "name": "stdout",
     "output_type": "stream",
     "text": [
      "----------\n"
     ]
    },
    {
     "name": "stderr",
     "output_type": "stream",
     "text": [
      "Epoch 144 - loss: 0.1760 - accuracy: 0.9250: 100%|██████████| 16/16 [00:00<00:00, 85.14it/s]\n",
      "Epoch 144 - loss: 0.1946 - accuracy: 0.9200: 100%|██████████| 16/16 [00:00<00:00, 122.43it/s]\n"
     ]
    },
    {
     "name": "stdout",
     "output_type": "stream",
     "text": [
      "----------\n"
     ]
    },
    {
     "name": "stderr",
     "output_type": "stream",
     "text": [
      "Epoch 145 - loss: 0.1572 - accuracy: 0.9380: 100%|██████████| 16/16 [00:00<00:00, 81.74it/s]\n",
      "Epoch 145 - loss: 0.2288 - accuracy: 0.8720: 100%|██████████| 16/16 [00:00<00:00, 98.91it/s]\n"
     ]
    },
    {
     "name": "stdout",
     "output_type": "stream",
     "text": [
      "----------\n"
     ]
    },
    {
     "name": "stderr",
     "output_type": "stream",
     "text": [
      "Epoch 146 - loss: 0.1793 - accuracy: 0.9250: 100%|██████████| 16/16 [00:00<00:00, 67.84it/s]\n",
      "Epoch 146 - loss: 0.2388 - accuracy: 0.8680: 100%|██████████| 16/16 [00:00<00:00, 109.24it/s]\n"
     ]
    },
    {
     "name": "stdout",
     "output_type": "stream",
     "text": [
      "----------\n"
     ]
    },
    {
     "name": "stderr",
     "output_type": "stream",
     "text": [
      "Epoch 147 - loss: 0.1643 - accuracy: 0.9290: 100%|██████████| 16/16 [00:00<00:00, 82.58it/s]\n",
      "Epoch 147 - loss: 0.1932 - accuracy: 0.9220: 100%|██████████| 16/16 [00:00<00:00, 85.79it/s]\n"
     ]
    },
    {
     "name": "stdout",
     "output_type": "stream",
     "text": [
      "----------\n"
     ]
    },
    {
     "name": "stderr",
     "output_type": "stream",
     "text": [
      "Epoch 148 - loss: 0.1599 - accuracy: 0.9360: 100%|██████████| 16/16 [00:00<00:00, 81.82it/s]\n",
      "Epoch 148 - loss: 0.1947 - accuracy: 0.9260: 100%|██████████| 16/16 [00:00<00:00, 113.85it/s]\n"
     ]
    },
    {
     "name": "stdout",
     "output_type": "stream",
     "text": [
      "----------\n"
     ]
    },
    {
     "name": "stderr",
     "output_type": "stream",
     "text": [
      "Epoch 149 - loss: 0.1688 - accuracy: 0.9320: 100%|██████████| 16/16 [00:00<00:00, 93.17it/s]\n",
      "Epoch 149 - loss: 0.2679 - accuracy: 0.8800: 100%|██████████| 16/16 [00:00<00:00, 138.42it/s]"
     ]
    },
    {
     "name": "stdout",
     "output_type": "stream",
     "text": [
      "----------\n"
     ]
    },
    {
     "name": "stderr",
     "output_type": "stream",
     "text": [
      "\n"
     ]
    }
   ],
   "source": [
    "# Tensoboard logger\n",
    "import time\n",
    "from supervised_ml import get_tensorboard_writer\n",
    "\n",
    "run_name = f'[256,256]/{str(int(time.time()))}'\n",
    "tensorboard_writer = get_tensorboard_writer(run_name)\n",
    "\n",
    "# Adam is always a safe choice\n",
    "import torch.optim as optim\n",
    "optimizer = optim.Adam(model.parameters())\n",
    "\n",
    "from supervised_ml import get_train_val_loop\n",
    "train_val_loop = get_train_val_loop(model, criterion, optimizer, tensorboard_writer)\n",
    "\n",
    "N_EPOCHS = 150\n",
    "\n",
    "for epoch in range(N_EPOCHS):\n",
    "    # train\n",
    "    train_val_loop(is_train=True, dataloader=train_dataloader, epoch=epoch)\n",
    "\n",
    "    with torch.no_grad():\n",
    "        # validate\n",
    "        train_val_loop(is_train=False, dataloader=test_dataloader, epoch=epoch)\n",
    "\n",
    "    print('----------')"
   ]
  },
  {
   "cell_type": "markdown",
   "id": "2378f564",
   "metadata": {},
   "source": [
    "-------"
   ]
  },
  {
   "cell_type": "markdown",
   "id": "a2b6e995",
   "metadata": {},
   "source": [
    "## Model 4: Neural network with 3 hidden layers"
   ]
  },
  {
   "cell_type": "markdown",
   "id": "3622fe82",
   "metadata": {},
   "source": [
    "### Model architecture 📐🏗️"
   ]
  },
  {
   "cell_type": "code",
   "execution_count": 22,
   "id": "4f9226ff",
   "metadata": {},
   "outputs": [
    {
     "name": "stdout",
     "output_type": "stream",
     "text": [
      "133,378 parameters\n",
      "Sequential(\n",
      "  (0): Linear(in_features=4, out_features=256, bias=True)\n",
      "  (1): ReLU()\n",
      "  (2): Linear(in_features=256, out_features=256, bias=True)\n",
      "  (3): ReLU()\n",
      "  (4): Linear(in_features=256, out_features=256, bias=True)\n",
      "  (5): ReLU()\n",
      "  (6): Linear(in_features=256, out_features=2, bias=True)\n",
      ")\n"
     ]
    }
   ],
   "source": [
    "model = get_model(input_dim=4, output_dim=2,\n",
    "                  hidden_layers=[256, 256, 256])\n",
    "device = torch.device(\"cuda\" if torch.cuda.is_available() else \"cpu\")\n",
    "model.to(device)\n",
    "\n",
    "print(f'{count_parameters(model):,} parameters')\n",
    "print(model)"
   ]
  },
  {
   "cell_type": "markdown",
   "id": "3db31b2d",
   "metadata": {},
   "source": [
    "![image](https://github.com/Paulescu/hands-on-rl/blob/main/03_cart_pole/images/nn_3_hidden_layers_sml.jpg?raw=true)"
   ]
  },
  {
   "cell_type": "markdown",
   "id": "d78b077f",
   "metadata": {},
   "source": [
    "### Train loop 🏋️"
   ]
  },
  {
   "cell_type": "code",
   "execution_count": 23,
   "id": "1f4c9ddb",
   "metadata": {
    "scrolled": true
   },
   "outputs": [
    {
     "name": "stderr",
     "output_type": "stream",
     "text": [
      "Epoch 0 - loss: 0.6135 - accuracy: 0.6790: 100%|██████████| 16/16 [00:00<00:00, 78.99it/s]\n",
      "Epoch 0 - loss: 0.5806 - accuracy: 0.6840: 100%|██████████| 16/16 [00:00<00:00, 111.89it/s]\n"
     ]
    },
    {
     "name": "stdout",
     "output_type": "stream",
     "text": [
      "----------\n"
     ]
    },
    {
     "name": "stderr",
     "output_type": "stream",
     "text": [
      "Epoch 1 - loss: 0.5732 - accuracy: 0.6980: 100%|██████████| 16/16 [00:00<00:00, 78.78it/s]\n",
      "Epoch 1 - loss: 0.5612 - accuracy: 0.7050: 100%|██████████| 16/16 [00:00<00:00, 121.67it/s]\n"
     ]
    },
    {
     "name": "stdout",
     "output_type": "stream",
     "text": [
      "----------\n"
     ]
    },
    {
     "name": "stderr",
     "output_type": "stream",
     "text": [
      "Epoch 2 - loss: 0.5608 - accuracy: 0.6930: 100%|██████████| 16/16 [00:00<00:00, 83.79it/s]\n",
      "Epoch 2 - loss: 0.5568 - accuracy: 0.7040: 100%|██████████| 16/16 [00:00<00:00, 116.12it/s]\n"
     ]
    },
    {
     "name": "stdout",
     "output_type": "stream",
     "text": [
      "----------\n"
     ]
    },
    {
     "name": "stderr",
     "output_type": "stream",
     "text": [
      "Epoch 3 - loss: 0.5527 - accuracy: 0.7170: 100%|██████████| 16/16 [00:00<00:00, 85.75it/s]\n",
      "Epoch 3 - loss: 0.5459 - accuracy: 0.7050: 100%|██████████| 16/16 [00:00<00:00, 108.35it/s]\n"
     ]
    },
    {
     "name": "stdout",
     "output_type": "stream",
     "text": [
      "----------\n"
     ]
    },
    {
     "name": "stderr",
     "output_type": "stream",
     "text": [
      "Epoch 4 - loss: 0.5400 - accuracy: 0.7300: 100%|██████████| 16/16 [00:00<00:00, 87.46it/s]\n",
      "Epoch 4 - loss: 0.5397 - accuracy: 0.7150: 100%|██████████| 16/16 [00:00<00:00, 135.32it/s]\n"
     ]
    },
    {
     "name": "stdout",
     "output_type": "stream",
     "text": [
      "----------\n"
     ]
    },
    {
     "name": "stderr",
     "output_type": "stream",
     "text": [
      "Epoch 5 - loss: 0.5350 - accuracy: 0.7240: 100%|██████████| 16/16 [00:00<00:00, 71.57it/s]\n",
      "Epoch 5 - loss: 0.5371 - accuracy: 0.7060: 100%|██████████| 16/16 [00:00<00:00, 120.44it/s]\n"
     ]
    },
    {
     "name": "stdout",
     "output_type": "stream",
     "text": [
      "----------\n"
     ]
    },
    {
     "name": "stderr",
     "output_type": "stream",
     "text": [
      "Epoch 6 - loss: 0.5234 - accuracy: 0.7400: 100%|██████████| 16/16 [00:00<00:00, 77.52it/s]\n",
      "Epoch 6 - loss: 0.5172 - accuracy: 0.7470: 100%|██████████| 16/16 [00:00<00:00, 99.22it/s]\n"
     ]
    },
    {
     "name": "stdout",
     "output_type": "stream",
     "text": [
      "----------\n"
     ]
    },
    {
     "name": "stderr",
     "output_type": "stream",
     "text": [
      "Epoch 7 - loss: 0.5124 - accuracy: 0.7460: 100%|██████████| 16/16 [00:00<00:00, 91.80it/s]\n",
      "Epoch 7 - loss: 0.5128 - accuracy: 0.7270: 100%|██████████| 16/16 [00:00<00:00, 134.16it/s]\n"
     ]
    },
    {
     "name": "stdout",
     "output_type": "stream",
     "text": [
      "----------\n"
     ]
    },
    {
     "name": "stderr",
     "output_type": "stream",
     "text": [
      "Epoch 8 - loss: 0.5082 - accuracy: 0.7270: 100%|██████████| 16/16 [00:00<00:00, 85.77it/s]\n",
      "Epoch 8 - loss: 0.5126 - accuracy: 0.7150: 100%|██████████| 16/16 [00:00<00:00, 131.25it/s]\n"
     ]
    },
    {
     "name": "stdout",
     "output_type": "stream",
     "text": [
      "----------\n"
     ]
    },
    {
     "name": "stderr",
     "output_type": "stream",
     "text": [
      "Epoch 9 - loss: 0.5234 - accuracy: 0.7120: 100%|██████████| 16/16 [00:00<00:00, 88.57it/s]\n",
      "Epoch 9 - loss: 0.5023 - accuracy: 0.7320: 100%|██████████| 16/16 [00:00<00:00, 137.48it/s]\n"
     ]
    },
    {
     "name": "stdout",
     "output_type": "stream",
     "text": [
      "----------\n"
     ]
    },
    {
     "name": "stderr",
     "output_type": "stream",
     "text": [
      "Epoch 10 - loss: 0.5163 - accuracy: 0.7260: 100%|██████████| 16/16 [00:00<00:00, 81.50it/s]\n",
      "Epoch 10 - loss: 0.5049 - accuracy: 0.7170: 100%|██████████| 16/16 [00:00<00:00, 127.72it/s]\n"
     ]
    },
    {
     "name": "stdout",
     "output_type": "stream",
     "text": [
      "----------\n"
     ]
    },
    {
     "name": "stderr",
     "output_type": "stream",
     "text": [
      "Epoch 11 - loss: 0.4894 - accuracy: 0.7580: 100%|██████████| 16/16 [00:00<00:00, 90.07it/s]\n",
      "Epoch 11 - loss: 0.4775 - accuracy: 0.7780: 100%|██████████| 16/16 [00:00<00:00, 125.30it/s]\n"
     ]
    },
    {
     "name": "stdout",
     "output_type": "stream",
     "text": [
      "----------\n"
     ]
    },
    {
     "name": "stderr",
     "output_type": "stream",
     "text": [
      "Epoch 12 - loss: 0.4785 - accuracy: 0.7760: 100%|██████████| 16/16 [00:00<00:00, 85.98it/s]\n",
      "Epoch 12 - loss: 0.4840 - accuracy: 0.7910: 100%|██████████| 16/16 [00:00<00:00, 126.92it/s]\n"
     ]
    },
    {
     "name": "stdout",
     "output_type": "stream",
     "text": [
      "----------\n"
     ]
    },
    {
     "name": "stderr",
     "output_type": "stream",
     "text": [
      "Epoch 13 - loss: 0.4773 - accuracy: 0.7640: 100%|██████████| 16/16 [00:00<00:00, 91.69it/s]\n",
      "Epoch 13 - loss: 0.4878 - accuracy: 0.7430: 100%|██████████| 16/16 [00:00<00:00, 139.22it/s]\n"
     ]
    },
    {
     "name": "stdout",
     "output_type": "stream",
     "text": [
      "----------\n"
     ]
    },
    {
     "name": "stderr",
     "output_type": "stream",
     "text": [
      "Epoch 14 - loss: 0.4780 - accuracy: 0.7720: 100%|██████████| 16/16 [00:00<00:00, 86.55it/s]\n",
      "Epoch 14 - loss: 0.4602 - accuracy: 0.8080: 100%|██████████| 16/16 [00:00<00:00, 136.44it/s]\n"
     ]
    },
    {
     "name": "stdout",
     "output_type": "stream",
     "text": [
      "----------\n"
     ]
    },
    {
     "name": "stderr",
     "output_type": "stream",
     "text": [
      "Epoch 15 - loss: 0.4561 - accuracy: 0.7880: 100%|██████████| 16/16 [00:00<00:00, 93.09it/s]\n",
      "Epoch 15 - loss: 0.4585 - accuracy: 0.8040: 100%|██████████| 16/16 [00:00<00:00, 134.75it/s]\n"
     ]
    },
    {
     "name": "stdout",
     "output_type": "stream",
     "text": [
      "----------\n"
     ]
    },
    {
     "name": "stderr",
     "output_type": "stream",
     "text": [
      "Epoch 16 - loss: 0.4459 - accuracy: 0.7930: 100%|██████████| 16/16 [00:00<00:00, 92.13it/s]\n",
      "Epoch 16 - loss: 0.4457 - accuracy: 0.7940: 100%|██████████| 16/16 [00:00<00:00, 139.20it/s]\n"
     ]
    },
    {
     "name": "stdout",
     "output_type": "stream",
     "text": [
      "----------\n"
     ]
    },
    {
     "name": "stderr",
     "output_type": "stream",
     "text": [
      "Epoch 17 - loss: 0.4469 - accuracy: 0.7950: 100%|██████████| 16/16 [00:00<00:00, 94.17it/s]\n",
      "Epoch 17 - loss: 0.4675 - accuracy: 0.7530: 100%|██████████| 16/16 [00:00<00:00, 123.82it/s]\n"
     ]
    },
    {
     "name": "stdout",
     "output_type": "stream",
     "text": [
      "----------\n"
     ]
    },
    {
     "name": "stderr",
     "output_type": "stream",
     "text": [
      "Epoch 18 - loss: 0.4398 - accuracy: 0.7860: 100%|██████████| 16/16 [00:00<00:00, 90.20it/s]\n",
      "Epoch 18 - loss: 0.4350 - accuracy: 0.7920: 100%|██████████| 16/16 [00:00<00:00, 119.51it/s]\n"
     ]
    },
    {
     "name": "stdout",
     "output_type": "stream",
     "text": [
      "----------\n"
     ]
    },
    {
     "name": "stderr",
     "output_type": "stream",
     "text": [
      "Epoch 19 - loss: 0.4244 - accuracy: 0.8010: 100%|██████████| 16/16 [00:00<00:00, 69.77it/s]\n",
      "Epoch 19 - loss: 0.4347 - accuracy: 0.7760: 100%|██████████| 16/16 [00:00<00:00, 132.60it/s]\n"
     ]
    },
    {
     "name": "stdout",
     "output_type": "stream",
     "text": [
      "----------\n"
     ]
    },
    {
     "name": "stderr",
     "output_type": "stream",
     "text": [
      "Epoch 20 - loss: 0.4234 - accuracy: 0.8040: 100%|██████████| 16/16 [00:00<00:00, 95.38it/s]\n",
      "Epoch 20 - loss: 0.4591 - accuracy: 0.8080: 100%|██████████| 16/16 [00:00<00:00, 128.27it/s]\n"
     ]
    },
    {
     "name": "stdout",
     "output_type": "stream",
     "text": [
      "----------\n"
     ]
    },
    {
     "name": "stderr",
     "output_type": "stream",
     "text": [
      "Epoch 21 - loss: 0.4356 - accuracy: 0.7880: 100%|██████████| 16/16 [00:00<00:00, 89.42it/s]\n",
      "Epoch 21 - loss: 0.4491 - accuracy: 0.7600: 100%|██████████| 16/16 [00:00<00:00, 132.40it/s]\n"
     ]
    },
    {
     "name": "stdout",
     "output_type": "stream",
     "text": [
      "----------\n"
     ]
    },
    {
     "name": "stderr",
     "output_type": "stream",
     "text": [
      "Epoch 22 - loss: 0.4291 - accuracy: 0.7910: 100%|██████████| 16/16 [00:00<00:00, 89.77it/s]\n",
      "Epoch 22 - loss: 0.4436 - accuracy: 0.7660: 100%|██████████| 16/16 [00:00<00:00, 138.58it/s]\n"
     ]
    },
    {
     "name": "stdout",
     "output_type": "stream",
     "text": [
      "----------\n"
     ]
    },
    {
     "name": "stderr",
     "output_type": "stream",
     "text": [
      "Epoch 23 - loss: 0.4209 - accuracy: 0.7940: 100%|██████████| 16/16 [00:00<00:00, 93.94it/s]\n",
      "Epoch 23 - loss: 0.4197 - accuracy: 0.7950: 100%|██████████| 16/16 [00:00<00:00, 140.11it/s]\n"
     ]
    },
    {
     "name": "stdout",
     "output_type": "stream",
     "text": [
      "----------\n"
     ]
    },
    {
     "name": "stderr",
     "output_type": "stream",
     "text": [
      "Epoch 24 - loss: 0.4136 - accuracy: 0.8100: 100%|██████████| 16/16 [00:00<00:00, 85.09it/s]\n",
      "Epoch 24 - loss: 0.4302 - accuracy: 0.8240: 100%|██████████| 16/16 [00:00<00:00, 109.96it/s]\n"
     ]
    },
    {
     "name": "stdout",
     "output_type": "stream",
     "text": [
      "----------\n"
     ]
    },
    {
     "name": "stderr",
     "output_type": "stream",
     "text": [
      "Epoch 25 - loss: 0.4055 - accuracy: 0.8130: 100%|██████████| 16/16 [00:00<00:00, 67.33it/s]\n",
      "Epoch 25 - loss: 0.4120 - accuracy: 0.8040: 100%|██████████| 16/16 [00:00<00:00, 89.94it/s]\n"
     ]
    },
    {
     "name": "stdout",
     "output_type": "stream",
     "text": [
      "----------\n"
     ]
    },
    {
     "name": "stderr",
     "output_type": "stream",
     "text": [
      "Epoch 26 - loss: 0.4038 - accuracy: 0.8190: 100%|██████████| 16/16 [00:00<00:00, 72.52it/s]\n",
      "Epoch 26 - loss: 0.4094 - accuracy: 0.7980: 100%|██████████| 16/16 [00:00<00:00, 80.17it/s]\n"
     ]
    },
    {
     "name": "stdout",
     "output_type": "stream",
     "text": [
      "----------\n"
     ]
    },
    {
     "name": "stderr",
     "output_type": "stream",
     "text": [
      "Epoch 27 - loss: 0.3937 - accuracy: 0.8160: 100%|██████████| 16/16 [00:00<00:00, 73.71it/s]\n",
      "Epoch 27 - loss: 0.4061 - accuracy: 0.8150: 100%|██████████| 16/16 [00:00<00:00, 122.78it/s]\n"
     ]
    },
    {
     "name": "stdout",
     "output_type": "stream",
     "text": [
      "----------\n"
     ]
    },
    {
     "name": "stderr",
     "output_type": "stream",
     "text": [
      "Epoch 28 - loss: 0.3864 - accuracy: 0.8240: 100%|██████████| 16/16 [00:00<00:00, 69.91it/s]\n",
      "Epoch 28 - loss: 0.4172 - accuracy: 0.7860: 100%|██████████| 16/16 [00:00<00:00, 106.92it/s]\n"
     ]
    },
    {
     "name": "stdout",
     "output_type": "stream",
     "text": [
      "----------\n"
     ]
    },
    {
     "name": "stderr",
     "output_type": "stream",
     "text": [
      "Epoch 29 - loss: 0.3990 - accuracy: 0.8170: 100%|██████████| 16/16 [00:00<00:00, 74.22it/s]\n",
      "Epoch 29 - loss: 0.4036 - accuracy: 0.8270: 100%|██████████| 16/16 [00:00<00:00, 129.13it/s]\n"
     ]
    },
    {
     "name": "stdout",
     "output_type": "stream",
     "text": [
      "----------\n"
     ]
    },
    {
     "name": "stderr",
     "output_type": "stream",
     "text": [
      "Epoch 30 - loss: 0.3997 - accuracy: 0.8270: 100%|██████████| 16/16 [00:00<00:00, 96.59it/s]\n",
      "Epoch 30 - loss: 0.4097 - accuracy: 0.8280: 100%|██████████| 16/16 [00:00<00:00, 120.87it/s]\n"
     ]
    },
    {
     "name": "stdout",
     "output_type": "stream",
     "text": [
      "----------\n"
     ]
    },
    {
     "name": "stderr",
     "output_type": "stream",
     "text": [
      "Epoch 31 - loss: 0.3948 - accuracy: 0.8190: 100%|██████████| 16/16 [00:00<00:00, 84.28it/s]\n",
      "Epoch 31 - loss: 0.3920 - accuracy: 0.8110: 100%|██████████| 16/16 [00:00<00:00, 111.81it/s]\n"
     ]
    },
    {
     "name": "stdout",
     "output_type": "stream",
     "text": [
      "----------\n"
     ]
    },
    {
     "name": "stderr",
     "output_type": "stream",
     "text": [
      "Epoch 32 - loss: 0.3824 - accuracy: 0.8160: 100%|██████████| 16/16 [00:00<00:00, 81.92it/s]\n",
      "Epoch 32 - loss: 0.3910 - accuracy: 0.8060: 100%|██████████| 16/16 [00:00<00:00, 117.05it/s]\n"
     ]
    },
    {
     "name": "stdout",
     "output_type": "stream",
     "text": [
      "----------\n"
     ]
    },
    {
     "name": "stderr",
     "output_type": "stream",
     "text": [
      "Epoch 33 - loss: 0.3667 - accuracy: 0.8290: 100%|██████████| 16/16 [00:00<00:00, 75.94it/s]\n",
      "Epoch 33 - loss: 0.3933 - accuracy: 0.8330: 100%|██████████| 16/16 [00:00<00:00, 119.91it/s]\n"
     ]
    },
    {
     "name": "stdout",
     "output_type": "stream",
     "text": [
      "----------\n"
     ]
    },
    {
     "name": "stderr",
     "output_type": "stream",
     "text": [
      "Epoch 34 - loss: 0.3664 - accuracy: 0.8290: 100%|██████████| 16/16 [00:00<00:00, 70.70it/s]\n",
      "Epoch 34 - loss: 0.3898 - accuracy: 0.8040: 100%|██████████| 16/16 [00:00<00:00, 103.65it/s]\n"
     ]
    },
    {
     "name": "stdout",
     "output_type": "stream",
     "text": [
      "----------\n"
     ]
    },
    {
     "name": "stderr",
     "output_type": "stream",
     "text": [
      "Epoch 35 - loss: 0.3663 - accuracy: 0.8350: 100%|██████████| 16/16 [00:00<00:00, 62.41it/s]\n",
      "Epoch 35 - loss: 0.3727 - accuracy: 0.8360: 100%|██████████| 16/16 [00:00<00:00, 98.72it/s] \n"
     ]
    },
    {
     "name": "stdout",
     "output_type": "stream",
     "text": [
      "----------\n"
     ]
    },
    {
     "name": "stderr",
     "output_type": "stream",
     "text": [
      "Epoch 36 - loss: 0.3504 - accuracy: 0.8390: 100%|██████████| 16/16 [00:00<00:00, 64.05it/s]\n",
      "Epoch 36 - loss: 0.3973 - accuracy: 0.7970: 100%|██████████| 16/16 [00:00<00:00, 105.12it/s]\n"
     ]
    },
    {
     "name": "stdout",
     "output_type": "stream",
     "text": [
      "----------\n"
     ]
    },
    {
     "name": "stderr",
     "output_type": "stream",
     "text": [
      "Epoch 37 - loss: 0.3459 - accuracy: 0.8400: 100%|██████████| 16/16 [00:00<00:00, 73.01it/s]\n",
      "Epoch 37 - loss: 0.3579 - accuracy: 0.8290: 100%|██████████| 16/16 [00:00<00:00, 117.00it/s]\n"
     ]
    },
    {
     "name": "stdout",
     "output_type": "stream",
     "text": [
      "----------\n"
     ]
    },
    {
     "name": "stderr",
     "output_type": "stream",
     "text": [
      "Epoch 38 - loss: 0.3898 - accuracy: 0.8160: 100%|██████████| 16/16 [00:00<00:00, 70.84it/s]\n",
      "Epoch 38 - loss: 0.3784 - accuracy: 0.8340: 100%|██████████| 16/16 [00:00<00:00, 119.40it/s]\n"
     ]
    },
    {
     "name": "stdout",
     "output_type": "stream",
     "text": [
      "----------\n"
     ]
    },
    {
     "name": "stderr",
     "output_type": "stream",
     "text": [
      "Epoch 39 - loss: 0.3577 - accuracy: 0.8370: 100%|██████████| 16/16 [00:00<00:00, 90.44it/s]\n",
      "Epoch 39 - loss: 0.3596 - accuracy: 0.8240: 100%|██████████| 16/16 [00:00<00:00, 143.93it/s]\n"
     ]
    },
    {
     "name": "stdout",
     "output_type": "stream",
     "text": [
      "----------\n"
     ]
    },
    {
     "name": "stderr",
     "output_type": "stream",
     "text": [
      "Epoch 40 - loss: 0.3486 - accuracy: 0.8460: 100%|██████████| 16/16 [00:00<00:00, 81.35it/s]\n",
      "Epoch 40 - loss: 0.3464 - accuracy: 0.8500: 100%|██████████| 16/16 [00:00<00:00, 80.51it/s]\n"
     ]
    },
    {
     "name": "stdout",
     "output_type": "stream",
     "text": [
      "----------\n"
     ]
    },
    {
     "name": "stderr",
     "output_type": "stream",
     "text": [
      "Epoch 41 - loss: 0.3159 - accuracy: 0.8630: 100%|██████████| 16/16 [00:00<00:00, 68.50it/s]\n",
      "Epoch 41 - loss: 0.3443 - accuracy: 0.8550: 100%|██████████| 16/16 [00:00<00:00, 98.64it/s] \n"
     ]
    },
    {
     "name": "stdout",
     "output_type": "stream",
     "text": [
      "----------\n"
     ]
    },
    {
     "name": "stderr",
     "output_type": "stream",
     "text": [
      "Epoch 42 - loss: 0.3501 - accuracy: 0.8490: 100%|██████████| 16/16 [00:00<00:00, 59.82it/s]\n",
      "Epoch 42 - loss: 0.4124 - accuracy: 0.7930: 100%|██████████| 16/16 [00:00<00:00, 104.49it/s]\n"
     ]
    },
    {
     "name": "stdout",
     "output_type": "stream",
     "text": [
      "----------\n"
     ]
    },
    {
     "name": "stderr",
     "output_type": "stream",
     "text": [
      "Epoch 43 - loss: 0.3505 - accuracy: 0.8270: 100%|██████████| 16/16 [00:00<00:00, 63.01it/s]\n",
      "Epoch 43 - loss: 0.3478 - accuracy: 0.8300: 100%|██████████| 16/16 [00:00<00:00, 131.36it/s]\n"
     ]
    },
    {
     "name": "stdout",
     "output_type": "stream",
     "text": [
      "----------\n"
     ]
    },
    {
     "name": "stderr",
     "output_type": "stream",
     "text": [
      "Epoch 44 - loss: 0.3179 - accuracy: 0.8490: 100%|██████████| 16/16 [00:00<00:00, 80.39it/s]\n",
      "Epoch 44 - loss: 0.3273 - accuracy: 0.8360: 100%|██████████| 16/16 [00:00<00:00, 132.54it/s]\n"
     ]
    },
    {
     "name": "stdout",
     "output_type": "stream",
     "text": [
      "----------\n"
     ]
    },
    {
     "name": "stderr",
     "output_type": "stream",
     "text": [
      "Epoch 45 - loss: 0.2963 - accuracy: 0.8710: 100%|██████████| 16/16 [00:00<00:00, 83.08it/s]\n",
      "Epoch 45 - loss: 0.3749 - accuracy: 0.8400: 100%|██████████| 16/16 [00:00<00:00, 118.10it/s]\n"
     ]
    },
    {
     "name": "stdout",
     "output_type": "stream",
     "text": [
      "----------\n"
     ]
    },
    {
     "name": "stderr",
     "output_type": "stream",
     "text": [
      "Epoch 46 - loss: 0.3288 - accuracy: 0.8400: 100%|██████████| 16/16 [00:00<00:00, 84.14it/s]\n",
      "Epoch 46 - loss: 0.3615 - accuracy: 0.8120: 100%|██████████| 16/16 [00:00<00:00, 127.12it/s]\n"
     ]
    },
    {
     "name": "stdout",
     "output_type": "stream",
     "text": [
      "----------\n"
     ]
    },
    {
     "name": "stderr",
     "output_type": "stream",
     "text": [
      "Epoch 47 - loss: 0.3114 - accuracy: 0.8630: 100%|██████████| 16/16 [00:00<00:00, 77.71it/s]\n",
      "Epoch 47 - loss: 0.3828 - accuracy: 0.8130: 100%|██████████| 16/16 [00:00<00:00, 133.35it/s]\n"
     ]
    },
    {
     "name": "stdout",
     "output_type": "stream",
     "text": [
      "----------\n"
     ]
    },
    {
     "name": "stderr",
     "output_type": "stream",
     "text": [
      "Epoch 48 - loss: 0.3622 - accuracy: 0.8380: 100%|██████████| 16/16 [00:00<00:00, 84.40it/s]\n",
      "Epoch 48 - loss: 0.3123 - accuracy: 0.8600: 100%|██████████| 16/16 [00:00<00:00, 130.82it/s]\n"
     ]
    },
    {
     "name": "stdout",
     "output_type": "stream",
     "text": [
      "----------\n"
     ]
    },
    {
     "name": "stderr",
     "output_type": "stream",
     "text": [
      "Epoch 49 - loss: 0.3164 - accuracy: 0.8500: 100%|██████████| 16/16 [00:00<00:00, 68.61it/s]\n",
      "Epoch 49 - loss: 0.3406 - accuracy: 0.8500: 100%|██████████| 16/16 [00:00<00:00, 116.99it/s]\n"
     ]
    },
    {
     "name": "stdout",
     "output_type": "stream",
     "text": [
      "----------\n"
     ]
    },
    {
     "name": "stderr",
     "output_type": "stream",
     "text": [
      "Epoch 50 - loss: 0.2910 - accuracy: 0.8580: 100%|██████████| 16/16 [00:00<00:00, 68.83it/s]\n",
      "Epoch 50 - loss: 0.2990 - accuracy: 0.8700: 100%|██████████| 16/16 [00:00<00:00, 129.27it/s]\n"
     ]
    },
    {
     "name": "stdout",
     "output_type": "stream",
     "text": [
      "----------\n"
     ]
    },
    {
     "name": "stderr",
     "output_type": "stream",
     "text": [
      "Epoch 51 - loss: 0.2792 - accuracy: 0.8750: 100%|██████████| 16/16 [00:00<00:00, 73.52it/s]\n",
      "Epoch 51 - loss: 0.3068 - accuracy: 0.8500: 100%|██████████| 16/16 [00:00<00:00, 120.96it/s]\n"
     ]
    },
    {
     "name": "stdout",
     "output_type": "stream",
     "text": [
      "----------\n"
     ]
    },
    {
     "name": "stderr",
     "output_type": "stream",
     "text": [
      "Epoch 52 - loss: 0.2683 - accuracy: 0.8820: 100%|██████████| 16/16 [00:00<00:00, 80.96it/s]\n",
      "Epoch 52 - loss: 0.3498 - accuracy: 0.8140: 100%|██████████| 16/16 [00:00<00:00, 118.58it/s]\n"
     ]
    },
    {
     "name": "stdout",
     "output_type": "stream",
     "text": [
      "----------\n"
     ]
    },
    {
     "name": "stderr",
     "output_type": "stream",
     "text": [
      "Epoch 53 - loss: 0.3110 - accuracy: 0.8550: 100%|██████████| 16/16 [00:00<00:00, 82.11it/s]\n",
      "Epoch 53 - loss: 0.3553 - accuracy: 0.8400: 100%|██████████| 16/16 [00:00<00:00, 120.02it/s]\n"
     ]
    },
    {
     "name": "stdout",
     "output_type": "stream",
     "text": [
      "----------\n"
     ]
    },
    {
     "name": "stderr",
     "output_type": "stream",
     "text": [
      "Epoch 54 - loss: 0.3374 - accuracy: 0.8300: 100%|██████████| 16/16 [00:00<00:00, 77.45it/s]\n",
      "Epoch 54 - loss: 0.4998 - accuracy: 0.7590: 100%|██████████| 16/16 [00:00<00:00, 102.06it/s]\n"
     ]
    },
    {
     "name": "stdout",
     "output_type": "stream",
     "text": [
      "----------\n"
     ]
    },
    {
     "name": "stderr",
     "output_type": "stream",
     "text": [
      "Epoch 55 - loss: 0.3337 - accuracy: 0.8370: 100%|██████████| 16/16 [00:00<00:00, 82.25it/s]\n",
      "Epoch 55 - loss: 0.4455 - accuracy: 0.7730: 100%|██████████| 16/16 [00:00<00:00, 120.09it/s]\n"
     ]
    },
    {
     "name": "stdout",
     "output_type": "stream",
     "text": [
      "----------\n"
     ]
    },
    {
     "name": "stderr",
     "output_type": "stream",
     "text": [
      "Epoch 56 - loss: 0.2877 - accuracy: 0.8610: 100%|██████████| 16/16 [00:00<00:00, 79.18it/s]\n",
      "Epoch 56 - loss: 0.3570 - accuracy: 0.8070: 100%|██████████| 16/16 [00:00<00:00, 124.32it/s]\n"
     ]
    },
    {
     "name": "stdout",
     "output_type": "stream",
     "text": [
      "----------\n"
     ]
    },
    {
     "name": "stderr",
     "output_type": "stream",
     "text": [
      "Epoch 57 - loss: 0.2603 - accuracy: 0.8870: 100%|██████████| 16/16 [00:00<00:00, 70.21it/s]\n",
      "Epoch 57 - loss: 0.2797 - accuracy: 0.8680: 100%|██████████| 16/16 [00:00<00:00, 112.04it/s]\n"
     ]
    },
    {
     "name": "stdout",
     "output_type": "stream",
     "text": [
      "----------\n"
     ]
    },
    {
     "name": "stderr",
     "output_type": "stream",
     "text": [
      "Epoch 58 - loss: 0.2592 - accuracy: 0.8810: 100%|██████████| 16/16 [00:00<00:00, 78.41it/s]\n",
      "Epoch 58 - loss: 0.2720 - accuracy: 0.8720: 100%|██████████| 16/16 [00:00<00:00, 113.30it/s]\n"
     ]
    },
    {
     "name": "stdout",
     "output_type": "stream",
     "text": [
      "----------\n"
     ]
    },
    {
     "name": "stderr",
     "output_type": "stream",
     "text": [
      "Epoch 59 - loss: 0.2491 - accuracy: 0.8910: 100%|██████████| 16/16 [00:00<00:00, 74.15it/s]\n",
      "Epoch 59 - loss: 0.2725 - accuracy: 0.8710: 100%|██████████| 16/16 [00:00<00:00, 102.91it/s]\n"
     ]
    },
    {
     "name": "stdout",
     "output_type": "stream",
     "text": [
      "----------\n"
     ]
    },
    {
     "name": "stderr",
     "output_type": "stream",
     "text": [
      "Epoch 60 - loss: 0.2420 - accuracy: 0.8870: 100%|██████████| 16/16 [00:00<00:00, 74.71it/s]\n",
      "Epoch 60 - loss: 0.2640 - accuracy: 0.8850: 100%|██████████| 16/16 [00:00<00:00, 116.53it/s]\n"
     ]
    },
    {
     "name": "stdout",
     "output_type": "stream",
     "text": [
      "----------\n"
     ]
    },
    {
     "name": "stderr",
     "output_type": "stream",
     "text": [
      "Epoch 61 - loss: 0.2601 - accuracy: 0.8830: 100%|██████████| 16/16 [00:00<00:00, 78.51it/s]\n",
      "Epoch 61 - loss: 0.2647 - accuracy: 0.8880: 100%|██████████| 16/16 [00:00<00:00, 123.04it/s]\n"
     ]
    },
    {
     "name": "stdout",
     "output_type": "stream",
     "text": [
      "----------\n"
     ]
    },
    {
     "name": "stderr",
     "output_type": "stream",
     "text": [
      "Epoch 62 - loss: 0.2784 - accuracy: 0.8580: 100%|██████████| 16/16 [00:00<00:00, 69.19it/s]\n",
      "Epoch 62 - loss: 0.2701 - accuracy: 0.8700: 100%|██████████| 16/16 [00:00<00:00, 126.57it/s]\n"
     ]
    },
    {
     "name": "stdout",
     "output_type": "stream",
     "text": [
      "----------\n"
     ]
    },
    {
     "name": "stderr",
     "output_type": "stream",
     "text": [
      "Epoch 63 - loss: 0.2303 - accuracy: 0.8910: 100%|██████████| 16/16 [00:00<00:00, 74.50it/s]\n",
      "Epoch 63 - loss: 0.2556 - accuracy: 0.8970: 100%|██████████| 16/16 [00:00<00:00, 132.62it/s]\n"
     ]
    },
    {
     "name": "stdout",
     "output_type": "stream",
     "text": [
      "----------\n"
     ]
    },
    {
     "name": "stderr",
     "output_type": "stream",
     "text": [
      "Epoch 64 - loss: 0.2289 - accuracy: 0.8890: 100%|██████████| 16/16 [00:00<00:00, 90.95it/s]\n",
      "Epoch 64 - loss: 0.2517 - accuracy: 0.8820: 100%|██████████| 16/16 [00:00<00:00, 141.28it/s]\n"
     ]
    },
    {
     "name": "stdout",
     "output_type": "stream",
     "text": [
      "----------\n"
     ]
    },
    {
     "name": "stderr",
     "output_type": "stream",
     "text": [
      "Epoch 65 - loss: 0.2266 - accuracy: 0.9110: 100%|██████████| 16/16 [00:00<00:00, 93.79it/s]\n",
      "Epoch 65 - loss: 0.2932 - accuracy: 0.8740: 100%|██████████| 16/16 [00:00<00:00, 133.44it/s]\n"
     ]
    },
    {
     "name": "stdout",
     "output_type": "stream",
     "text": [
      "----------\n"
     ]
    },
    {
     "name": "stderr",
     "output_type": "stream",
     "text": [
      "Epoch 66 - loss: 0.2527 - accuracy: 0.8920: 100%|██████████| 16/16 [00:00<00:00, 80.96it/s]\n",
      "Epoch 66 - loss: 0.2954 - accuracy: 0.8670: 100%|██████████| 16/16 [00:00<00:00, 119.20it/s]\n"
     ]
    },
    {
     "name": "stdout",
     "output_type": "stream",
     "text": [
      "----------\n"
     ]
    },
    {
     "name": "stderr",
     "output_type": "stream",
     "text": [
      "Epoch 67 - loss: 0.2319 - accuracy: 0.8890: 100%|██████████| 16/16 [00:00<00:00, 76.78it/s]\n",
      "Epoch 67 - loss: 0.3283 - accuracy: 0.8580: 100%|██████████| 16/16 [00:00<00:00, 121.49it/s]\n"
     ]
    },
    {
     "name": "stdout",
     "output_type": "stream",
     "text": [
      "----------\n"
     ]
    },
    {
     "name": "stderr",
     "output_type": "stream",
     "text": [
      "Epoch 68 - loss: 0.2801 - accuracy: 0.8610: 100%|██████████| 16/16 [00:00<00:00, 91.71it/s]\n",
      "Epoch 68 - loss: 0.4704 - accuracy: 0.7910: 100%|██████████| 16/16 [00:00<00:00, 143.48it/s]\n"
     ]
    },
    {
     "name": "stdout",
     "output_type": "stream",
     "text": [
      "----------\n"
     ]
    },
    {
     "name": "stderr",
     "output_type": "stream",
     "text": [
      "Epoch 69 - loss: 0.2641 - accuracy: 0.8890: 100%|██████████| 16/16 [00:00<00:00, 92.89it/s]\n",
      "Epoch 69 - loss: 0.2565 - accuracy: 0.8660: 100%|██████████| 16/16 [00:00<00:00, 121.12it/s]\n"
     ]
    },
    {
     "name": "stdout",
     "output_type": "stream",
     "text": [
      "----------\n"
     ]
    },
    {
     "name": "stderr",
     "output_type": "stream",
     "text": [
      "Epoch 70 - loss: 0.2252 - accuracy: 0.8910: 100%|██████████| 16/16 [00:00<00:00, 90.68it/s]\n",
      "Epoch 70 - loss: 0.2810 - accuracy: 0.8490: 100%|██████████| 16/16 [00:00<00:00, 149.23it/s]\n"
     ]
    },
    {
     "name": "stdout",
     "output_type": "stream",
     "text": [
      "----------\n"
     ]
    },
    {
     "name": "stderr",
     "output_type": "stream",
     "text": [
      "Epoch 71 - loss: 0.2147 - accuracy: 0.9040: 100%|██████████| 16/16 [00:00<00:00, 92.14it/s]\n",
      "Epoch 71 - loss: 0.2299 - accuracy: 0.9130: 100%|██████████| 16/16 [00:00<00:00, 154.45it/s]\n"
     ]
    },
    {
     "name": "stdout",
     "output_type": "stream",
     "text": [
      "----------\n"
     ]
    },
    {
     "name": "stderr",
     "output_type": "stream",
     "text": [
      "Epoch 72 - loss: 0.2266 - accuracy: 0.8890: 100%|██████████| 16/16 [00:00<00:00, 90.80it/s]\n",
      "Epoch 72 - loss: 0.3452 - accuracy: 0.8250: 100%|██████████| 16/16 [00:00<00:00, 145.19it/s]\n"
     ]
    },
    {
     "name": "stdout",
     "output_type": "stream",
     "text": [
      "----------\n"
     ]
    },
    {
     "name": "stderr",
     "output_type": "stream",
     "text": [
      "Epoch 73 - loss: 0.2165 - accuracy: 0.9070: 100%|██████████| 16/16 [00:00<00:00, 83.33it/s]\n",
      "Epoch 73 - loss: 0.2493 - accuracy: 0.8770: 100%|██████████| 16/16 [00:00<00:00, 141.81it/s]\n"
     ]
    },
    {
     "name": "stdout",
     "output_type": "stream",
     "text": [
      "----------\n"
     ]
    },
    {
     "name": "stderr",
     "output_type": "stream",
     "text": [
      "Epoch 74 - loss: 0.2178 - accuracy: 0.8970: 100%|██████████| 16/16 [00:00<00:00, 93.01it/s]\n",
      "Epoch 74 - loss: 0.3257 - accuracy: 0.8590: 100%|██████████| 16/16 [00:00<00:00, 134.66it/s]\n"
     ]
    },
    {
     "name": "stdout",
     "output_type": "stream",
     "text": [
      "----------\n"
     ]
    },
    {
     "name": "stderr",
     "output_type": "stream",
     "text": [
      "Epoch 75 - loss: 0.2350 - accuracy: 0.8960: 100%|██████████| 16/16 [00:00<00:00, 93.39it/s]\n",
      "Epoch 75 - loss: 0.2523 - accuracy: 0.8830: 100%|██████████| 16/16 [00:00<00:00, 118.58it/s]\n"
     ]
    },
    {
     "name": "stdout",
     "output_type": "stream",
     "text": [
      "----------\n"
     ]
    },
    {
     "name": "stderr",
     "output_type": "stream",
     "text": [
      "Epoch 76 - loss: 0.2588 - accuracy: 0.8880: 100%|██████████| 16/16 [00:00<00:00, 66.06it/s]\n",
      "Epoch 76 - loss: 0.2582 - accuracy: 0.8630: 100%|██████████| 16/16 [00:00<00:00, 86.54it/s]\n"
     ]
    },
    {
     "name": "stdout",
     "output_type": "stream",
     "text": [
      "----------\n"
     ]
    },
    {
     "name": "stderr",
     "output_type": "stream",
     "text": [
      "Epoch 77 - loss: 0.2104 - accuracy: 0.9030: 100%|██████████| 16/16 [00:00<00:00, 76.71it/s]\n",
      "Epoch 77 - loss: 0.2127 - accuracy: 0.9180: 100%|██████████| 16/16 [00:00<00:00, 115.07it/s]\n"
     ]
    },
    {
     "name": "stdout",
     "output_type": "stream",
     "text": [
      "----------\n"
     ]
    },
    {
     "name": "stderr",
     "output_type": "stream",
     "text": [
      "Epoch 78 - loss: 0.2045 - accuracy: 0.9070: 100%|██████████| 16/16 [00:00<00:00, 35.50it/s]\n",
      "Epoch 78 - loss: 0.2227 - accuracy: 0.9090: 100%|██████████| 16/16 [00:00<00:00, 96.81it/s] \n"
     ]
    },
    {
     "name": "stdout",
     "output_type": "stream",
     "text": [
      "----------\n"
     ]
    },
    {
     "name": "stderr",
     "output_type": "stream",
     "text": [
      "Epoch 79 - loss: 0.2618 - accuracy: 0.8700: 100%|██████████| 16/16 [00:00<00:00, 68.23it/s]\n",
      "Epoch 79 - loss: 0.2963 - accuracy: 0.8450: 100%|██████████| 16/16 [00:00<00:00, 106.97it/s]\n"
     ]
    },
    {
     "name": "stdout",
     "output_type": "stream",
     "text": [
      "----------\n"
     ]
    },
    {
     "name": "stderr",
     "output_type": "stream",
     "text": [
      "Epoch 80 - loss: 0.2297 - accuracy: 0.8970: 100%|██████████| 16/16 [00:00<00:00, 65.45it/s]\n",
      "Epoch 80 - loss: 0.3208 - accuracy: 0.8550: 100%|██████████| 16/16 [00:00<00:00, 105.44it/s]\n"
     ]
    },
    {
     "name": "stdout",
     "output_type": "stream",
     "text": [
      "----------\n"
     ]
    },
    {
     "name": "stderr",
     "output_type": "stream",
     "text": [
      "Epoch 81 - loss: 0.2432 - accuracy: 0.8860: 100%|██████████| 16/16 [00:00<00:00, 71.81it/s]\n",
      "Epoch 81 - loss: 0.2288 - accuracy: 0.8940: 100%|██████████| 16/16 [00:00<00:00, 115.18it/s]\n"
     ]
    },
    {
     "name": "stdout",
     "output_type": "stream",
     "text": [
      "----------\n"
     ]
    },
    {
     "name": "stderr",
     "output_type": "stream",
     "text": [
      "Epoch 82 - loss: 0.2097 - accuracy: 0.9060: 100%|██████████| 16/16 [00:00<00:00, 78.81it/s]\n",
      "Epoch 82 - loss: 0.2918 - accuracy: 0.8760: 100%|██████████| 16/16 [00:00<00:00, 126.83it/s]\n"
     ]
    },
    {
     "name": "stdout",
     "output_type": "stream",
     "text": [
      "----------\n"
     ]
    },
    {
     "name": "stderr",
     "output_type": "stream",
     "text": [
      "Epoch 83 - loss: 0.2722 - accuracy: 0.8600: 100%|██████████| 16/16 [00:00<00:00, 65.67it/s]\n",
      "Epoch 83 - loss: 0.2116 - accuracy: 0.9040: 100%|██████████| 16/16 [00:00<00:00, 121.89it/s]\n"
     ]
    },
    {
     "name": "stdout",
     "output_type": "stream",
     "text": [
      "----------\n"
     ]
    },
    {
     "name": "stderr",
     "output_type": "stream",
     "text": [
      "Epoch 84 - loss: 0.1867 - accuracy: 0.9280: 100%|██████████| 16/16 [00:00<00:00, 76.85it/s]\n",
      "Epoch 84 - loss: 0.2375 - accuracy: 0.8970: 100%|██████████| 16/16 [00:00<00:00, 115.74it/s]\n"
     ]
    },
    {
     "name": "stdout",
     "output_type": "stream",
     "text": [
      "----------\n"
     ]
    },
    {
     "name": "stderr",
     "output_type": "stream",
     "text": [
      "Epoch 85 - loss: 0.1879 - accuracy: 0.9210: 100%|██████████| 16/16 [00:00<00:00, 79.55it/s]\n",
      "Epoch 85 - loss: 0.2843 - accuracy: 0.8650: 100%|██████████| 16/16 [00:00<00:00, 127.00it/s]\n"
     ]
    },
    {
     "name": "stdout",
     "output_type": "stream",
     "text": [
      "----------\n"
     ]
    },
    {
     "name": "stderr",
     "output_type": "stream",
     "text": [
      "Epoch 86 - loss: 0.3251 - accuracy: 0.8610: 100%|██████████| 16/16 [00:00<00:00, 87.05it/s]\n",
      "Epoch 86 - loss: 0.3365 - accuracy: 0.8250: 100%|██████████| 16/16 [00:00<00:00, 115.54it/s]\n"
     ]
    },
    {
     "name": "stdout",
     "output_type": "stream",
     "text": [
      "----------\n"
     ]
    },
    {
     "name": "stderr",
     "output_type": "stream",
     "text": [
      "Epoch 87 - loss: 0.2994 - accuracy: 0.8660: 100%|██████████| 16/16 [00:00<00:00, 82.67it/s]\n",
      "Epoch 87 - loss: 0.2322 - accuracy: 0.9070: 100%|██████████| 16/16 [00:00<00:00, 135.77it/s]\n"
     ]
    },
    {
     "name": "stdout",
     "output_type": "stream",
     "text": [
      "----------\n"
     ]
    },
    {
     "name": "stderr",
     "output_type": "stream",
     "text": [
      "Epoch 88 - loss: 0.2075 - accuracy: 0.9040: 100%|██████████| 16/16 [00:00<00:00, 87.69it/s]\n",
      "Epoch 88 - loss: 0.2821 - accuracy: 0.8510: 100%|██████████| 16/16 [00:00<00:00, 136.84it/s]\n"
     ]
    },
    {
     "name": "stdout",
     "output_type": "stream",
     "text": [
      "----------\n"
     ]
    },
    {
     "name": "stderr",
     "output_type": "stream",
     "text": [
      "Epoch 89 - loss: 0.2121 - accuracy: 0.8970: 100%|██████████| 16/16 [00:00<00:00, 96.81it/s]\n",
      "Epoch 89 - loss: 0.2499 - accuracy: 0.9020: 100%|██████████| 16/16 [00:00<00:00, 122.35it/s]\n"
     ]
    },
    {
     "name": "stdout",
     "output_type": "stream",
     "text": [
      "----------\n"
     ]
    },
    {
     "name": "stderr",
     "output_type": "stream",
     "text": [
      "Epoch 90 - loss: 0.1903 - accuracy: 0.9180: 100%|██████████| 16/16 [00:00<00:00, 92.60it/s]\n",
      "Epoch 90 - loss: 0.2357 - accuracy: 0.8890: 100%|██████████| 16/16 [00:00<00:00, 154.81it/s]\n"
     ]
    },
    {
     "name": "stdout",
     "output_type": "stream",
     "text": [
      "----------\n"
     ]
    },
    {
     "name": "stderr",
     "output_type": "stream",
     "text": [
      "Epoch 91 - loss: 0.1957 - accuracy: 0.9170: 100%|██████████| 16/16 [00:00<00:00, 95.37it/s]\n",
      "Epoch 91 - loss: 0.2586 - accuracy: 0.8870: 100%|██████████| 16/16 [00:00<00:00, 151.44it/s]\n"
     ]
    },
    {
     "name": "stdout",
     "output_type": "stream",
     "text": [
      "----------\n"
     ]
    },
    {
     "name": "stderr",
     "output_type": "stream",
     "text": [
      "Epoch 92 - loss: 0.2323 - accuracy: 0.8900: 100%|██████████| 16/16 [00:00<00:00, 96.80it/s]\n",
      "Epoch 92 - loss: 0.2209 - accuracy: 0.8910: 100%|██████████| 16/16 [00:00<00:00, 146.71it/s]\n"
     ]
    },
    {
     "name": "stdout",
     "output_type": "stream",
     "text": [
      "----------\n"
     ]
    },
    {
     "name": "stderr",
     "output_type": "stream",
     "text": [
      "Epoch 93 - loss: 0.1886 - accuracy: 0.9130: 100%|██████████| 16/16 [00:00<00:00, 93.17it/s]\n",
      "Epoch 93 - loss: 0.2149 - accuracy: 0.9050: 100%|██████████| 16/16 [00:00<00:00, 135.12it/s]\n"
     ]
    },
    {
     "name": "stdout",
     "output_type": "stream",
     "text": [
      "----------\n"
     ]
    },
    {
     "name": "stderr",
     "output_type": "stream",
     "text": [
      "Epoch 94 - loss: 0.1841 - accuracy: 0.9150: 100%|██████████| 16/16 [00:00<00:00, 92.49it/s]\n",
      "Epoch 94 - loss: 0.2113 - accuracy: 0.9150: 100%|██████████| 16/16 [00:00<00:00, 147.55it/s]\n"
     ]
    },
    {
     "name": "stdout",
     "output_type": "stream",
     "text": [
      "----------\n"
     ]
    },
    {
     "name": "stderr",
     "output_type": "stream",
     "text": [
      "Epoch 95 - loss: 0.2011 - accuracy: 0.9120: 100%|██████████| 16/16 [00:00<00:00, 93.59it/s]\n",
      "Epoch 95 - loss: 0.2022 - accuracy: 0.9160: 100%|██████████| 16/16 [00:00<00:00, 154.96it/s]\n"
     ]
    },
    {
     "name": "stdout",
     "output_type": "stream",
     "text": [
      "----------\n"
     ]
    },
    {
     "name": "stderr",
     "output_type": "stream",
     "text": [
      "Epoch 96 - loss: 0.1901 - accuracy: 0.9320: 100%|██████████| 16/16 [00:00<00:00, 84.07it/s]\n",
      "Epoch 96 - loss: 0.2391 - accuracy: 0.8720: 100%|██████████| 16/16 [00:00<00:00, 145.26it/s]\n"
     ]
    },
    {
     "name": "stdout",
     "output_type": "stream",
     "text": [
      "----------\n"
     ]
    },
    {
     "name": "stderr",
     "output_type": "stream",
     "text": [
      "Epoch 97 - loss: 0.1865 - accuracy: 0.9180: 100%|██████████| 16/16 [00:00<00:00, 99.53it/s]\n",
      "Epoch 97 - loss: 0.2219 - accuracy: 0.9070: 100%|██████████| 16/16 [00:00<00:00, 145.19it/s]\n"
     ]
    },
    {
     "name": "stdout",
     "output_type": "stream",
     "text": [
      "----------\n"
     ]
    },
    {
     "name": "stderr",
     "output_type": "stream",
     "text": [
      "Epoch 98 - loss: 0.2436 - accuracy: 0.8890: 100%|██████████| 16/16 [00:00<00:00, 95.74it/s]\n",
      "Epoch 98 - loss: 0.2028 - accuracy: 0.9180: 100%|██████████| 16/16 [00:00<00:00, 142.50it/s]\n"
     ]
    },
    {
     "name": "stdout",
     "output_type": "stream",
     "text": [
      "----------\n"
     ]
    },
    {
     "name": "stderr",
     "output_type": "stream",
     "text": [
      "Epoch 99 - loss: 0.1951 - accuracy: 0.9130: 100%|██████████| 16/16 [00:00<00:00, 96.06it/s]\n",
      "Epoch 99 - loss: 0.2218 - accuracy: 0.9080: 100%|██████████| 16/16 [00:00<00:00, 144.30it/s]\n"
     ]
    },
    {
     "name": "stdout",
     "output_type": "stream",
     "text": [
      "----------\n"
     ]
    },
    {
     "name": "stderr",
     "output_type": "stream",
     "text": [
      "Epoch 100 - loss: 0.1739 - accuracy: 0.9220: 100%|██████████| 16/16 [00:00<00:00, 89.54it/s]\n",
      "Epoch 100 - loss: 0.1960 - accuracy: 0.9270: 100%|██████████| 16/16 [00:00<00:00, 148.29it/s]\n"
     ]
    },
    {
     "name": "stdout",
     "output_type": "stream",
     "text": [
      "----------\n"
     ]
    },
    {
     "name": "stderr",
     "output_type": "stream",
     "text": [
      "Epoch 101 - loss: 0.1605 - accuracy: 0.9280: 100%|██████████| 16/16 [00:00<00:00, 95.86it/s]\n",
      "Epoch 101 - loss: 0.2075 - accuracy: 0.9090: 100%|██████████| 16/16 [00:00<00:00, 144.37it/s]\n"
     ]
    },
    {
     "name": "stdout",
     "output_type": "stream",
     "text": [
      "----------\n"
     ]
    },
    {
     "name": "stderr",
     "output_type": "stream",
     "text": [
      "Epoch 102 - loss: 0.1748 - accuracy: 0.9160: 100%|██████████| 16/16 [00:00<00:00, 92.33it/s]\n",
      "Epoch 102 - loss: 0.2409 - accuracy: 0.8710: 100%|██████████| 16/16 [00:00<00:00, 154.44it/s]\n"
     ]
    },
    {
     "name": "stdout",
     "output_type": "stream",
     "text": [
      "----------\n"
     ]
    },
    {
     "name": "stderr",
     "output_type": "stream",
     "text": [
      "Epoch 103 - loss: 0.1753 - accuracy: 0.9230: 100%|██████████| 16/16 [00:00<00:00, 94.16it/s]\n",
      "Epoch 103 - loss: 0.2531 - accuracy: 0.8960: 100%|██████████| 16/16 [00:00<00:00, 129.80it/s]\n"
     ]
    },
    {
     "name": "stdout",
     "output_type": "stream",
     "text": [
      "----------\n"
     ]
    },
    {
     "name": "stderr",
     "output_type": "stream",
     "text": [
      "Epoch 104 - loss: 0.2241 - accuracy: 0.8950: 100%|██████████| 16/16 [00:00<00:00, 90.47it/s]\n",
      "Epoch 104 - loss: 0.1920 - accuracy: 0.9170: 100%|██████████| 16/16 [00:00<00:00, 149.35it/s]\n"
     ]
    },
    {
     "name": "stdout",
     "output_type": "stream",
     "text": [
      "----------\n"
     ]
    },
    {
     "name": "stderr",
     "output_type": "stream",
     "text": [
      "Epoch 105 - loss: 0.2759 - accuracy: 0.8690: 100%|██████████| 16/16 [00:00<00:00, 94.53it/s]\n",
      "Epoch 105 - loss: 0.2514 - accuracy: 0.8850: 100%|██████████| 16/16 [00:00<00:00, 150.83it/s]\n"
     ]
    },
    {
     "name": "stdout",
     "output_type": "stream",
     "text": [
      "----------\n"
     ]
    },
    {
     "name": "stderr",
     "output_type": "stream",
     "text": [
      "Epoch 106 - loss: 0.1864 - accuracy: 0.9180: 100%|██████████| 16/16 [00:00<00:00, 96.51it/s]\n",
      "Epoch 106 - loss: 0.2025 - accuracy: 0.8950: 100%|██████████| 16/16 [00:00<00:00, 154.97it/s]\n"
     ]
    },
    {
     "name": "stdout",
     "output_type": "stream",
     "text": [
      "----------\n"
     ]
    },
    {
     "name": "stderr",
     "output_type": "stream",
     "text": [
      "Epoch 107 - loss: 0.1588 - accuracy: 0.9280: 100%|██████████| 16/16 [00:00<00:00, 97.47it/s]\n",
      "Epoch 107 - loss: 0.1857 - accuracy: 0.9120: 100%|██████████| 16/16 [00:00<00:00, 145.23it/s]\n"
     ]
    },
    {
     "name": "stdout",
     "output_type": "stream",
     "text": [
      "----------\n"
     ]
    },
    {
     "name": "stderr",
     "output_type": "stream",
     "text": [
      "Epoch 108 - loss: 0.1751 - accuracy: 0.9220: 100%|██████████| 16/16 [00:00<00:00, 89.97it/s]\n",
      "Epoch 108 - loss: 0.1949 - accuracy: 0.8960: 100%|██████████| 16/16 [00:00<00:00, 136.98it/s]\n"
     ]
    },
    {
     "name": "stdout",
     "output_type": "stream",
     "text": [
      "----------\n"
     ]
    },
    {
     "name": "stderr",
     "output_type": "stream",
     "text": [
      "Epoch 109 - loss: 0.1721 - accuracy: 0.9230: 100%|██████████| 16/16 [00:00<00:00, 84.29it/s]\n",
      "Epoch 109 - loss: 0.1879 - accuracy: 0.9240: 100%|██████████| 16/16 [00:00<00:00, 131.75it/s]\n"
     ]
    },
    {
     "name": "stdout",
     "output_type": "stream",
     "text": [
      "----------\n"
     ]
    },
    {
     "name": "stderr",
     "output_type": "stream",
     "text": [
      "Epoch 110 - loss: 0.1769 - accuracy: 0.9290: 100%|██████████| 16/16 [00:00<00:00, 72.31it/s]\n",
      "Epoch 110 - loss: 0.1988 - accuracy: 0.9160: 100%|██████████| 16/16 [00:00<00:00, 139.93it/s]\n"
     ]
    },
    {
     "name": "stdout",
     "output_type": "stream",
     "text": [
      "----------\n"
     ]
    },
    {
     "name": "stderr",
     "output_type": "stream",
     "text": [
      "Epoch 111 - loss: 0.1573 - accuracy: 0.9370: 100%|██████████| 16/16 [00:00<00:00, 82.52it/s]\n",
      "Epoch 111 - loss: 0.1801 - accuracy: 0.9250: 100%|██████████| 16/16 [00:00<00:00, 136.34it/s]\n"
     ]
    },
    {
     "name": "stdout",
     "output_type": "stream",
     "text": [
      "----------\n"
     ]
    },
    {
     "name": "stderr",
     "output_type": "stream",
     "text": [
      "Epoch 112 - loss: 0.1407 - accuracy: 0.9470: 100%|██████████| 16/16 [00:00<00:00, 91.15it/s]\n",
      "Epoch 112 - loss: 0.2025 - accuracy: 0.8920: 100%|██████████| 16/16 [00:00<00:00, 118.05it/s]\n"
     ]
    },
    {
     "name": "stdout",
     "output_type": "stream",
     "text": [
      "----------\n"
     ]
    },
    {
     "name": "stderr",
     "output_type": "stream",
     "text": [
      "Epoch 113 - loss: 0.1430 - accuracy: 0.9380: 100%|██████████| 16/16 [00:00<00:00, 94.05it/s]\n",
      "Epoch 113 - loss: 0.2893 - accuracy: 0.8510: 100%|██████████| 16/16 [00:00<00:00, 142.41it/s]\n"
     ]
    },
    {
     "name": "stdout",
     "output_type": "stream",
     "text": [
      "----------\n"
     ]
    },
    {
     "name": "stderr",
     "output_type": "stream",
     "text": [
      "Epoch 114 - loss: 0.2182 - accuracy: 0.8840: 100%|██████████| 16/16 [00:00<00:00, 94.21it/s]\n",
      "Epoch 114 - loss: 0.4166 - accuracy: 0.8290: 100%|██████████| 16/16 [00:00<00:00, 149.00it/s]\n"
     ]
    },
    {
     "name": "stdout",
     "output_type": "stream",
     "text": [
      "----------\n"
     ]
    },
    {
     "name": "stderr",
     "output_type": "stream",
     "text": [
      "Epoch 115 - loss: 0.2833 - accuracy: 0.8690: 100%|██████████| 16/16 [00:00<00:00, 103.70it/s]\n",
      "Epoch 115 - loss: 0.1939 - accuracy: 0.9120: 100%|██████████| 16/16 [00:00<00:00, 155.78it/s]\n"
     ]
    },
    {
     "name": "stdout",
     "output_type": "stream",
     "text": [
      "----------\n"
     ]
    },
    {
     "name": "stderr",
     "output_type": "stream",
     "text": [
      "Epoch 116 - loss: 0.1822 - accuracy: 0.9180: 100%|██████████| 16/16 [00:00<00:00, 97.04it/s]\n",
      "Epoch 116 - loss: 0.1846 - accuracy: 0.9170: 100%|██████████| 16/16 [00:00<00:00, 157.41it/s]\n"
     ]
    },
    {
     "name": "stdout",
     "output_type": "stream",
     "text": [
      "----------\n"
     ]
    },
    {
     "name": "stderr",
     "output_type": "stream",
     "text": [
      "Epoch 117 - loss: 0.1422 - accuracy: 0.9410: 100%|██████████| 16/16 [00:00<00:00, 96.82it/s]\n",
      "Epoch 117 - loss: 0.2083 - accuracy: 0.9080: 100%|██████████| 16/16 [00:00<00:00, 155.45it/s]\n"
     ]
    },
    {
     "name": "stdout",
     "output_type": "stream",
     "text": [
      "----------\n"
     ]
    },
    {
     "name": "stderr",
     "output_type": "stream",
     "text": [
      "Epoch 118 - loss: 0.2106 - accuracy: 0.9000: 100%|██████████| 16/16 [00:00<00:00, 94.07it/s]\n",
      "Epoch 118 - loss: 0.5550 - accuracy: 0.7730: 100%|██████████| 16/16 [00:00<00:00, 161.59it/s]\n"
     ]
    },
    {
     "name": "stdout",
     "output_type": "stream",
     "text": [
      "----------\n"
     ]
    },
    {
     "name": "stderr",
     "output_type": "stream",
     "text": [
      "Epoch 119 - loss: 0.2606 - accuracy: 0.8820: 100%|██████████| 16/16 [00:00<00:00, 88.26it/s]\n",
      "Epoch 119 - loss: 0.1972 - accuracy: 0.9140: 100%|██████████| 16/16 [00:00<00:00, 163.04it/s]\n"
     ]
    },
    {
     "name": "stdout",
     "output_type": "stream",
     "text": [
      "----------\n"
     ]
    },
    {
     "name": "stderr",
     "output_type": "stream",
     "text": [
      "Epoch 120 - loss: 0.1713 - accuracy: 0.9200: 100%|██████████| 16/16 [00:00<00:00, 100.15it/s]\n",
      "Epoch 120 - loss: 0.2220 - accuracy: 0.8900: 100%|██████████| 16/16 [00:00<00:00, 154.66it/s]\n"
     ]
    },
    {
     "name": "stdout",
     "output_type": "stream",
     "text": [
      "----------\n"
     ]
    },
    {
     "name": "stderr",
     "output_type": "stream",
     "text": [
      "Epoch 121 - loss: 0.1494 - accuracy: 0.9400: 100%|██████████| 16/16 [00:00<00:00, 95.94it/s]\n",
      "Epoch 121 - loss: 0.2194 - accuracy: 0.9030: 100%|██████████| 16/16 [00:00<00:00, 154.10it/s]\n"
     ]
    },
    {
     "name": "stdout",
     "output_type": "stream",
     "text": [
      "----------\n"
     ]
    },
    {
     "name": "stderr",
     "output_type": "stream",
     "text": [
      "Epoch 122 - loss: 0.1477 - accuracy: 0.9330: 100%|██████████| 16/16 [00:00<00:00, 100.44it/s]\n",
      "Epoch 122 - loss: 0.4688 - accuracy: 0.8000: 100%|██████████| 16/16 [00:00<00:00, 157.09it/s]\n"
     ]
    },
    {
     "name": "stdout",
     "output_type": "stream",
     "text": [
      "----------\n"
     ]
    },
    {
     "name": "stderr",
     "output_type": "stream",
     "text": [
      "Epoch 123 - loss: 0.2451 - accuracy: 0.8940: 100%|██████████| 16/16 [00:00<00:00, 98.18it/s]\n",
      "Epoch 123 - loss: 0.2122 - accuracy: 0.9090: 100%|██████████| 16/16 [00:00<00:00, 155.80it/s]\n"
     ]
    },
    {
     "name": "stdout",
     "output_type": "stream",
     "text": [
      "----------\n"
     ]
    },
    {
     "name": "stderr",
     "output_type": "stream",
     "text": [
      "Epoch 124 - loss: 0.1700 - accuracy: 0.9190: 100%|██████████| 16/16 [00:00<00:00, 95.93it/s]\n",
      "Epoch 124 - loss: 0.2030 - accuracy: 0.8960: 100%|██████████| 16/16 [00:00<00:00, 141.33it/s]\n"
     ]
    },
    {
     "name": "stdout",
     "output_type": "stream",
     "text": [
      "----------\n"
     ]
    },
    {
     "name": "stderr",
     "output_type": "stream",
     "text": [
      "Epoch 125 - loss: 0.1556 - accuracy: 0.9350: 100%|██████████| 16/16 [00:00<00:00, 99.89it/s]\n",
      "Epoch 125 - loss: 0.1751 - accuracy: 0.9270: 100%|██████████| 16/16 [00:00<00:00, 149.27it/s]\n"
     ]
    },
    {
     "name": "stdout",
     "output_type": "stream",
     "text": [
      "----------\n"
     ]
    },
    {
     "name": "stderr",
     "output_type": "stream",
     "text": [
      "Epoch 126 - loss: 0.2465 - accuracy: 0.8840: 100%|██████████| 16/16 [00:00<00:00, 100.34it/s]\n",
      "Epoch 126 - loss: 0.1797 - accuracy: 0.9160: 100%|██████████| 16/16 [00:00<00:00, 156.69it/s]\n"
     ]
    },
    {
     "name": "stdout",
     "output_type": "stream",
     "text": [
      "----------\n"
     ]
    },
    {
     "name": "stderr",
     "output_type": "stream",
     "text": [
      "Epoch 127 - loss: 0.1844 - accuracy: 0.9110: 100%|██████████| 16/16 [00:00<00:00, 88.30it/s]\n",
      "Epoch 127 - loss: 0.1877 - accuracy: 0.9190: 100%|██████████| 16/16 [00:00<00:00, 160.58it/s]\n"
     ]
    },
    {
     "name": "stdout",
     "output_type": "stream",
     "text": [
      "----------\n"
     ]
    },
    {
     "name": "stderr",
     "output_type": "stream",
     "text": [
      "Epoch 128 - loss: 0.1679 - accuracy: 0.9240: 100%|██████████| 16/16 [00:00<00:00, 94.42it/s]\n",
      "Epoch 128 - loss: 0.1853 - accuracy: 0.9210: 100%|██████████| 16/16 [00:00<00:00, 152.37it/s]\n"
     ]
    },
    {
     "name": "stdout",
     "output_type": "stream",
     "text": [
      "----------\n"
     ]
    },
    {
     "name": "stderr",
     "output_type": "stream",
     "text": [
      "Epoch 129 - loss: 0.1444 - accuracy: 0.9410: 100%|██████████| 16/16 [00:00<00:00, 96.61it/s]\n",
      "Epoch 129 - loss: 0.2402 - accuracy: 0.8760: 100%|██████████| 16/16 [00:00<00:00, 146.94it/s]\n"
     ]
    },
    {
     "name": "stdout",
     "output_type": "stream",
     "text": [
      "----------\n"
     ]
    },
    {
     "name": "stderr",
     "output_type": "stream",
     "text": [
      "Epoch 130 - loss: 0.2200 - accuracy: 0.8910: 100%|██████████| 16/16 [00:00<00:00, 83.63it/s]\n",
      "Epoch 130 - loss: 0.1836 - accuracy: 0.9120: 100%|██████████| 16/16 [00:00<00:00, 141.71it/s]\n"
     ]
    },
    {
     "name": "stdout",
     "output_type": "stream",
     "text": [
      "----------\n"
     ]
    },
    {
     "name": "stderr",
     "output_type": "stream",
     "text": [
      "Epoch 131 - loss: 0.1714 - accuracy: 0.9250: 100%|██████████| 16/16 [00:00<00:00, 83.27it/s]\n",
      "Epoch 131 - loss: 0.1708 - accuracy: 0.9310: 100%|██████████| 16/16 [00:00<00:00, 135.96it/s]\n"
     ]
    },
    {
     "name": "stdout",
     "output_type": "stream",
     "text": [
      "----------\n"
     ]
    },
    {
     "name": "stderr",
     "output_type": "stream",
     "text": [
      "Epoch 132 - loss: 0.1283 - accuracy: 0.9530: 100%|██████████| 16/16 [00:00<00:00, 91.71it/s]\n",
      "Epoch 132 - loss: 0.1734 - accuracy: 0.9310: 100%|██████████| 16/16 [00:00<00:00, 120.05it/s]\n"
     ]
    },
    {
     "name": "stdout",
     "output_type": "stream",
     "text": [
      "----------\n"
     ]
    },
    {
     "name": "stderr",
     "output_type": "stream",
     "text": [
      "Epoch 133 - loss: 0.1260 - accuracy: 0.9500: 100%|██████████| 16/16 [00:00<00:00, 78.93it/s]\n",
      "Epoch 133 - loss: 0.1753 - accuracy: 0.9220: 100%|██████████| 16/16 [00:00<00:00, 130.36it/s]\n"
     ]
    },
    {
     "name": "stdout",
     "output_type": "stream",
     "text": [
      "----------\n"
     ]
    },
    {
     "name": "stderr",
     "output_type": "stream",
     "text": [
      "Epoch 134 - loss: 0.1624 - accuracy: 0.9220: 100%|██████████| 16/16 [00:00<00:00, 77.42it/s]\n",
      "Epoch 134 - loss: 0.1685 - accuracy: 0.9270: 100%|██████████| 16/16 [00:00<00:00, 129.46it/s]\n"
     ]
    },
    {
     "name": "stdout",
     "output_type": "stream",
     "text": [
      "----------\n"
     ]
    },
    {
     "name": "stderr",
     "output_type": "stream",
     "text": [
      "Epoch 135 - loss: 0.1303 - accuracy: 0.9470: 100%|██████████| 16/16 [00:00<00:00, 84.55it/s]\n",
      "Epoch 135 - loss: 0.2227 - accuracy: 0.9010: 100%|██████████| 16/16 [00:00<00:00, 144.07it/s]\n"
     ]
    },
    {
     "name": "stdout",
     "output_type": "stream",
     "text": [
      "----------\n"
     ]
    },
    {
     "name": "stderr",
     "output_type": "stream",
     "text": [
      "Epoch 136 - loss: 0.1790 - accuracy: 0.9130: 100%|██████████| 16/16 [00:00<00:00, 88.73it/s]\n",
      "Epoch 136 - loss: 0.2131 - accuracy: 0.8990: 100%|██████████| 16/16 [00:00<00:00, 143.69it/s]\n"
     ]
    },
    {
     "name": "stdout",
     "output_type": "stream",
     "text": [
      "----------\n"
     ]
    },
    {
     "name": "stderr",
     "output_type": "stream",
     "text": [
      "Epoch 137 - loss: 0.1518 - accuracy: 0.9370: 100%|██████████| 16/16 [00:00<00:00, 95.87it/s]\n",
      "Epoch 137 - loss: 0.1836 - accuracy: 0.9210: 100%|██████████| 16/16 [00:00<00:00, 152.15it/s]\n"
     ]
    },
    {
     "name": "stdout",
     "output_type": "stream",
     "text": [
      "----------\n"
     ]
    },
    {
     "name": "stderr",
     "output_type": "stream",
     "text": [
      "Epoch 138 - loss: 0.1335 - accuracy: 0.9450: 100%|██████████| 16/16 [00:00<00:00, 87.12it/s]\n",
      "Epoch 138 - loss: 0.2502 - accuracy: 0.9000: 100%|██████████| 16/16 [00:00<00:00, 138.90it/s]\n"
     ]
    },
    {
     "name": "stdout",
     "output_type": "stream",
     "text": [
      "----------\n"
     ]
    },
    {
     "name": "stderr",
     "output_type": "stream",
     "text": [
      "Epoch 139 - loss: 0.1804 - accuracy: 0.9120: 100%|██████████| 16/16 [00:00<00:00, 89.09it/s]\n",
      "Epoch 139 - loss: 0.3639 - accuracy: 0.8450: 100%|██████████| 16/16 [00:00<00:00, 133.17it/s]\n"
     ]
    },
    {
     "name": "stdout",
     "output_type": "stream",
     "text": [
      "----------\n"
     ]
    },
    {
     "name": "stderr",
     "output_type": "stream",
     "text": [
      "Epoch 140 - loss: 0.2402 - accuracy: 0.8920: 100%|██████████| 16/16 [00:00<00:00, 72.80it/s]\n",
      "Epoch 140 - loss: 0.2822 - accuracy: 0.8670: 100%|██████████| 16/16 [00:00<00:00, 109.30it/s]\n"
     ]
    },
    {
     "name": "stdout",
     "output_type": "stream",
     "text": [
      "----------\n"
     ]
    },
    {
     "name": "stderr",
     "output_type": "stream",
     "text": [
      "Epoch 141 - loss: 0.1356 - accuracy: 0.9420: 100%|██████████| 16/16 [00:00<00:00, 53.60it/s]\n",
      "Epoch 141 - loss: 0.1674 - accuracy: 0.9310: 100%|██████████| 16/16 [00:00<00:00, 120.16it/s]\n"
     ]
    },
    {
     "name": "stdout",
     "output_type": "stream",
     "text": [
      "----------\n"
     ]
    },
    {
     "name": "stderr",
     "output_type": "stream",
     "text": [
      "Epoch 142 - loss: 0.1247 - accuracy: 0.9500: 100%|██████████| 16/16 [00:00<00:00, 86.75it/s]\n",
      "Epoch 142 - loss: 0.1908 - accuracy: 0.9170: 100%|██████████| 16/16 [00:00<00:00, 133.85it/s]\n"
     ]
    },
    {
     "name": "stdout",
     "output_type": "stream",
     "text": [
      "----------\n"
     ]
    },
    {
     "name": "stderr",
     "output_type": "stream",
     "text": [
      "Epoch 143 - loss: 0.1222 - accuracy: 0.9500: 100%|██████████| 16/16 [00:00<00:00, 77.81it/s]\n",
      "Epoch 143 - loss: 0.1602 - accuracy: 0.9360: 100%|██████████| 16/16 [00:00<00:00, 107.75it/s]\n"
     ]
    },
    {
     "name": "stdout",
     "output_type": "stream",
     "text": [
      "----------\n"
     ]
    },
    {
     "name": "stderr",
     "output_type": "stream",
     "text": [
      "Epoch 144 - loss: 0.1336 - accuracy: 0.9410: 100%|██████████| 16/16 [00:00<00:00, 66.19it/s]\n",
      "Epoch 144 - loss: 0.1535 - accuracy: 0.9310: 100%|██████████| 16/16 [00:00<00:00, 114.73it/s]\n"
     ]
    },
    {
     "name": "stdout",
     "output_type": "stream",
     "text": [
      "----------\n"
     ]
    },
    {
     "name": "stderr",
     "output_type": "stream",
     "text": [
      "Epoch 145 - loss: 0.1236 - accuracy: 0.9570: 100%|██████████| 16/16 [00:00<00:00, 92.50it/s]\n",
      "Epoch 145 - loss: 0.1606 - accuracy: 0.9320: 100%|██████████| 16/16 [00:00<00:00, 131.39it/s]\n"
     ]
    },
    {
     "name": "stdout",
     "output_type": "stream",
     "text": [
      "----------\n"
     ]
    },
    {
     "name": "stderr",
     "output_type": "stream",
     "text": [
      "Epoch 146 - loss: 0.1239 - accuracy: 0.9500: 100%|██████████| 16/16 [00:00<00:00, 66.65it/s]\n",
      "Epoch 146 - loss: 0.2553 - accuracy: 0.8770: 100%|██████████| 16/16 [00:00<00:00, 104.33it/s]\n"
     ]
    },
    {
     "name": "stdout",
     "output_type": "stream",
     "text": [
      "----------\n"
     ]
    },
    {
     "name": "stderr",
     "output_type": "stream",
     "text": [
      "Epoch 147 - loss: 0.2359 - accuracy: 0.8970: 100%|██████████| 16/16 [00:00<00:00, 73.04it/s]\n",
      "Epoch 147 - loss: 0.2773 - accuracy: 0.8810: 100%|██████████| 16/16 [00:00<00:00, 142.58it/s]\n"
     ]
    },
    {
     "name": "stdout",
     "output_type": "stream",
     "text": [
      "----------\n"
     ]
    },
    {
     "name": "stderr",
     "output_type": "stream",
     "text": [
      "Epoch 148 - loss: 0.1379 - accuracy: 0.9310: 100%|██████████| 16/16 [00:00<00:00, 60.49it/s]\n",
      "Epoch 148 - loss: 0.2267 - accuracy: 0.8950: 100%|██████████| 16/16 [00:00<00:00, 109.26it/s]\n"
     ]
    },
    {
     "name": "stdout",
     "output_type": "stream",
     "text": [
      "----------\n"
     ]
    },
    {
     "name": "stderr",
     "output_type": "stream",
     "text": [
      "Epoch 149 - loss: 0.1282 - accuracy: 0.9470: 100%|██████████| 16/16 [00:00<00:00, 78.83it/s]\n",
      "Epoch 149 - loss: 0.2411 - accuracy: 0.8810: 100%|██████████| 16/16 [00:00<00:00, 121.78it/s]"
     ]
    },
    {
     "name": "stdout",
     "output_type": "stream",
     "text": [
      "----------\n"
     ]
    },
    {
     "name": "stderr",
     "output_type": "stream",
     "text": [
      "\n"
     ]
    }
   ],
   "source": [
    "# Tensoboard logger\n",
    "import time\n",
    "from supervised_ml import get_tensorboard_writer\n",
    "\n",
    "run_name = f'[256,256,256]/{str(int(time.time()))}'\n",
    "tensorboard_writer = get_tensorboard_writer(run_name)\n",
    "\n",
    "# Adam is always a safe choice\n",
    "import torch.optim as optim\n",
    "optimizer = optim.Adam(model.parameters())\n",
    "\n",
    "from supervised_ml import get_train_val_loop\n",
    "train_val_loop = get_train_val_loop(model, criterion, optimizer, tensorboard_writer)\n",
    "\n",
    "N_EPOCHS = 150\n",
    "\n",
    "for epoch in range(N_EPOCHS):\n",
    "    # train\n",
    "    train_val_loop(is_train=True, dataloader=train_dataloader, epoch=epoch)\n",
    "\n",
    "    with torch.no_grad():\n",
    "        # validate\n",
    "        train_val_loop(is_train=False, dataloader=test_dataloader, epoch=epoch)\n",
    "\n",
    "    print('----------')"
   ]
  },
  {
   "cell_type": "markdown",
   "id": "1f2806ec",
   "metadata": {},
   "source": [
    "## Tensorboard ON to visualize train and validation curves"
   ]
  },
  {
   "cell_type": "code",
   "execution_count": 5,
   "id": "12456d53",
   "metadata": {},
   "outputs": [
    {
     "name": "stdout",
     "output_type": "stream",
     "text": [
      "The tensorboard extension is already loaded. To reload it, use:\n",
      "  %reload_ext tensorboard\n"
     ]
    },
    {
     "data": {
      "text/plain": [
       "Reusing TensorBoard on port 6006 (pid 47596), started 22:34:21 ago. (Use '!kill 47596' to kill it.)"
      ]
     },
     "metadata": {},
     "output_type": "display_data"
    },
    {
     "data": {
      "text/html": [
       "\n",
       "      <iframe id=\"tensorboard-frame-2b7aa8703041476\" width=\"100%\" height=\"800\" frameborder=\"0\">\n",
       "      </iframe>\n",
       "      <script>\n",
       "        (function() {\n",
       "          const frame = document.getElementById(\"tensorboard-frame-2b7aa8703041476\");\n",
       "          const url = new URL(\"http://localhost\");\n",
       "          const port = 6006;\n",
       "          if (port) {\n",
       "            url.port = port;\n",
       "          }\n",
       "          frame.src = url;\n",
       "        })();\n",
       "      </script>\n",
       "    "
      ],
      "text/plain": [
       "<IPython.core.display.HTML object>"
      ]
     },
     "metadata": {},
     "output_type": "display_data"
    }
   ],
   "source": [
    "from config import TENSORBOARD_LOG_DIR\n",
    "%load_ext tensorboard\n",
    "%tensorboard --logdir $TENSORBOARD_LOG_DIR"
   ]
  },
  {
   "cell_type": "code",
   "execution_count": null,
   "id": "d9cbe675",
   "metadata": {},
   "outputs": [],
   "source": []
  }
 ],
 "metadata": {
  "kernelspec": {
   "display_name": "Python 3 (ipykernel)",
   "language": "python",
   "name": "python3"
  },
  "language_info": {
   "codemirror_mode": {
    "name": "ipython",
    "version": 3
   },
   "file_extension": ".py",
   "mimetype": "text/x-python",
   "name": "python",
   "nbconvert_exporter": "python",
   "pygments_lexer": "ipython3",
   "version": "3.10.13"
  }
 },
 "nbformat": 4,
 "nbformat_minor": 5
}
