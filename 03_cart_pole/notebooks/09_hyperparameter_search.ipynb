{
 "cells": [
  {
   "cell_type": "markdown",
   "id": "620597af",
   "metadata": {},
   "source": [
    "# 09 Hyper-parameter search for Deep Q Learning\n",
    "\n",
    "#### 👉Deep RL is hard, because (among other things) it's very sensitivity to the hyper-parameters.\n",
    "\n",
    "#### 👉We tune the hyper-parmeters following a trial&error approach:\n",
    "\n",
    "![](../images/hparams_search_diagram.svg)\n",
    "\n",
    "#### 👉However, Hyper-parameter spaces in deep RL problems are HUGE. A brute-force solution that would try all possible combinations of hyper-parameters is not feasible. We need something smarter than that...\n",
    "\n",
    "#### 👉And this is when Bayesian search methods enther into the picture.\n",
    "\n",
    "#### 👉In a nutshell, Bayesian search methods use past searches to inform promising avenues.\n",
    "\n",
    "#### 👉 [Optuna](https://optuna.readthedocs.io/en/stable/index.html) is a Python open-source library that implements Bayesian search methods\n",
    "\n",
    "<img src=\"https://github.com/Paulescu/hands-on-rl/blob/main/03_cart_pole/images/optuna.png?raw=True\" width=\"400\"/>\n",
    "\n",
    "#### 👉Hyper-paramater search a piece of cake 🍰if you use Optuna."
   ]
  },
  {
   "cell_type": "code",
   "execution_count": 3,
   "id": "fd7b5c91",
   "metadata": {},
   "outputs": [
    {
     "name": "stdout",
     "output_type": "stream",
     "text": [
      "The autoreload extension is already loaded. To reload it, use:\n",
      "  %reload_ext autoreload\n",
      "%pylab is deprecated, use %matplotlib inline and import the required libraries.\n",
      "Populating the interactive namespace from numpy and matplotlib\n"
     ]
    }
   ],
   "source": [
    "%load_ext autoreload\n",
    "%autoreload 2\n",
    "%pylab inline\n",
    "%config InlineBackend.figure_format = 'svg'"
   ]
  },
  {
   "cell_type": "markdown",
   "id": "6d71e5be",
   "metadata": {},
   "source": [
    "## Environment 🌎"
   ]
  },
  {
   "cell_type": "code",
   "execution_count": 5,
   "id": "bfb033c6",
   "metadata": {},
   "outputs": [],
   "source": [
    "import gym\n",
    "env = gym.make('CartPole-v1', render_mode = 'rgb_array')"
   ]
  },
  {
   "cell_type": "markdown",
   "id": "0afec9fc",
   "metadata": {},
   "source": [
    "### MLflow is a useful tool to track experiment results\n",
    "\n",
    "cd to the root directory of this lesson (in my case `/Users/paulabartabajo/src/online-courses/hands-on-rl/03_cart_pole`) and spin up the mlflow tracking server as follows:\n",
    "\n",
    "**$ mlflow server --backend-store-uri sqlite:///mlflow.db --default-artifact-root ./artifacts --host 0.0.0.0 --port 5000**\n",
    "\n",
    "### 💡 if you have another service listening to port 5000, increase port number by 1 until you hit a free port."
   ]
  },
  {
   "cell_type": "code",
   "execution_count": 8,
   "id": "6e8f0e06",
   "metadata": {},
   "outputs": [
    {
     "name": "stderr",
     "output_type": "stream",
     "text": [
      "2024/01/04 09:14:32 INFO mlflow.tracking.fluent: Experiment with name 'hyperparameter_search' does not exist. Creating a new experiment.\n"
     ]
    },
    {
     "data": {
      "text/plain": [
       "<Experiment: artifact_location='mlflow-artifacts:/372391382498284927', creation_time=1704370472026, experiment_id='372391382498284927', last_update_time=1704370472026, lifecycle_stage='active', name='hyperparameter_search', tags={}>"
      ]
     },
     "execution_count": 8,
     "metadata": {},
     "output_type": "execute_result"
    }
   ],
   "source": [
    "import mlflow\n",
    "\n",
    "# connect mlflow client to the mlflow server that runs on localhost:5000\n",
    "MLFLOW_SERVER_URI = 'http://localhost:5000'\n",
    "mlflow.set_tracking_uri(str(MLFLOW_SERVER_URI))\n",
    "\n",
    "EXPERIMENT_NAME = 'hyperparameter_search'\n",
    "mlflow.set_experiment(EXPERIMENT_NAME)"
   ]
  },
  {
   "cell_type": "markdown",
   "id": "85f9af99",
   "metadata": {},
   "source": [
    "## Create an Optuna study"
   ]
  },
  {
   "cell_type": "code",
   "execution_count": 9,
   "id": "fdea6f22",
   "metadata": {},
   "outputs": [
    {
     "name": "stderr",
     "output_type": "stream",
     "text": [
      "c:\\Users\\Ploita\\anaconda3\\envs\\HandsOnRL\\lib\\site-packages\\tqdm\\auto.py:21: TqdmWarning: IProgress not found. Please update jupyter and ipywidgets. See https://ipywidgets.readthedocs.io/en/stable/user_install.html\n",
      "  from .autonotebook import tqdm as notebook_tqdm\n",
      "[I 2024-01-04 09:21:17,932] A new study created in RDB with name: hyperparameter_search\n"
     ]
    }
   ],
   "source": [
    "import optuna\n",
    "\n",
    "from config import OPTUNA_DB\n",
    "\n",
    "study = optuna.create_study(\n",
    "    study_name=EXPERIMENT_NAME,\n",
    "    direction='maximize',\n",
    "    load_if_exists=True,\n",
    "    storage=f'sqlite:///{OPTUNA_DB}'\n",
    ")"
   ]
  },
  {
   "cell_type": "markdown",
   "id": "c994f837",
   "metadata": {},
   "source": [
    "## Objective function we want to maximize"
   ]
  },
  {
   "cell_type": "code",
   "execution_count": 10,
   "id": "a6f28fa5",
   "metadata": {},
   "outputs": [],
   "source": [
    "from optimize_hyperparameters import objective\n",
    "\n",
    "# we define a lambda function because study.optimize()\n",
    "# expect the objective function to have only 1 input\n",
    "# (trial), while our objective function hast 2 extra\n",
    "# inputs I defined to add flexibility to the script\n",
    "func = lambda trial: objective(trial,\n",
    "                               force_linear_model=False,\n",
    "                               n_episodes_to_train=200)"
   ]
  },
  {
   "cell_type": "markdown",
   "id": "483eeb64-ecfe-4d69-a848-39cce5175adc",
   "metadata": {},
   "source": [
    "## Set threshold to terminate hyperparameter search"
   ]
  },
  {
   "cell_type": "code",
   "execution_count": 11,
   "id": "eefb097c-a7e3-46da-afbe-29db0c6a2d5e",
   "metadata": {},
   "outputs": [],
   "source": [
    "class CheckHyperparamMeanRewardThreshold:\n",
    "    def __init__(self, reward_threshold: float):\n",
    "        self.reward_threshold = reward_threshold\n",
    "\n",
    "    def __call__(self, study: optuna.study.Study, trial: optuna.trial.FrozenTrial) -> None:\n",
    "        if trial.value >= self.reward_threshold:\n",
    "            print((f'Stopping hyperparameter search because trial.value ({trial.value}) '\n",
    "                   f'hit threshold ({self.reward_threshold})'))\n",
    "            study.stop()\n",
    "\n",
    "# Stop hyperparameter search when we hit a perfect mean reward of 500\n",
    "hyperparam_search_stop_callback = CheckHyperparamMeanRewardThreshold(500.0)"
   ]
  },
  {
   "cell_type": "markdown",
   "id": "e6d4c1dd",
   "metadata": {},
   "source": [
    "## Let's start the search"
   ]
  },
  {
   "cell_type": "code",
   "execution_count": 13,
   "id": "25879f3a",
   "metadata": {
    "scrolled": true
   },
   "outputs": [
    {
     "name": "stderr",
     "output_type": "stream",
     "text": [
      "c:\\Users\\Ploita\\Documents\\GitHub\\hands-on-rl\\03_cart_pole\\notebooks\\optimize_hyperparameters.py:22: FutureWarning: suggest_loguniform has been deprecated in v3.0.0. This feature will be removed in v6.0.0. See https://github.com/optuna/optuna/releases/tag/v3.0.0. Use suggest_float(..., log=True) instead.\n",
      "  learning_rate = trial.suggest_loguniform(\"learning_rate\", 1e-5, 1e-2)\n",
      "c:\\Users\\Ploita\\anaconda3\\envs\\HandsOnRL\\lib\\site-packages\\optuna\\distributions.py:524: UserWarning: Choices for a categorical distribution should be a tuple of None, bool, int, float and str for persistent storage but contains [256, 256] which is of type list.\n",
      "  warnings.warn(message)\n",
      "c:\\Users\\Ploita\\Documents\\GitHub\\hands-on-rl\\03_cart_pole\\notebooks\\optimize_hyperparameters.py:61: FutureWarning: suggest_uniform has been deprecated in v3.0.0. This feature will be removed in v6.0.0. See https://github.com/optuna/optuna/releases/tag/v3.0.0. Use suggest_float instead.\n",
      "  epsilon_end = trial.suggest_uniform(\"epsilon_end\", 0, 0.2)\n"
     ]
    },
    {
     "name": "stdout",
     "output_type": "stream",
     "text": [
      "67,586 parameters\n"
     ]
    },
    {
     "name": "stderr",
     "output_type": "stream",
     "text": [
      "100%|██████████| 100/100 [00:00<00:00, 151.81it/s]\n",
      "100%|██████████| 200/200 [00:01<00:00, 152.94it/s]\n"
     ]
    },
    {
     "name": "stdout",
     "output_type": "stream",
     "text": [
      "Reward mean: 27.03, std: 12.68\n",
      "Num steps mean: 27.03, std: 12.68\n"
     ]
    },
    {
     "name": "stderr",
     "output_type": "stream",
     "text": [
      "100%|██████████| 1000/1000 [00:07<00:00, 142.41it/s]\n",
      "c:\\Users\\Ploita\\anaconda3\\envs\\HandsOnRL\\lib\\site-packages\\optuna\\distributions.py:524: UserWarning: Choices for a categorical distribution should be a tuple of None, bool, int, float and str for persistent storage but contains [256, 256] which is of type list.\n",
      "  warnings.warn(message)\n",
      "[I 2024-01-04 09:24:13,523] Trial 1 finished with value: 29.647 and parameters: {'learning_rate': 3.1764919208731575e-05, 'discount_factor': 0.99, 'batch_size': 16, 'memory_size': 50000, 'freq_steps_train': 16, 'freq_steps_update_target': 1000, 'n_steps_warm_up_memory': 5000, 'n_gradient_steps': 4, 'nn_hidden_layers': [256, 256], 'max_grad_norm': 10, 'normalize_state': False, 'epsilon_start': 0.9, 'epsilon_end': 0.16537499000237593, 'steps_epsilon_decay': 100000, 'seed': 216840073}. Best is trial 1 with value: 29.647.\n",
      "c:\\Users\\Ploita\\Documents\\GitHub\\hands-on-rl\\03_cart_pole\\notebooks\\optimize_hyperparameters.py:22: FutureWarning: suggest_loguniform has been deprecated in v3.0.0. This feature will be removed in v6.0.0. See https://github.com/optuna/optuna/releases/tag/v3.0.0. Use suggest_float(..., log=True) instead.\n",
      "  learning_rate = trial.suggest_loguniform(\"learning_rate\", 1e-5, 1e-2)\n",
      "c:\\Users\\Ploita\\Documents\\GitHub\\hands-on-rl\\03_cart_pole\\notebooks\\optimize_hyperparameters.py:61: FutureWarning: suggest_uniform has been deprecated in v3.0.0. This feature will be removed in v6.0.0. See https://github.com/optuna/optuna/releases/tag/v3.0.0. Use suggest_float instead.\n",
      "  epsilon_end = trial.suggest_uniform(\"epsilon_end\", 0, 0.2)\n"
     ]
    },
    {
     "name": "stdout",
     "output_type": "stream",
     "text": [
      "67,586 parameters\n"
     ]
    },
    {
     "name": "stderr",
     "output_type": "stream",
     "text": [
      "100%|██████████| 100/100 [00:00<00:00, 358.31it/s]\n",
      "100%|██████████| 200/200 [00:02<00:00, 82.67it/s]\n"
     ]
    },
    {
     "name": "stdout",
     "output_type": "stream",
     "text": [
      "Reward mean: 10.39, std: 0.86\n",
      "Num steps mean: 10.39, std: 0.86\n"
     ]
    },
    {
     "name": "stderr",
     "output_type": "stream",
     "text": [
      "100%|██████████| 1000/1000 [00:02<00:00, 376.22it/s]\n",
      "[I 2024-01-04 09:24:19,250] Trial 2 finished with value: 10.279 and parameters: {'learning_rate': 0.005163679689396554, 'discount_factor': 0.9, 'batch_size': 16, 'memory_size': 50000, 'freq_steps_train': 8, 'freq_steps_update_target': 100, 'n_steps_warm_up_memory': 1000, 'n_gradient_steps': 1, 'nn_hidden_layers': [256, 256], 'max_grad_norm': 1, 'normalize_state': True, 'epsilon_start': 0.9, 'epsilon_end': 0.10939756832377122, 'steps_epsilon_decay': 1000, 'seed': 861621013}. Best is trial 1 with value: 29.647.\n"
     ]
    },
    {
     "name": "stdout",
     "output_type": "stream",
     "text": [
      "67,586 parameters\n"
     ]
    },
    {
     "name": "stderr",
     "output_type": "stream",
     "text": [
      "100%|██████████| 100/100 [00:00<00:00, 354.77it/s]\n",
      "100%|██████████| 200/200 [00:06<00:00, 32.76it/s]\n"
     ]
    },
    {
     "name": "stdout",
     "output_type": "stream",
     "text": [
      "Reward mean: 9.56, std: 0.82\n",
      "Num steps mean: 9.56, std: 0.82\n"
     ]
    },
    {
     "name": "stderr",
     "output_type": "stream",
     "text": [
      "100%|██████████| 1000/1000 [00:02<00:00, 388.45it/s]\n",
      "[I 2024-01-04 09:24:28,503] Trial 3 finished with value: 9.372 and parameters: {'learning_rate': 2.3960522692194107e-05, 'discount_factor': 0.9, 'batch_size': 16, 'memory_size': 100000, 'freq_steps_train': 8, 'freq_steps_update_target': 100, 'n_steps_warm_up_memory': 1000, 'n_gradient_steps': 4, 'nn_hidden_layers': [256, 256], 'max_grad_norm': 1, 'normalize_state': True, 'epsilon_start': 0.9, 'epsilon_end': 0.0865562420163326, 'steps_epsilon_decay': 100000, 'seed': 168906130}. Best is trial 1 with value: 29.647.\n"
     ]
    },
    {
     "name": "stdout",
     "output_type": "stream",
     "text": [
      "67,586 parameters\n"
     ]
    },
    {
     "name": "stderr",
     "output_type": "stream",
     "text": [
      "100%|██████████| 100/100 [00:00<00:00, 459.77it/s]\n",
      "100%|██████████| 200/200 [00:02<00:00, 99.04it/s]\n"
     ]
    },
    {
     "name": "stdout",
     "output_type": "stream",
     "text": [
      "Reward mean: 9.60, std: 0.86\n",
      "Num steps mean: 9.60, std: 0.86\n"
     ]
    },
    {
     "name": "stderr",
     "output_type": "stream",
     "text": [
      "100%|██████████| 1000/1000 [00:02<00:00, 431.73it/s]\n",
      "[I 2024-01-04 09:24:33,197] Trial 4 finished with value: 9.426 and parameters: {'learning_rate': 0.0029854584638722976, 'discount_factor': 0.95, 'batch_size': 128, 'memory_size': 10000, 'freq_steps_train': 256, 'freq_steps_update_target': 10, 'n_steps_warm_up_memory': 1000, 'n_gradient_steps': 16, 'nn_hidden_layers': [256, 256], 'max_grad_norm': 10, 'normalize_state': False, 'epsilon_start': 0.9, 'epsilon_end': 0.14705850075037896, 'steps_epsilon_decay': 1000, 'seed': 1021721580}. Best is trial 1 with value: 29.647.\n"
     ]
    },
    {
     "name": "stdout",
     "output_type": "stream",
     "text": [
      "67,586 parameters\n"
     ]
    },
    {
     "name": "stderr",
     "output_type": "stream",
     "text": [
      "100%|██████████| 100/100 [00:00<00:00, 458.28it/s]\n",
      "100%|██████████| 200/200 [00:00<00:00, 209.97it/s]\n"
     ]
    },
    {
     "name": "stdout",
     "output_type": "stream",
     "text": [
      "Reward mean: 9.36, std: 0.76\n",
      "Num steps mean: 9.36, std: 0.76\n"
     ]
    },
    {
     "name": "stderr",
     "output_type": "stream",
     "text": [
      "100%|██████████| 1000/1000 [00:02<00:00, 468.85it/s]\n",
      "[I 2024-01-04 09:24:36,643] Trial 5 finished with value: 9.367 and parameters: {'learning_rate': 0.005804019543459466, 'discount_factor': 0.9, 'batch_size': 64, 'memory_size': 100000, 'freq_steps_train': 256, 'freq_steps_update_target': 1000, 'n_steps_warm_up_memory': 5000, 'n_gradient_steps': 1, 'nn_hidden_layers': [256, 256], 'max_grad_norm': 1, 'normalize_state': False, 'epsilon_start': 0.9, 'epsilon_end': 0.1740289056992923, 'steps_epsilon_decay': 10000, 'seed': 710364089}. Best is trial 1 with value: 29.647.\n"
     ]
    },
    {
     "name": "stdout",
     "output_type": "stream",
     "text": [
      "67,586 parameters\n"
     ]
    },
    {
     "name": "stderr",
     "output_type": "stream",
     "text": [
      "100%|██████████| 100/100 [00:00<00:00, 460.06it/s]\n",
      "100%|██████████| 200/200 [00:01<00:00, 120.22it/s]\n"
     ]
    },
    {
     "name": "stdout",
     "output_type": "stream",
     "text": [
      "Reward mean: 9.39, std: 0.76\n",
      "Num steps mean: 9.39, std: 0.76\n"
     ]
    },
    {
     "name": "stderr",
     "output_type": "stream",
     "text": [
      "100%|██████████| 1000/1000 [00:02<00:00, 447.29it/s]\n",
      "[I 2024-01-04 09:24:41,122] Trial 6 finished with value: 9.383 and parameters: {'learning_rate': 0.001050470590861527, 'discount_factor': 0.9, 'batch_size': 64, 'memory_size': 10000, 'freq_steps_train': 128, 'freq_steps_update_target': 10, 'n_steps_warm_up_memory': 1000, 'n_gradient_steps': 4, 'nn_hidden_layers': [256, 256], 'max_grad_norm': 10, 'normalize_state': True, 'epsilon_start': 0.9, 'epsilon_end': 0.07005974274341596, 'steps_epsilon_decay': 1000, 'seed': 58155637}. Best is trial 1 with value: 29.647.\n"
     ]
    },
    {
     "name": "stdout",
     "output_type": "stream",
     "text": [
      "67,586 parameters\n"
     ]
    },
    {
     "name": "stderr",
     "output_type": "stream",
     "text": [
      "100%|██████████| 100/100 [00:00<00:00, 377.84it/s]\n",
      "100%|██████████| 200/200 [00:01<00:00, 172.50it/s]\n"
     ]
    },
    {
     "name": "stdout",
     "output_type": "stream",
     "text": [
      "Reward mean: 9.32, std: 0.89\n",
      "Num steps mean: 9.32, std: 0.89\n"
     ]
    },
    {
     "name": "stderr",
     "output_type": "stream",
     "text": [
      "100%|██████████| 1000/1000 [00:02<00:00, 457.96it/s]\n",
      "[I 2024-01-04 09:24:44,849] Trial 7 finished with value: 9.349 and parameters: {'learning_rate': 1.2327485481047577e-05, 'discount_factor': 0.99, 'batch_size': 32, 'memory_size': 100000, 'freq_steps_train': 256, 'freq_steps_update_target': 10, 'n_steps_warm_up_memory': 1000, 'n_gradient_steps': 1, 'nn_hidden_layers': [256, 256], 'max_grad_norm': 10, 'normalize_state': False, 'epsilon_start': 0.9, 'epsilon_end': 0.036188690377473125, 'steps_epsilon_decay': 10000, 'seed': 471455273}. Best is trial 1 with value: 29.647.\n"
     ]
    },
    {
     "name": "stdout",
     "output_type": "stream",
     "text": [
      "67,586 parameters\n"
     ]
    },
    {
     "name": "stderr",
     "output_type": "stream",
     "text": [
      "100%|██████████| 100/100 [00:00<00:00, 143.81it/s]\n",
      "100%|██████████| 200/200 [00:02<00:00, 85.45it/s] \n"
     ]
    },
    {
     "name": "stdout",
     "output_type": "stream",
     "text": [
      "Reward mean: 32.33, std: 7.67\n",
      "Num steps mean: 32.33, std: 7.67\n"
     ]
    },
    {
     "name": "stderr",
     "output_type": "stream",
     "text": [
      "100%|██████████| 1000/1000 [00:07<00:00, 142.14it/s]\n",
      "[I 2024-01-04 09:24:54,570] Trial 8 finished with value: 31.512 and parameters: {'learning_rate': 1.993580358171178e-05, 'discount_factor': 0.95, 'batch_size': 64, 'memory_size': 10000, 'freq_steps_train': 128, 'freq_steps_update_target': 100, 'n_steps_warm_up_memory': 5000, 'n_gradient_steps': 1, 'nn_hidden_layers': [256, 256], 'max_grad_norm': 1, 'normalize_state': False, 'epsilon_start': 0.9, 'epsilon_end': 0.16101899729413693, 'steps_epsilon_decay': 1000, 'seed': 506854773}. Best is trial 8 with value: 31.512.\n"
     ]
    },
    {
     "name": "stdout",
     "output_type": "stream",
     "text": [
      "67,586 parameters\n"
     ]
    },
    {
     "name": "stderr",
     "output_type": "stream",
     "text": [
      "100%|██████████| 100/100 [00:04<00:00, 22.58it/s]\n",
      "100%|██████████| 200/200 [00:30<00:00,  6.66it/s]\n"
     ]
    },
    {
     "name": "stdout",
     "output_type": "stream",
     "text": [
      "Reward mean: 210.17, std: 44.78\n",
      "Num steps mean: 210.17, std: 44.78\n"
     ]
    },
    {
     "name": "stderr",
     "output_type": "stream",
     "text": [
      "100%|██████████| 1000/1000 [00:45<00:00, 22.19it/s]\n",
      "[I 2024-01-04 09:26:10,066] Trial 9 finished with value: 215.785 and parameters: {'learning_rate': 0.0010792747100881138, 'discount_factor': 0.9, 'batch_size': 64, 'memory_size': 100000, 'freq_steps_train': 16, 'freq_steps_update_target': 10, 'n_steps_warm_up_memory': 1000, 'n_gradient_steps': 4, 'nn_hidden_layers': [256, 256], 'max_grad_norm': 1, 'normalize_state': False, 'epsilon_start': 0.9, 'epsilon_end': 0.18470179225821848, 'steps_epsilon_decay': 10000, 'seed': 670990460}. Best is trial 9 with value: 215.785.\n"
     ]
    },
    {
     "name": "stdout",
     "output_type": "stream",
     "text": [
      "67,586 parameters\n"
     ]
    },
    {
     "name": "stderr",
     "output_type": "stream",
     "text": [
      "100%|██████████| 100/100 [00:00<00:00, 507.52it/s]\n",
      "100%|██████████| 200/200 [00:01<00:00, 198.60it/s]\n"
     ]
    },
    {
     "name": "stdout",
     "output_type": "stream",
     "text": [
      "Reward mean: 9.43, std: 0.70\n",
      "Num steps mean: 9.43, std: 0.70\n"
     ]
    },
    {
     "name": "stderr",
     "output_type": "stream",
     "text": [
      "100%|██████████| 1000/1000 [00:01<00:00, 505.88it/s]\n",
      "[I 2024-01-04 09:26:13,383] Trial 10 finished with value: 9.38 and parameters: {'learning_rate': 0.0034216949532134408, 'discount_factor': 0.95, 'batch_size': 32, 'memory_size': 100000, 'freq_steps_train': 128, 'freq_steps_update_target': 1000, 'n_steps_warm_up_memory': 5000, 'n_gradient_steps': 16, 'nn_hidden_layers': [256, 256], 'max_grad_norm': 10, 'normalize_state': False, 'epsilon_start': 0.9, 'epsilon_end': 0.13276294273493533, 'steps_epsilon_decay': 1000, 'seed': 377527027}. Best is trial 9 with value: 215.785.\n"
     ]
    },
    {
     "name": "stdout",
     "output_type": "stream",
     "text": [
      "67,586 parameters\n"
     ]
    },
    {
     "name": "stderr",
     "output_type": "stream",
     "text": [
      "100%|██████████| 100/100 [00:07<00:00, 13.76it/s]\n",
      "100%|██████████| 200/200 [00:52<00:00,  3.82it/s]\n"
     ]
    },
    {
     "name": "stdout",
     "output_type": "stream",
     "text": [
      "Reward mean: 314.05, std: 149.23\n",
      "Num steps mean: 314.05, std: 149.23\n"
     ]
    },
    {
     "name": "stderr",
     "output_type": "stream",
     "text": [
      "100%|██████████| 1000/1000 [01:14<00:00, 13.49it/s]\n",
      "[I 2024-01-04 09:28:20,407] Trial 11 finished with value: 328.004 and parameters: {'learning_rate': 0.0002062527006608633, 'discount_factor': 0.9, 'batch_size': 128, 'memory_size': 100000, 'freq_steps_train': 16, 'freq_steps_update_target': 10, 'n_steps_warm_up_memory': 1000, 'n_gradient_steps': 4, 'nn_hidden_layers': [256, 256], 'max_grad_norm': 1, 'normalize_state': True, 'epsilon_start': 0.9, 'epsilon_end': 0.005870675050397733, 'steps_epsilon_decay': 10000, 'seed': 662436985}. Best is trial 11 with value: 328.004.\n"
     ]
    },
    {
     "name": "stdout",
     "output_type": "stream",
     "text": [
      "67,586 parameters\n"
     ]
    },
    {
     "name": "stderr",
     "output_type": "stream",
     "text": [
      "100%|██████████| 100/100 [00:04<00:00, 20.44it/s]\n",
      "100%|██████████| 200/200 [00:39<00:00,  5.10it/s]\n"
     ]
    },
    {
     "name": "stdout",
     "output_type": "stream",
     "text": [
      "Reward mean: 216.76, std: 29.95\n",
      "Num steps mean: 216.76, std: 29.95\n"
     ]
    },
    {
     "name": "stderr",
     "output_type": "stream",
     "text": [
      "100%|██████████| 1000/1000 [00:47<00:00, 21.23it/s]\n",
      "[I 2024-01-04 09:29:47,323] Trial 12 finished with value: 216.34 and parameters: {'learning_rate': 0.00017736651686366985, 'discount_factor': 0.9, 'batch_size': 128, 'memory_size': 100000, 'freq_steps_train': 16, 'freq_steps_update_target': 10, 'n_steps_warm_up_memory': 1000, 'n_gradient_steps': 4, 'nn_hidden_layers': [256, 256], 'max_grad_norm': 1, 'normalize_state': True, 'epsilon_start': 0.9, 'epsilon_end': 0.007267712372105509, 'steps_epsilon_decay': 10000, 'seed': 703474809}. Best is trial 11 with value: 328.004.\n"
     ]
    },
    {
     "name": "stdout",
     "output_type": "stream",
     "text": [
      "67,586 parameters\n"
     ]
    },
    {
     "name": "stderr",
     "output_type": "stream",
     "text": [
      "100%|██████████| 100/100 [00:09<00:00, 10.55it/s]\n",
      "100%|██████████| 200/200 [01:01<00:00,  3.24it/s]\n"
     ]
    },
    {
     "name": "stdout",
     "output_type": "stream",
     "text": [
      "Reward mean: 427.47, std: 109.20\n",
      "Num steps mean: 427.47, std: 109.20\n"
     ]
    },
    {
     "name": "stderr",
     "output_type": "stream",
     "text": [
      "100%|██████████| 1000/1000 [01:37<00:00, 10.21it/s]\n",
      "[I 2024-01-04 09:32:29,581] Trial 13 finished with value: 441.309 and parameters: {'learning_rate': 0.00013024923070528954, 'discount_factor': 0.9, 'batch_size': 128, 'memory_size': 100000, 'freq_steps_train': 16, 'freq_steps_update_target': 10, 'n_steps_warm_up_memory': 1000, 'n_gradient_steps': 4, 'nn_hidden_layers': [256, 256], 'max_grad_norm': 1, 'normalize_state': True, 'epsilon_start': 0.9, 'epsilon_end': 0.008540610341255299, 'steps_epsilon_decay': 10000, 'seed': 731232761}. Best is trial 13 with value: 441.309.\n"
     ]
    },
    {
     "name": "stdout",
     "output_type": "stream",
     "text": [
      "67,586 parameters\n"
     ]
    },
    {
     "name": "stderr",
     "output_type": "stream",
     "text": [
      "100%|██████████| 100/100 [00:10<00:00,  9.79it/s]\n",
      "100%|██████████| 200/200 [00:35<00:00,  5.67it/s]\n"
     ]
    },
    {
     "name": "stdout",
     "output_type": "stream",
     "text": [
      "Reward mean: 431.20, std: 76.07\n",
      "Num steps mean: 431.20, std: 76.07\n"
     ]
    },
    {
     "name": "stderr",
     "output_type": "stream",
     "text": [
      "100%|██████████| 1000/1000 [01:36<00:00, 10.33it/s]\n",
      "[I 2024-01-04 09:34:44,230] Trial 14 finished with value: 430.957 and parameters: {'learning_rate': 0.00011560113186394882, 'discount_factor': 0.9, 'batch_size': 128, 'memory_size': 100000, 'freq_steps_train': 16, 'freq_steps_update_target': 10, 'n_steps_warm_up_memory': 1000, 'n_gradient_steps': 4, 'nn_hidden_layers': [256, 256], 'max_grad_norm': 1, 'normalize_state': True, 'epsilon_start': 0.9, 'epsilon_end': 0.00291719421339294, 'steps_epsilon_decay': 10000, 'seed': 896589246}. Best is trial 13 with value: 441.309.\n"
     ]
    },
    {
     "name": "stdout",
     "output_type": "stream",
     "text": [
      "67,586 parameters\n"
     ]
    },
    {
     "name": "stderr",
     "output_type": "stream",
     "text": [
      "100%|██████████| 100/100 [00:01<00:00, 75.04it/s]\n",
      "100%|██████████| 200/200 [00:08<00:00, 23.92it/s]\n"
     ]
    },
    {
     "name": "stdout",
     "output_type": "stream",
     "text": [
      "Reward mean: 61.39, std: 21.82\n",
      "Num steps mean: 61.39, std: 21.82\n"
     ]
    },
    {
     "name": "stderr",
     "output_type": "stream",
     "text": [
      "100%|██████████| 1000/1000 [00:12<00:00, 77.23it/s]\n",
      "[I 2024-01-04 09:35:06,114] Trial 15 finished with value: 59.375 and parameters: {'learning_rate': 7.881687557230613e-05, 'discount_factor': 0.9, 'batch_size': 128, 'memory_size': 100000, 'freq_steps_train': 16, 'freq_steps_update_target': 10, 'n_steps_warm_up_memory': 1000, 'n_gradient_steps': 4, 'nn_hidden_layers': [256, 256], 'max_grad_norm': 1, 'normalize_state': True, 'epsilon_start': 0.9, 'epsilon_end': 0.04446703002719754, 'steps_epsilon_decay': 10000, 'seed': 1021401931}. Best is trial 13 with value: 441.309.\n"
     ]
    },
    {
     "name": "stdout",
     "output_type": "stream",
     "text": [
      "67,586 parameters\n"
     ]
    },
    {
     "name": "stderr",
     "output_type": "stream",
     "text": [
      "100%|██████████| 100/100 [00:00<00:00, 438.22it/s]\n",
      "100%|██████████| 200/200 [00:07<00:00, 27.70it/s]\n"
     ]
    },
    {
     "name": "stdout",
     "output_type": "stream",
     "text": [
      "Reward mean: 9.47, std: 0.74\n",
      "Num steps mean: 9.47, std: 0.74\n"
     ]
    },
    {
     "name": "stderr",
     "output_type": "stream",
     "text": [
      "100%|██████████| 1000/1000 [00:03<00:00, 327.69it/s]\n",
      "[I 2024-01-04 09:35:16,998] Trial 16 finished with value: 9.344 and parameters: {'learning_rate': 7.19278261835675e-05, 'discount_factor': 0.99, 'batch_size': 128, 'memory_size': 50000, 'freq_steps_train': 16, 'freq_steps_update_target': 10, 'n_steps_warm_up_memory': 1000, 'n_gradient_steps': 4, 'nn_hidden_layers': [256, 256], 'max_grad_norm': 1, 'normalize_state': True, 'epsilon_start': 0.9, 'epsilon_end': 0.03829323185892191, 'steps_epsilon_decay': 10000, 'seed': 869089944}. Best is trial 13 with value: 441.309.\n"
     ]
    },
    {
     "name": "stdout",
     "output_type": "stream",
     "text": [
      "67,586 parameters\n"
     ]
    },
    {
     "name": "stderr",
     "output_type": "stream",
     "text": [
      "100%|██████████| 100/100 [00:05<00:00, 16.85it/s]\n",
      "100%|██████████| 200/200 [01:24<00:00,  2.37it/s]\n"
     ]
    },
    {
     "name": "stdout",
     "output_type": "stream",
     "text": [
      "Reward mean: 262.00, std: 125.36\n",
      "Num steps mean: 262.00, std: 125.36\n"
     ]
    },
    {
     "name": "stderr",
     "output_type": "stream",
     "text": [
      "100%|██████████| 1000/1000 [00:56<00:00, 17.75it/s]\n",
      "[I 2024-01-04 09:37:40,419] Trial 17 finished with value: 248.608 and parameters: {'learning_rate': 0.0005681011650895452, 'discount_factor': 0.9, 'batch_size': 128, 'memory_size': 100000, 'freq_steps_train': 16, 'freq_steps_update_target': 10, 'n_steps_warm_up_memory': 1000, 'n_gradient_steps': 16, 'nn_hidden_layers': [256, 256], 'max_grad_norm': 1, 'normalize_state': True, 'epsilon_start': 0.9, 'epsilon_end': 0.06147956914068287, 'steps_epsilon_decay': 10000, 'seed': 871787757}. Best is trial 13 with value: 441.309.\n"
     ]
    },
    {
     "name": "stdout",
     "output_type": "stream",
     "text": [
      "67,586 parameters\n"
     ]
    },
    {
     "name": "stderr",
     "output_type": "stream",
     "text": [
      "100%|██████████| 100/100 [00:00<00:00, 102.06it/s]\n",
      "100%|██████████| 200/200 [00:08<00:00, 23.86it/s]\n"
     ]
    },
    {
     "name": "stdout",
     "output_type": "stream",
     "text": [
      "Reward mean: 43.14, std: 20.11\n",
      "Num steps mean: 43.14, std: 20.11\n"
     ]
    },
    {
     "name": "stderr",
     "output_type": "stream",
     "text": [
      "100%|██████████| 1000/1000 [00:09<00:00, 104.37it/s]\n",
      "[I 2024-01-04 09:37:58,959] Trial 18 finished with value: 43.536 and parameters: {'learning_rate': 7.937023376509404e-05, 'discount_factor': 0.9, 'batch_size': 128, 'memory_size': 100000, 'freq_steps_train': 16, 'freq_steps_update_target': 10, 'n_steps_warm_up_memory': 1000, 'n_gradient_steps': 4, 'nn_hidden_layers': [256, 256], 'max_grad_norm': 1, 'normalize_state': True, 'epsilon_start': 0.9, 'epsilon_end': 0.018675338790243322, 'steps_epsilon_decay': 100000, 'seed': 844739460}. Best is trial 13 with value: 441.309.\n"
     ]
    },
    {
     "name": "stdout",
     "output_type": "stream",
     "text": [
      "67,586 parameters\n"
     ]
    },
    {
     "name": "stderr",
     "output_type": "stream",
     "text": [
      "100%|██████████| 100/100 [00:00<00:00, 475.79it/s]\n",
      "100%|██████████| 200/200 [00:00<00:00, 216.44it/s]\n"
     ]
    },
    {
     "name": "stdout",
     "output_type": "stream",
     "text": [
      "Reward mean: 9.35, std: 0.79\n",
      "Num steps mean: 9.35, std: 0.79\n"
     ]
    },
    {
     "name": "stderr",
     "output_type": "stream",
     "text": [
      "100%|██████████| 1000/1000 [00:02<00:00, 440.37it/s]\n",
      "[I 2024-01-04 09:38:02,716] Trial 19 finished with value: 9.352 and parameters: {'learning_rate': 0.00037486436503445853, 'discount_factor': 0.99, 'batch_size': 128, 'memory_size': 50000, 'freq_steps_train': 8, 'freq_steps_update_target': 1000, 'n_steps_warm_up_memory': 5000, 'n_gradient_steps': 4, 'nn_hidden_layers': [256, 256], 'max_grad_norm': 1, 'normalize_state': True, 'epsilon_start': 0.9, 'epsilon_end': 0.10984611115950696, 'steps_epsilon_decay': 10000, 'seed': 1065777907}. Best is trial 13 with value: 441.309.\n"
     ]
    },
    {
     "name": "stdout",
     "output_type": "stream",
     "text": [
      "67,586 parameters\n"
     ]
    },
    {
     "name": "stderr",
     "output_type": "stream",
     "text": [
      "100%|██████████| 100/100 [00:03<00:00, 32.19it/s]\n",
      "100%|██████████| 200/200 [01:02<00:00,  3.20it/s]\n"
     ]
    },
    {
     "name": "stdout",
     "output_type": "stream",
     "text": [
      "Reward mean: 139.30, std: 16.61\n",
      "Num steps mean: 139.30, std: 16.61\n"
     ]
    },
    {
     "name": "stderr",
     "output_type": "stream",
     "text": [
      "100%|██████████| 1000/1000 [00:30<00:00, 32.26it/s]\n",
      "[I 2024-01-04 09:39:36,786] Trial 20 finished with value: 139.985 and parameters: {'learning_rate': 0.00015154329912102222, 'discount_factor': 0.95, 'batch_size': 32, 'memory_size': 10000, 'freq_steps_train': 16, 'freq_steps_update_target': 100, 'n_steps_warm_up_memory': 1000, 'n_gradient_steps': 16, 'nn_hidden_layers': [256, 256], 'max_grad_norm': 1, 'normalize_state': True, 'epsilon_start': 0.9, 'epsilon_end': 0.025267886150423927, 'steps_epsilon_decay': 10000, 'seed': 590075983}. Best is trial 13 with value: 441.309.\n"
     ]
    },
    {
     "name": "stdout",
     "output_type": "stream",
     "text": [
      "67,586 parameters\n"
     ]
    },
    {
     "name": "stderr",
     "output_type": "stream",
     "text": [
      "100%|██████████| 100/100 [00:00<00:00, 449.98it/s]\n",
      "100%|██████████| 200/200 [00:07<00:00, 26.65it/s]\n"
     ]
    },
    {
     "name": "stdout",
     "output_type": "stream",
     "text": [
      "Reward mean: 9.44, std: 0.86\n",
      "Num steps mean: 9.44, std: 0.86\n"
     ]
    },
    {
     "name": "stderr",
     "output_type": "stream",
     "text": [
      "100%|██████████| 1000/1000 [00:02<00:00, 455.93it/s]\n",
      "[I 2024-01-04 09:39:47,089] Trial 21 finished with value: 9.329 and parameters: {'learning_rate': 4.7220612336818334e-05, 'discount_factor': 0.9, 'batch_size': 128, 'memory_size': 100000, 'freq_steps_train': 16, 'freq_steps_update_target': 10, 'n_steps_warm_up_memory': 1000, 'n_gradient_steps': 4, 'nn_hidden_layers': [256, 256], 'max_grad_norm': 1, 'normalize_state': True, 'epsilon_start': 0.9, 'epsilon_end': 0.05876473137090239, 'steps_epsilon_decay': 100000, 'seed': 775500659}. Best is trial 13 with value: 441.309.\n"
     ]
    },
    {
     "name": "stdout",
     "output_type": "stream",
     "text": [
      "67,586 parameters\n"
     ]
    },
    {
     "name": "stderr",
     "output_type": "stream",
     "text": [
      "100%|██████████| 100/100 [00:07<00:00, 12.67it/s]\n",
      "100%|██████████| 200/200 [00:57<00:00,  3.48it/s]\n"
     ]
    },
    {
     "name": "stdout",
     "output_type": "stream",
     "text": [
      "Reward mean: 262.62, std: 55.63\n",
      "Num steps mean: 262.62, std: 55.63\n"
     ]
    },
    {
     "name": "stderr",
     "output_type": "stream",
     "text": [
      "100%|██████████| 1000/1000 [01:25<00:00, 11.69it/s]\n",
      "[I 2024-01-04 09:42:12,800] Trial 22 finished with value: 259.777 and parameters: {'learning_rate': 0.00021970651620588935, 'discount_factor': 0.9, 'batch_size': 128, 'memory_size': 100000, 'freq_steps_train': 16, 'freq_steps_update_target': 10, 'n_steps_warm_up_memory': 1000, 'n_gradient_steps': 4, 'nn_hidden_layers': [256, 256], 'max_grad_norm': 1, 'normalize_state': True, 'epsilon_start': 0.9, 'epsilon_end': 0.0023421864744907414, 'steps_epsilon_decay': 10000, 'seed': 631397286}. Best is trial 13 with value: 441.309.\n"
     ]
    },
    {
     "name": "stdout",
     "output_type": "stream",
     "text": [
      "67,586 parameters\n"
     ]
    },
    {
     "name": "stderr",
     "output_type": "stream",
     "text": [
      "100%|██████████| 100/100 [00:05<00:00, 17.10it/s]\n",
      "100%|██████████| 200/200 [00:34<00:00,  5.73it/s]\n"
     ]
    },
    {
     "name": "stdout",
     "output_type": "stream",
     "text": [
      "Reward mean: 181.11, std: 15.02\n",
      "Num steps mean: 181.11, std: 15.02\n"
     ]
    },
    {
     "name": "stderr",
     "output_type": "stream",
     "text": [
      "100%|██████████| 1000/1000 [01:00<00:00, 16.49it/s]\n",
      "[I 2024-01-04 09:43:49,215] Trial 23 finished with value: 185.283 and parameters: {'learning_rate': 0.00013568249880359834, 'discount_factor': 0.9, 'batch_size': 128, 'memory_size': 100000, 'freq_steps_train': 16, 'freq_steps_update_target': 10, 'n_steps_warm_up_memory': 1000, 'n_gradient_steps': 4, 'nn_hidden_layers': [256, 256], 'max_grad_norm': 1, 'normalize_state': True, 'epsilon_start': 0.9, 'epsilon_end': 0.00036996991641135863, 'steps_epsilon_decay': 10000, 'seed': 927218856}. Best is trial 13 with value: 441.309.\n"
     ]
    },
    {
     "name": "stdout",
     "output_type": "stream",
     "text": [
      "67,586 parameters\n"
     ]
    },
    {
     "name": "stderr",
     "output_type": "stream",
     "text": [
      "100%|██████████| 100/100 [00:11<00:00,  8.95it/s]\n",
      "100%|██████████| 200/200 [01:35<00:00,  2.08it/s]\n"
     ]
    },
    {
     "name": "stdout",
     "output_type": "stream",
     "text": [
      "Reward mean: 259.89, std: 76.00\n",
      "Num steps mean: 259.89, std: 76.00\n"
     ]
    },
    {
     "name": "stderr",
     "output_type": "stream",
     "text": [
      "100%|██████████| 1000/1000 [02:10<00:00,  7.65it/s]\n",
      "[I 2024-01-04 09:47:38,984] Trial 24 finished with value: 267.305 and parameters: {'learning_rate': 0.000487906771451841, 'discount_factor': 0.9, 'batch_size': 128, 'memory_size': 100000, 'freq_steps_train': 16, 'freq_steps_update_target': 10, 'n_steps_warm_up_memory': 1000, 'n_gradient_steps': 4, 'nn_hidden_layers': [256, 256], 'max_grad_norm': 1, 'normalize_state': True, 'epsilon_start': 0.9, 'epsilon_end': 0.022096550002574294, 'steps_epsilon_decay': 10000, 'seed': 423891254}. Best is trial 13 with value: 441.309.\n"
     ]
    },
    {
     "name": "stdout",
     "output_type": "stream",
     "text": [
      "67,586 parameters\n"
     ]
    },
    {
     "name": "stderr",
     "output_type": "stream",
     "text": [
      "100%|██████████| 100/100 [00:08<00:00, 11.57it/s]\n",
      "100%|██████████| 200/200 [01:33<00:00,  2.14it/s]\n"
     ]
    },
    {
     "name": "stdout",
     "output_type": "stream",
     "text": [
      "Reward mean: 188.58, std: 57.07\n",
      "Num steps mean: 188.58, std: 57.07\n"
     ]
    },
    {
     "name": "stderr",
     "output_type": "stream",
     "text": [
      "100%|██████████| 1000/1000 [01:25<00:00, 11.73it/s]\n",
      "[I 2024-01-04 09:50:41,255] Trial 25 finished with value: 188.045 and parameters: {'learning_rate': 0.00028810311434594466, 'discount_factor': 0.9, 'batch_size': 128, 'memory_size': 100000, 'freq_steps_train': 16, 'freq_steps_update_target': 10, 'n_steps_warm_up_memory': 1000, 'n_gradient_steps': 4, 'nn_hidden_layers': [256, 256], 'max_grad_norm': 1, 'normalize_state': True, 'epsilon_start': 0.9, 'epsilon_end': 0.01770823445306894, 'steps_epsilon_decay': 10000, 'seed': 781340614}. Best is trial 13 with value: 441.309.\n"
     ]
    },
    {
     "name": "stdout",
     "output_type": "stream",
     "text": [
      "67,586 parameters\n"
     ]
    },
    {
     "name": "stderr",
     "output_type": "stream",
     "text": [
      "100%|██████████| 100/100 [00:24<00:00,  4.02it/s]\n",
      "100%|██████████| 200/200 [03:05<00:00,  1.08it/s]\n"
     ]
    },
    {
     "name": "stdout",
     "output_type": "stream",
     "text": [
      "Reward mean: 449.32, std: 88.03\n",
      "Num steps mean: 449.32, std: 88.03\n"
     ]
    },
    {
     "name": "stderr",
     "output_type": "stream",
     "text": [
      "100%|██████████| 1000/1000 [03:49<00:00,  4.36it/s]\n",
      "[I 2024-01-04 09:57:39,604] Trial 26 finished with value: 478.654 and parameters: {'learning_rate': 0.0008453622125282605, 'discount_factor': 0.9, 'batch_size': 128, 'memory_size': 100000, 'freq_steps_train': 16, 'freq_steps_update_target': 10, 'n_steps_warm_up_memory': 1000, 'n_gradient_steps': 4, 'nn_hidden_layers': [256, 256], 'max_grad_norm': 1, 'normalize_state': True, 'epsilon_start': 0.9, 'epsilon_end': 0.04596223340145325, 'steps_epsilon_decay': 10000, 'seed': 586413845}. Best is trial 26 with value: 478.654.\n"
     ]
    },
    {
     "name": "stdout",
     "output_type": "stream",
     "text": [
      "67,586 parameters\n"
     ]
    },
    {
     "name": "stderr",
     "output_type": "stream",
     "text": [
      "100%|██████████| 100/100 [00:00<00:00, 183.60it/s]\n",
      "100%|██████████| 200/200 [00:01<00:00, 120.89it/s]\n"
     ]
    },
    {
     "name": "stdout",
     "output_type": "stream",
     "text": [
      "Reward mean: 15.06, std: 1.18\n",
      "Num steps mean: 15.06, std: 1.18\n"
     ]
    },
    {
     "name": "stderr",
     "output_type": "stream",
     "text": [
      "100%|██████████| 1000/1000 [00:07<00:00, 127.41it/s]\n",
      "[I 2024-01-04 09:57:50,180] Trial 27 finished with value: 15.215 and parameters: {'learning_rate': 0.0008912610078750077, 'discount_factor': 0.9, 'batch_size': 128, 'memory_size': 100000, 'freq_steps_train': 8, 'freq_steps_update_target': 10, 'n_steps_warm_up_memory': 5000, 'n_gradient_steps': 4, 'nn_hidden_layers': [256, 256], 'max_grad_norm': 10, 'normalize_state': True, 'epsilon_start': 0.9, 'epsilon_end': 0.050519530975243435, 'steps_epsilon_decay': 10000, 'seed': 558736222}. Best is trial 26 with value: 478.654.\n"
     ]
    },
    {
     "name": "stdout",
     "output_type": "stream",
     "text": [
      "67,586 parameters\n"
     ]
    },
    {
     "name": "stderr",
     "output_type": "stream",
     "text": [
      "100%|██████████| 100/100 [00:00<00:00, 212.62it/s]\n",
      "100%|██████████| 200/200 [00:02<00:00, 73.14it/s]\n"
     ]
    },
    {
     "name": "stdout",
     "output_type": "stream",
     "text": [
      "Reward mean: 9.86, std: 0.51\n",
      "Num steps mean: 9.86, std: 0.51\n"
     ]
    },
    {
     "name": "stderr",
     "output_type": "stream",
     "text": [
      "100%|██████████| 1000/1000 [00:04<00:00, 234.45it/s]\n",
      "[I 2024-01-04 09:57:58,501] Trial 28 finished with value: 9.913 and parameters: {'learning_rate': 0.0018337273569343495, 'discount_factor': 0.9, 'batch_size': 32, 'memory_size': 100000, 'freq_steps_train': 256, 'freq_steps_update_target': 10, 'n_steps_warm_up_memory': 1000, 'n_gradient_steps': 4, 'nn_hidden_layers': [256, 256], 'max_grad_norm': 1, 'normalize_state': True, 'epsilon_start': 0.9, 'epsilon_end': 0.07632006857763195, 'steps_epsilon_decay': 10000, 'seed': 368637326}. Best is trial 26 with value: 478.654.\n"
     ]
    },
    {
     "name": "stdout",
     "output_type": "stream",
     "text": [
      "67,586 parameters\n"
     ]
    },
    {
     "name": "stderr",
     "output_type": "stream",
     "text": [
      "100%|██████████| 100/100 [00:00<00:00, 262.93it/s]\n",
      "100%|██████████| 200/200 [00:04<00:00, 46.74it/s]\n"
     ]
    },
    {
     "name": "stdout",
     "output_type": "stream",
     "text": [
      "Reward mean: 9.40, std: 0.68\n",
      "Num steps mean: 9.40, std: 0.68\n"
     ]
    },
    {
     "name": "stderr",
     "output_type": "stream",
     "text": [
      "100%|██████████| 1000/1000 [00:03<00:00, 275.21it/s]\n",
      "[I 2024-01-04 09:58:07,679] Trial 29 finished with value: 9.337 and parameters: {'learning_rate': 0.00011742391009786517, 'discount_factor': 0.99, 'batch_size': 16, 'memory_size': 50000, 'freq_steps_train': 128, 'freq_steps_update_target': 1000, 'n_steps_warm_up_memory': 1000, 'n_gradient_steps': 16, 'nn_hidden_layers': [256, 256], 'max_grad_norm': 1, 'normalize_state': True, 'epsilon_start': 0.9, 'epsilon_end': 0.03391772335702131, 'steps_epsilon_decay': 100000, 'seed': 949875774}. Best is trial 26 with value: 478.654.\n"
     ]
    },
    {
     "name": "stdout",
     "output_type": "stream",
     "text": [
      "67,586 parameters\n"
     ]
    },
    {
     "name": "stderr",
     "output_type": "stream",
     "text": [
      "100%|██████████| 100/100 [00:00<00:00, 355.56it/s]\n",
      "100%|██████████| 200/200 [00:01<00:00, 146.80it/s]\n"
     ]
    },
    {
     "name": "stdout",
     "output_type": "stream",
     "text": [
      "Reward mean: 9.36, std: 0.88\n",
      "Num steps mean: 9.36, std: 0.88\n"
     ]
    },
    {
     "name": "stderr",
     "output_type": "stream",
     "text": [
      "100%|██████████| 1000/1000 [00:02<00:00, 351.01it/s]\n",
      "[I 2024-01-04 09:58:12,963] Trial 30 finished with value: 9.376 and parameters: {'learning_rate': 3.705845737135342e-05, 'discount_factor': 0.95, 'batch_size': 16, 'memory_size': 10000, 'freq_steps_train': 16, 'freq_steps_update_target': 100, 'n_steps_warm_up_memory': 5000, 'n_gradient_steps': 1, 'nn_hidden_layers': [256, 256], 'max_grad_norm': 10, 'normalize_state': True, 'epsilon_start': 0.9, 'epsilon_end': 0.09811201062280892, 'steps_epsilon_decay': 10000, 'seed': 260347546}. Best is trial 26 with value: 478.654.\n"
     ]
    },
    {
     "name": "stdout",
     "output_type": "stream",
     "text": [
      "67,586 parameters\n"
     ]
    },
    {
     "name": "stderr",
     "output_type": "stream",
     "text": [
      "100%|██████████| 100/100 [00:00<00:00, 333.12it/s]\n",
      "100%|██████████| 200/200 [00:12<00:00, 15.75it/s]\n"
     ]
    },
    {
     "name": "stdout",
     "output_type": "stream",
     "text": [
      "Reward mean: 9.48, std: 0.77\n",
      "Num steps mean: 9.48, std: 0.77\n"
     ]
    },
    {
     "name": "stderr",
     "output_type": "stream",
     "text": [
      "100%|██████████| 1000/1000 [00:03<00:00, 295.69it/s]\n",
      "[I 2024-01-04 09:58:30,077] Trial 31 finished with value: 9.354 and parameters: {'learning_rate': 0.009664674167416178, 'discount_factor': 0.99, 'batch_size': 128, 'memory_size': 50000, 'freq_steps_train': 16, 'freq_steps_update_target': 1000, 'n_steps_warm_up_memory': 1000, 'n_gradient_steps': 4, 'nn_hidden_layers': [256, 256], 'max_grad_norm': 1, 'normalize_state': True, 'epsilon_start': 0.9, 'epsilon_end': 0.05232719300777089, 'steps_epsilon_decay': 100000, 'seed': 747985117}. Best is trial 26 with value: 478.654.\n"
     ]
    },
    {
     "name": "stdout",
     "output_type": "stream",
     "text": [
      "67,586 parameters\n"
     ]
    },
    {
     "name": "stderr",
     "output_type": "stream",
     "text": [
      "100%|██████████| 100/100 [00:09<00:00, 10.29it/s]\n",
      "100%|██████████| 200/200 [01:48<00:00,  1.84it/s]\n"
     ]
    },
    {
     "name": "stdout",
     "output_type": "stream",
     "text": [
      "Reward mean: 264.12, std: 30.92\n",
      "Num steps mean: 264.12, std: 30.92\n"
     ]
    },
    {
     "name": "stderr",
     "output_type": "stream",
     "text": [
      "100%|██████████| 1000/1000 [01:56<00:00,  8.61it/s]\n",
      "[I 2024-01-04 10:02:17,934] Trial 32 finished with value: 261.423 and parameters: {'learning_rate': 0.00026841016421595037, 'discount_factor': 0.9, 'batch_size': 128, 'memory_size': 100000, 'freq_steps_train': 16, 'freq_steps_update_target': 10, 'n_steps_warm_up_memory': 1000, 'n_gradient_steps': 4, 'nn_hidden_layers': [256, 256], 'max_grad_norm': 1, 'normalize_state': True, 'epsilon_start': 0.9, 'epsilon_end': 0.006835962619893904, 'steps_epsilon_decay': 10000, 'seed': 601332622}. Best is trial 26 with value: 478.654.\n"
     ]
    },
    {
     "name": "stdout",
     "output_type": "stream",
     "text": [
      "67,586 parameters\n"
     ]
    },
    {
     "name": "stderr",
     "output_type": "stream",
     "text": [
      "100%|██████████| 100/100 [00:23<00:00,  4.19it/s]\n",
      "100%|██████████| 200/200 [02:50<00:00,  1.17it/s]\n"
     ]
    },
    {
     "name": "stdout",
     "output_type": "stream",
     "text": [
      "Reward mean: 458.17, std: 71.53\n",
      "Num steps mean: 458.17, std: 71.53\n"
     ]
    },
    {
     "name": "stderr",
     "output_type": "stream",
     "text": [
      "100%|██████████| 1000/1000 [03:48<00:00,  4.38it/s]\n",
      "[I 2024-01-04 10:09:00,667] Trial 33 finished with value: 454.443 and parameters: {'learning_rate': 0.0005224993821016904, 'discount_factor': 0.9, 'batch_size': 128, 'memory_size': 100000, 'freq_steps_train': 16, 'freq_steps_update_target': 10, 'n_steps_warm_up_memory': 1000, 'n_gradient_steps': 4, 'nn_hidden_layers': [256, 256], 'max_grad_norm': 1, 'normalize_state': True, 'epsilon_start': 0.9, 'epsilon_end': 0.015525414894860787, 'steps_epsilon_decay': 10000, 'seed': 658126516}. Best is trial 26 with value: 478.654.\n"
     ]
    },
    {
     "name": "stdout",
     "output_type": "stream",
     "text": [
      "67,586 parameters\n"
     ]
    },
    {
     "name": "stderr",
     "output_type": "stream",
     "text": [
      "100%|██████████| 100/100 [00:04<00:00, 22.15it/s]\n",
      "100%|██████████| 200/200 [01:56<00:00,  1.71it/s]\n"
     ]
    },
    {
     "name": "stdout",
     "output_type": "stream",
     "text": [
      "Reward mean: 107.83, std: 3.24\n",
      "Num steps mean: 107.83, std: 3.24\n"
     ]
    },
    {
     "name": "stderr",
     "output_type": "stream",
     "text": [
      "100%|██████████| 1000/1000 [00:55<00:00, 17.87it/s]\n",
      "[I 2024-01-04 10:11:56,883] Trial 34 finished with value: 108.339 and parameters: {'learning_rate': 0.000603945635532587, 'discount_factor': 0.9, 'batch_size': 128, 'memory_size': 100000, 'freq_steps_train': 16, 'freq_steps_update_target': 10, 'n_steps_warm_up_memory': 1000, 'n_gradient_steps': 4, 'nn_hidden_layers': [256, 256], 'max_grad_norm': 1, 'normalize_state': True, 'epsilon_start': 0.9, 'epsilon_end': 0.022548906587646203, 'steps_epsilon_decay': 10000, 'seed': 808675979}. Best is trial 26 with value: 478.654.\n"
     ]
    },
    {
     "name": "stdout",
     "output_type": "stream",
     "text": [
      "67,586 parameters\n"
     ]
    },
    {
     "name": "stderr",
     "output_type": "stream",
     "text": [
      "100%|██████████| 100/100 [00:03<00:00, 25.11it/s]\n",
      "100%|██████████| 200/200 [01:25<00:00,  2.35it/s]\n"
     ]
    },
    {
     "name": "stdout",
     "output_type": "stream",
     "text": [
      "Reward mean: 103.94, std: 3.80\n",
      "Num steps mean: 103.94, std: 3.80\n"
     ]
    },
    {
     "name": "stderr",
     "output_type": "stream",
     "text": [
      "100%|██████████| 1000/1000 [00:49<00:00, 20.29it/s]\n",
      "[I 2024-01-04 10:14:14,942] Trial 35 finished with value: 103.847 and parameters: {'learning_rate': 0.0013868353355669832, 'discount_factor': 0.9, 'batch_size': 16, 'memory_size': 100000, 'freq_steps_train': 8, 'freq_steps_update_target': 10, 'n_steps_warm_up_memory': 1000, 'n_gradient_steps': 4, 'nn_hidden_layers': [256, 256], 'max_grad_norm': 1, 'normalize_state': True, 'epsilon_start': 0.9, 'epsilon_end': 0.029696979133595702, 'steps_epsilon_decay': 10000, 'seed': 518841226}. Best is trial 26 with value: 478.654.\n"
     ]
    },
    {
     "name": "stdout",
     "output_type": "stream",
     "text": [
      "67,586 parameters\n"
     ]
    },
    {
     "name": "stderr",
     "output_type": "stream",
     "text": [
      "100%|██████████| 100/100 [00:00<00:00, 169.52it/s]\n",
      "100%|██████████| 200/200 [00:09<00:00, 22.18it/s]\n"
     ]
    },
    {
     "name": "stdout",
     "output_type": "stream",
     "text": [
      "Reward mean: 9.50, std: 0.78\n",
      "Num steps mean: 9.50, std: 0.78\n"
     ]
    },
    {
     "name": "stderr",
     "output_type": "stream",
     "text": [
      "100%|██████████| 1000/1000 [00:05<00:00, 194.81it/s]\n",
      "[I 2024-01-04 10:14:30,310] Trial 36 finished with value: 9.339 and parameters: {'learning_rate': 0.00042737559219285613, 'discount_factor': 0.9, 'batch_size': 128, 'memory_size': 100000, 'freq_steps_train': 16, 'freq_steps_update_target': 100, 'n_steps_warm_up_memory': 1000, 'n_gradient_steps': 4, 'nn_hidden_layers': [256, 256], 'max_grad_norm': 1, 'normalize_state': True, 'epsilon_start': 0.9, 'epsilon_end': 0.014611592087970662, 'steps_epsilon_decay': 1000, 'seed': 947645851}. Best is trial 26 with value: 478.654.\n"
     ]
    },
    {
     "name": "stdout",
     "output_type": "stream",
     "text": [
      "67,586 parameters\n"
     ]
    },
    {
     "name": "stderr",
     "output_type": "stream",
     "text": [
      "100%|██████████| 100/100 [00:00<00:00, 174.85it/s]\n",
      "100%|██████████| 200/200 [00:02<00:00, 77.18it/s] \n"
     ]
    },
    {
     "name": "stdout",
     "output_type": "stream",
     "text": [
      "Reward mean: 9.45, std: 0.80\n",
      "Num steps mean: 9.45, std: 0.80\n"
     ]
    },
    {
     "name": "stderr",
     "output_type": "stream",
     "text": [
      "100%|██████████| 1000/1000 [00:05<00:00, 196.82it/s]\n",
      "[I 2024-01-04 10:14:38,991] Trial 37 finished with value: 9.359 and parameters: {'learning_rate': 0.0007380570113086566, 'discount_factor': 0.9, 'batch_size': 128, 'memory_size': 100000, 'freq_steps_train': 256, 'freq_steps_update_target': 10, 'n_steps_warm_up_memory': 1000, 'n_gradient_steps': 1, 'nn_hidden_layers': [256, 256], 'max_grad_norm': 1, 'normalize_state': False, 'epsilon_start': 0.9, 'epsilon_end': 0.04294311201233621, 'steps_epsilon_decay': 10000, 'seed': 730983322}. Best is trial 26 with value: 478.654.\n"
     ]
    },
    {
     "name": "stdout",
     "output_type": "stream",
     "text": [
      "67,586 parameters\n"
     ]
    },
    {
     "name": "stderr",
     "output_type": "stream",
     "text": [
      "100%|██████████| 100/100 [00:05<00:00, 18.67it/s]\n",
      "100%|██████████| 200/200 [01:07<00:00,  2.95it/s]\n"
     ]
    },
    {
     "name": "stdout",
     "output_type": "stream",
     "text": [
      "Reward mean: 101.17, std: 2.13\n",
      "Num steps mean: 101.17, std: 2.13\n"
     ]
    },
    {
     "name": "stderr",
     "output_type": "stream",
     "text": [
      "100%|██████████| 1000/1000 [01:02<00:00, 15.91it/s]\n",
      "[I 2024-01-04 10:16:51,301] Trial 38 finished with value: 101.496 and parameters: {'learning_rate': 0.001915753106570744, 'discount_factor': 0.9, 'batch_size': 64, 'memory_size': 10000, 'freq_steps_train': 16, 'freq_steps_update_target': 10, 'n_steps_warm_up_memory': 1000, 'n_gradient_steps': 4, 'nn_hidden_layers': [256, 256], 'max_grad_norm': 10, 'normalize_state': True, 'epsilon_start': 0.9, 'epsilon_end': 0.07772078819255085, 'steps_epsilon_decay': 10000, 'seed': 620817558}. Best is trial 26 with value: 478.654.\n"
     ]
    },
    {
     "name": "stdout",
     "output_type": "stream",
     "text": [
      "67,586 parameters\n"
     ]
    },
    {
     "name": "stderr",
     "output_type": "stream",
     "text": [
      "100%|██████████| 100/100 [00:00<00:00, 151.41it/s]\n",
      "100%|██████████| 200/200 [00:03<00:00, 64.03it/s]\n"
     ]
    },
    {
     "name": "stdout",
     "output_type": "stream",
     "text": [
      "Reward mean: 9.53, std: 0.79\n",
      "Num steps mean: 9.53, std: 0.79\n"
     ]
    },
    {
     "name": "stderr",
     "output_type": "stream",
     "text": [
      "100%|██████████| 1000/1000 [00:08<00:00, 124.05it/s]\n",
      "[I 2024-01-04 10:17:04,212] Trial 39 finished with value: 9.37 and parameters: {'learning_rate': 5.5567383811781326e-05, 'discount_factor': 0.9, 'batch_size': 16, 'memory_size': 50000, 'freq_steps_train': 128, 'freq_steps_update_target': 10, 'n_steps_warm_up_memory': 5000, 'n_gradient_steps': 1, 'nn_hidden_layers': [256, 256], 'max_grad_norm': 1, 'normalize_state': True, 'epsilon_start': 0.9, 'epsilon_end': 0.013478877012571031, 'steps_epsilon_decay': 1000, 'seed': 459942411}. Best is trial 26 with value: 478.654.\n"
     ]
    },
    {
     "name": "stdout",
     "output_type": "stream",
     "text": [
      "67,586 parameters\n"
     ]
    },
    {
     "name": "stderr",
     "output_type": "stream",
     "text": [
      "100%|██████████| 100/100 [00:00<00:00, 224.91it/s]\n",
      "100%|██████████| 200/200 [00:37<00:00,  5.28it/s]\n"
     ]
    },
    {
     "name": "stdout",
     "output_type": "stream",
     "text": [
      "Reward mean: 9.36, std: 0.81\n",
      "Num steps mean: 9.36, std: 0.81\n"
     ]
    },
    {
     "name": "stderr",
     "output_type": "stream",
     "text": [
      "100%|██████████| 1000/1000 [00:07<00:00, 141.58it/s]\n",
      "[I 2024-01-04 10:17:50,501] Trial 40 finished with value: 9.36 and parameters: {'learning_rate': 2.5461809527955167e-05, 'discount_factor': 0.95, 'batch_size': 128, 'memory_size': 100000, 'freq_steps_train': 8, 'freq_steps_update_target': 100, 'n_steps_warm_up_memory': 1000, 'n_gradient_steps': 4, 'nn_hidden_layers': [256, 256], 'max_grad_norm': 10, 'normalize_state': False, 'epsilon_start': 0.9, 'epsilon_end': 0.03122041426638364, 'steps_epsilon_decay': 100000, 'seed': 296555659}. Best is trial 26 with value: 478.654.\n"
     ]
    },
    {
     "name": "stdout",
     "output_type": "stream",
     "text": [
      "67,586 parameters\n"
     ]
    },
    {
     "name": "stderr",
     "output_type": "stream",
     "text": [
      "100%|██████████| 100/100 [00:00<00:00, 278.50it/s]\n",
      "100%|██████████| 200/200 [00:04<00:00, 42.31it/s]\n"
     ]
    },
    {
     "name": "stdout",
     "output_type": "stream",
     "text": [
      "Reward mean: 9.56, std: 0.96\n",
      "Num steps mean: 9.56, std: 0.96\n"
     ]
    },
    {
     "name": "stderr",
     "output_type": "stream",
     "text": [
      "100%|██████████| 1000/1000 [00:03<00:00, 285.79it/s]\n",
      "[I 2024-01-04 10:17:59,864] Trial 41 finished with value: 9.423 and parameters: {'learning_rate': 0.00010288452242902013, 'discount_factor': 0.9, 'batch_size': 64, 'memory_size': 100000, 'freq_steps_train': 256, 'freq_steps_update_target': 1000, 'n_steps_warm_up_memory': 1000, 'n_gradient_steps': 16, 'nn_hidden_layers': [256, 256], 'max_grad_norm': 1, 'normalize_state': False, 'epsilon_start': 0.9, 'epsilon_end': 0.09243399209289885, 'steps_epsilon_decay': 10000, 'seed': 45759395}. Best is trial 26 with value: 478.654.\n"
     ]
    },
    {
     "name": "stdout",
     "output_type": "stream",
     "text": [
      "67,586 parameters\n"
     ]
    },
    {
     "name": "stderr",
     "output_type": "stream",
     "text": [
      "100%|██████████| 100/100 [00:12<00:00,  8.18it/s]\n",
      "100%|██████████| 200/200 [02:39<00:00,  1.25it/s]\n"
     ]
    },
    {
     "name": "stdout",
     "output_type": "stream",
     "text": [
      "Reward mean: 384.28, std: 96.08\n",
      "Num steps mean: 384.28, std: 96.08\n"
     ]
    },
    {
     "name": "stderr",
     "output_type": "stream",
     "text": [
      "100%|██████████| 1000/1000 [02:56<00:00,  5.67it/s]\n",
      "[I 2024-01-04 10:23:39,388] Trial 42 finished with value: 389.996 and parameters: {'learning_rate': 0.00019656072073802376, 'discount_factor': 0.9, 'batch_size': 128, 'memory_size': 100000, 'freq_steps_train': 16, 'freq_steps_update_target': 10, 'n_steps_warm_up_memory': 1000, 'n_gradient_steps': 4, 'nn_hidden_layers': [256, 256], 'max_grad_norm': 1, 'normalize_state': True, 'epsilon_start': 0.9, 'epsilon_end': 0.010055999096143435, 'steps_epsilon_decay': 10000, 'seed': 680272727}. Best is trial 26 with value: 478.654.\n"
     ]
    },
    {
     "name": "stdout",
     "output_type": "stream",
     "text": [
      "67,586 parameters\n"
     ]
    },
    {
     "name": "stderr",
     "output_type": "stream",
     "text": [
      "100%|██████████| 100/100 [00:13<00:00,  7.46it/s]\n",
      "100%|██████████| 200/200 [01:33<00:00,  2.14it/s]\n"
     ]
    },
    {
     "name": "stdout",
     "output_type": "stream",
     "text": [
      "Reward mean: 500.00, std: 0.00\n",
      "Num steps mean: 500.00, std: 0.00\n"
     ]
    },
    {
     "name": "stderr",
     "output_type": "stream",
     "text": [
      "100%|██████████| 1000/1000 [02:22<00:00,  7.02it/s]\n",
      "[I 2024-01-04 10:27:38,721] Trial 43 finished with value: 499.692 and parameters: {'learning_rate': 0.000350479345193672, 'discount_factor': 0.9, 'batch_size': 128, 'memory_size': 100000, 'freq_steps_train': 16, 'freq_steps_update_target': 10, 'n_steps_warm_up_memory': 1000, 'n_gradient_steps': 4, 'nn_hidden_layers': [256, 256], 'max_grad_norm': 1, 'normalize_state': True, 'epsilon_start': 0.9, 'epsilon_end': 0.012238914745229198, 'steps_epsilon_decay': 10000, 'seed': 679251580}. Best is trial 43 with value: 499.692.\n"
     ]
    },
    {
     "name": "stdout",
     "output_type": "stream",
     "text": [
      "67,586 parameters\n"
     ]
    },
    {
     "name": "stderr",
     "output_type": "stream",
     "text": [
      "100%|██████████| 100/100 [00:03<00:00, 25.44it/s]\n",
      "100%|██████████| 200/200 [00:57<00:00,  3.46it/s]\n"
     ]
    },
    {
     "name": "stdout",
     "output_type": "stream",
     "text": [
      "Reward mean: 130.49, std: 31.40\n",
      "Num steps mean: 130.49, std: 31.40\n"
     ]
    },
    {
     "name": "stderr",
     "output_type": "stream",
     "text": [
      "100%|██████████| 1000/1000 [00:41<00:00, 24.10it/s]\n",
      "[I 2024-01-04 10:29:18,680] Trial 44 finished with value: 130.153 and parameters: {'learning_rate': 0.00036009023091829146, 'discount_factor': 0.9, 'batch_size': 128, 'memory_size': 100000, 'freq_steps_train': 16, 'freq_steps_update_target': 10, 'n_steps_warm_up_memory': 1000, 'n_gradient_steps': 4, 'nn_hidden_layers': [256, 256], 'max_grad_norm': 1, 'normalize_state': True, 'epsilon_start': 0.9, 'epsilon_end': 0.028249665605553365, 'steps_epsilon_decay': 10000, 'seed': 555319435}. Best is trial 43 with value: 499.692.\n"
     ]
    },
    {
     "name": "stdout",
     "output_type": "stream",
     "text": [
      "67,586 parameters\n"
     ]
    },
    {
     "name": "stderr",
     "output_type": "stream",
     "text": [
      "100%|██████████| 100/100 [00:04<00:00, 24.31it/s]\n",
      "100%|██████████| 200/200 [00:28<00:00,  7.01it/s]\n"
     ]
    },
    {
     "name": "stdout",
     "output_type": "stream",
     "text": [
      "Reward mean: 121.45, std: 3.03\n",
      "Num steps mean: 121.45, std: 3.03\n"
     ]
    },
    {
     "name": "stderr",
     "output_type": "stream",
     "text": [
      "100%|██████████| 1000/1000 [00:37<00:00, 26.62it/s]\n",
      "[I 2024-01-04 10:30:25,572] Trial 45 finished with value: 121.58 and parameters: {'learning_rate': 0.0007108929031568098, 'discount_factor': 0.9, 'batch_size': 32, 'memory_size': 100000, 'freq_steps_train': 16, 'freq_steps_update_target': 10, 'n_steps_warm_up_memory': 1000, 'n_gradient_steps': 4, 'nn_hidden_layers': [256, 256], 'max_grad_norm': 1, 'normalize_state': True, 'epsilon_start': 0.9, 'epsilon_end': 0.1174263361330768, 'steps_epsilon_decay': 10000, 'seed': 811303055}. Best is trial 43 with value: 499.692.\n"
     ]
    },
    {
     "name": "stdout",
     "output_type": "stream",
     "text": [
      "67,586 parameters\n"
     ]
    },
    {
     "name": "stderr",
     "output_type": "stream",
     "text": [
      "100%|██████████| 100/100 [00:00<00:00, 257.70it/s]\n",
      "100%|██████████| 200/200 [00:05<00:00, 38.62it/s]\n"
     ]
    },
    {
     "name": "stdout",
     "output_type": "stream",
     "text": [
      "Reward mean: 13.03, std: 6.59\n",
      "Num steps mean: 13.03, std: 6.59\n"
     ]
    },
    {
     "name": "stderr",
     "output_type": "stream",
     "text": [
      "100%|██████████| 1000/1000 [00:04<00:00, 237.16it/s]\n",
      "[I 2024-01-04 10:30:35,746] Trial 46 finished with value: 12.558 and parameters: {'learning_rate': 0.0002684198501687024, 'discount_factor': 0.9, 'batch_size': 128, 'memory_size': 100000, 'freq_steps_train': 16, 'freq_steps_update_target': 10, 'n_steps_warm_up_memory': 1000, 'n_gradient_steps': 4, 'nn_hidden_layers': [256, 256], 'max_grad_norm': 1, 'normalize_state': True, 'epsilon_start': 0.9, 'epsilon_end': 0.0014805476395604467, 'steps_epsilon_decay': 1000, 'seed': 648904365}. Best is trial 43 with value: 499.692.\n"
     ]
    },
    {
     "name": "stdout",
     "output_type": "stream",
     "text": [
      "67,586 parameters\n"
     ]
    },
    {
     "name": "stderr",
     "output_type": "stream",
     "text": [
      "100%|██████████| 100/100 [00:00<00:00, 264.85it/s]\n",
      "100%|██████████| 200/200 [00:01<00:00, 137.96it/s]\n"
     ]
    },
    {
     "name": "stdout",
     "output_type": "stream",
     "text": [
      "Reward mean: 9.62, std: 1.53\n",
      "Num steps mean: 9.62, std: 1.53\n"
     ]
    },
    {
     "name": "stderr",
     "output_type": "stream",
     "text": [
      "100%|██████████| 1000/1000 [00:03<00:00, 320.54it/s]\n",
      "[I 2024-01-04 10:30:41,152] Trial 47 finished with value: 9.742 and parameters: {'learning_rate': 0.0012973687496300307, 'discount_factor': 0.9, 'batch_size': 128, 'memory_size': 10000, 'freq_steps_train': 128, 'freq_steps_update_target': 10, 'n_steps_warm_up_memory': 5000, 'n_gradient_steps': 4, 'nn_hidden_layers': [256, 256], 'max_grad_norm': 1, 'normalize_state': True, 'epsilon_start': 0.9, 'epsilon_end': 0.0396175427860838, 'steps_epsilon_decay': 10000, 'seed': 704373049}. Best is trial 43 with value: 499.692.\n"
     ]
    },
    {
     "name": "stdout",
     "output_type": "stream",
     "text": [
      "67,586 parameters\n"
     ]
    },
    {
     "name": "stderr",
     "output_type": "stream",
     "text": [
      "100%|██████████| 100/100 [00:00<00:00, 345.67it/s]\n",
      "100%|██████████| 200/200 [00:03<00:00, 59.14it/s]\n"
     ]
    },
    {
     "name": "stdout",
     "output_type": "stream",
     "text": [
      "Reward mean: 9.37, std: 0.76\n",
      "Num steps mean: 9.37, std: 0.76\n"
     ]
    },
    {
     "name": "stderr",
     "output_type": "stream",
     "text": [
      "100%|██████████| 1000/1000 [00:02<00:00, 343.32it/s]\n",
      "[I 2024-01-04 10:30:47,972] Trial 48 finished with value: 9.387 and parameters: {'learning_rate': 1.4304644172070786e-05, 'discount_factor': 0.95, 'batch_size': 128, 'memory_size': 100000, 'freq_steps_train': 16, 'freq_steps_update_target': 10, 'n_steps_warm_up_memory': 1000, 'n_gradient_steps': 1, 'nn_hidden_layers': [256, 256], 'max_grad_norm': 1, 'normalize_state': False, 'epsilon_start': 0.9, 'epsilon_end': 0.013472159391641064, 'steps_epsilon_decay': 10000, 'seed': 892223543}. Best is trial 43 with value: 499.692.\n"
     ]
    },
    {
     "name": "stdout",
     "output_type": "stream",
     "text": [
      "67,586 parameters\n"
     ]
    },
    {
     "name": "stderr",
     "output_type": "stream",
     "text": [
      "100%|██████████| 100/100 [00:00<00:00, 340.71it/s]\n",
      "100%|██████████| 200/200 [00:07<00:00, 25.19it/s]\n"
     ]
    },
    {
     "name": "stdout",
     "output_type": "stream",
     "text": [
      "Reward mean: 9.55, std: 1.82\n",
      "Num steps mean: 9.55, std: 1.82\n"
     ]
    },
    {
     "name": "stderr",
     "output_type": "stream",
     "text": [
      "100%|██████████| 1000/1000 [00:02<00:00, 344.45it/s]\n",
      "[I 2024-01-04 10:30:59,629] Trial 49 finished with value: 9.443 and parameters: {'learning_rate': 0.00010254023386562762, 'discount_factor': 0.99, 'batch_size': 64, 'memory_size': 100000, 'freq_steps_train': 16, 'freq_steps_update_target': 10, 'n_steps_warm_up_memory': 1000, 'n_gradient_steps': 4, 'nn_hidden_layers': [256, 256], 'max_grad_norm': 10, 'normalize_state': True, 'epsilon_start': 0.9, 'epsilon_end': 0.19449597496913307, 'steps_epsilon_decay': 10000, 'seed': 736648495}. Best is trial 43 with value: 499.692.\n"
     ]
    },
    {
     "name": "stdout",
     "output_type": "stream",
     "text": [
      "67,586 parameters\n"
     ]
    },
    {
     "name": "stderr",
     "output_type": "stream",
     "text": [
      "100%|██████████| 100/100 [00:02<00:00, 35.92it/s]\n",
      "100%|██████████| 200/200 [00:33<00:00,  5.95it/s]\n"
     ]
    },
    {
     "name": "stdout",
     "output_type": "stream",
     "text": [
      "Reward mean: 89.31, std: 16.90\n",
      "Num steps mean: 89.31, std: 16.90\n"
     ]
    },
    {
     "name": "stderr",
     "output_type": "stream",
     "text": [
      "100%|██████████| 1000/1000 [00:29<00:00, 33.90it/s]\n",
      "[I 2024-01-04 10:32:03,629] Trial 50 finished with value: 92.811 and parameters: {'learning_rate': 0.004231259545005181, 'discount_factor': 0.9, 'batch_size': 128, 'memory_size': 100000, 'freq_steps_train': 16, 'freq_steps_update_target': 10, 'n_steps_warm_up_memory': 1000, 'n_gradient_steps': 4, 'nn_hidden_layers': [256, 256], 'max_grad_norm': 1, 'normalize_state': True, 'epsilon_start': 0.9, 'epsilon_end': 0.05351101928695719, 'steps_epsilon_decay': 10000, 'seed': 501916497}. Best is trial 43 with value: 499.692.\n"
     ]
    },
    {
     "name": "stdout",
     "output_type": "stream",
     "text": [
      "67,586 parameters\n"
     ]
    },
    {
     "name": "stderr",
     "output_type": "stream",
     "text": [
      "100%|██████████| 100/100 [00:00<00:00, 316.33it/s]\n",
      "100%|██████████| 200/200 [00:02<00:00, 99.13it/s]\n"
     ]
    },
    {
     "name": "stdout",
     "output_type": "stream",
     "text": [
      "Reward mean: 9.42, std: 0.86\n",
      "Num steps mean: 9.42, std: 0.86\n"
     ]
    },
    {
     "name": "stderr",
     "output_type": "stream",
     "text": [
      "100%|██████████| 1000/1000 [00:03<00:00, 302.97it/s]\n",
      "[I 2024-01-04 10:32:09,778] Trial 51 finished with value: 9.355 and parameters: {'learning_rate': 0.002279478415061963, 'discount_factor': 0.9, 'batch_size': 32, 'memory_size': 100000, 'freq_steps_train': 256, 'freq_steps_update_target': 100, 'n_steps_warm_up_memory': 1000, 'n_gradient_steps': 16, 'nn_hidden_layers': [256, 256], 'max_grad_norm': 1, 'normalize_state': True, 'epsilon_start': 0.9, 'epsilon_end': 0.06594834081377016, 'steps_epsilon_decay': 1000, 'seed': 574099070}. Best is trial 43 with value: 499.692.\n"
     ]
    },
    {
     "name": "stdout",
     "output_type": "stream",
     "text": [
      "67,586 parameters\n"
     ]
    },
    {
     "name": "stderr",
     "output_type": "stream",
     "text": [
      "100%|██████████| 100/100 [00:06<00:00, 16.39it/s]\n",
      "100%|██████████| 200/200 [01:10<00:00,  2.84it/s]\n"
     ]
    },
    {
     "name": "stdout",
     "output_type": "stream",
     "text": [
      "Reward mean: 195.31, std: 115.14\n",
      "Num steps mean: 195.31, std: 115.14\n"
     ]
    },
    {
     "name": "stderr",
     "output_type": "stream",
     "text": [
      "100%|██████████| 1000/1000 [01:02<00:00, 15.90it/s]\n",
      "[I 2024-01-04 10:34:26,037] Trial 52 finished with value: 199.06 and parameters: {'learning_rate': 0.00019513115824291806, 'discount_factor': 0.9, 'batch_size': 128, 'memory_size': 100000, 'freq_steps_train': 16, 'freq_steps_update_target': 10, 'n_steps_warm_up_memory': 1000, 'n_gradient_steps': 4, 'nn_hidden_layers': [256, 256], 'max_grad_norm': 1, 'normalize_state': True, 'epsilon_start': 0.9, 'epsilon_end': 0.011929060478644934, 'steps_epsilon_decay': 10000, 'seed': 677639659}. Best is trial 43 with value: 499.692.\n"
     ]
    },
    {
     "name": "stdout",
     "output_type": "stream",
     "text": [
      "67,586 parameters\n"
     ]
    },
    {
     "name": "stderr",
     "output_type": "stream",
     "text": [
      "100%|██████████| 100/100 [00:09<00:00, 10.62it/s]\n",
      "100%|██████████| 200/200 [01:00<00:00,  3.33it/s]\n"
     ]
    },
    {
     "name": "stdout",
     "output_type": "stream",
     "text": [
      "Reward mean: 288.48, std: 35.40\n",
      "Num steps mean: 288.48, std: 35.40\n"
     ]
    },
    {
     "name": "stderr",
     "output_type": "stream",
     "text": [
      "100%|██████████| 1000/1000 [01:37<00:00, 10.30it/s]\n",
      "[I 2024-01-04 10:37:06,162] Trial 53 finished with value: 289.131 and parameters: {'learning_rate': 0.00014639609124253105, 'discount_factor': 0.9, 'batch_size': 128, 'memory_size': 100000, 'freq_steps_train': 16, 'freq_steps_update_target': 10, 'n_steps_warm_up_memory': 1000, 'n_gradient_steps': 4, 'nn_hidden_layers': [256, 256], 'max_grad_norm': 1, 'normalize_state': True, 'epsilon_start': 0.9, 'epsilon_end': 0.009951437681875851, 'steps_epsilon_decay': 10000, 'seed': 123165970}. Best is trial 43 with value: 499.692.\n"
     ]
    },
    {
     "name": "stdout",
     "output_type": "stream",
     "text": [
      "67,586 parameters\n"
     ]
    },
    {
     "name": "stderr",
     "output_type": "stream",
     "text": [
      "100%|██████████| 100/100 [00:11<00:00,  8.61it/s]\n",
      "100%|██████████| 200/200 [01:29<00:00,  2.24it/s]\n"
     ]
    },
    {
     "name": "stdout",
     "output_type": "stream",
     "text": [
      "Reward mean: 349.76, std: 95.88\n",
      "Num steps mean: 349.76, std: 95.88\n"
     ]
    },
    {
     "name": "stderr",
     "output_type": "stream",
     "text": [
      "100%|██████████| 1000/1000 [01:59<00:00,  8.40it/s]\n",
      "[I 2024-01-04 10:40:37,334] Trial 54 finished with value: 349.301 and parameters: {'learning_rate': 0.0004889510240036313, 'discount_factor': 0.9, 'batch_size': 128, 'memory_size': 100000, 'freq_steps_train': 16, 'freq_steps_update_target': 10, 'n_steps_warm_up_memory': 1000, 'n_gradient_steps': 4, 'nn_hidden_layers': [256, 256], 'max_grad_norm': 1, 'normalize_state': True, 'epsilon_start': 0.9, 'epsilon_end': 0.020940436267744583, 'steps_epsilon_decay': 10000, 'seed': 650837135}. Best is trial 43 with value: 499.692.\n"
     ]
    },
    {
     "name": "stdout",
     "output_type": "stream",
     "text": [
      "67,586 parameters\n"
     ]
    },
    {
     "name": "stderr",
     "output_type": "stream",
     "text": [
      "100%|██████████| 100/100 [00:08<00:00, 11.13it/s]\n",
      "100%|██████████| 200/200 [01:12<00:00,  2.77it/s]\n"
     ]
    },
    {
     "name": "stdout",
     "output_type": "stream",
     "text": [
      "Reward mean: 264.20, std: 98.42\n",
      "Num steps mean: 264.20, std: 98.42\n"
     ]
    },
    {
     "name": "stderr",
     "output_type": "stream",
     "text": [
      "100%|██████████| 1000/1000 [01:36<00:00, 10.37it/s]\n",
      "[I 2024-01-04 10:43:28,904] Trial 55 finished with value: 267.061 and parameters: {'learning_rate': 0.00024254355983886858, 'discount_factor': 0.9, 'batch_size': 128, 'memory_size': 100000, 'freq_steps_train': 16, 'freq_steps_update_target': 10, 'n_steps_warm_up_memory': 1000, 'n_gradient_steps': 4, 'nn_hidden_layers': [256, 256], 'max_grad_norm': 1, 'normalize_state': True, 'epsilon_start': 0.9, 'epsilon_end': 0.14898200799424458, 'steps_epsilon_decay': 10000, 'seed': 690674474}. Best is trial 43 with value: 499.692.\n"
     ]
    },
    {
     "name": "stdout",
     "output_type": "stream",
     "text": [
      "67,586 parameters\n"
     ]
    },
    {
     "name": "stderr",
     "output_type": "stream",
     "text": [
      "100%|██████████| 100/100 [00:05<00:00, 17.08it/s]\n",
      "100%|██████████| 200/200 [00:40<00:00,  4.89it/s]\n"
     ]
    },
    {
     "name": "stdout",
     "output_type": "stream",
     "text": [
      "Reward mean: 215.04, std: 14.29\n",
      "Num steps mean: 215.04, std: 14.29\n"
     ]
    },
    {
     "name": "stderr",
     "output_type": "stream",
     "text": [
      "100%|██████████| 1000/1000 [00:58<00:00, 17.22it/s]\n",
      "[I 2024-01-04 10:45:08,616] Trial 56 finished with value: 216.376 and parameters: {'learning_rate': 0.0001778424188373682, 'discount_factor': 0.9, 'batch_size': 128, 'memory_size': 100000, 'freq_steps_train': 16, 'freq_steps_update_target': 10, 'n_steps_warm_up_memory': 1000, 'n_gradient_steps': 4, 'nn_hidden_layers': [256, 256], 'max_grad_norm': 1, 'normalize_state': True, 'epsilon_start': 0.9, 'epsilon_end': 0.00618090890393444, 'steps_epsilon_decay': 10000, 'seed': 989972488}. Best is trial 43 with value: 499.692.\n"
     ]
    },
    {
     "name": "stdout",
     "output_type": "stream",
     "text": [
      "67,586 parameters\n"
     ]
    },
    {
     "name": "stderr",
     "output_type": "stream",
     "text": [
      "100%|██████████| 100/100 [00:07<00:00, 12.73it/s]\n",
      "100%|██████████| 200/200 [00:23<00:00,  8.41it/s]\n"
     ]
    },
    {
     "name": "stdout",
     "output_type": "stream",
     "text": [
      "Reward mean: 240.47, std: 117.55\n",
      "Num steps mean: 240.47, std: 117.55\n"
     ]
    },
    {
     "name": "stderr",
     "output_type": "stream",
     "text": [
      "100%|██████████| 1000/1000 [01:26<00:00, 11.56it/s]\n",
      "[I 2024-01-04 10:46:59,618] Trial 57 finished with value: 249.075 and parameters: {'learning_rate': 8.647842674059098e-05, 'discount_factor': 0.9, 'batch_size': 128, 'memory_size': 50000, 'freq_steps_train': 16, 'freq_steps_update_target': 10, 'n_steps_warm_up_memory': 1000, 'n_gradient_steps': 4, 'nn_hidden_layers': [256, 256], 'max_grad_norm': 1, 'normalize_state': True, 'epsilon_start': 0.9, 'epsilon_end': 0.03647404238821471, 'steps_epsilon_decay': 10000, 'seed': 836389693}. Best is trial 43 with value: 499.692.\n"
     ]
    },
    {
     "name": "stdout",
     "output_type": "stream",
     "text": [
      "67,586 parameters\n"
     ]
    },
    {
     "name": "stderr",
     "output_type": "stream",
     "text": [
      "100%|██████████| 100/100 [00:00<00:00, 279.63it/s]\n",
      "100%|██████████| 200/200 [00:01<00:00, 132.45it/s]\n"
     ]
    },
    {
     "name": "stdout",
     "output_type": "stream",
     "text": [
      "Reward mean: 9.41, std: 0.83\n",
      "Num steps mean: 9.41, std: 0.83\n"
     ]
    },
    {
     "name": "stderr",
     "output_type": "stream",
     "text": [
      "100%|██████████| 1000/1000 [00:03<00:00, 261.01it/s]\n",
      "[I 2024-01-04 10:47:05,823] Trial 58 finished with value: 9.361 and parameters: {'learning_rate': 5.172683163520129e-05, 'discount_factor': 0.9, 'batch_size': 128, 'memory_size': 100000, 'freq_steps_train': 16, 'freq_steps_update_target': 1000, 'n_steps_warm_up_memory': 5000, 'n_gradient_steps': 4, 'nn_hidden_layers': [256, 256], 'max_grad_norm': 1, 'normalize_state': True, 'epsilon_start': 0.9, 'epsilon_end': 0.026190313957185074, 'steps_epsilon_decay': 10000, 'seed': 748439261}. Best is trial 43 with value: 499.692.\n"
     ]
    },
    {
     "name": "stdout",
     "output_type": "stream",
     "text": [
      "67,586 parameters\n"
     ]
    },
    {
     "name": "stderr",
     "output_type": "stream",
     "text": [
      "100%|██████████| 100/100 [00:06<00:00, 14.72it/s]\n",
      "100%|██████████| 200/200 [00:34<00:00,  5.79it/s]\n"
     ]
    },
    {
     "name": "stdout",
     "output_type": "stream",
     "text": [
      "Reward mean: 215.20, std: 56.92\n",
      "Num steps mean: 215.20, std: 56.92\n"
     ]
    },
    {
     "name": "stderr",
     "output_type": "stream",
     "text": [
      "100%|██████████| 1000/1000 [01:08<00:00, 14.68it/s]\n",
      "[I 2024-01-04 10:48:49,048] Trial 59 finished with value: 213.905 and parameters: {'learning_rate': 0.0003520332557885841, 'discount_factor': 0.99, 'batch_size': 128, 'memory_size': 10000, 'freq_steps_train': 8, 'freq_steps_update_target': 10, 'n_steps_warm_up_memory': 1000, 'n_gradient_steps': 4, 'nn_hidden_layers': [256, 256], 'max_grad_norm': 1, 'normalize_state': False, 'epsilon_start': 0.9, 'epsilon_end': 0.000335997660202177, 'steps_epsilon_decay': 100000, 'seed': 611028676}. Best is trial 43 with value: 499.692.\n"
     ]
    },
    {
     "name": "stdout",
     "output_type": "stream",
     "text": [
      "67,586 parameters\n"
     ]
    },
    {
     "name": "stderr",
     "output_type": "stream",
     "text": [
      "100%|██████████| 100/100 [00:17<00:00,  5.56it/s]\n",
      "100%|██████████| 200/200 [02:27<00:00,  1.35it/s]\n"
     ]
    },
    {
     "name": "stdout",
     "output_type": "stream",
     "text": [
      "Reward mean: 433.23, std: 72.11\n",
      "Num steps mean: 433.23, std: 72.11\n"
     ]
    },
    {
     "name": "stderr",
     "output_type": "stream",
     "text": [
      "100%|██████████| 1000/1000 [02:39<00:00,  6.29it/s]\n",
      "[I 2024-01-04 10:53:58,706] Trial 60 finished with value: 428.395 and parameters: {'learning_rate': 0.0009267449071096017, 'discount_factor': 0.95, 'batch_size': 128, 'memory_size': 100000, 'freq_steps_train': 16, 'freq_steps_update_target': 10, 'n_steps_warm_up_memory': 1000, 'n_gradient_steps': 16, 'nn_hidden_layers': [256, 256], 'max_grad_norm': 1, 'normalize_state': True, 'epsilon_start': 0.9, 'epsilon_end': 0.017785325535193575, 'steps_epsilon_decay': 10000, 'seed': 779639462}. Best is trial 43 with value: 499.692.\n"
     ]
    },
    {
     "name": "stdout",
     "output_type": "stream",
     "text": [
      "67,586 parameters\n"
     ]
    },
    {
     "name": "stderr",
     "output_type": "stream",
     "text": [
      "100%|██████████| 100/100 [00:00<00:00, 134.84it/s]\n",
      "100%|██████████| 200/200 [00:05<00:00, 35.44it/s]\n"
     ]
    },
    {
     "name": "stdout",
     "output_type": "stream",
     "text": [
      "Reward mean: 14.86, std: 6.92\n",
      "Num steps mean: 14.86, std: 6.92\n"
     ]
    },
    {
     "name": "stderr",
     "output_type": "stream",
     "text": [
      "100%|██████████| 1000/1000 [00:05<00:00, 184.85it/s]\n",
      "[I 2024-01-04 10:54:10,724] Trial 61 finished with value: 14.342 and parameters: {'learning_rate': 0.0009317275695838181, 'discount_factor': 0.95, 'batch_size': 64, 'memory_size': 100000, 'freq_steps_train': 128, 'freq_steps_update_target': 10, 'n_steps_warm_up_memory': 1000, 'n_gradient_steps': 16, 'nn_hidden_layers': [256, 256], 'max_grad_norm': 10, 'normalize_state': True, 'epsilon_start': 0.9, 'epsilon_end': 0.04508688127700604, 'steps_epsilon_decay': 10000, 'seed': 804586533}. Best is trial 43 with value: 499.692.\n"
     ]
    },
    {
     "name": "stdout",
     "output_type": "stream",
     "text": [
      "67,586 parameters\n"
     ]
    },
    {
     "name": "stderr",
     "output_type": "stream",
     "text": [
      "100%|██████████| 100/100 [00:04<00:00, 20.06it/s]\n",
      "100%|██████████| 200/200 [02:37<00:00,  1.27it/s]\n"
     ]
    },
    {
     "name": "stdout",
     "output_type": "stream",
     "text": [
      "Reward mean: 148.44, std: 8.14\n",
      "Num steps mean: 148.44, std: 8.14\n"
     ]
    },
    {
     "name": "stderr",
     "output_type": "stream",
     "text": [
      "100%|██████████| 1000/1000 [00:55<00:00, 18.13it/s]\n",
      "[I 2024-01-04 10:57:46,240] Trial 62 finished with value: 148.764 and parameters: {'learning_rate': 0.0006429981312255283, 'discount_factor': 0.95, 'batch_size': 128, 'memory_size': 100000, 'freq_steps_train': 16, 'freq_steps_update_target': 10, 'n_steps_warm_up_memory': 1000, 'n_gradient_steps': 16, 'nn_hidden_layers': [256, 256], 'max_grad_norm': 1, 'normalize_state': True, 'epsilon_start': 0.9, 'epsilon_end': 0.01996746679755246, 'steps_epsilon_decay': 10000, 'seed': 773209843}. Best is trial 43 with value: 499.692.\n"
     ]
    },
    {
     "name": "stdout",
     "output_type": "stream",
     "text": [
      "67,586 parameters\n"
     ]
    },
    {
     "name": "stderr",
     "output_type": "stream",
     "text": [
      "100%|██████████| 100/100 [00:04<00:00, 23.79it/s]\n",
      "100%|██████████| 200/200 [02:25<00:00,  1.38it/s]\n"
     ]
    },
    {
     "name": "stdout",
     "output_type": "stream",
     "text": [
      "Reward mean: 107.97, std: 15.87\n",
      "Num steps mean: 107.97, std: 15.87\n"
     ]
    },
    {
     "name": "stderr",
     "output_type": "stream",
     "text": [
      "100%|██████████| 1000/1000 [00:43<00:00, 23.07it/s]\n",
      "[I 2024-01-04 11:00:58,006] Trial 63 finished with value: 107.634 and parameters: {'learning_rate': 0.001203441178857731, 'discount_factor': 0.95, 'batch_size': 128, 'memory_size': 100000, 'freq_steps_train': 16, 'freq_steps_update_target': 10, 'n_steps_warm_up_memory': 1000, 'n_gradient_steps': 16, 'nn_hidden_layers': [256, 256], 'max_grad_norm': 1, 'normalize_state': True, 'epsilon_start': 0.9, 'epsilon_end': 0.008768357278061717, 'steps_epsilon_decay': 10000, 'seed': 877548982}. Best is trial 43 with value: 499.692.\n"
     ]
    },
    {
     "name": "stdout",
     "output_type": "stream",
     "text": [
      "67,586 parameters\n"
     ]
    },
    {
     "name": "stderr",
     "output_type": "stream",
     "text": [
      "100%|██████████| 100/100 [00:04<00:00, 21.26it/s]\n",
      "100%|██████████| 200/200 [02:58<00:00,  1.12it/s]\n"
     ]
    },
    {
     "name": "stdout",
     "output_type": "stream",
     "text": [
      "Reward mean: 114.41, std: 29.00\n",
      "Num steps mean: 114.41, std: 29.00\n"
     ]
    },
    {
     "name": "stderr",
     "output_type": "stream",
     "text": [
      "100%|██████████| 1000/1000 [00:46<00:00, 21.50it/s]\n",
      "[I 2024-01-04 11:04:46,205] Trial 64 finished with value: 119.126 and parameters: {'learning_rate': 0.0009118278981594066, 'discount_factor': 0.95, 'batch_size': 128, 'memory_size': 100000, 'freq_steps_train': 16, 'freq_steps_update_target': 10, 'n_steps_warm_up_memory': 1000, 'n_gradient_steps': 16, 'nn_hidden_layers': [256, 256], 'max_grad_norm': 1, 'normalize_state': True, 'epsilon_start': 0.9, 'epsilon_end': 0.015851909840251612, 'steps_epsilon_decay': 10000, 'seed': 701726850}. Best is trial 43 with value: 499.692.\n"
     ]
    },
    {
     "name": "stdout",
     "output_type": "stream",
     "text": [
      "67,586 parameters\n"
     ]
    },
    {
     "name": "stderr",
     "output_type": "stream",
     "text": [
      "100%|██████████| 100/100 [00:09<00:00, 10.93it/s]\n",
      "100%|██████████| 200/200 [04:02<00:00,  1.21s/it]\n"
     ]
    },
    {
     "name": "stdout",
     "output_type": "stream",
     "text": [
      "Reward mean: 282.60, std: 38.73\n",
      "Num steps mean: 282.60, std: 38.73\n"
     ]
    },
    {
     "name": "stderr",
     "output_type": "stream",
     "text": [
      "100%|██████████| 1000/1000 [01:37<00:00, 10.30it/s]\n",
      "[I 2024-01-04 11:10:28,864] Trial 65 finished with value: 286.306 and parameters: {'learning_rate': 0.00047517861042312696, 'discount_factor': 0.95, 'batch_size': 128, 'memory_size': 100000, 'freq_steps_train': 16, 'freq_steps_update_target': 10, 'n_steps_warm_up_memory': 1000, 'n_gradient_steps': 16, 'nn_hidden_layers': [256, 256], 'max_grad_norm': 1, 'normalize_state': True, 'epsilon_start': 0.9, 'epsilon_end': 0.025910094473206538, 'steps_epsilon_decay': 10000, 'seed': 903397452}. Best is trial 43 with value: 499.692.\n"
     ]
    },
    {
     "name": "stdout",
     "output_type": "stream",
     "text": [
      "67,586 parameters\n"
     ]
    },
    {
     "name": "stderr",
     "output_type": "stream",
     "text": [
      "100%|██████████| 100/100 [00:18<00:00,  5.30it/s]\n",
      "100%|██████████| 200/200 [01:01<00:00,  3.25it/s]\n"
     ]
    },
    {
     "name": "stdout",
     "output_type": "stream",
     "text": [
      "Reward mean: 500.00, std: 0.00\n",
      "Num steps mean: 500.00, std: 0.00\n"
     ]
    },
    {
     "name": "stderr",
     "output_type": "stream",
     "text": [
      "100%|██████████| 1000/1000 [02:50<00:00,  5.87it/s]\n",
      "[I 2024-01-04 11:14:23,965] Trial 66 finished with value: 500.0 and parameters: {'learning_rate': 0.00015698217097983902, 'discount_factor': 0.9, 'batch_size': 128, 'memory_size': 100000, 'freq_steps_train': 16, 'freq_steps_update_target': 10, 'n_steps_warm_up_memory': 1000, 'n_gradient_steps': 4, 'nn_hidden_layers': [256, 256], 'max_grad_norm': 1, 'normalize_state': True, 'epsilon_start': 0.9, 'epsilon_end': 0.005254212410231813, 'steps_epsilon_decay': 10000, 'seed': 835988670}. Best is trial 66 with value: 500.0.\n"
     ]
    },
    {
     "name": "stdout",
     "output_type": "stream",
     "text": [
      "Stopping hyperparameter search because trial.value (500.0) hit threshold (500.0)\n"
     ]
    }
   ],
   "source": [
    "study.optimize(func, n_trials=1000, callbacks=[hyperparam_search_stop_callback])"
   ]
  },
  {
   "cell_type": "markdown",
   "id": "aa50508e",
   "metadata": {},
   "source": [
    "## These are the best hyper-parameters"
   ]
  },
  {
   "cell_type": "code",
   "execution_count": 14,
   "id": "52977fd2",
   "metadata": {},
   "outputs": [
    {
     "name": "stdout",
     "output_type": "stream",
     "text": [
      "{'learning_rate': 0.00015698217097983902, 'discount_factor': 0.9, 'batch_size': 128, 'memory_size': 100000, 'freq_steps_train': 16, 'freq_steps_update_target': 10, 'n_steps_warm_up_memory': 1000, 'n_gradient_steps': 4, 'nn_hidden_layers': [256, 256], 'max_grad_norm': 1, 'normalize_state': True, 'epsilon_start': 0.9, 'epsilon_end': 0.005254212410231813, 'steps_epsilon_decay': 10000}\n",
      "Seed:  835988670\n"
     ]
    }
   ],
   "source": [
    "best_trial = study.best_trial\n",
    "\n",
    "hparams = {k: best_trial.params[k] for k in best_trial.params if k != 'seed'}\n",
    "#hparams['nn_hidden_layers'] = eval(hparams['nn_hidden_layers']) \n",
    "print(hparams)\n",
    "\n",
    "SEED = best_trial.params['seed']\n",
    "print('Seed: ', SEED)"
   ]
  },
  {
   "cell_type": "markdown",
   "id": "74718f97",
   "metadata": {},
   "source": [
    "## We can re-run the training to get the perfect agent"
   ]
  },
  {
   "cell_type": "code",
   "execution_count": 15,
   "id": "4c44af12",
   "metadata": {
    "scrolled": true
   },
   "outputs": [
    {
     "name": "stdout",
     "output_type": "stream",
     "text": [
      "67,586 parameters\n"
     ]
    },
    {
     "name": "stderr",
     "output_type": "stream",
     "text": [
      "100%|██████████| 100/100 [00:09<00:00, 10.01it/s]\n",
      "100%|██████████| 200/200 [00:48<00:00,  4.10it/s]"
     ]
    },
    {
     "name": "stdout",
     "output_type": "stream",
     "text": [
      "Reward mean: 427.89, std: 62.16\n",
      "Num steps mean: 427.89, std: 62.16\n"
     ]
    },
    {
     "name": "stderr",
     "output_type": "stream",
     "text": [
      "\n"
     ]
    }
   ],
   "source": [
    "from utils import set_seed\n",
    "set_seed(env, SEED)\n",
    "\n",
    "from q_agent import QAgent\n",
    "agent = QAgent(env, **hparams)\n",
    "\n",
    "from loops import train\n",
    "train(agent, env, n_episodes=200)"
   ]
  },
  {
   "cell_type": "markdown",
   "id": "a0daa70b",
   "metadata": {},
   "source": [
    "## or simply load the `agent_id` from the best run"
   ]
  },
  {
   "cell_type": "code",
   "execution_count": 16,
   "id": "9352b32a",
   "metadata": {},
   "outputs": [
    {
     "name": "stdout",
     "output_type": "stream",
     "text": [
      "67,586 parameters\n"
     ]
    }
   ],
   "source": [
    "from q_agent import QAgent\n",
    "from config import SAVED_AGENTS_DIR\n",
    "\n",
    "# you can find the agent_id for the best run in the MLflow\n",
    "# dashboard.\n",
    "# 298 is the value in my case, but you need to check what is your\n",
    "agent_id = 298\n",
    "\n",
    "path_to_saved_model = SAVED_AGENTS_DIR / 'CartPole-v1' / str(agent_id)\n",
    "agent = QAgent.load_from_disk(env, path_to_saved_model)"
   ]
  },
  {
   "cell_type": "markdown",
   "id": "d0c9f72a",
   "metadata": {},
   "source": [
    "## Evaluate the agent ⏱️"
   ]
  },
  {
   "cell_type": "code",
   "execution_count": 17,
   "id": "ec4d363b",
   "metadata": {},
   "outputs": [
    {
     "name": "stderr",
     "output_type": "stream",
     "text": [
      "100%|██████████| 1000/1000 [01:49<00:00,  9.12it/s]\n"
     ]
    }
   ],
   "source": [
    "from loops import evaluate\n",
    "rewards, steps = evaluate(\n",
    "    agent, env,\n",
    "    n_episodes=1000,\n",
    "    epsilon=0.00\n",
    ")"
   ]
  },
  {
   "cell_type": "code",
   "execution_count": 18,
   "id": "8dedf1ee",
   "metadata": {},
   "outputs": [
    {
     "name": "stdout",
     "output_type": "stream",
     "text": [
      "Reward average 500.00, std 0.00\n"
     ]
    }
   ],
   "source": [
    "import numpy as np\n",
    "reward_avg = np.array(rewards).mean()\n",
    "reward_std = np.array(rewards).std()\n",
    "print(f'Reward average {reward_avg:.2f}, std {reward_std:.2f}')"
   ]
  },
  {
   "cell_type": "markdown",
   "id": "f76f648d",
   "metadata": {},
   "source": [
    "## Let's see how far we got in each attempt"
   ]
  },
  {
   "cell_type": "code",
   "execution_count": 19,
   "id": "f349b9a6",
   "metadata": {},
   "outputs": [
    {
     "data": {
      "image/svg+xml": [
       "<?xml version=\"1.0\" encoding=\"utf-8\" standalone=\"no\"?>\n",
       "<!DOCTYPE svg PUBLIC \"-//W3C//DTD SVG 1.1//EN\"\n",
       "  \"http://www.w3.org/Graphics/SVG/1.1/DTD/svg11.dtd\">\n",
       "<svg xmlns:xlink=\"http://www.w3.org/1999/xlink\" width=\"618.528125pt\" height=\"267.95625pt\" viewBox=\"0 0 618.528125 267.95625\" xmlns=\"http://www.w3.org/2000/svg\" version=\"1.1\">\n",
       " <metadata>\n",
       "  <rdf:RDF xmlns:dc=\"http://purl.org/dc/elements/1.1/\" xmlns:cc=\"http://creativecommons.org/ns#\" xmlns:rdf=\"http://www.w3.org/1999/02/22-rdf-syntax-ns#\">\n",
       "   <cc:Work>\n",
       "    <dc:type rdf:resource=\"http://purl.org/dc/dcmitype/StillImage\"/>\n",
       "    <dc:date>2024-01-04T11:49:46.554805</dc:date>\n",
       "    <dc:format>image/svg+xml</dc:format>\n",
       "    <dc:creator>\n",
       "     <cc:Agent>\n",
       "      <dc:title>Matplotlib v3.8.2, https://matplotlib.org/</dc:title>\n",
       "     </cc:Agent>\n",
       "    </dc:creator>\n",
       "   </cc:Work>\n",
       "  </rdf:RDF>\n",
       " </metadata>\n",
       " <defs>\n",
       "  <style type=\"text/css\">*{stroke-linejoin: round; stroke-linecap: butt}</style>\n",
       " </defs>\n",
       " <g id=\"figure_1\">\n",
       "  <g id=\"patch_1\">\n",
       "   <path d=\"M 0 267.95625 \n",
       "L 618.528125 267.95625 \n",
       "L 618.528125 0 \n",
       "L 0 0 \n",
       "z\n",
       "\" style=\"fill: #ffffff\"/>\n",
       "  </g>\n",
       "  <g id=\"axes_1\">\n",
       "   <g id=\"patch_2\">\n",
       "    <path d=\"M 53.328125 244.078125 \n",
       "L 611.328125 244.078125 \n",
       "L 611.328125 22.318125 \n",
       "L 53.328125 22.318125 \n",
       "z\n",
       "\" style=\"fill: #ffffff\"/>\n",
       "   </g>\n",
       "   <g id=\"patch_3\">\n",
       "    <path d=\"M 78.691761 244.078125 \n",
       "L 83.764489 244.078125 \n",
       "L 83.764489 244.078125 \n",
       "L 78.691761 244.078125 \n",
       "z\n",
       "\" clip-path=\"url(#p04aa81a200)\" style=\"fill: #1f77b4\"/>\n",
       "   </g>\n",
       "   <g id=\"patch_4\">\n",
       "    <path d=\"M 83.764489 244.078125 \n",
       "L 88.837216 244.078125 \n",
       "L 88.837216 244.078125 \n",
       "L 83.764489 244.078125 \n",
       "z\n",
       "\" clip-path=\"url(#p04aa81a200)\" style=\"fill: #1f77b4\"/>\n",
       "   </g>\n",
       "   <g id=\"patch_5\">\n",
       "    <path d=\"M 88.837216 244.078125 \n",
       "L 93.909943 244.078125 \n",
       "L 93.909943 244.078125 \n",
       "L 88.837216 244.078125 \n",
       "z\n",
       "\" clip-path=\"url(#p04aa81a200)\" style=\"fill: #1f77b4\"/>\n",
       "   </g>\n",
       "   <g id=\"patch_6\">\n",
       "    <path d=\"M 93.909943 244.078125 \n",
       "L 98.98267 244.078125 \n",
       "L 98.98267 244.078125 \n",
       "L 93.909943 244.078125 \n",
       "z\n",
       "\" clip-path=\"url(#p04aa81a200)\" style=\"fill: #1f77b4\"/>\n",
       "   </g>\n",
       "   <g id=\"patch_7\">\n",
       "    <path d=\"M 98.98267 244.078125 \n",
       "L 104.055398 244.078125 \n",
       "L 104.055398 244.078125 \n",
       "L 98.98267 244.078125 \n",
       "z\n",
       "\" clip-path=\"url(#p04aa81a200)\" style=\"fill: #1f77b4\"/>\n",
       "   </g>\n",
       "   <g id=\"patch_8\">\n",
       "    <path d=\"M 104.055398 244.078125 \n",
       "L 109.128125 244.078125 \n",
       "L 109.128125 244.078125 \n",
       "L 104.055398 244.078125 \n",
       "z\n",
       "\" clip-path=\"url(#p04aa81a200)\" style=\"fill: #1f77b4\"/>\n",
       "   </g>\n",
       "   <g id=\"patch_9\">\n",
       "    <path d=\"M 109.128125 244.078125 \n",
       "L 114.200852 244.078125 \n",
       "L 114.200852 244.078125 \n",
       "L 109.128125 244.078125 \n",
       "z\n",
       "\" clip-path=\"url(#p04aa81a200)\" style=\"fill: #1f77b4\"/>\n",
       "   </g>\n",
       "   <g id=\"patch_10\">\n",
       "    <path d=\"M 114.200852 244.078125 \n",
       "L 119.27358 244.078125 \n",
       "L 119.27358 244.078125 \n",
       "L 114.200852 244.078125 \n",
       "z\n",
       "\" clip-path=\"url(#p04aa81a200)\" style=\"fill: #1f77b4\"/>\n",
       "   </g>\n",
       "   <g id=\"patch_11\">\n",
       "    <path d=\"M 119.27358 244.078125 \n",
       "L 124.346307 244.078125 \n",
       "L 124.346307 244.078125 \n",
       "L 119.27358 244.078125 \n",
       "z\n",
       "\" clip-path=\"url(#p04aa81a200)\" style=\"fill: #1f77b4\"/>\n",
       "   </g>\n",
       "   <g id=\"patch_12\">\n",
       "    <path d=\"M 124.346307 244.078125 \n",
       "L 129.419034 244.078125 \n",
       "L 129.419034 244.078125 \n",
       "L 124.346307 244.078125 \n",
       "z\n",
       "\" clip-path=\"url(#p04aa81a200)\" style=\"fill: #1f77b4\"/>\n",
       "   </g>\n",
       "   <g id=\"patch_13\">\n",
       "    <path d=\"M 129.419034 244.078125 \n",
       "L 134.491761 244.078125 \n",
       "L 134.491761 244.078125 \n",
       "L 129.419034 244.078125 \n",
       "z\n",
       "\" clip-path=\"url(#p04aa81a200)\" style=\"fill: #1f77b4\"/>\n",
       "   </g>\n",
       "   <g id=\"patch_14\">\n",
       "    <path d=\"M 134.491761 244.078125 \n",
       "L 139.564489 244.078125 \n",
       "L 139.564489 244.078125 \n",
       "L 134.491761 244.078125 \n",
       "z\n",
       "\" clip-path=\"url(#p04aa81a200)\" style=\"fill: #1f77b4\"/>\n",
       "   </g>\n",
       "   <g id=\"patch_15\">\n",
       "    <path d=\"M 139.564489 244.078125 \n",
       "L 144.637216 244.078125 \n",
       "L 144.637216 244.078125 \n",
       "L 139.564489 244.078125 \n",
       "z\n",
       "\" clip-path=\"url(#p04aa81a200)\" style=\"fill: #1f77b4\"/>\n",
       "   </g>\n",
       "   <g id=\"patch_16\">\n",
       "    <path d=\"M 144.637216 244.078125 \n",
       "L 149.709943 244.078125 \n",
       "L 149.709943 244.078125 \n",
       "L 144.637216 244.078125 \n",
       "z\n",
       "\" clip-path=\"url(#p04aa81a200)\" style=\"fill: #1f77b4\"/>\n",
       "   </g>\n",
       "   <g id=\"patch_17\">\n",
       "    <path d=\"M 149.709943 244.078125 \n",
       "L 154.78267 244.078125 \n",
       "L 154.78267 244.078125 \n",
       "L 149.709943 244.078125 \n",
       "z\n",
       "\" clip-path=\"url(#p04aa81a200)\" style=\"fill: #1f77b4\"/>\n",
       "   </g>\n",
       "   <g id=\"patch_18\">\n",
       "    <path d=\"M 154.78267 244.078125 \n",
       "L 159.855398 244.078125 \n",
       "L 159.855398 244.078125 \n",
       "L 154.78267 244.078125 \n",
       "z\n",
       "\" clip-path=\"url(#p04aa81a200)\" style=\"fill: #1f77b4\"/>\n",
       "   </g>\n",
       "   <g id=\"patch_19\">\n",
       "    <path d=\"M 159.855398 244.078125 \n",
       "L 164.928125 244.078125 \n",
       "L 164.928125 244.078125 \n",
       "L 159.855398 244.078125 \n",
       "z\n",
       "\" clip-path=\"url(#p04aa81a200)\" style=\"fill: #1f77b4\"/>\n",
       "   </g>\n",
       "   <g id=\"patch_20\">\n",
       "    <path d=\"M 164.928125 244.078125 \n",
       "L 170.000852 244.078125 \n",
       "L 170.000852 244.078125 \n",
       "L 164.928125 244.078125 \n",
       "z\n",
       "\" clip-path=\"url(#p04aa81a200)\" style=\"fill: #1f77b4\"/>\n",
       "   </g>\n",
       "   <g id=\"patch_21\">\n",
       "    <path d=\"M 170.000852 244.078125 \n",
       "L 175.07358 244.078125 \n",
       "L 175.07358 244.078125 \n",
       "L 170.000852 244.078125 \n",
       "z\n",
       "\" clip-path=\"url(#p04aa81a200)\" style=\"fill: #1f77b4\"/>\n",
       "   </g>\n",
       "   <g id=\"patch_22\">\n",
       "    <path d=\"M 175.07358 244.078125 \n",
       "L 180.146307 244.078125 \n",
       "L 180.146307 244.078125 \n",
       "L 175.07358 244.078125 \n",
       "z\n",
       "\" clip-path=\"url(#p04aa81a200)\" style=\"fill: #1f77b4\"/>\n",
       "   </g>\n",
       "   <g id=\"patch_23\">\n",
       "    <path d=\"M 180.146307 244.078125 \n",
       "L 185.219034 244.078125 \n",
       "L 185.219034 244.078125 \n",
       "L 180.146307 244.078125 \n",
       "z\n",
       "\" clip-path=\"url(#p04aa81a200)\" style=\"fill: #1f77b4\"/>\n",
       "   </g>\n",
       "   <g id=\"patch_24\">\n",
       "    <path d=\"M 185.219034 244.078125 \n",
       "L 190.291761 244.078125 \n",
       "L 190.291761 244.078125 \n",
       "L 185.219034 244.078125 \n",
       "z\n",
       "\" clip-path=\"url(#p04aa81a200)\" style=\"fill: #1f77b4\"/>\n",
       "   </g>\n",
       "   <g id=\"patch_25\">\n",
       "    <path d=\"M 190.291761 244.078125 \n",
       "L 195.364489 244.078125 \n",
       "L 195.364489 244.078125 \n",
       "L 190.291761 244.078125 \n",
       "z\n",
       "\" clip-path=\"url(#p04aa81a200)\" style=\"fill: #1f77b4\"/>\n",
       "   </g>\n",
       "   <g id=\"patch_26\">\n",
       "    <path d=\"M 195.364489 244.078125 \n",
       "L 200.437216 244.078125 \n",
       "L 200.437216 244.078125 \n",
       "L 195.364489 244.078125 \n",
       "z\n",
       "\" clip-path=\"url(#p04aa81a200)\" style=\"fill: #1f77b4\"/>\n",
       "   </g>\n",
       "   <g id=\"patch_27\">\n",
       "    <path d=\"M 200.437216 244.078125 \n",
       "L 205.509943 244.078125 \n",
       "L 205.509943 244.078125 \n",
       "L 200.437216 244.078125 \n",
       "z\n",
       "\" clip-path=\"url(#p04aa81a200)\" style=\"fill: #1f77b4\"/>\n",
       "   </g>\n",
       "   <g id=\"patch_28\">\n",
       "    <path d=\"M 205.509943 244.078125 \n",
       "L 210.58267 244.078125 \n",
       "L 210.58267 244.078125 \n",
       "L 205.509943 244.078125 \n",
       "z\n",
       "\" clip-path=\"url(#p04aa81a200)\" style=\"fill: #1f77b4\"/>\n",
       "   </g>\n",
       "   <g id=\"patch_29\">\n",
       "    <path d=\"M 210.58267 244.078125 \n",
       "L 215.655398 244.078125 \n",
       "L 215.655398 244.078125 \n",
       "L 210.58267 244.078125 \n",
       "z\n",
       "\" clip-path=\"url(#p04aa81a200)\" style=\"fill: #1f77b4\"/>\n",
       "   </g>\n",
       "   <g id=\"patch_30\">\n",
       "    <path d=\"M 215.655398 244.078125 \n",
       "L 220.728125 244.078125 \n",
       "L 220.728125 244.078125 \n",
       "L 215.655398 244.078125 \n",
       "z\n",
       "\" clip-path=\"url(#p04aa81a200)\" style=\"fill: #1f77b4\"/>\n",
       "   </g>\n",
       "   <g id=\"patch_31\">\n",
       "    <path d=\"M 220.728125 244.078125 \n",
       "L 225.800852 244.078125 \n",
       "L 225.800852 244.078125 \n",
       "L 220.728125 244.078125 \n",
       "z\n",
       "\" clip-path=\"url(#p04aa81a200)\" style=\"fill: #1f77b4\"/>\n",
       "   </g>\n",
       "   <g id=\"patch_32\">\n",
       "    <path d=\"M 225.800852 244.078125 \n",
       "L 230.87358 244.078125 \n",
       "L 230.87358 244.078125 \n",
       "L 225.800852 244.078125 \n",
       "z\n",
       "\" clip-path=\"url(#p04aa81a200)\" style=\"fill: #1f77b4\"/>\n",
       "   </g>\n",
       "   <g id=\"patch_33\">\n",
       "    <path d=\"M 230.87358 244.078125 \n",
       "L 235.946307 244.078125 \n",
       "L 235.946307 244.078125 \n",
       "L 230.87358 244.078125 \n",
       "z\n",
       "\" clip-path=\"url(#p04aa81a200)\" style=\"fill: #1f77b4\"/>\n",
       "   </g>\n",
       "   <g id=\"patch_34\">\n",
       "    <path d=\"M 235.946307 244.078125 \n",
       "L 241.019034 244.078125 \n",
       "L 241.019034 244.078125 \n",
       "L 235.946307 244.078125 \n",
       "z\n",
       "\" clip-path=\"url(#p04aa81a200)\" style=\"fill: #1f77b4\"/>\n",
       "   </g>\n",
       "   <g id=\"patch_35\">\n",
       "    <path d=\"M 241.019034 244.078125 \n",
       "L 246.091761 244.078125 \n",
       "L 246.091761 244.078125 \n",
       "L 241.019034 244.078125 \n",
       "z\n",
       "\" clip-path=\"url(#p04aa81a200)\" style=\"fill: #1f77b4\"/>\n",
       "   </g>\n",
       "   <g id=\"patch_36\">\n",
       "    <path d=\"M 246.091761 244.078125 \n",
       "L 251.164489 244.078125 \n",
       "L 251.164489 244.078125 \n",
       "L 246.091761 244.078125 \n",
       "z\n",
       "\" clip-path=\"url(#p04aa81a200)\" style=\"fill: #1f77b4\"/>\n",
       "   </g>\n",
       "   <g id=\"patch_37\">\n",
       "    <path d=\"M 251.164489 244.078125 \n",
       "L 256.237216 244.078125 \n",
       "L 256.237216 244.078125 \n",
       "L 251.164489 244.078125 \n",
       "z\n",
       "\" clip-path=\"url(#p04aa81a200)\" style=\"fill: #1f77b4\"/>\n",
       "   </g>\n",
       "   <g id=\"patch_38\">\n",
       "    <path d=\"M 256.237216 244.078125 \n",
       "L 261.309943 244.078125 \n",
       "L 261.309943 244.078125 \n",
       "L 256.237216 244.078125 \n",
       "z\n",
       "\" clip-path=\"url(#p04aa81a200)\" style=\"fill: #1f77b4\"/>\n",
       "   </g>\n",
       "   <g id=\"patch_39\">\n",
       "    <path d=\"M 261.309943 244.078125 \n",
       "L 266.38267 244.078125 \n",
       "L 266.38267 244.078125 \n",
       "L 261.309943 244.078125 \n",
       "z\n",
       "\" clip-path=\"url(#p04aa81a200)\" style=\"fill: #1f77b4\"/>\n",
       "   </g>\n",
       "   <g id=\"patch_40\">\n",
       "    <path d=\"M 266.38267 244.078125 \n",
       "L 271.455398 244.078125 \n",
       "L 271.455398 244.078125 \n",
       "L 266.38267 244.078125 \n",
       "z\n",
       "\" clip-path=\"url(#p04aa81a200)\" style=\"fill: #1f77b4\"/>\n",
       "   </g>\n",
       "   <g id=\"patch_41\">\n",
       "    <path d=\"M 271.455398 244.078125 \n",
       "L 276.528125 244.078125 \n",
       "L 276.528125 244.078125 \n",
       "L 271.455398 244.078125 \n",
       "z\n",
       "\" clip-path=\"url(#p04aa81a200)\" style=\"fill: #1f77b4\"/>\n",
       "   </g>\n",
       "   <g id=\"patch_42\">\n",
       "    <path d=\"M 276.528125 244.078125 \n",
       "L 281.600852 244.078125 \n",
       "L 281.600852 244.078125 \n",
       "L 276.528125 244.078125 \n",
       "z\n",
       "\" clip-path=\"url(#p04aa81a200)\" style=\"fill: #1f77b4\"/>\n",
       "   </g>\n",
       "   <g id=\"patch_43\">\n",
       "    <path d=\"M 281.600852 244.078125 \n",
       "L 286.67358 244.078125 \n",
       "L 286.67358 244.078125 \n",
       "L 281.600852 244.078125 \n",
       "z\n",
       "\" clip-path=\"url(#p04aa81a200)\" style=\"fill: #1f77b4\"/>\n",
       "   </g>\n",
       "   <g id=\"patch_44\">\n",
       "    <path d=\"M 286.67358 244.078125 \n",
       "L 291.746307 244.078125 \n",
       "L 291.746307 244.078125 \n",
       "L 286.67358 244.078125 \n",
       "z\n",
       "\" clip-path=\"url(#p04aa81a200)\" style=\"fill: #1f77b4\"/>\n",
       "   </g>\n",
       "   <g id=\"patch_45\">\n",
       "    <path d=\"M 291.746307 244.078125 \n",
       "L 296.819034 244.078125 \n",
       "L 296.819034 244.078125 \n",
       "L 291.746307 244.078125 \n",
       "z\n",
       "\" clip-path=\"url(#p04aa81a200)\" style=\"fill: #1f77b4\"/>\n",
       "   </g>\n",
       "   <g id=\"patch_46\">\n",
       "    <path d=\"M 296.819034 244.078125 \n",
       "L 301.891761 244.078125 \n",
       "L 301.891761 244.078125 \n",
       "L 296.819034 244.078125 \n",
       "z\n",
       "\" clip-path=\"url(#p04aa81a200)\" style=\"fill: #1f77b4\"/>\n",
       "   </g>\n",
       "   <g id=\"patch_47\">\n",
       "    <path d=\"M 301.891761 244.078125 \n",
       "L 306.964489 244.078125 \n",
       "L 306.964489 244.078125 \n",
       "L 301.891761 244.078125 \n",
       "z\n",
       "\" clip-path=\"url(#p04aa81a200)\" style=\"fill: #1f77b4\"/>\n",
       "   </g>\n",
       "   <g id=\"patch_48\">\n",
       "    <path d=\"M 306.964489 244.078125 \n",
       "L 312.037216 244.078125 \n",
       "L 312.037216 244.078125 \n",
       "L 306.964489 244.078125 \n",
       "z\n",
       "\" clip-path=\"url(#p04aa81a200)\" style=\"fill: #1f77b4\"/>\n",
       "   </g>\n",
       "   <g id=\"patch_49\">\n",
       "    <path d=\"M 312.037216 244.078125 \n",
       "L 317.109943 244.078125 \n",
       "L 317.109943 244.078125 \n",
       "L 312.037216 244.078125 \n",
       "z\n",
       "\" clip-path=\"url(#p04aa81a200)\" style=\"fill: #1f77b4\"/>\n",
       "   </g>\n",
       "   <g id=\"patch_50\">\n",
       "    <path d=\"M 317.109943 244.078125 \n",
       "L 322.18267 244.078125 \n",
       "L 322.18267 244.078125 \n",
       "L 317.109943 244.078125 \n",
       "z\n",
       "\" clip-path=\"url(#p04aa81a200)\" style=\"fill: #1f77b4\"/>\n",
       "   </g>\n",
       "   <g id=\"patch_51\">\n",
       "    <path d=\"M 322.18267 244.078125 \n",
       "L 327.255398 244.078125 \n",
       "L 327.255398 244.078125 \n",
       "L 322.18267 244.078125 \n",
       "z\n",
       "\" clip-path=\"url(#p04aa81a200)\" style=\"fill: #1f77b4\"/>\n",
       "   </g>\n",
       "   <g id=\"patch_52\">\n",
       "    <path d=\"M 327.255398 244.078125 \n",
       "L 332.328125 244.078125 \n",
       "L 332.328125 244.078125 \n",
       "L 327.255398 244.078125 \n",
       "z\n",
       "\" clip-path=\"url(#p04aa81a200)\" style=\"fill: #1f77b4\"/>\n",
       "   </g>\n",
       "   <g id=\"patch_53\">\n",
       "    <path d=\"M 332.328125 244.078125 \n",
       "L 337.400852 244.078125 \n",
       "L 337.400852 32.878125 \n",
       "L 332.328125 32.878125 \n",
       "z\n",
       "\" clip-path=\"url(#p04aa81a200)\" style=\"fill: #1f77b4\"/>\n",
       "   </g>\n",
       "   <g id=\"patch_54\">\n",
       "    <path d=\"M 337.400852 244.078125 \n",
       "L 342.47358 244.078125 \n",
       "L 342.47358 244.078125 \n",
       "L 337.400852 244.078125 \n",
       "z\n",
       "\" clip-path=\"url(#p04aa81a200)\" style=\"fill: #1f77b4\"/>\n",
       "   </g>\n",
       "   <g id=\"patch_55\">\n",
       "    <path d=\"M 342.47358 244.078125 \n",
       "L 347.546307 244.078125 \n",
       "L 347.546307 244.078125 \n",
       "L 342.47358 244.078125 \n",
       "z\n",
       "\" clip-path=\"url(#p04aa81a200)\" style=\"fill: #1f77b4\"/>\n",
       "   </g>\n",
       "   <g id=\"patch_56\">\n",
       "    <path d=\"M 347.546307 244.078125 \n",
       "L 352.619034 244.078125 \n",
       "L 352.619034 244.078125 \n",
       "L 347.546307 244.078125 \n",
       "z\n",
       "\" clip-path=\"url(#p04aa81a200)\" style=\"fill: #1f77b4\"/>\n",
       "   </g>\n",
       "   <g id=\"patch_57\">\n",
       "    <path d=\"M 352.619034 244.078125 \n",
       "L 357.691761 244.078125 \n",
       "L 357.691761 244.078125 \n",
       "L 352.619034 244.078125 \n",
       "z\n",
       "\" clip-path=\"url(#p04aa81a200)\" style=\"fill: #1f77b4\"/>\n",
       "   </g>\n",
       "   <g id=\"patch_58\">\n",
       "    <path d=\"M 357.691761 244.078125 \n",
       "L 362.764489 244.078125 \n",
       "L 362.764489 244.078125 \n",
       "L 357.691761 244.078125 \n",
       "z\n",
       "\" clip-path=\"url(#p04aa81a200)\" style=\"fill: #1f77b4\"/>\n",
       "   </g>\n",
       "   <g id=\"patch_59\">\n",
       "    <path d=\"M 362.764489 244.078125 \n",
       "L 367.837216 244.078125 \n",
       "L 367.837216 244.078125 \n",
       "L 362.764489 244.078125 \n",
       "z\n",
       "\" clip-path=\"url(#p04aa81a200)\" style=\"fill: #1f77b4\"/>\n",
       "   </g>\n",
       "   <g id=\"patch_60\">\n",
       "    <path d=\"M 367.837216 244.078125 \n",
       "L 372.909943 244.078125 \n",
       "L 372.909943 244.078125 \n",
       "L 367.837216 244.078125 \n",
       "z\n",
       "\" clip-path=\"url(#p04aa81a200)\" style=\"fill: #1f77b4\"/>\n",
       "   </g>\n",
       "   <g id=\"patch_61\">\n",
       "    <path d=\"M 372.909943 244.078125 \n",
       "L 377.98267 244.078125 \n",
       "L 377.98267 244.078125 \n",
       "L 372.909943 244.078125 \n",
       "z\n",
       "\" clip-path=\"url(#p04aa81a200)\" style=\"fill: #1f77b4\"/>\n",
       "   </g>\n",
       "   <g id=\"patch_62\">\n",
       "    <path d=\"M 377.98267 244.078125 \n",
       "L 383.055398 244.078125 \n",
       "L 383.055398 244.078125 \n",
       "L 377.98267 244.078125 \n",
       "z\n",
       "\" clip-path=\"url(#p04aa81a200)\" style=\"fill: #1f77b4\"/>\n",
       "   </g>\n",
       "   <g id=\"patch_63\">\n",
       "    <path d=\"M 383.055398 244.078125 \n",
       "L 388.128125 244.078125 \n",
       "L 388.128125 244.078125 \n",
       "L 383.055398 244.078125 \n",
       "z\n",
       "\" clip-path=\"url(#p04aa81a200)\" style=\"fill: #1f77b4\"/>\n",
       "   </g>\n",
       "   <g id=\"patch_64\">\n",
       "    <path d=\"M 388.128125 244.078125 \n",
       "L 393.200852 244.078125 \n",
       "L 393.200852 244.078125 \n",
       "L 388.128125 244.078125 \n",
       "z\n",
       "\" clip-path=\"url(#p04aa81a200)\" style=\"fill: #1f77b4\"/>\n",
       "   </g>\n",
       "   <g id=\"patch_65\">\n",
       "    <path d=\"M 393.200852 244.078125 \n",
       "L 398.27358 244.078125 \n",
       "L 398.27358 244.078125 \n",
       "L 393.200852 244.078125 \n",
       "z\n",
       "\" clip-path=\"url(#p04aa81a200)\" style=\"fill: #1f77b4\"/>\n",
       "   </g>\n",
       "   <g id=\"patch_66\">\n",
       "    <path d=\"M 398.27358 244.078125 \n",
       "L 403.346307 244.078125 \n",
       "L 403.346307 244.078125 \n",
       "L 398.27358 244.078125 \n",
       "z\n",
       "\" clip-path=\"url(#p04aa81a200)\" style=\"fill: #1f77b4\"/>\n",
       "   </g>\n",
       "   <g id=\"patch_67\">\n",
       "    <path d=\"M 403.346307 244.078125 \n",
       "L 408.419034 244.078125 \n",
       "L 408.419034 244.078125 \n",
       "L 403.346307 244.078125 \n",
       "z\n",
       "\" clip-path=\"url(#p04aa81a200)\" style=\"fill: #1f77b4\"/>\n",
       "   </g>\n",
       "   <g id=\"patch_68\">\n",
       "    <path d=\"M 408.419034 244.078125 \n",
       "L 413.491761 244.078125 \n",
       "L 413.491761 244.078125 \n",
       "L 408.419034 244.078125 \n",
       "z\n",
       "\" clip-path=\"url(#p04aa81a200)\" style=\"fill: #1f77b4\"/>\n",
       "   </g>\n",
       "   <g id=\"patch_69\">\n",
       "    <path d=\"M 413.491761 244.078125 \n",
       "L 418.564489 244.078125 \n",
       "L 418.564489 244.078125 \n",
       "L 413.491761 244.078125 \n",
       "z\n",
       "\" clip-path=\"url(#p04aa81a200)\" style=\"fill: #1f77b4\"/>\n",
       "   </g>\n",
       "   <g id=\"patch_70\">\n",
       "    <path d=\"M 418.564489 244.078125 \n",
       "L 423.637216 244.078125 \n",
       "L 423.637216 244.078125 \n",
       "L 418.564489 244.078125 \n",
       "z\n",
       "\" clip-path=\"url(#p04aa81a200)\" style=\"fill: #1f77b4\"/>\n",
       "   </g>\n",
       "   <g id=\"patch_71\">\n",
       "    <path d=\"M 423.637216 244.078125 \n",
       "L 428.709943 244.078125 \n",
       "L 428.709943 244.078125 \n",
       "L 423.637216 244.078125 \n",
       "z\n",
       "\" clip-path=\"url(#p04aa81a200)\" style=\"fill: #1f77b4\"/>\n",
       "   </g>\n",
       "   <g id=\"patch_72\">\n",
       "    <path d=\"M 428.709943 244.078125 \n",
       "L 433.78267 244.078125 \n",
       "L 433.78267 244.078125 \n",
       "L 428.709943 244.078125 \n",
       "z\n",
       "\" clip-path=\"url(#p04aa81a200)\" style=\"fill: #1f77b4\"/>\n",
       "   </g>\n",
       "   <g id=\"patch_73\">\n",
       "    <path d=\"M 433.78267 244.078125 \n",
       "L 438.855398 244.078125 \n",
       "L 438.855398 244.078125 \n",
       "L 433.78267 244.078125 \n",
       "z\n",
       "\" clip-path=\"url(#p04aa81a200)\" style=\"fill: #1f77b4\"/>\n",
       "   </g>\n",
       "   <g id=\"patch_74\">\n",
       "    <path d=\"M 438.855398 244.078125 \n",
       "L 443.928125 244.078125 \n",
       "L 443.928125 244.078125 \n",
       "L 438.855398 244.078125 \n",
       "z\n",
       "\" clip-path=\"url(#p04aa81a200)\" style=\"fill: #1f77b4\"/>\n",
       "   </g>\n",
       "   <g id=\"patch_75\">\n",
       "    <path d=\"M 443.928125 244.078125 \n",
       "L 449.000852 244.078125 \n",
       "L 449.000852 244.078125 \n",
       "L 443.928125 244.078125 \n",
       "z\n",
       "\" clip-path=\"url(#p04aa81a200)\" style=\"fill: #1f77b4\"/>\n",
       "   </g>\n",
       "   <g id=\"patch_76\">\n",
       "    <path d=\"M 449.000852 244.078125 \n",
       "L 454.07358 244.078125 \n",
       "L 454.07358 244.078125 \n",
       "L 449.000852 244.078125 \n",
       "z\n",
       "\" clip-path=\"url(#p04aa81a200)\" style=\"fill: #1f77b4\"/>\n",
       "   </g>\n",
       "   <g id=\"patch_77\">\n",
       "    <path d=\"M 454.07358 244.078125 \n",
       "L 459.146307 244.078125 \n",
       "L 459.146307 244.078125 \n",
       "L 454.07358 244.078125 \n",
       "z\n",
       "\" clip-path=\"url(#p04aa81a200)\" style=\"fill: #1f77b4\"/>\n",
       "   </g>\n",
       "   <g id=\"patch_78\">\n",
       "    <path d=\"M 459.146307 244.078125 \n",
       "L 464.219034 244.078125 \n",
       "L 464.219034 244.078125 \n",
       "L 459.146307 244.078125 \n",
       "z\n",
       "\" clip-path=\"url(#p04aa81a200)\" style=\"fill: #1f77b4\"/>\n",
       "   </g>\n",
       "   <g id=\"patch_79\">\n",
       "    <path d=\"M 464.219034 244.078125 \n",
       "L 469.291761 244.078125 \n",
       "L 469.291761 244.078125 \n",
       "L 464.219034 244.078125 \n",
       "z\n",
       "\" clip-path=\"url(#p04aa81a200)\" style=\"fill: #1f77b4\"/>\n",
       "   </g>\n",
       "   <g id=\"patch_80\">\n",
       "    <path d=\"M 469.291761 244.078125 \n",
       "L 474.364489 244.078125 \n",
       "L 474.364489 244.078125 \n",
       "L 469.291761 244.078125 \n",
       "z\n",
       "\" clip-path=\"url(#p04aa81a200)\" style=\"fill: #1f77b4\"/>\n",
       "   </g>\n",
       "   <g id=\"patch_81\">\n",
       "    <path d=\"M 474.364489 244.078125 \n",
       "L 479.437216 244.078125 \n",
       "L 479.437216 244.078125 \n",
       "L 474.364489 244.078125 \n",
       "z\n",
       "\" clip-path=\"url(#p04aa81a200)\" style=\"fill: #1f77b4\"/>\n",
       "   </g>\n",
       "   <g id=\"patch_82\">\n",
       "    <path d=\"M 479.437216 244.078125 \n",
       "L 484.509943 244.078125 \n",
       "L 484.509943 244.078125 \n",
       "L 479.437216 244.078125 \n",
       "z\n",
       "\" clip-path=\"url(#p04aa81a200)\" style=\"fill: #1f77b4\"/>\n",
       "   </g>\n",
       "   <g id=\"patch_83\">\n",
       "    <path d=\"M 484.509943 244.078125 \n",
       "L 489.58267 244.078125 \n",
       "L 489.58267 244.078125 \n",
       "L 484.509943 244.078125 \n",
       "z\n",
       "\" clip-path=\"url(#p04aa81a200)\" style=\"fill: #1f77b4\"/>\n",
       "   </g>\n",
       "   <g id=\"patch_84\">\n",
       "    <path d=\"M 489.58267 244.078125 \n",
       "L 494.655398 244.078125 \n",
       "L 494.655398 244.078125 \n",
       "L 489.58267 244.078125 \n",
       "z\n",
       "\" clip-path=\"url(#p04aa81a200)\" style=\"fill: #1f77b4\"/>\n",
       "   </g>\n",
       "   <g id=\"patch_85\">\n",
       "    <path d=\"M 494.655398 244.078125 \n",
       "L 499.728125 244.078125 \n",
       "L 499.728125 244.078125 \n",
       "L 494.655398 244.078125 \n",
       "z\n",
       "\" clip-path=\"url(#p04aa81a200)\" style=\"fill: #1f77b4\"/>\n",
       "   </g>\n",
       "   <g id=\"patch_86\">\n",
       "    <path d=\"M 499.728125 244.078125 \n",
       "L 504.800852 244.078125 \n",
       "L 504.800852 244.078125 \n",
       "L 499.728125 244.078125 \n",
       "z\n",
       "\" clip-path=\"url(#p04aa81a200)\" style=\"fill: #1f77b4\"/>\n",
       "   </g>\n",
       "   <g id=\"patch_87\">\n",
       "    <path d=\"M 504.800852 244.078125 \n",
       "L 509.87358 244.078125 \n",
       "L 509.87358 244.078125 \n",
       "L 504.800852 244.078125 \n",
       "z\n",
       "\" clip-path=\"url(#p04aa81a200)\" style=\"fill: #1f77b4\"/>\n",
       "   </g>\n",
       "   <g id=\"patch_88\">\n",
       "    <path d=\"M 509.87358 244.078125 \n",
       "L 514.946307 244.078125 \n",
       "L 514.946307 244.078125 \n",
       "L 509.87358 244.078125 \n",
       "z\n",
       "\" clip-path=\"url(#p04aa81a200)\" style=\"fill: #1f77b4\"/>\n",
       "   </g>\n",
       "   <g id=\"patch_89\">\n",
       "    <path d=\"M 514.946307 244.078125 \n",
       "L 520.019034 244.078125 \n",
       "L 520.019034 244.078125 \n",
       "L 514.946307 244.078125 \n",
       "z\n",
       "\" clip-path=\"url(#p04aa81a200)\" style=\"fill: #1f77b4\"/>\n",
       "   </g>\n",
       "   <g id=\"patch_90\">\n",
       "    <path d=\"M 520.019034 244.078125 \n",
       "L 525.091761 244.078125 \n",
       "L 525.091761 244.078125 \n",
       "L 520.019034 244.078125 \n",
       "z\n",
       "\" clip-path=\"url(#p04aa81a200)\" style=\"fill: #1f77b4\"/>\n",
       "   </g>\n",
       "   <g id=\"patch_91\">\n",
       "    <path d=\"M 525.091761 244.078125 \n",
       "L 530.164489 244.078125 \n",
       "L 530.164489 244.078125 \n",
       "L 525.091761 244.078125 \n",
       "z\n",
       "\" clip-path=\"url(#p04aa81a200)\" style=\"fill: #1f77b4\"/>\n",
       "   </g>\n",
       "   <g id=\"patch_92\">\n",
       "    <path d=\"M 530.164489 244.078125 \n",
       "L 535.237216 244.078125 \n",
       "L 535.237216 244.078125 \n",
       "L 530.164489 244.078125 \n",
       "z\n",
       "\" clip-path=\"url(#p04aa81a200)\" style=\"fill: #1f77b4\"/>\n",
       "   </g>\n",
       "   <g id=\"patch_93\">\n",
       "    <path d=\"M 535.237216 244.078125 \n",
       "L 540.309943 244.078125 \n",
       "L 540.309943 244.078125 \n",
       "L 535.237216 244.078125 \n",
       "z\n",
       "\" clip-path=\"url(#p04aa81a200)\" style=\"fill: #1f77b4\"/>\n",
       "   </g>\n",
       "   <g id=\"patch_94\">\n",
       "    <path d=\"M 540.309943 244.078125 \n",
       "L 545.38267 244.078125 \n",
       "L 545.38267 244.078125 \n",
       "L 540.309943 244.078125 \n",
       "z\n",
       "\" clip-path=\"url(#p04aa81a200)\" style=\"fill: #1f77b4\"/>\n",
       "   </g>\n",
       "   <g id=\"patch_95\">\n",
       "    <path d=\"M 545.38267 244.078125 \n",
       "L 550.455398 244.078125 \n",
       "L 550.455398 244.078125 \n",
       "L 545.38267 244.078125 \n",
       "z\n",
       "\" clip-path=\"url(#p04aa81a200)\" style=\"fill: #1f77b4\"/>\n",
       "   </g>\n",
       "   <g id=\"patch_96\">\n",
       "    <path d=\"M 550.455398 244.078125 \n",
       "L 555.528125 244.078125 \n",
       "L 555.528125 244.078125 \n",
       "L 550.455398 244.078125 \n",
       "z\n",
       "\" clip-path=\"url(#p04aa81a200)\" style=\"fill: #1f77b4\"/>\n",
       "   </g>\n",
       "   <g id=\"patch_97\">\n",
       "    <path d=\"M 555.528125 244.078125 \n",
       "L 560.600852 244.078125 \n",
       "L 560.600852 244.078125 \n",
       "L 555.528125 244.078125 \n",
       "z\n",
       "\" clip-path=\"url(#p04aa81a200)\" style=\"fill: #1f77b4\"/>\n",
       "   </g>\n",
       "   <g id=\"patch_98\">\n",
       "    <path d=\"M 560.600852 244.078125 \n",
       "L 565.67358 244.078125 \n",
       "L 565.67358 244.078125 \n",
       "L 560.600852 244.078125 \n",
       "z\n",
       "\" clip-path=\"url(#p04aa81a200)\" style=\"fill: #1f77b4\"/>\n",
       "   </g>\n",
       "   <g id=\"patch_99\">\n",
       "    <path d=\"M 565.67358 244.078125 \n",
       "L 570.746307 244.078125 \n",
       "L 570.746307 244.078125 \n",
       "L 565.67358 244.078125 \n",
       "z\n",
       "\" clip-path=\"url(#p04aa81a200)\" style=\"fill: #1f77b4\"/>\n",
       "   </g>\n",
       "   <g id=\"patch_100\">\n",
       "    <path d=\"M 570.746307 244.078125 \n",
       "L 575.819034 244.078125 \n",
       "L 575.819034 244.078125 \n",
       "L 570.746307 244.078125 \n",
       "z\n",
       "\" clip-path=\"url(#p04aa81a200)\" style=\"fill: #1f77b4\"/>\n",
       "   </g>\n",
       "   <g id=\"patch_101\">\n",
       "    <path d=\"M 575.819034 244.078125 \n",
       "L 580.891761 244.078125 \n",
       "L 580.891761 244.078125 \n",
       "L 575.819034 244.078125 \n",
       "z\n",
       "\" clip-path=\"url(#p04aa81a200)\" style=\"fill: #1f77b4\"/>\n",
       "   </g>\n",
       "   <g id=\"patch_102\">\n",
       "    <path d=\"M 580.891761 244.078125 \n",
       "L 585.964489 244.078125 \n",
       "L 585.964489 244.078125 \n",
       "L 580.891761 244.078125 \n",
       "z\n",
       "\" clip-path=\"url(#p04aa81a200)\" style=\"fill: #1f77b4\"/>\n",
       "   </g>\n",
       "   <g id=\"matplotlib.axis_1\">\n",
       "    <g id=\"xtick_1\">\n",
       "     <g id=\"line2d_1\">\n",
       "      <defs>\n",
       "       <path id=\"m686cbb00d2\" d=\"M 0 0 \n",
       "L 0 3.5 \n",
       "\" style=\"stroke: #000000; stroke-width: 0.8\"/>\n",
       "      </defs>\n",
       "      <g>\n",
       "       <use xlink:href=\"#m686cbb00d2\" x=\"129.419034\" y=\"244.078125\" style=\"stroke: #000000; stroke-width: 0.8\"/>\n",
       "      </g>\n",
       "     </g>\n",
       "     <g id=\"text_1\">\n",
       "      <!-- 499.6 -->\n",
       "      <g transform=\"translate(115.104972 258.676562) scale(0.1 -0.1)\">\n",
       "       <defs>\n",
       "        <path id=\"DejaVuSans-34\" d=\"M 2419 4116 \n",
       "L 825 1625 \n",
       "L 2419 1625 \n",
       "L 2419 4116 \n",
       "z\n",
       "M 2253 4666 \n",
       "L 3047 4666 \n",
       "L 3047 1625 \n",
       "L 3713 1625 \n",
       "L 3713 1100 \n",
       "L 3047 1100 \n",
       "L 3047 0 \n",
       "L 2419 0 \n",
       "L 2419 1100 \n",
       "L 313 1100 \n",
       "L 313 1709 \n",
       "L 2253 4666 \n",
       "z\n",
       "\" transform=\"scale(0.015625)\"/>\n",
       "        <path id=\"DejaVuSans-39\" d=\"M 703 97 \n",
       "L 703 672 \n",
       "Q 941 559 1184 500 \n",
       "Q 1428 441 1663 441 \n",
       "Q 2288 441 2617 861 \n",
       "Q 2947 1281 2994 2138 \n",
       "Q 2813 1869 2534 1725 \n",
       "Q 2256 1581 1919 1581 \n",
       "Q 1219 1581 811 2004 \n",
       "Q 403 2428 403 3163 \n",
       "Q 403 3881 828 4315 \n",
       "Q 1253 4750 1959 4750 \n",
       "Q 2769 4750 3195 4129 \n",
       "Q 3622 3509 3622 2328 \n",
       "Q 3622 1225 3098 567 \n",
       "Q 2575 -91 1691 -91 \n",
       "Q 1453 -91 1209 -44 \n",
       "Q 966 3 703 97 \n",
       "z\n",
       "M 1959 2075 \n",
       "Q 2384 2075 2632 2365 \n",
       "Q 2881 2656 2881 3163 \n",
       "Q 2881 3666 2632 3958 \n",
       "Q 2384 4250 1959 4250 \n",
       "Q 1534 4250 1286 3958 \n",
       "Q 1038 3666 1038 3163 \n",
       "Q 1038 2656 1286 2365 \n",
       "Q 1534 2075 1959 2075 \n",
       "z\n",
       "\" transform=\"scale(0.015625)\"/>\n",
       "        <path id=\"DejaVuSans-2e\" d=\"M 684 794 \n",
       "L 1344 794 \n",
       "L 1344 0 \n",
       "L 684 0 \n",
       "L 684 794 \n",
       "z\n",
       "\" transform=\"scale(0.015625)\"/>\n",
       "        <path id=\"DejaVuSans-36\" d=\"M 2113 2584 \n",
       "Q 1688 2584 1439 2293 \n",
       "Q 1191 2003 1191 1497 \n",
       "Q 1191 994 1439 701 \n",
       "Q 1688 409 2113 409 \n",
       "Q 2538 409 2786 701 \n",
       "Q 3034 994 3034 1497 \n",
       "Q 3034 2003 2786 2293 \n",
       "Q 2538 2584 2113 2584 \n",
       "z\n",
       "M 3366 4563 \n",
       "L 3366 3988 \n",
       "Q 3128 4100 2886 4159 \n",
       "Q 2644 4219 2406 4219 \n",
       "Q 1781 4219 1451 3797 \n",
       "Q 1122 3375 1075 2522 \n",
       "Q 1259 2794 1537 2939 \n",
       "Q 1816 3084 2150 3084 \n",
       "Q 2853 3084 3261 2657 \n",
       "Q 3669 2231 3669 1497 \n",
       "Q 3669 778 3244 343 \n",
       "Q 2819 -91 2113 -91 \n",
       "Q 1303 -91 875 529 \n",
       "Q 447 1150 447 2328 \n",
       "Q 447 3434 972 4092 \n",
       "Q 1497 4750 2381 4750 \n",
       "Q 2619 4750 2861 4703 \n",
       "Q 3103 4656 3366 4563 \n",
       "z\n",
       "\" transform=\"scale(0.015625)\"/>\n",
       "       </defs>\n",
       "       <use xlink:href=\"#DejaVuSans-34\"/>\n",
       "       <use xlink:href=\"#DejaVuSans-39\" x=\"63.623047\"/>\n",
       "       <use xlink:href=\"#DejaVuSans-39\" x=\"127.246094\"/>\n",
       "       <use xlink:href=\"#DejaVuSans-2e\" x=\"190.869141\"/>\n",
       "       <use xlink:href=\"#DejaVuSans-36\" x=\"222.65625\"/>\n",
       "      </g>\n",
       "     </g>\n",
       "    </g>\n",
       "    <g id=\"xtick_2\">\n",
       "     <g id=\"line2d_2\">\n",
       "      <g>\n",
       "       <use xlink:href=\"#m686cbb00d2\" x=\"230.87358\" y=\"244.078125\" style=\"stroke: #000000; stroke-width: 0.8\"/>\n",
       "      </g>\n",
       "     </g>\n",
       "     <g id=\"text_2\">\n",
       "      <!-- 499.8 -->\n",
       "      <g transform=\"translate(216.559517 258.676562) scale(0.1 -0.1)\">\n",
       "       <defs>\n",
       "        <path id=\"DejaVuSans-38\" d=\"M 2034 2216 \n",
       "Q 1584 2216 1326 1975 \n",
       "Q 1069 1734 1069 1313 \n",
       "Q 1069 891 1326 650 \n",
       "Q 1584 409 2034 409 \n",
       "Q 2484 409 2743 651 \n",
       "Q 3003 894 3003 1313 \n",
       "Q 3003 1734 2745 1975 \n",
       "Q 2488 2216 2034 2216 \n",
       "z\n",
       "M 1403 2484 \n",
       "Q 997 2584 770 2862 \n",
       "Q 544 3141 544 3541 \n",
       "Q 544 4100 942 4425 \n",
       "Q 1341 4750 2034 4750 \n",
       "Q 2731 4750 3128 4425 \n",
       "Q 3525 4100 3525 3541 \n",
       "Q 3525 3141 3298 2862 \n",
       "Q 3072 2584 2669 2484 \n",
       "Q 3125 2378 3379 2068 \n",
       "Q 3634 1759 3634 1313 \n",
       "Q 3634 634 3220 271 \n",
       "Q 2806 -91 2034 -91 \n",
       "Q 1263 -91 848 271 \n",
       "Q 434 634 434 1313 \n",
       "Q 434 1759 690 2068 \n",
       "Q 947 2378 1403 2484 \n",
       "z\n",
       "M 1172 3481 \n",
       "Q 1172 3119 1398 2916 \n",
       "Q 1625 2713 2034 2713 \n",
       "Q 2441 2713 2670 2916 \n",
       "Q 2900 3119 2900 3481 \n",
       "Q 2900 3844 2670 4047 \n",
       "Q 2441 4250 2034 4250 \n",
       "Q 1625 4250 1398 4047 \n",
       "Q 1172 3844 1172 3481 \n",
       "z\n",
       "\" transform=\"scale(0.015625)\"/>\n",
       "       </defs>\n",
       "       <use xlink:href=\"#DejaVuSans-34\"/>\n",
       "       <use xlink:href=\"#DejaVuSans-39\" x=\"63.623047\"/>\n",
       "       <use xlink:href=\"#DejaVuSans-39\" x=\"127.246094\"/>\n",
       "       <use xlink:href=\"#DejaVuSans-2e\" x=\"190.869141\"/>\n",
       "       <use xlink:href=\"#DejaVuSans-38\" x=\"222.65625\"/>\n",
       "      </g>\n",
       "     </g>\n",
       "    </g>\n",
       "    <g id=\"xtick_3\">\n",
       "     <g id=\"line2d_3\">\n",
       "      <g>\n",
       "       <use xlink:href=\"#m686cbb00d2\" x=\"332.328125\" y=\"244.078125\" style=\"stroke: #000000; stroke-width: 0.8\"/>\n",
       "      </g>\n",
       "     </g>\n",
       "     <g id=\"text_3\">\n",
       "      <!-- 500.0 -->\n",
       "      <g transform=\"translate(318.014063 258.676562) scale(0.1 -0.1)\">\n",
       "       <defs>\n",
       "        <path id=\"DejaVuSans-35\" d=\"M 691 4666 \n",
       "L 3169 4666 \n",
       "L 3169 4134 \n",
       "L 1269 4134 \n",
       "L 1269 2991 \n",
       "Q 1406 3038 1543 3061 \n",
       "Q 1681 3084 1819 3084 \n",
       "Q 2600 3084 3056 2656 \n",
       "Q 3513 2228 3513 1497 \n",
       "Q 3513 744 3044 326 \n",
       "Q 2575 -91 1722 -91 \n",
       "Q 1428 -91 1123 -41 \n",
       "Q 819 9 494 109 \n",
       "L 494 744 \n",
       "Q 775 591 1075 516 \n",
       "Q 1375 441 1709 441 \n",
       "Q 2250 441 2565 725 \n",
       "Q 2881 1009 2881 1497 \n",
       "Q 2881 1984 2565 2268 \n",
       "Q 2250 2553 1709 2553 \n",
       "Q 1456 2553 1204 2497 \n",
       "Q 953 2441 691 2322 \n",
       "L 691 4666 \n",
       "z\n",
       "\" transform=\"scale(0.015625)\"/>\n",
       "        <path id=\"DejaVuSans-30\" d=\"M 2034 4250 \n",
       "Q 1547 4250 1301 3770 \n",
       "Q 1056 3291 1056 2328 \n",
       "Q 1056 1369 1301 889 \n",
       "Q 1547 409 2034 409 \n",
       "Q 2525 409 2770 889 \n",
       "Q 3016 1369 3016 2328 \n",
       "Q 3016 3291 2770 3770 \n",
       "Q 2525 4250 2034 4250 \n",
       "z\n",
       "M 2034 4750 \n",
       "Q 2819 4750 3233 4129 \n",
       "Q 3647 3509 3647 2328 \n",
       "Q 3647 1150 3233 529 \n",
       "Q 2819 -91 2034 -91 \n",
       "Q 1250 -91 836 529 \n",
       "Q 422 1150 422 2328 \n",
       "Q 422 3509 836 4129 \n",
       "Q 1250 4750 2034 4750 \n",
       "z\n",
       "\" transform=\"scale(0.015625)\"/>\n",
       "       </defs>\n",
       "       <use xlink:href=\"#DejaVuSans-35\"/>\n",
       "       <use xlink:href=\"#DejaVuSans-30\" x=\"63.623047\"/>\n",
       "       <use xlink:href=\"#DejaVuSans-30\" x=\"127.246094\"/>\n",
       "       <use xlink:href=\"#DejaVuSans-2e\" x=\"190.869141\"/>\n",
       "       <use xlink:href=\"#DejaVuSans-30\" x=\"222.65625\"/>\n",
       "      </g>\n",
       "     </g>\n",
       "    </g>\n",
       "    <g id=\"xtick_4\">\n",
       "     <g id=\"line2d_4\">\n",
       "      <g>\n",
       "       <use xlink:href=\"#m686cbb00d2\" x=\"433.78267\" y=\"244.078125\" style=\"stroke: #000000; stroke-width: 0.8\"/>\n",
       "      </g>\n",
       "     </g>\n",
       "     <g id=\"text_4\">\n",
       "      <!-- 500.2 -->\n",
       "      <g transform=\"translate(419.468608 258.676562) scale(0.1 -0.1)\">\n",
       "       <defs>\n",
       "        <path id=\"DejaVuSans-32\" d=\"M 1228 531 \n",
       "L 3431 531 \n",
       "L 3431 0 \n",
       "L 469 0 \n",
       "L 469 531 \n",
       "Q 828 903 1448 1529 \n",
       "Q 2069 2156 2228 2338 \n",
       "Q 2531 2678 2651 2914 \n",
       "Q 2772 3150 2772 3378 \n",
       "Q 2772 3750 2511 3984 \n",
       "Q 2250 4219 1831 4219 \n",
       "Q 1534 4219 1204 4116 \n",
       "Q 875 4013 500 3803 \n",
       "L 500 4441 \n",
       "Q 881 4594 1212 4672 \n",
       "Q 1544 4750 1819 4750 \n",
       "Q 2544 4750 2975 4387 \n",
       "Q 3406 4025 3406 3419 \n",
       "Q 3406 3131 3298 2873 \n",
       "Q 3191 2616 2906 2266 \n",
       "Q 2828 2175 2409 1742 \n",
       "Q 1991 1309 1228 531 \n",
       "z\n",
       "\" transform=\"scale(0.015625)\"/>\n",
       "       </defs>\n",
       "       <use xlink:href=\"#DejaVuSans-35\"/>\n",
       "       <use xlink:href=\"#DejaVuSans-30\" x=\"63.623047\"/>\n",
       "       <use xlink:href=\"#DejaVuSans-30\" x=\"127.246094\"/>\n",
       "       <use xlink:href=\"#DejaVuSans-2e\" x=\"190.869141\"/>\n",
       "       <use xlink:href=\"#DejaVuSans-32\" x=\"222.65625\"/>\n",
       "      </g>\n",
       "     </g>\n",
       "    </g>\n",
       "    <g id=\"xtick_5\">\n",
       "     <g id=\"line2d_5\">\n",
       "      <g>\n",
       "       <use xlink:href=\"#m686cbb00d2\" x=\"535.237216\" y=\"244.078125\" style=\"stroke: #000000; stroke-width: 0.8\"/>\n",
       "      </g>\n",
       "     </g>\n",
       "     <g id=\"text_5\">\n",
       "      <!-- 500.4 -->\n",
       "      <g transform=\"translate(520.923153 258.676562) scale(0.1 -0.1)\">\n",
       "       <use xlink:href=\"#DejaVuSans-35\"/>\n",
       "       <use xlink:href=\"#DejaVuSans-30\" x=\"63.623047\"/>\n",
       "       <use xlink:href=\"#DejaVuSans-30\" x=\"127.246094\"/>\n",
       "       <use xlink:href=\"#DejaVuSans-2e\" x=\"190.869141\"/>\n",
       "       <use xlink:href=\"#DejaVuSans-34\" x=\"222.65625\"/>\n",
       "      </g>\n",
       "     </g>\n",
       "    </g>\n",
       "   </g>\n",
       "   <g id=\"matplotlib.axis_2\">\n",
       "    <g id=\"ytick_1\">\n",
       "     <g id=\"line2d_6\">\n",
       "      <defs>\n",
       "       <path id=\"mfbef19fa98\" d=\"M 0 0 \n",
       "L -3.5 0 \n",
       "\" style=\"stroke: #000000; stroke-width: 0.8\"/>\n",
       "      </defs>\n",
       "      <g>\n",
       "       <use xlink:href=\"#mfbef19fa98\" x=\"53.328125\" y=\"244.078125\" style=\"stroke: #000000; stroke-width: 0.8\"/>\n",
       "      </g>\n",
       "     </g>\n",
       "     <g id=\"text_6\">\n",
       "      <!-- 0 -->\n",
       "      <g transform=\"translate(39.965625 247.877344) scale(0.1 -0.1)\">\n",
       "       <use xlink:href=\"#DejaVuSans-30\"/>\n",
       "      </g>\n",
       "     </g>\n",
       "    </g>\n",
       "    <g id=\"ytick_2\">\n",
       "     <g id=\"line2d_7\">\n",
       "      <g>\n",
       "       <use xlink:href=\"#mfbef19fa98\" x=\"53.328125\" y=\"201.838125\" style=\"stroke: #000000; stroke-width: 0.8\"/>\n",
       "      </g>\n",
       "     </g>\n",
       "     <g id=\"text_7\">\n",
       "      <!-- 200 -->\n",
       "      <g transform=\"translate(27.240625 205.637344) scale(0.1 -0.1)\">\n",
       "       <use xlink:href=\"#DejaVuSans-32\"/>\n",
       "       <use xlink:href=\"#DejaVuSans-30\" x=\"63.623047\"/>\n",
       "       <use xlink:href=\"#DejaVuSans-30\" x=\"127.246094\"/>\n",
       "      </g>\n",
       "     </g>\n",
       "    </g>\n",
       "    <g id=\"ytick_3\">\n",
       "     <g id=\"line2d_8\">\n",
       "      <g>\n",
       "       <use xlink:href=\"#mfbef19fa98\" x=\"53.328125\" y=\"159.598125\" style=\"stroke: #000000; stroke-width: 0.8\"/>\n",
       "      </g>\n",
       "     </g>\n",
       "     <g id=\"text_8\">\n",
       "      <!-- 400 -->\n",
       "      <g transform=\"translate(27.240625 163.397344) scale(0.1 -0.1)\">\n",
       "       <use xlink:href=\"#DejaVuSans-34\"/>\n",
       "       <use xlink:href=\"#DejaVuSans-30\" x=\"63.623047\"/>\n",
       "       <use xlink:href=\"#DejaVuSans-30\" x=\"127.246094\"/>\n",
       "      </g>\n",
       "     </g>\n",
       "    </g>\n",
       "    <g id=\"ytick_4\">\n",
       "     <g id=\"line2d_9\">\n",
       "      <g>\n",
       "       <use xlink:href=\"#mfbef19fa98\" x=\"53.328125\" y=\"117.358125\" style=\"stroke: #000000; stroke-width: 0.8\"/>\n",
       "      </g>\n",
       "     </g>\n",
       "     <g id=\"text_9\">\n",
       "      <!-- 600 -->\n",
       "      <g transform=\"translate(27.240625 121.157344) scale(0.1 -0.1)\">\n",
       "       <use xlink:href=\"#DejaVuSans-36\"/>\n",
       "       <use xlink:href=\"#DejaVuSans-30\" x=\"63.623047\"/>\n",
       "       <use xlink:href=\"#DejaVuSans-30\" x=\"127.246094\"/>\n",
       "      </g>\n",
       "     </g>\n",
       "    </g>\n",
       "    <g id=\"ytick_5\">\n",
       "     <g id=\"line2d_10\">\n",
       "      <g>\n",
       "       <use xlink:href=\"#mfbef19fa98\" x=\"53.328125\" y=\"75.118125\" style=\"stroke: #000000; stroke-width: 0.8\"/>\n",
       "      </g>\n",
       "     </g>\n",
       "     <g id=\"text_10\">\n",
       "      <!-- 800 -->\n",
       "      <g transform=\"translate(27.240625 78.917344) scale(0.1 -0.1)\">\n",
       "       <use xlink:href=\"#DejaVuSans-38\"/>\n",
       "       <use xlink:href=\"#DejaVuSans-30\" x=\"63.623047\"/>\n",
       "       <use xlink:href=\"#DejaVuSans-30\" x=\"127.246094\"/>\n",
       "      </g>\n",
       "     </g>\n",
       "    </g>\n",
       "    <g id=\"ytick_6\">\n",
       "     <g id=\"line2d_11\">\n",
       "      <g>\n",
       "       <use xlink:href=\"#mfbef19fa98\" x=\"53.328125\" y=\"32.878125\" style=\"stroke: #000000; stroke-width: 0.8\"/>\n",
       "      </g>\n",
       "     </g>\n",
       "     <g id=\"text_11\">\n",
       "      <!-- 1000 -->\n",
       "      <g transform=\"translate(20.878125 36.677344) scale(0.1 -0.1)\">\n",
       "       <defs>\n",
       "        <path id=\"DejaVuSans-31\" d=\"M 794 531 \n",
       "L 1825 531 \n",
       "L 1825 4091 \n",
       "L 703 3866 \n",
       "L 703 4441 \n",
       "L 1819 4666 \n",
       "L 2450 4666 \n",
       "L 2450 531 \n",
       "L 3481 531 \n",
       "L 3481 0 \n",
       "L 794 0 \n",
       "L 794 531 \n",
       "z\n",
       "\" transform=\"scale(0.015625)\"/>\n",
       "       </defs>\n",
       "       <use xlink:href=\"#DejaVuSans-31\"/>\n",
       "       <use xlink:href=\"#DejaVuSans-30\" x=\"63.623047\"/>\n",
       "       <use xlink:href=\"#DejaVuSans-30\" x=\"127.246094\"/>\n",
       "       <use xlink:href=\"#DejaVuSans-30\" x=\"190.869141\"/>\n",
       "      </g>\n",
       "     </g>\n",
       "    </g>\n",
       "    <g id=\"text_12\">\n",
       "     <!-- Frequency -->\n",
       "     <g transform=\"translate(14.798438 159.027813) rotate(-90) scale(0.1 -0.1)\">\n",
       "      <defs>\n",
       "       <path id=\"DejaVuSans-46\" d=\"M 628 4666 \n",
       "L 3309 4666 \n",
       "L 3309 4134 \n",
       "L 1259 4134 \n",
       "L 1259 2759 \n",
       "L 3109 2759 \n",
       "L 3109 2228 \n",
       "L 1259 2228 \n",
       "L 1259 0 \n",
       "L 628 0 \n",
       "L 628 4666 \n",
       "z\n",
       "\" transform=\"scale(0.015625)\"/>\n",
       "       <path id=\"DejaVuSans-72\" d=\"M 2631 2963 \n",
       "Q 2534 3019 2420 3045 \n",
       "Q 2306 3072 2169 3072 \n",
       "Q 1681 3072 1420 2755 \n",
       "Q 1159 2438 1159 1844 \n",
       "L 1159 0 \n",
       "L 581 0 \n",
       "L 581 3500 \n",
       "L 1159 3500 \n",
       "L 1159 2956 \n",
       "Q 1341 3275 1631 3429 \n",
       "Q 1922 3584 2338 3584 \n",
       "Q 2397 3584 2469 3576 \n",
       "Q 2541 3569 2628 3553 \n",
       "L 2631 2963 \n",
       "z\n",
       "\" transform=\"scale(0.015625)\"/>\n",
       "       <path id=\"DejaVuSans-65\" d=\"M 3597 1894 \n",
       "L 3597 1613 \n",
       "L 953 1613 \n",
       "Q 991 1019 1311 708 \n",
       "Q 1631 397 2203 397 \n",
       "Q 2534 397 2845 478 \n",
       "Q 3156 559 3463 722 \n",
       "L 3463 178 \n",
       "Q 3153 47 2828 -22 \n",
       "Q 2503 -91 2169 -91 \n",
       "Q 1331 -91 842 396 \n",
       "Q 353 884 353 1716 \n",
       "Q 353 2575 817 3079 \n",
       "Q 1281 3584 2069 3584 \n",
       "Q 2775 3584 3186 3129 \n",
       "Q 3597 2675 3597 1894 \n",
       "z\n",
       "M 3022 2063 \n",
       "Q 3016 2534 2758 2815 \n",
       "Q 2500 3097 2075 3097 \n",
       "Q 1594 3097 1305 2825 \n",
       "Q 1016 2553 972 2059 \n",
       "L 3022 2063 \n",
       "z\n",
       "\" transform=\"scale(0.015625)\"/>\n",
       "       <path id=\"DejaVuSans-71\" d=\"M 947 1747 \n",
       "Q 947 1113 1208 752 \n",
       "Q 1469 391 1925 391 \n",
       "Q 2381 391 2643 752 \n",
       "Q 2906 1113 2906 1747 \n",
       "Q 2906 2381 2643 2742 \n",
       "Q 2381 3103 1925 3103 \n",
       "Q 1469 3103 1208 2742 \n",
       "Q 947 2381 947 1747 \n",
       "z\n",
       "M 2906 525 \n",
       "Q 2725 213 2448 61 \n",
       "Q 2172 -91 1784 -91 \n",
       "Q 1150 -91 751 415 \n",
       "Q 353 922 353 1747 \n",
       "Q 353 2572 751 3078 \n",
       "Q 1150 3584 1784 3584 \n",
       "Q 2172 3584 2448 3432 \n",
       "Q 2725 3281 2906 2969 \n",
       "L 2906 3500 \n",
       "L 3481 3500 \n",
       "L 3481 -1331 \n",
       "L 2906 -1331 \n",
       "L 2906 525 \n",
       "z\n",
       "\" transform=\"scale(0.015625)\"/>\n",
       "       <path id=\"DejaVuSans-75\" d=\"M 544 1381 \n",
       "L 544 3500 \n",
       "L 1119 3500 \n",
       "L 1119 1403 \n",
       "Q 1119 906 1312 657 \n",
       "Q 1506 409 1894 409 \n",
       "Q 2359 409 2629 706 \n",
       "Q 2900 1003 2900 1516 \n",
       "L 2900 3500 \n",
       "L 3475 3500 \n",
       "L 3475 0 \n",
       "L 2900 0 \n",
       "L 2900 538 \n",
       "Q 2691 219 2414 64 \n",
       "Q 2138 -91 1772 -91 \n",
       "Q 1169 -91 856 284 \n",
       "Q 544 659 544 1381 \n",
       "z\n",
       "M 1991 3584 \n",
       "L 1991 3584 \n",
       "z\n",
       "\" transform=\"scale(0.015625)\"/>\n",
       "       <path id=\"DejaVuSans-6e\" d=\"M 3513 2113 \n",
       "L 3513 0 \n",
       "L 2938 0 \n",
       "L 2938 2094 \n",
       "Q 2938 2591 2744 2837 \n",
       "Q 2550 3084 2163 3084 \n",
       "Q 1697 3084 1428 2787 \n",
       "Q 1159 2491 1159 1978 \n",
       "L 1159 0 \n",
       "L 581 0 \n",
       "L 581 3500 \n",
       "L 1159 3500 \n",
       "L 1159 2956 \n",
       "Q 1366 3272 1645 3428 \n",
       "Q 1925 3584 2291 3584 \n",
       "Q 2894 3584 3203 3211 \n",
       "Q 3513 2838 3513 2113 \n",
       "z\n",
       "\" transform=\"scale(0.015625)\"/>\n",
       "       <path id=\"DejaVuSans-63\" d=\"M 3122 3366 \n",
       "L 3122 2828 \n",
       "Q 2878 2963 2633 3030 \n",
       "Q 2388 3097 2138 3097 \n",
       "Q 1578 3097 1268 2742 \n",
       "Q 959 2388 959 1747 \n",
       "Q 959 1106 1268 751 \n",
       "Q 1578 397 2138 397 \n",
       "Q 2388 397 2633 464 \n",
       "Q 2878 531 3122 666 \n",
       "L 3122 134 \n",
       "Q 2881 22 2623 -34 \n",
       "Q 2366 -91 2075 -91 \n",
       "Q 1284 -91 818 406 \n",
       "Q 353 903 353 1747 \n",
       "Q 353 2603 823 3093 \n",
       "Q 1294 3584 2113 3584 \n",
       "Q 2378 3584 2631 3529 \n",
       "Q 2884 3475 3122 3366 \n",
       "z\n",
       "\" transform=\"scale(0.015625)\"/>\n",
       "       <path id=\"DejaVuSans-79\" d=\"M 2059 -325 \n",
       "Q 1816 -950 1584 -1140 \n",
       "Q 1353 -1331 966 -1331 \n",
       "L 506 -1331 \n",
       "L 506 -850 \n",
       "L 844 -850 \n",
       "Q 1081 -850 1212 -737 \n",
       "Q 1344 -625 1503 -206 \n",
       "L 1606 56 \n",
       "L 191 3500 \n",
       "L 800 3500 \n",
       "L 1894 763 \n",
       "L 2988 3500 \n",
       "L 3597 3500 \n",
       "L 2059 -325 \n",
       "z\n",
       "\" transform=\"scale(0.015625)\"/>\n",
       "      </defs>\n",
       "      <use xlink:href=\"#DejaVuSans-46\"/>\n",
       "      <use xlink:href=\"#DejaVuSans-72\" x=\"50.269531\"/>\n",
       "      <use xlink:href=\"#DejaVuSans-65\" x=\"89.132812\"/>\n",
       "      <use xlink:href=\"#DejaVuSans-71\" x=\"150.65625\"/>\n",
       "      <use xlink:href=\"#DejaVuSans-75\" x=\"214.132812\"/>\n",
       "      <use xlink:href=\"#DejaVuSans-65\" x=\"277.511719\"/>\n",
       "      <use xlink:href=\"#DejaVuSans-6e\" x=\"339.035156\"/>\n",
       "      <use xlink:href=\"#DejaVuSans-63\" x=\"402.414062\"/>\n",
       "      <use xlink:href=\"#DejaVuSans-79\" x=\"457.394531\"/>\n",
       "     </g>\n",
       "    </g>\n",
       "   </g>\n",
       "   <g id=\"patch_103\">\n",
       "    <path d=\"M 53.328125 244.078125 \n",
       "L 53.328125 22.318125 \n",
       "\" style=\"fill: none; stroke: #000000; stroke-width: 0.8; stroke-linejoin: miter; stroke-linecap: square\"/>\n",
       "   </g>\n",
       "   <g id=\"patch_104\">\n",
       "    <path d=\"M 611.328125 244.078125 \n",
       "L 611.328125 22.318125 \n",
       "\" style=\"fill: none; stroke: #000000; stroke-width: 0.8; stroke-linejoin: miter; stroke-linecap: square\"/>\n",
       "   </g>\n",
       "   <g id=\"patch_105\">\n",
       "    <path d=\"M 53.328125 244.078125 \n",
       "L 611.328125 244.078125 \n",
       "\" style=\"fill: none; stroke: #000000; stroke-width: 0.8; stroke-linejoin: miter; stroke-linecap: square\"/>\n",
       "   </g>\n",
       "   <g id=\"patch_106\">\n",
       "    <path d=\"M 53.328125 22.318125 \n",
       "L 611.328125 22.318125 \n",
       "\" style=\"fill: none; stroke: #000000; stroke-width: 0.8; stroke-linejoin: miter; stroke-linecap: square\"/>\n",
       "   </g>\n",
       "   <g id=\"text_13\">\n",
       "    <!-- Rewards -->\n",
       "    <g transform=\"translate(306.857188 16.318125) scale(0.12 -0.12)\">\n",
       "     <defs>\n",
       "      <path id=\"DejaVuSans-52\" d=\"M 2841 2188 \n",
       "Q 3044 2119 3236 1894 \n",
       "Q 3428 1669 3622 1275 \n",
       "L 4263 0 \n",
       "L 3584 0 \n",
       "L 2988 1197 \n",
       "Q 2756 1666 2539 1819 \n",
       "Q 2322 1972 1947 1972 \n",
       "L 1259 1972 \n",
       "L 1259 0 \n",
       "L 628 0 \n",
       "L 628 4666 \n",
       "L 2053 4666 \n",
       "Q 2853 4666 3247 4331 \n",
       "Q 3641 3997 3641 3322 \n",
       "Q 3641 2881 3436 2590 \n",
       "Q 3231 2300 2841 2188 \n",
       "z\n",
       "M 1259 4147 \n",
       "L 1259 2491 \n",
       "L 2053 2491 \n",
       "Q 2509 2491 2742 2702 \n",
       "Q 2975 2913 2975 3322 \n",
       "Q 2975 3731 2742 3939 \n",
       "Q 2509 4147 2053 4147 \n",
       "L 1259 4147 \n",
       "z\n",
       "\" transform=\"scale(0.015625)\"/>\n",
       "      <path id=\"DejaVuSans-77\" d=\"M 269 3500 \n",
       "L 844 3500 \n",
       "L 1563 769 \n",
       "L 2278 3500 \n",
       "L 2956 3500 \n",
       "L 3675 769 \n",
       "L 4391 3500 \n",
       "L 4966 3500 \n",
       "L 4050 0 \n",
       "L 3372 0 \n",
       "L 2619 2869 \n",
       "L 1863 0 \n",
       "L 1184 0 \n",
       "L 269 3500 \n",
       "z\n",
       "\" transform=\"scale(0.015625)\"/>\n",
       "      <path id=\"DejaVuSans-61\" d=\"M 2194 1759 \n",
       "Q 1497 1759 1228 1600 \n",
       "Q 959 1441 959 1056 \n",
       "Q 959 750 1161 570 \n",
       "Q 1363 391 1709 391 \n",
       "Q 2188 391 2477 730 \n",
       "Q 2766 1069 2766 1631 \n",
       "L 2766 1759 \n",
       "L 2194 1759 \n",
       "z\n",
       "M 3341 1997 \n",
       "L 3341 0 \n",
       "L 2766 0 \n",
       "L 2766 531 \n",
       "Q 2569 213 2275 61 \n",
       "Q 1981 -91 1556 -91 \n",
       "Q 1019 -91 701 211 \n",
       "Q 384 513 384 1019 \n",
       "Q 384 1609 779 1909 \n",
       "Q 1175 2209 1959 2209 \n",
       "L 2766 2209 \n",
       "L 2766 2266 \n",
       "Q 2766 2663 2505 2880 \n",
       "Q 2244 3097 1772 3097 \n",
       "Q 1472 3097 1187 3025 \n",
       "Q 903 2953 641 2809 \n",
       "L 641 3341 \n",
       "Q 956 3463 1253 3523 \n",
       "Q 1550 3584 1831 3584 \n",
       "Q 2591 3584 2966 3190 \n",
       "Q 3341 2797 3341 1997 \n",
       "z\n",
       "\" transform=\"scale(0.015625)\"/>\n",
       "      <path id=\"DejaVuSans-64\" d=\"M 2906 2969 \n",
       "L 2906 4863 \n",
       "L 3481 4863 \n",
       "L 3481 0 \n",
       "L 2906 0 \n",
       "L 2906 525 \n",
       "Q 2725 213 2448 61 \n",
       "Q 2172 -91 1784 -91 \n",
       "Q 1150 -91 751 415 \n",
       "Q 353 922 353 1747 \n",
       "Q 353 2572 751 3078 \n",
       "Q 1150 3584 1784 3584 \n",
       "Q 2172 3584 2448 3432 \n",
       "Q 2725 3281 2906 2969 \n",
       "z\n",
       "M 947 1747 \n",
       "Q 947 1113 1208 752 \n",
       "Q 1469 391 1925 391 \n",
       "Q 2381 391 2643 752 \n",
       "Q 2906 1113 2906 1747 \n",
       "Q 2906 2381 2643 2742 \n",
       "Q 2381 3103 1925 3103 \n",
       "Q 1469 3103 1208 2742 \n",
       "Q 947 2381 947 1747 \n",
       "z\n",
       "\" transform=\"scale(0.015625)\"/>\n",
       "      <path id=\"DejaVuSans-73\" d=\"M 2834 3397 \n",
       "L 2834 2853 \n",
       "Q 2591 2978 2328 3040 \n",
       "Q 2066 3103 1784 3103 \n",
       "Q 1356 3103 1142 2972 \n",
       "Q 928 2841 928 2578 \n",
       "Q 928 2378 1081 2264 \n",
       "Q 1234 2150 1697 2047 \n",
       "L 1894 2003 \n",
       "Q 2506 1872 2764 1633 \n",
       "Q 3022 1394 3022 966 \n",
       "Q 3022 478 2636 193 \n",
       "Q 2250 -91 1575 -91 \n",
       "Q 1294 -91 989 -36 \n",
       "Q 684 19 347 128 \n",
       "L 347 722 \n",
       "Q 666 556 975 473 \n",
       "Q 1284 391 1588 391 \n",
       "Q 1994 391 2212 530 \n",
       "Q 2431 669 2431 922 \n",
       "Q 2431 1156 2273 1281 \n",
       "Q 2116 1406 1581 1522 \n",
       "L 1381 1569 \n",
       "Q 847 1681 609 1914 \n",
       "Q 372 2147 372 2553 \n",
       "Q 372 3047 722 3315 \n",
       "Q 1072 3584 1716 3584 \n",
       "Q 2034 3584 2315 3537 \n",
       "Q 2597 3491 2834 3397 \n",
       "z\n",
       "\" transform=\"scale(0.015625)\"/>\n",
       "     </defs>\n",
       "     <use xlink:href=\"#DejaVuSans-52\"/>\n",
       "     <use xlink:href=\"#DejaVuSans-65\" x=\"64.982422\"/>\n",
       "     <use xlink:href=\"#DejaVuSans-77\" x=\"126.505859\"/>\n",
       "     <use xlink:href=\"#DejaVuSans-61\" x=\"208.292969\"/>\n",
       "     <use xlink:href=\"#DejaVuSans-72\" x=\"269.572266\"/>\n",
       "     <use xlink:href=\"#DejaVuSans-64\" x=\"308.935547\"/>\n",
       "     <use xlink:href=\"#DejaVuSans-73\" x=\"372.412109\"/>\n",
       "    </g>\n",
       "   </g>\n",
       "  </g>\n",
       " </g>\n",
       " <defs>\n",
       "  <clipPath id=\"p04aa81a200\">\n",
       "   <rect x=\"53.328125\" y=\"22.318125\" width=\"558\" height=\"221.76\"/>\n",
       "  </clipPath>\n",
       " </defs>\n",
       "</svg>\n"
      ],
      "text/plain": [
       "<Figure size 1000x400 with 1 Axes>"
      ]
     },
     "metadata": {},
     "output_type": "display_data"
    }
   ],
   "source": [
    "import matplotlib.pyplot as plt\n",
    "import pandas as pd\n",
    "\n",
    "fig, ax = plt.subplots(figsize = (10, 4))\n",
    "ax.set_title(\"Rewards\")    \n",
    "pd.Series(rewards).plot(kind='hist', bins=100)\n",
    "\n",
    "plt.show()"
   ]
  },
  {
   "cell_type": "markdown",
   "id": "bcbf6d1d",
   "metadata": {},
   "source": [
    "## Let's see our agent in action 🎬"
   ]
  },
  {
   "cell_type": "code",
   "execution_count": 20,
   "id": "de569e48",
   "metadata": {},
   "outputs": [
    {
     "data": {
      "image/svg+xml": [
       "<?xml version=\"1.0\" encoding=\"utf-8\" standalone=\"no\"?>\n",
       "<!DOCTYPE svg PUBLIC \"-//W3C//DTD SVG 1.1//EN\"\n",
       "  \"http://www.w3.org/Graphics/SVG/1.1/DTD/svg11.dtd\">\n",
       "<svg xmlns:xlink=\"http://www.w3.org/1999/xlink\" width=\"463.60925pt\" height=\"343.79625pt\" viewBox=\"0 0 463.60925 343.79625\" xmlns=\"http://www.w3.org/2000/svg\" version=\"1.1\">\n",
       " <metadata>\n",
       "  <rdf:RDF xmlns:dc=\"http://purl.org/dc/elements/1.1/\" xmlns:cc=\"http://creativecommons.org/ns#\" xmlns:rdf=\"http://www.w3.org/1999/02/22-rdf-syntax-ns#\">\n",
       "   <cc:Work>\n",
       "    <dc:type rdf:resource=\"http://purl.org/dc/dcmitype/StillImage\"/>\n",
       "    <dc:date>2024-01-04T11:51:14.572544</dc:date>\n",
       "    <dc:format>image/svg+xml</dc:format>\n",
       "    <dc:creator>\n",
       "     <cc:Agent>\n",
       "      <dc:title>Matplotlib v3.8.2, https://matplotlib.org/</dc:title>\n",
       "     </cc:Agent>\n",
       "    </dc:creator>\n",
       "   </cc:Work>\n",
       "  </rdf:RDF>\n",
       " </metadata>\n",
       " <defs>\n",
       "  <style type=\"text/css\">*{stroke-linejoin: round; stroke-linecap: butt}</style>\n",
       " </defs>\n",
       " <g id=\"figure_1\">\n",
       "  <g id=\"patch_1\">\n",
       "   <path d=\"M 0 343.79625 \n",
       "L 463.60925 343.79625 \n",
       "L 463.60925 0 \n",
       "L 0 0 \n",
       "z\n",
       "\" style=\"fill: #ffffff\"/>\n",
       "  </g>\n",
       "  <g id=\"axes_1\">\n",
       "   <g id=\"patch_2\">\n",
       "    <path d=\"M 10.00925 319.918125 \n",
       "L 456.40925 319.918125 \n",
       "L 456.40925 22.318125 \n",
       "L 10.00925 22.318125 \n",
       "z\n",
       "\" style=\"fill: #ffffff\"/>\n",
       "   </g>\n",
       "   <g clip-path=\"url(#pc23735b5ea)\">\n",
       "    <image xlink:href=\"data:image/png;base64,\n",
       "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\" id=\"image4ac8cd0847\" transform=\"scale(1 -1) translate(0 -298.08)\" x=\"10.00925\" y=\"-21.838125\" width=\"446.4\" height=\"298.08\"/>\n",
       "   </g>\n",
       "   <g id=\"matplotlib.axis_1\">\n",
       "    <g id=\"xtick_1\">\n",
       "     <g id=\"line2d_1\">\n",
       "      <defs>\n",
       "       <path id=\"ma9772a758b\" d=\"M 0 0 \n",
       "L 0 3.5 \n",
       "\" style=\"stroke: #000000; stroke-width: 0.8\"/>\n",
       "      </defs>\n",
       "      <g>\n",
       "       <use xlink:href=\"#ma9772a758b\" x=\"10.38125\" y=\"319.918125\" style=\"stroke: #000000; stroke-width: 0.8\"/>\n",
       "      </g>\n",
       "     </g>\n",
       "     <g id=\"text_1\">\n",
       "      <!-- 0 -->\n",
       "      <g transform=\"translate(7.2 334.516562) scale(0.1 -0.1)\">\n",
       "       <defs>\n",
       "        <path id=\"DejaVuSans-30\" d=\"M 2034 4250 \n",
       "Q 1547 4250 1301 3770 \n",
       "Q 1056 3291 1056 2328 \n",
       "Q 1056 1369 1301 889 \n",
       "Q 1547 409 2034 409 \n",
       "Q 2525 409 2770 889 \n",
       "Q 3016 1369 3016 2328 \n",
       "Q 3016 3291 2770 3770 \n",
       "Q 2525 4250 2034 4250 \n",
       "z\n",
       "M 2034 4750 \n",
       "Q 2819 4750 3233 4129 \n",
       "Q 3647 3509 3647 2328 \n",
       "Q 3647 1150 3233 529 \n",
       "Q 2819 -91 2034 -91 \n",
       "Q 1250 -91 836 529 \n",
       "Q 422 1150 422 2328 \n",
       "Q 422 3509 836 4129 \n",
       "Q 1250 4750 2034 4750 \n",
       "z\n",
       "\" transform=\"scale(0.015625)\"/>\n",
       "       </defs>\n",
       "       <use xlink:href=\"#DejaVuSans-30\"/>\n",
       "      </g>\n",
       "     </g>\n",
       "    </g>\n",
       "    <g id=\"xtick_2\">\n",
       "     <g id=\"line2d_2\">\n",
       "      <g>\n",
       "       <use xlink:href=\"#ma9772a758b\" x=\"84.78125\" y=\"319.918125\" style=\"stroke: #000000; stroke-width: 0.8\"/>\n",
       "      </g>\n",
       "     </g>\n",
       "     <g id=\"text_2\">\n",
       "      <!-- 100 -->\n",
       "      <g transform=\"translate(75.2375 334.516562) scale(0.1 -0.1)\">\n",
       "       <defs>\n",
       "        <path id=\"DejaVuSans-31\" d=\"M 794 531 \n",
       "L 1825 531 \n",
       "L 1825 4091 \n",
       "L 703 3866 \n",
       "L 703 4441 \n",
       "L 1819 4666 \n",
       "L 2450 4666 \n",
       "L 2450 531 \n",
       "L 3481 531 \n",
       "L 3481 0 \n",
       "L 794 0 \n",
       "L 794 531 \n",
       "z\n",
       "\" transform=\"scale(0.015625)\"/>\n",
       "       </defs>\n",
       "       <use xlink:href=\"#DejaVuSans-31\"/>\n",
       "       <use xlink:href=\"#DejaVuSans-30\" x=\"63.623047\"/>\n",
       "       <use xlink:href=\"#DejaVuSans-30\" x=\"127.246094\"/>\n",
       "      </g>\n",
       "     </g>\n",
       "    </g>\n",
       "    <g id=\"xtick_3\">\n",
       "     <g id=\"line2d_3\">\n",
       "      <g>\n",
       "       <use xlink:href=\"#ma9772a758b\" x=\"159.18125\" y=\"319.918125\" style=\"stroke: #000000; stroke-width: 0.8\"/>\n",
       "      </g>\n",
       "     </g>\n",
       "     <g id=\"text_3\">\n",
       "      <!-- 200 -->\n",
       "      <g transform=\"translate(149.6375 334.516562) scale(0.1 -0.1)\">\n",
       "       <defs>\n",
       "        <path id=\"DejaVuSans-32\" d=\"M 1228 531 \n",
       "L 3431 531 \n",
       "L 3431 0 \n",
       "L 469 0 \n",
       "L 469 531 \n",
       "Q 828 903 1448 1529 \n",
       "Q 2069 2156 2228 2338 \n",
       "Q 2531 2678 2651 2914 \n",
       "Q 2772 3150 2772 3378 \n",
       "Q 2772 3750 2511 3984 \n",
       "Q 2250 4219 1831 4219 \n",
       "Q 1534 4219 1204 4116 \n",
       "Q 875 4013 500 3803 \n",
       "L 500 4441 \n",
       "Q 881 4594 1212 4672 \n",
       "Q 1544 4750 1819 4750 \n",
       "Q 2544 4750 2975 4387 \n",
       "Q 3406 4025 3406 3419 \n",
       "Q 3406 3131 3298 2873 \n",
       "Q 3191 2616 2906 2266 \n",
       "Q 2828 2175 2409 1742 \n",
       "Q 1991 1309 1228 531 \n",
       "z\n",
       "\" transform=\"scale(0.015625)\"/>\n",
       "       </defs>\n",
       "       <use xlink:href=\"#DejaVuSans-32\"/>\n",
       "       <use xlink:href=\"#DejaVuSans-30\" x=\"63.623047\"/>\n",
       "       <use xlink:href=\"#DejaVuSans-30\" x=\"127.246094\"/>\n",
       "      </g>\n",
       "     </g>\n",
       "    </g>\n",
       "    <g id=\"xtick_4\">\n",
       "     <g id=\"line2d_4\">\n",
       "      <g>\n",
       "       <use xlink:href=\"#ma9772a758b\" x=\"233.58125\" y=\"319.918125\" style=\"stroke: #000000; stroke-width: 0.8\"/>\n",
       "      </g>\n",
       "     </g>\n",
       "     <g id=\"text_4\">\n",
       "      <!-- 300 -->\n",
       "      <g transform=\"translate(224.0375 334.516562) scale(0.1 -0.1)\">\n",
       "       <defs>\n",
       "        <path id=\"DejaVuSans-33\" d=\"M 2597 2516 \n",
       "Q 3050 2419 3304 2112 \n",
       "Q 3559 1806 3559 1356 \n",
       "Q 3559 666 3084 287 \n",
       "Q 2609 -91 1734 -91 \n",
       "Q 1441 -91 1130 -33 \n",
       "Q 819 25 488 141 \n",
       "L 488 750 \n",
       "Q 750 597 1062 519 \n",
       "Q 1375 441 1716 441 \n",
       "Q 2309 441 2620 675 \n",
       "Q 2931 909 2931 1356 \n",
       "Q 2931 1769 2642 2001 \n",
       "Q 2353 2234 1838 2234 \n",
       "L 1294 2234 \n",
       "L 1294 2753 \n",
       "L 1863 2753 \n",
       "Q 2328 2753 2575 2939 \n",
       "Q 2822 3125 2822 3475 \n",
       "Q 2822 3834 2567 4026 \n",
       "Q 2313 4219 1838 4219 \n",
       "Q 1578 4219 1281 4162 \n",
       "Q 984 4106 628 3988 \n",
       "L 628 4550 \n",
       "Q 988 4650 1302 4700 \n",
       "Q 1616 4750 1894 4750 \n",
       "Q 2613 4750 3031 4423 \n",
       "Q 3450 4097 3450 3541 \n",
       "Q 3450 3153 3228 2886 \n",
       "Q 3006 2619 2597 2516 \n",
       "z\n",
       "\" transform=\"scale(0.015625)\"/>\n",
       "       </defs>\n",
       "       <use xlink:href=\"#DejaVuSans-33\"/>\n",
       "       <use xlink:href=\"#DejaVuSans-30\" x=\"63.623047\"/>\n",
       "       <use xlink:href=\"#DejaVuSans-30\" x=\"127.246094\"/>\n",
       "      </g>\n",
       "     </g>\n",
       "    </g>\n",
       "    <g id=\"xtick_5\">\n",
       "     <g id=\"line2d_5\">\n",
       "      <g>\n",
       "       <use xlink:href=\"#ma9772a758b\" x=\"307.98125\" y=\"319.918125\" style=\"stroke: #000000; stroke-width: 0.8\"/>\n",
       "      </g>\n",
       "     </g>\n",
       "     <g id=\"text_5\">\n",
       "      <!-- 400 -->\n",
       "      <g transform=\"translate(298.4375 334.516562) scale(0.1 -0.1)\">\n",
       "       <defs>\n",
       "        <path id=\"DejaVuSans-34\" d=\"M 2419 4116 \n",
       "L 825 1625 \n",
       "L 2419 1625 \n",
       "L 2419 4116 \n",
       "z\n",
       "M 2253 4666 \n",
       "L 3047 4666 \n",
       "L 3047 1625 \n",
       "L 3713 1625 \n",
       "L 3713 1100 \n",
       "L 3047 1100 \n",
       "L 3047 0 \n",
       "L 2419 0 \n",
       "L 2419 1100 \n",
       "L 313 1100 \n",
       "L 313 1709 \n",
       "L 2253 4666 \n",
       "z\n",
       "\" transform=\"scale(0.015625)\"/>\n",
       "       </defs>\n",
       "       <use xlink:href=\"#DejaVuSans-34\"/>\n",
       "       <use xlink:href=\"#DejaVuSans-30\" x=\"63.623047\"/>\n",
       "       <use xlink:href=\"#DejaVuSans-30\" x=\"127.246094\"/>\n",
       "      </g>\n",
       "     </g>\n",
       "    </g>\n",
       "    <g id=\"xtick_6\">\n",
       "     <g id=\"line2d_6\">\n",
       "      <g>\n",
       "       <use xlink:href=\"#ma9772a758b\" x=\"382.38125\" y=\"319.918125\" style=\"stroke: #000000; stroke-width: 0.8\"/>\n",
       "      </g>\n",
       "     </g>\n",
       "     <g id=\"text_6\">\n",
       "      <!-- 500 -->\n",
       "      <g transform=\"translate(372.8375 334.516562) scale(0.1 -0.1)\">\n",
       "       <defs>\n",
       "        <path id=\"DejaVuSans-35\" d=\"M 691 4666 \n",
       "L 3169 4666 \n",
       "L 3169 4134 \n",
       "L 1269 4134 \n",
       "L 1269 2991 \n",
       "Q 1406 3038 1543 3061 \n",
       "Q 1681 3084 1819 3084 \n",
       "Q 2600 3084 3056 2656 \n",
       "Q 3513 2228 3513 1497 \n",
       "Q 3513 744 3044 326 \n",
       "Q 2575 -91 1722 -91 \n",
       "Q 1428 -91 1123 -41 \n",
       "Q 819 9 494 109 \n",
       "L 494 744 \n",
       "Q 775 591 1075 516 \n",
       "Q 1375 441 1709 441 \n",
       "Q 2250 441 2565 725 \n",
       "Q 2881 1009 2881 1497 \n",
       "Q 2881 1984 2565 2268 \n",
       "Q 2250 2553 1709 2553 \n",
       "Q 1456 2553 1204 2497 \n",
       "Q 953 2441 691 2322 \n",
       "L 691 4666 \n",
       "z\n",
       "\" transform=\"scale(0.015625)\"/>\n",
       "       </defs>\n",
       "       <use xlink:href=\"#DejaVuSans-35\"/>\n",
       "       <use xlink:href=\"#DejaVuSans-30\" x=\"63.623047\"/>\n",
       "       <use xlink:href=\"#DejaVuSans-30\" x=\"127.246094\"/>\n",
       "      </g>\n",
       "     </g>\n",
       "    </g>\n",
       "   </g>\n",
       "   <g id=\"patch_3\">\n",
       "    <path d=\"M 10.00925 319.918125 \n",
       "L 10.00925 22.318125 \n",
       "\" style=\"fill: none; stroke: #000000; stroke-width: 0.8; stroke-linejoin: miter; stroke-linecap: square\"/>\n",
       "   </g>\n",
       "   <g id=\"patch_4\">\n",
       "    <path d=\"M 456.40925 319.918125 \n",
       "L 456.40925 22.318125 \n",
       "\" style=\"fill: none; stroke: #000000; stroke-width: 0.8; stroke-linejoin: miter; stroke-linecap: square\"/>\n",
       "   </g>\n",
       "   <g id=\"patch_5\">\n",
       "    <path d=\"M 10.00925 319.918125 \n",
       "L 456.40925 319.918125 \n",
       "\" style=\"fill: none; stroke: #000000; stroke-width: 0.8; stroke-linejoin: miter; stroke-linecap: square\"/>\n",
       "   </g>\n",
       "   <g id=\"patch_6\">\n",
       "    <path d=\"M 10.00925 22.318125 \n",
       "L 456.40925 22.318125 \n",
       "\" style=\"fill: none; stroke: #000000; stroke-width: 0.8; stroke-linejoin: miter; stroke-linecap: square\"/>\n",
       "   </g>\n",
       "   <g id=\"text_7\">\n",
       "    <!-- Steps: 500 -->\n",
       "    <g transform=\"translate(201.040813 16.318125) scale(0.12 -0.12)\">\n",
       "     <defs>\n",
       "      <path id=\"DejaVuSans-53\" d=\"M 3425 4513 \n",
       "L 3425 3897 \n",
       "Q 3066 4069 2747 4153 \n",
       "Q 2428 4238 2131 4238 \n",
       "Q 1616 4238 1336 4038 \n",
       "Q 1056 3838 1056 3469 \n",
       "Q 1056 3159 1242 3001 \n",
       "Q 1428 2844 1947 2747 \n",
       "L 2328 2669 \n",
       "Q 3034 2534 3370 2195 \n",
       "Q 3706 1856 3706 1288 \n",
       "Q 3706 609 3251 259 \n",
       "Q 2797 -91 1919 -91 \n",
       "Q 1588 -91 1214 -16 \n",
       "Q 841 59 441 206 \n",
       "L 441 856 \n",
       "Q 825 641 1194 531 \n",
       "Q 1563 422 1919 422 \n",
       "Q 2459 422 2753 634 \n",
       "Q 3047 847 3047 1241 \n",
       "Q 3047 1584 2836 1778 \n",
       "Q 2625 1972 2144 2069 \n",
       "L 1759 2144 \n",
       "Q 1053 2284 737 2584 \n",
       "Q 422 2884 422 3419 \n",
       "Q 422 4038 858 4394 \n",
       "Q 1294 4750 2059 4750 \n",
       "Q 2388 4750 2728 4690 \n",
       "Q 3069 4631 3425 4513 \n",
       "z\n",
       "\" transform=\"scale(0.015625)\"/>\n",
       "      <path id=\"DejaVuSans-74\" d=\"M 1172 4494 \n",
       "L 1172 3500 \n",
       "L 2356 3500 \n",
       "L 2356 3053 \n",
       "L 1172 3053 \n",
       "L 1172 1153 \n",
       "Q 1172 725 1289 603 \n",
       "Q 1406 481 1766 481 \n",
       "L 2356 481 \n",
       "L 2356 0 \n",
       "L 1766 0 \n",
       "Q 1100 0 847 248 \n",
       "Q 594 497 594 1153 \n",
       "L 594 3053 \n",
       "L 172 3053 \n",
       "L 172 3500 \n",
       "L 594 3500 \n",
       "L 594 4494 \n",
       "L 1172 4494 \n",
       "z\n",
       "\" transform=\"scale(0.015625)\"/>\n",
       "      <path id=\"DejaVuSans-65\" d=\"M 3597 1894 \n",
       "L 3597 1613 \n",
       "L 953 1613 \n",
       "Q 991 1019 1311 708 \n",
       "Q 1631 397 2203 397 \n",
       "Q 2534 397 2845 478 \n",
       "Q 3156 559 3463 722 \n",
       "L 3463 178 \n",
       "Q 3153 47 2828 -22 \n",
       "Q 2503 -91 2169 -91 \n",
       "Q 1331 -91 842 396 \n",
       "Q 353 884 353 1716 \n",
       "Q 353 2575 817 3079 \n",
       "Q 1281 3584 2069 3584 \n",
       "Q 2775 3584 3186 3129 \n",
       "Q 3597 2675 3597 1894 \n",
       "z\n",
       "M 3022 2063 \n",
       "Q 3016 2534 2758 2815 \n",
       "Q 2500 3097 2075 3097 \n",
       "Q 1594 3097 1305 2825 \n",
       "Q 1016 2553 972 2059 \n",
       "L 3022 2063 \n",
       "z\n",
       "\" transform=\"scale(0.015625)\"/>\n",
       "      <path id=\"DejaVuSans-70\" d=\"M 1159 525 \n",
       "L 1159 -1331 \n",
       "L 581 -1331 \n",
       "L 581 3500 \n",
       "L 1159 3500 \n",
       "L 1159 2969 \n",
       "Q 1341 3281 1617 3432 \n",
       "Q 1894 3584 2278 3584 \n",
       "Q 2916 3584 3314 3078 \n",
       "Q 3713 2572 3713 1747 \n",
       "Q 3713 922 3314 415 \n",
       "Q 2916 -91 2278 -91 \n",
       "Q 1894 -91 1617 61 \n",
       "Q 1341 213 1159 525 \n",
       "z\n",
       "M 3116 1747 \n",
       "Q 3116 2381 2855 2742 \n",
       "Q 2594 3103 2138 3103 \n",
       "Q 1681 3103 1420 2742 \n",
       "Q 1159 2381 1159 1747 \n",
       "Q 1159 1113 1420 752 \n",
       "Q 1681 391 2138 391 \n",
       "Q 2594 391 2855 752 \n",
       "Q 3116 1113 3116 1747 \n",
       "z\n",
       "\" transform=\"scale(0.015625)\"/>\n",
       "      <path id=\"DejaVuSans-73\" d=\"M 2834 3397 \n",
       "L 2834 2853 \n",
       "Q 2591 2978 2328 3040 \n",
       "Q 2066 3103 1784 3103 \n",
       "Q 1356 3103 1142 2972 \n",
       "Q 928 2841 928 2578 \n",
       "Q 928 2378 1081 2264 \n",
       "Q 1234 2150 1697 2047 \n",
       "L 1894 2003 \n",
       "Q 2506 1872 2764 1633 \n",
       "Q 3022 1394 3022 966 \n",
       "Q 3022 478 2636 193 \n",
       "Q 2250 -91 1575 -91 \n",
       "Q 1294 -91 989 -36 \n",
       "Q 684 19 347 128 \n",
       "L 347 722 \n",
       "Q 666 556 975 473 \n",
       "Q 1284 391 1588 391 \n",
       "Q 1994 391 2212 530 \n",
       "Q 2431 669 2431 922 \n",
       "Q 2431 1156 2273 1281 \n",
       "Q 2116 1406 1581 1522 \n",
       "L 1381 1569 \n",
       "Q 847 1681 609 1914 \n",
       "Q 372 2147 372 2553 \n",
       "Q 372 3047 722 3315 \n",
       "Q 1072 3584 1716 3584 \n",
       "Q 2034 3584 2315 3537 \n",
       "Q 2597 3491 2834 3397 \n",
       "z\n",
       "\" transform=\"scale(0.015625)\"/>\n",
       "      <path id=\"DejaVuSans-3a\" d=\"M 750 794 \n",
       "L 1409 794 \n",
       "L 1409 0 \n",
       "L 750 0 \n",
       "L 750 794 \n",
       "z\n",
       "M 750 3309 \n",
       "L 1409 3309 \n",
       "L 1409 2516 \n",
       "L 750 2516 \n",
       "L 750 3309 \n",
       "z\n",
       "\" transform=\"scale(0.015625)\"/>\n",
       "      <path id=\"DejaVuSans-20\" transform=\"scale(0.015625)\"/>\n",
       "     </defs>\n",
       "     <use xlink:href=\"#DejaVuSans-53\"/>\n",
       "     <use xlink:href=\"#DejaVuSans-74\" x=\"63.476562\"/>\n",
       "     <use xlink:href=\"#DejaVuSans-65\" x=\"102.685547\"/>\n",
       "     <use xlink:href=\"#DejaVuSans-70\" x=\"164.208984\"/>\n",
       "     <use xlink:href=\"#DejaVuSans-73\" x=\"227.685547\"/>\n",
       "     <use xlink:href=\"#DejaVuSans-3a\" x=\"279.785156\"/>\n",
       "     <use xlink:href=\"#DejaVuSans-20\" x=\"313.476562\"/>\n",
       "     <use xlink:href=\"#DejaVuSans-35\" x=\"345.263672\"/>\n",
       "     <use xlink:href=\"#DejaVuSans-30\" x=\"408.886719\"/>\n",
       "     <use xlink:href=\"#DejaVuSans-30\" x=\"472.509766\"/>\n",
       "    </g>\n",
       "   </g>\n",
       "  </g>\n",
       " </g>\n",
       " <defs>\n",
       "  <clipPath id=\"pc23735b5ea\">\n",
       "   <rect x=\"10.00925\" y=\"22.318125\" width=\"446.4\" height=\"297.6\"/>\n",
       "  </clipPath>\n",
       " </defs>\n",
       "</svg>\n"
      ],
      "text/plain": [
       "<Figure size 800x600 with 1 Axes>"
      ]
     },
     "metadata": {},
     "output_type": "display_data"
    }
   ],
   "source": [
    "# Workaround for pygame error: \"error: No available video device\"\n",
    "# See https://stackoverflow.com/questions/15933493/pygame-error-no-available-video-device?rq=1\n",
    "# This is probably needed only for Linux\n",
    "import os\n",
    "os.environ[\"SDL_VIDEODRIVER\"] = \"dummy\"\n",
    "\n",
    "from viz import show_video\n",
    "\n",
    "show_video(agent, env, sleep_sec=0.01, seed=123)"
   ]
  }
 ],
 "metadata": {
  "kernelspec": {
   "display_name": "Python 3 (ipykernel)",
   "language": "python",
   "name": "python3"
  },
  "language_info": {
   "codemirror_mode": {
    "name": "ipython",
    "version": 3
   },
   "file_extension": ".py",
   "mimetype": "text/x-python",
   "name": "python",
   "nbconvert_exporter": "python",
   "pygments_lexer": "ipython3",
   "version": "3.10.13"
  }
 },
 "nbformat": 4,
 "nbformat_minor": 5
}
